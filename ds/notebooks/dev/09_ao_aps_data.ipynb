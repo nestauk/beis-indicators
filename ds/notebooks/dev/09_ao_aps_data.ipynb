{
 "cells": [
  {
   "cell_type": "markdown",
   "metadata": {},
   "source": [
    "# APS\n",
    "\n",
    "Code to process, work with and plot APS data to create indicators about skills supply in the UK. \n",
    "\n",
    "We are interested in the following indicators:\n",
    "\n",
    "* Percentage of the population with tertiary education\n",
    "* Percentage of population employed in professional occupations\n",
    "\n",
    "Raw collected from https://www.nomisweb.co.uk/articles/676.aspx\n",
    "\n",
    "See [this table](https://docs.google.com/spreadsheets/d/1V2fAQcvuLsoImwo6uLdyIK3x80pBNoX97CxsxkjvRP4/edit?usp=sharing) for more information."
   ]
  },
  {
   "cell_type": "markdown",
   "metadata": {},
   "source": [
    "## Preamble"
   ]
  },
  {
   "cell_type": "code",
   "execution_count": null,
   "metadata": {},
   "outputs": [],
   "source": [
    "import requests \n",
    "\n",
    "import numpy as np \n",
    "import pandas as pd \n",
    "import json\n",
    "import seaborn as sns\n",
    "\n",
    "import os\n",
    "cwd = os.getcwd()\n",
    "\n",
    "import matplotlib.pyplot as plt\n",
    "%matplotlib inline"
   ]
  },
  {
   "cell_type": "markdown",
   "metadata": {},
   "source": [
    "## Data Processing & Transformation\n",
    "\n",
    "Raw data is downloaded via command line using `get_aps_nomis_data` module in the `beis-indicators/data` directory.\n",
    "Note: `get_nomis_data` uses `nomis`"
   ]
  },
  {
   "cell_type": "markdown",
   "metadata": {
    "heading_collapsed": true
   },
   "source": [
    "### Processing for 'Percentage of population employed in professional occupations' data"
   ]
  },
  {
   "cell_type": "markdown",
   "metadata": {
    "heading_collapsed": true,
    "hidden": true
   },
   "source": [
    "#### NUTS 2 level"
   ]
  },
  {
   "cell_type": "code",
   "execution_count": null,
   "metadata": {
    "hidden": true
   },
   "outputs": [],
   "source": [
    "# fetching raw data\n",
    "data_occupations_n10 = '../../data/raw/pro_occs/nomis_percent_pro_occs_12_14_n10-0-25000.json'\n",
    "data_occupations_json_n13 = '../../data/raw/pro_occs/nomis_percent_pro_occs_15_17_n13-0-25000.json'\n",
    "data_occupations_json_n16 = '../../data/raw/pro_occs/nomis_percent_pro_occs_18_n16-0-25000.json'\n",
    "with open(data_occupations_n10) as f:\n",
    "    data_n10 = json.load(f)\n",
    "    \n",
    "with open(data_occupations_json_n13) as f:\n",
    "    data_n13 = json.load(f)\n",
    "    \n",
    "with open(data_occupations_json_n16) as f:\n",
    "    data_n16 = json.load(f)"
   ]
  },
  {
   "cell_type": "code",
   "execution_count": null,
   "metadata": {
    "hidden": true
   },
   "outputs": [],
   "source": [
    "df_occupations_n10 = pd.DataFrame.from_records(data_n10)\n",
    "df_occupations_n13 = pd.DataFrame.from_records(data_n13)\n",
    "df_occupations_n16 = pd.DataFrame.from_records(data_n16)"
   ]
  },
  {
   "cell_type": "code",
   "execution_count": null,
   "metadata": {
    "hidden": true
   },
   "outputs": [],
   "source": [
    "# selecting the rows with the variable in question\n",
    "df_occupations_n10 = df_occupations_n10[(df_occupations_n10['measures_name']=='Variable')].reset_index(drop=True)\n",
    "df_occupations_n13 = df_occupations_n13[(df_occupations_n13['measures_name']=='Variable')].reset_index(drop=True)\n",
    "df_occupations_n16 = df_occupations_n16[(df_occupations_n16['measures_name']=='Variable')].reset_index(drop=True)\n",
    "\n",
    "# creating pivot table with indicators as fields\n",
    "df_occupations_pivot_n10 = df_occupations_n10.pivot_table(index=df_occupations_n10[['geography_name', 'geography_code', 'date_code']], columns='variable_name', aggfunc='mean')['obs_value']\n",
    "df_occupations_pivot_n13 = df_occupations_n13.pivot_table(index=df_occupations_n13[['geography_name', 'geography_code', 'date_code']], columns='variable_name', aggfunc='mean')['obs_value']\n",
    "df_occupations_pivot_n16 = df_occupations_n16.pivot_table(index=df_occupations_n16[['geography_name', 'geography_code', 'date_code']], columns='variable_name', aggfunc='mean')['obs_value']"
   ]
  },
  {
   "cell_type": "code",
   "execution_count": null,
   "metadata": {
    "hidden": true
   },
   "outputs": [],
   "source": [
    "df_occupations_pivot_n10.reset_index(inplace=True)\n",
    "df_occupations_pivot_n13.reset_index(inplace=True)\n",
    "df_occupations_pivot_n16.reset_index(inplace=True)"
   ]
  },
  {
   "cell_type": "code",
   "execution_count": null,
   "metadata": {
    "hidden": true
   },
   "outputs": [],
   "source": [
    "df_occupations_pivot_n10.set_index('geography_name',inplace=True)\n",
    "df_occupations_pivot_n13.set_index('geography_name',inplace=True)\n",
    "df_occupations_pivot_n16.set_index('geography_name',inplace=True)"
   ]
  },
  {
   "cell_type": "code",
   "execution_count": null,
   "metadata": {
    "hidden": true
   },
   "outputs": [],
   "source": [
    "# df_occupations_pivot.columns"
   ]
  },
  {
   "cell_type": "code",
   "execution_count": null,
   "metadata": {
    "hidden": true
   },
   "outputs": [],
   "source": [
    "df_occupations_pivot_n10['date_code'] = df_occupations_pivot_n10['date_code'].apply(lambda x: int(x.split('-')[0]))\n",
    "df_occupations_pivot_n13['date_code'] = df_occupations_pivot_n13['date_code'].apply(lambda x: int(x.split('-')[0]))\n",
    "df_occupations_pivot_n16['date_code'] = df_occupations_pivot_n16['date_code'].apply(lambda x: int(x.split('-')[0]))"
   ]
  },
  {
   "cell_type": "code",
   "execution_count": null,
   "metadata": {
    "hidden": true
   },
   "outputs": [],
   "source": [
    "df_occupations_pivot_n10.columns = ['nuts_id', 'year', 'aps_pro_occupations_data']\n",
    "df_occupations_pivot_n13.columns = ['nuts_id', 'year', 'aps_pro_occupations_data']\n",
    "df_occupations_pivot_n16.columns = ['nuts_id', 'year', 'aps_pro_occupations_data']\n",
    "\n",
    "\n",
    "df_occupations_pivot_n10['nuts_year_spec'] = [2010]*len(df_occupations_pivot_n10)\n",
    "df_occupations_pivot_n13['nuts_year_spec'] = [2013]*len(df_occupations_pivot_n13)\n",
    "df_occupations_pivot_n16['nuts_year_spec'] = [2016]*len(df_occupations_pivot_n16)"
   ]
  },
  {
   "cell_type": "code",
   "execution_count": null,
   "metadata": {
    "hidden": true
   },
   "outputs": [],
   "source": [
    "df_occupations_pivot = pd.concat([df_occupations_pivot_n10, df_occupations_pivot_n13, df_occupations_pivot_n16]).sort_index()"
   ]
  },
  {
   "cell_type": "code",
   "execution_count": null,
   "metadata": {
    "hidden": true
   },
   "outputs": [],
   "source": [
    "df_occupations_pivot.dropna(subset = ['aps_pro_occupations_data'], inplace=True)"
   ]
  },
  {
   "cell_type": "code",
   "execution_count": null,
   "metadata": {
    "hidden": true
   },
   "outputs": [],
   "source": [
    "df_occupations_pivot = df_occupations_pivot[['year','nuts_id', 'nuts_year_spec', 'aps_pro_occupations_data']].reset_index(drop=True)"
   ]
  },
  {
   "cell_type": "code",
   "execution_count": null,
   "metadata": {
    "hidden": true
   },
   "outputs": [],
   "source": [
    "#saving pivot table\n",
    "df_occupations_pivot.to_csv('../../data/processed/aps/aps_pro_occupations_data.nuts2.csv', index=False)"
   ]
  },
  {
   "cell_type": "markdown",
   "metadata": {
    "heading_collapsed": true,
    "hidden": true
   },
   "source": [
    "#### NUTS 3 level"
   ]
  },
  {
   "cell_type": "code",
   "execution_count": null,
   "metadata": {
    "hidden": true
   },
   "outputs": [],
   "source": [
    "# fetching raw data\n",
    "data_occupations_n10 = '../../data/raw/pro_occs/nomis_percent_pro_occs_3_12_14_n10-0-25000.json'\n",
    "data_occupations_json_n13 = '../../data/raw/pro_occs/nomis_percent_pro_occs_3_15_17_n13-0-25000.json'\n",
    "data_occupations_json_n16 = '../../data/raw/pro_occs/nomis_percent_pro_occs_3_18_n16-0-25000.json'\n",
    "with open(data_occupations_n10) as f:\n",
    "    data_n10 = json.load(f)\n",
    "    \n",
    "with open(data_occupations_json_n13) as f:\n",
    "    data_n13 = json.load(f)\n",
    "    \n",
    "with open(data_occupations_json_n16) as f:\n",
    "    data_n16 = json.load(f)"
   ]
  },
  {
   "cell_type": "code",
   "execution_count": null,
   "metadata": {
    "hidden": true
   },
   "outputs": [],
   "source": [
    "df_occupations_n10 = pd.DataFrame.from_records(data_n10)\n",
    "df_occupations_n13 = pd.DataFrame.from_records(data_n13)\n",
    "df_occupations_n16 = pd.DataFrame.from_records(data_n16)"
   ]
  },
  {
   "cell_type": "code",
   "execution_count": null,
   "metadata": {
    "hidden": true
   },
   "outputs": [],
   "source": [
    "# selecting the rows with the variable in question\n",
    "df_occupations_n10 = df_occupations_n10[(df_occupations_n10['measures_name']=='Variable')].reset_index(drop=True)\n",
    "df_occupations_n13 = df_occupations_n13[(df_occupations_n13['measures_name']=='Variable')].reset_index(drop=True)\n",
    "df_occupations_n16 = df_occupations_n16[(df_occupations_n16['measures_name']=='Variable')].reset_index(drop=True)\n",
    "\n",
    "# creating pivot table with indicators as fields\n",
    "df_occupations_pivot_n10 = df_occupations_n10.pivot_table(index=df_occupations_n10[['geography_name', 'geography_code', 'date_code']], columns='variable_name', aggfunc='mean')['obs_value']\n",
    "df_occupations_pivot_n13 = df_occupations_n13.pivot_table(index=df_occupations_n13[['geography_name', 'geography_code', 'date_code']], columns='variable_name', aggfunc='mean')['obs_value']\n",
    "df_occupations_pivot_n16 = df_occupations_n16.pivot_table(index=df_occupations_n16[['geography_name', 'geography_code', 'date_code']], columns='variable_name', aggfunc='mean')['obs_value']"
   ]
  },
  {
   "cell_type": "code",
   "execution_count": null,
   "metadata": {
    "hidden": true
   },
   "outputs": [],
   "source": [
    "df_occupations_pivot_n10.reset_index(inplace=True)\n",
    "df_occupations_pivot_n13.reset_index(inplace=True)\n",
    "df_occupations_pivot_n16.reset_index(inplace=True)"
   ]
  },
  {
   "cell_type": "code",
   "execution_count": null,
   "metadata": {
    "hidden": true
   },
   "outputs": [],
   "source": [
    "df_occupations_pivot_n10.set_index('geography_name',inplace=True)\n",
    "df_occupations_pivot_n13.set_index('geography_name',inplace=True)\n",
    "df_occupations_pivot_n16.set_index('geography_name',inplace=True)"
   ]
  },
  {
   "cell_type": "code",
   "execution_count": null,
   "metadata": {
    "hidden": true
   },
   "outputs": [],
   "source": [
    "df_occupations_pivot_n10['date_code'] = df_occupations_pivot_n10['date_code'].apply(lambda x: int(x.split('-')[0]))\n",
    "df_occupations_pivot_n13['date_code'] = df_occupations_pivot_n13['date_code'].apply(lambda x: int(x.split('-')[0]))\n",
    "df_occupations_pivot_n16['date_code'] = df_occupations_pivot_n16['date_code'].apply(lambda x: int(x.split('-')[0]))"
   ]
  },
  {
   "cell_type": "code",
   "execution_count": null,
   "metadata": {
    "hidden": true
   },
   "outputs": [],
   "source": [
    "df_occupations_pivot_n10.columns = ['nuts_id', 'year', 'aps_pro_occupations_data']\n",
    "df_occupations_pivot_n13.columns = ['nuts_id', 'year', 'aps_pro_occupations_data']\n",
    "df_occupations_pivot_n16.columns = ['nuts_id', 'year', 'aps_pro_occupations_data']\n",
    "\n",
    "\n",
    "df_occupations_pivot_n10['nuts_year_spec'] = [2010]*len(df_occupations_pivot_n10)\n",
    "df_occupations_pivot_n13['nuts_year_spec'] = [2013]*len(df_occupations_pivot_n13)\n",
    "df_occupations_pivot_n16['nuts_year_spec'] = [2016]*len(df_occupations_pivot_n16)"
   ]
  },
  {
   "cell_type": "code",
   "execution_count": null,
   "metadata": {
    "hidden": true
   },
   "outputs": [],
   "source": [
    "df_occupations_pivot = pd.concat([df_occupations_pivot_n10, df_occupations_pivot_n13, df_occupations_pivot_n16]).sort_index()"
   ]
  },
  {
   "cell_type": "code",
   "execution_count": null,
   "metadata": {
    "hidden": true
   },
   "outputs": [],
   "source": [
    "df_occupations_pivot.dropna(subset = ['aps_pro_occupations_data'], inplace=True)"
   ]
  },
  {
   "cell_type": "code",
   "execution_count": null,
   "metadata": {
    "hidden": true
   },
   "outputs": [],
   "source": [
    "df_occupations_pivot = df_occupations_pivot[['year','nuts_id', 'nuts_year_spec', 'aps_pro_occupations_data']].reset_index(drop=True)"
   ]
  },
  {
   "cell_type": "code",
   "execution_count": null,
   "metadata": {
    "hidden": true
   },
   "outputs": [],
   "source": [
    "#saving pivot table\n",
    "df_occupations_pivot.to_csv('../../data/processed/aps/aps_pro_occupations_data.nuts3.csv', index=False)"
   ]
  },
  {
   "cell_type": "markdown",
   "metadata": {
    "heading_collapsed": true,
    "hidden": true
   },
   "source": [
    "#### LEP level"
   ]
  },
  {
   "cell_type": "code",
   "execution_count": null,
   "metadata": {
    "hidden": true
   },
   "outputs": [],
   "source": [
    "# fetching raw data\n",
    "data_occupations_lep = '../../data/raw/pro_occs/nomis_percent_pro_occs_lep-0-25000.json'\n",
    "with open(data_occupations_lep) as f:\n",
    "    data_lep = json.load(f)"
   ]
  },
  {
   "cell_type": "code",
   "execution_count": null,
   "metadata": {
    "hidden": true
   },
   "outputs": [],
   "source": [
    "df_occupations_lep = pd.DataFrame.from_records(data_lep)"
   ]
  },
  {
   "cell_type": "code",
   "execution_count": null,
   "metadata": {
    "hidden": true
   },
   "outputs": [],
   "source": [
    "# selecting the rows with the variable in question\n",
    "df_occupations_lep = df_occupations_lep[(df_occupations_lep['measures_name']=='Variable')].reset_index(drop=True)\n",
    "\n",
    "# creating pivot table with indicators as fields\n",
    "df_occupations_pivot_lep = df_occupations_lep.pivot_table(index=df_occupations_lep[['geography_name', 'geography_code', 'date_code']], columns='variable_name', aggfunc='mean')['obs_value']"
   ]
  },
  {
   "cell_type": "code",
   "execution_count": null,
   "metadata": {
    "hidden": true
   },
   "outputs": [],
   "source": [
    "df_occupations_pivot_lep.reset_index(inplace=True)"
   ]
  },
  {
   "cell_type": "code",
   "execution_count": null,
   "metadata": {
    "hidden": true
   },
   "outputs": [],
   "source": [
    "df_occupations_pivot_lep.set_index('geography_name',inplace=True)"
   ]
  },
  {
   "cell_type": "code",
   "execution_count": null,
   "metadata": {
    "hidden": true
   },
   "outputs": [],
   "source": [
    "df_occupations_pivot_lep['date_code'] = df_occupations_pivot_lep['date_code'].apply(lambda x: int(x.split('-')[0]))"
   ]
  },
  {
   "cell_type": "code",
   "execution_count": null,
   "metadata": {
    "hidden": true
   },
   "outputs": [],
   "source": [
    "df_occupations_pivot_lep.columns = ['lep_id', 'year', 'aps_pro_occupations_data']\n",
    "\n",
    "\n",
    "df_occupations_pivot_lep['lep_year_spec'] = [2017]*len(df_occupations_pivot_lep)"
   ]
  },
  {
   "cell_type": "code",
   "execution_count": null,
   "metadata": {
    "hidden": true
   },
   "outputs": [],
   "source": [
    "df_occupations_pivot_lep.dropna(subset = ['aps_pro_occupations_data'], inplace=True)"
   ]
  },
  {
   "cell_type": "code",
   "execution_count": null,
   "metadata": {
    "hidden": true
   },
   "outputs": [],
   "source": [
    "df_occupations_pivot_lep = df_occupations_pivot_lep[['year','lep_id', 'lep_year_spec', 'aps_pro_occupations_data']].reset_index(drop=True)"
   ]
  },
  {
   "cell_type": "code",
   "execution_count": null,
   "metadata": {
    "hidden": true
   },
   "outputs": [],
   "source": [
    "#saving pivot table\n",
    "df_occupations_pivot_lep.to_csv('../../data/processed/aps/aps_pro_occupations_data.lep.csv', index=False)"
   ]
  },
  {
   "cell_type": "markdown",
   "metadata": {
    "heading_collapsed": true
   },
   "source": [
    "### Processing for 'Economically active with NVQ4+ (graduates)' data"
   ]
  },
  {
   "cell_type": "markdown",
   "metadata": {
    "heading_collapsed": true,
    "hidden": true
   },
   "source": [
    "#### NUTS 2 level"
   ]
  },
  {
   "cell_type": "code",
   "execution_count": null,
   "metadata": {
    "hidden": true
   },
   "outputs": [],
   "source": [
    "# fetching raw data\n",
    "data_edu_json_n10 = '../../data/raw/nvq4_tert/nomis_nvq4_grads_12_14_n10-0-25000.json'\n",
    "data_edu_json_n13 = '../../data/raw/nvq4_tert/nomis_nvq4_grads_15_17_n13-0-25000.json'\n",
    "data_edu_json_n16 = '../../data/raw/nvq4_tert/nomis_nvq4_grads_18_n16-0-25000.json'\n",
    "    \n",
    "with open(data_edu_json_n10) as f:\n",
    "    data_n10 = json.load(f)\n",
    "    \n",
    "with open(data_edu_json_n13) as f:\n",
    "    data_n13 = json.load(f)\n",
    "    \n",
    "with open(data_edu_json_n16) as f:\n",
    "    data_n16 = json.load(f)"
   ]
  },
  {
   "cell_type": "code",
   "execution_count": null,
   "metadata": {
    "hidden": true
   },
   "outputs": [],
   "source": [
    "df_edu_n10 = pd.DataFrame.from_records(data_n10)\n",
    "df_edu_n13 = pd.DataFrame.from_records(data_n13)\n",
    "df_edu_n16 = pd.DataFrame.from_records(data_n16)"
   ]
  },
  {
   "cell_type": "code",
   "execution_count": null,
   "metadata": {
    "hidden": true
   },
   "outputs": [],
   "source": [
    "# selecting the rows with the variable in question\n",
    "df_edu_n10 = df_edu_n10[(df_edu_n10['measures_name']=='Variable')].reset_index(drop=True)\n",
    "df_edu_n13 = df_edu_n13[(df_edu_n13['measures_name']=='Variable')].reset_index(drop=True)\n",
    "df_edu_n16 = df_edu_n16[(df_edu_n16['measures_name']=='Variable')].reset_index(drop=True)\n",
    "\n",
    "# creating pivot table with indicators as fields\n",
    "df_edu_pivot_n10 = df_edu_n10.pivot_table(index=df_edu_n10[['geography_name', 'geography_code', 'date_code']], columns='variable_name', aggfunc='mean')['obs_value']\n",
    "df_edu_pivot_n13 = df_edu_n13.pivot_table(index=df_edu_n13[['geography_name', 'geography_code', 'date_code']], columns='variable_name', aggfunc='mean')['obs_value']\n",
    "df_edu_pivot_n16 = df_edu_n16.pivot_table(index=df_edu_n16[['geography_name', 'geography_code', 'date_code']], columns='variable_name', aggfunc='mean')['obs_value']"
   ]
  },
  {
   "cell_type": "code",
   "execution_count": null,
   "metadata": {
    "hidden": true
   },
   "outputs": [],
   "source": [
    "df_edu_pivot_n10.reset_index(inplace=True)\n",
    "df_edu_pivot_n13.reset_index(inplace=True)\n",
    "df_edu_pivot_n16.reset_index(inplace=True)\n",
    "\n",
    "df_edu_pivot_n10.set_index('geography_name',inplace=True)\n",
    "df_edu_pivot_n13.set_index('geography_name',inplace=True)\n",
    "df_edu_pivot_n16.set_index('geography_name',inplace=True)"
   ]
  },
  {
   "cell_type": "code",
   "execution_count": null,
   "metadata": {
    "hidden": true
   },
   "outputs": [],
   "source": [
    "# df_edu_pivot.columns"
   ]
  },
  {
   "cell_type": "code",
   "execution_count": null,
   "metadata": {
    "hidden": true
   },
   "outputs": [],
   "source": [
    "df_edu_pivot_n10['date_code'] = df_edu_pivot_n10['date_code'].apply(lambda x: int(x.split('-')[0]))\n",
    "df_edu_pivot_n13['date_code'] = df_edu_pivot_n13['date_code'].apply(lambda x: int(x.split('-')[0]))\n",
    "df_edu_pivot_n16['date_code'] = df_edu_pivot_n16['date_code'].apply(lambda x: int(x.split('-')[0]))"
   ]
  },
  {
   "cell_type": "code",
   "execution_count": null,
   "metadata": {
    "hidden": true
   },
   "outputs": [],
   "source": [
    "df_edu_pivot_n10.columns = ['nuts_id', 'year', 'aps_nvq4_education_data']\n",
    "df_edu_pivot_n13.columns = ['nuts_id', 'year', 'aps_nvq4_education_data']\n",
    "df_edu_pivot_n16.columns = ['nuts_id', 'year', 'aps_nvq4_education_data']\n",
    "\n",
    "\n",
    "df_edu_pivot_n10['nuts_year_spec'] = [2010]*len(df_edu_pivot_n10)\n",
    "df_edu_pivot_n13['nuts_year_spec'] = [2013]*len(df_edu_pivot_n13)\n",
    "df_edu_pivot_n16['nuts_year_spec'] = [2016]*len(df_edu_pivot_n16)"
   ]
  },
  {
   "cell_type": "code",
   "execution_count": null,
   "metadata": {
    "hidden": true
   },
   "outputs": [],
   "source": [
    "df_edu_pivot = pd.concat([df_edu_pivot_n10, df_edu_pivot_n13, df_edu_pivot_n16]).sort_index()"
   ]
  },
  {
   "cell_type": "code",
   "execution_count": null,
   "metadata": {
    "hidden": true
   },
   "outputs": [],
   "source": [
    "df_edu_pivot.dropna(subset = ['aps_nvq4_education_data'], inplace=True)"
   ]
  },
  {
   "cell_type": "code",
   "execution_count": null,
   "metadata": {
    "hidden": true
   },
   "outputs": [],
   "source": [
    "df_edu_pivot = df_edu_pivot[['year','nuts_id', 'nuts_year_spec', 'aps_nvq4_education_data']].reset_index(drop=True)"
   ]
  },
  {
   "cell_type": "code",
   "execution_count": null,
   "metadata": {
    "hidden": true
   },
   "outputs": [],
   "source": [
    "#saving pivot table\n",
    "df_edu_pivot.to_csv('../../data/processed/aps/aps_nvq4_education_data.nuts2.csv', index=False)"
   ]
  },
  {
   "cell_type": "markdown",
   "metadata": {
    "heading_collapsed": true,
    "hidden": true
   },
   "source": [
    "#### NUTS 3 level"
   ]
  },
  {
   "cell_type": "code",
   "execution_count": null,
   "metadata": {
    "hidden": true
   },
   "outputs": [],
   "source": [
    "# fetching raw data\n",
    "data_edu_json_n10 = '../../data/raw/nvq4_tert/nomis_nvq4_grads_3_12_14_n10-0-25000.json'\n",
    "data_edu_json_n13 = '../../data/raw/nvq4_tert/nomis_nvq4_grads_3_15_17_n13-0-25000.json'\n",
    "data_edu_json_n16 = '../../data/raw/nvq4_tert/nomis_nvq4_grads_3_18_n16-0-25000.json'\n",
    "    \n",
    "with open(data_edu_json_n10) as f:\n",
    "    data_n10 = json.load(f)\n",
    "    \n",
    "with open(data_edu_json_n13) as f:\n",
    "    data_n13 = json.load(f)\n",
    "    \n",
    "with open(data_edu_json_n16) as f:\n",
    "    data_n16 = json.load(f)"
   ]
  },
  {
   "cell_type": "code",
   "execution_count": null,
   "metadata": {
    "hidden": true
   },
   "outputs": [],
   "source": [
    "df_edu_n10 = pd.DataFrame.from_records(data_n10)\n",
    "df_edu_n13 = pd.DataFrame.from_records(data_n13)\n",
    "df_edu_n16 = pd.DataFrame.from_records(data_n16)"
   ]
  },
  {
   "cell_type": "code",
   "execution_count": null,
   "metadata": {
    "hidden": true
   },
   "outputs": [],
   "source": [
    "# selecting the rows with the variable in question\n",
    "df_edu_n10 = df_edu_n10[(df_edu_n10['measures_name']=='Variable')].reset_index(drop=True)\n",
    "df_edu_n13 = df_edu_n13[(df_edu_n13['measures_name']=='Variable')].reset_index(drop=True)\n",
    "df_edu_n16 = df_edu_n16[(df_edu_n16['measures_name']=='Variable')].reset_index(drop=True)\n",
    "\n",
    "# creating pivot table with indicators as fields\n",
    "df_edu_pivot_n10 = df_edu_n10.pivot_table(index=df_edu_n10[['geography_name', 'geography_code', 'date_code']], columns='variable_name', aggfunc='mean')['obs_value']\n",
    "df_edu_pivot_n13 = df_edu_n13.pivot_table(index=df_edu_n13[['geography_name', 'geography_code', 'date_code']], columns='variable_name', aggfunc='mean')['obs_value']\n",
    "df_edu_pivot_n16 = df_edu_n16.pivot_table(index=df_edu_n16[['geography_name', 'geography_code', 'date_code']], columns='variable_name', aggfunc='mean')['obs_value']"
   ]
  },
  {
   "cell_type": "code",
   "execution_count": null,
   "metadata": {
    "hidden": true
   },
   "outputs": [],
   "source": [
    "df_edu_pivot_n10.reset_index(inplace=True)\n",
    "df_edu_pivot_n13.reset_index(inplace=True)\n",
    "df_edu_pivot_n16.reset_index(inplace=True)\n",
    "\n",
    "df_edu_pivot_n10.set_index('geography_name',inplace=True)\n",
    "df_edu_pivot_n13.set_index('geography_name',inplace=True)\n",
    "df_edu_pivot_n16.set_index('geography_name',inplace=True)"
   ]
  },
  {
   "cell_type": "code",
   "execution_count": null,
   "metadata": {
    "hidden": true
   },
   "outputs": [],
   "source": [
    "df_edu_pivot_n10['date_code'] = df_edu_pivot_n10['date_code'].apply(lambda x: int(x.split('-')[0]))\n",
    "df_edu_pivot_n13['date_code'] = df_edu_pivot_n13['date_code'].apply(lambda x: int(x.split('-')[0]))\n",
    "df_edu_pivot_n16['date_code'] = df_edu_pivot_n16['date_code'].apply(lambda x: int(x.split('-')[0]))"
   ]
  },
  {
   "cell_type": "code",
   "execution_count": null,
   "metadata": {
    "hidden": true
   },
   "outputs": [],
   "source": [
    "df_edu_pivot_n10.columns = ['nuts_id', 'year', 'aps_nvq4_education_data']\n",
    "df_edu_pivot_n13.columns = ['nuts_id', 'year', 'aps_nvq4_education_data']\n",
    "df_edu_pivot_n16.columns = ['nuts_id', 'year', 'aps_nvq4_education_data']\n",
    "\n",
    "\n",
    "df_edu_pivot_n10['nuts_year_spec'] = [2010]*len(df_edu_pivot_n10)\n",
    "df_edu_pivot_n13['nuts_year_spec'] = [2013]*len(df_edu_pivot_n13)\n",
    "df_edu_pivot_n16['nuts_year_spec'] = [2016]*len(df_edu_pivot_n16)"
   ]
  },
  {
   "cell_type": "code",
   "execution_count": null,
   "metadata": {
    "hidden": true
   },
   "outputs": [],
   "source": [
    "df_edu_pivot = pd.concat([df_edu_pivot_n10, df_edu_pivot_n13, df_edu_pivot_n16]).sort_index()"
   ]
  },
  {
   "cell_type": "code",
   "execution_count": null,
   "metadata": {
    "hidden": true
   },
   "outputs": [],
   "source": [
    "df_edu_pivot = df_edu_pivot[['year','nuts_id', 'nuts_year_spec', 'aps_nvq4_education_data']].reset_index(drop=True)"
   ]
  },
  {
   "cell_type": "code",
   "execution_count": null,
   "metadata": {
    "hidden": true
   },
   "outputs": [],
   "source": [
    "df_edu_pivot.dropna(subset = ['aps_nvq4_education_data'], inplace=True)"
   ]
  },
  {
   "cell_type": "code",
   "execution_count": null,
   "metadata": {
    "hidden": true
   },
   "outputs": [],
   "source": [
    "#saving pivot table\n",
    "df_edu_pivot.to_csv('../../data/processed/aps/aps_nvq4_education_data.nuts3.csv', index=False)"
   ]
  },
  {
   "cell_type": "markdown",
   "metadata": {
    "heading_collapsed": true,
    "hidden": true
   },
   "source": [
    "#### LEP level"
   ]
  },
  {
   "cell_type": "code",
   "execution_count": null,
   "metadata": {
    "hidden": true
   },
   "outputs": [],
   "source": [
    "# fetching raw data\n",
    "data_edu_lep = '../../data/raw/nvq4_tert/nomis_nvq4_grads_lep-0-25000.json'\n",
    "with open(data_edu_lep) as f:\n",
    "    data_lep = json.load(f)"
   ]
  },
  {
   "cell_type": "code",
   "execution_count": null,
   "metadata": {
    "hidden": true
   },
   "outputs": [],
   "source": [
    "df_edu_lep = pd.DataFrame.from_records(data_lep)"
   ]
  },
  {
   "cell_type": "code",
   "execution_count": null,
   "metadata": {
    "hidden": true
   },
   "outputs": [],
   "source": [
    "# selecting the rows with the variable in question\n",
    "df_edu_lep = df_edu_lep[(df_edu_lep['measures_name']=='Variable')].reset_index(drop=True)\n",
    "\n",
    "# creating pivot table with indicators as fields\n",
    "df_edu_pivot_lep = df_edu_lep.pivot_table(index=df_edu_lep[['geography_name', 'geography_code', 'date_code']], columns='variable_name', aggfunc='mean')['obs_value']"
   ]
  },
  {
   "cell_type": "code",
   "execution_count": null,
   "metadata": {
    "hidden": true
   },
   "outputs": [],
   "source": [
    "df_edu_pivot_lep.reset_index(inplace=True)"
   ]
  },
  {
   "cell_type": "code",
   "execution_count": null,
   "metadata": {
    "hidden": true
   },
   "outputs": [],
   "source": [
    "df_edu_pivot_lep.set_index('geography_name',inplace=True)"
   ]
  },
  {
   "cell_type": "code",
   "execution_count": null,
   "metadata": {
    "hidden": true
   },
   "outputs": [],
   "source": [
    "df_edu_pivot_lep['date_code'] = df_edu_pivot_lep['date_code'].apply(lambda x: int(x.split('-')[0]))"
   ]
  },
  {
   "cell_type": "code",
   "execution_count": null,
   "metadata": {
    "hidden": true
   },
   "outputs": [],
   "source": [
    "df_edu_pivot_lep.columns = ['lep_id', 'year', 'aps_nvq4_education_data']\n",
    "\n",
    "\n",
    "df_edu_pivot_lep['lep_year_spec'] = [2017]*len(df_edu_pivot_lep)"
   ]
  },
  {
   "cell_type": "code",
   "execution_count": null,
   "metadata": {
    "hidden": true
   },
   "outputs": [],
   "source": [
    "df_edu_pivot_lep.dropna(subset = ['aps_nvq4_education_data'], inplace=True)"
   ]
  },
  {
   "cell_type": "code",
   "execution_count": null,
   "metadata": {
    "hidden": true
   },
   "outputs": [],
   "source": [
    "df_edu_pivot_lep = df_edu_pivot_lep[['year','lep_id', 'lep_year_spec', 'aps_nvq4_education_data']].reset_index(drop=True)"
   ]
  },
  {
   "cell_type": "code",
   "execution_count": null,
   "metadata": {
    "hidden": true
   },
   "outputs": [],
   "source": [
    "#saving pivot table\n",
    "df_edu_pivot_lep.to_csv('../../data/processed/aps/aps_nvq4_education_data.lep.csv', index=False)"
   ]
  },
  {
   "cell_type": "markdown",
   "metadata": {
    "heading_collapsed": true
   },
   "source": [
    "### Processing for 'Economically active in either science, research, engineering and technology, professionals and associated professionals' data"
   ]
  },
  {
   "cell_type": "markdown",
   "metadata": {
    "heading_collapsed": true,
    "hidden": true
   },
   "source": [
    "#### NUTS 2 level"
   ]
  },
  {
   "cell_type": "code",
   "execution_count": null,
   "metadata": {
    "hidden": true
   },
   "outputs": [],
   "source": [
    "# fetching raw data\n",
    "data_stem_json_n10 = '../../data/raw/stem/nomis_stem_12_14_n10-0-25000.json'\n",
    "data_stem_json_n13 = '../../data/raw/stem/nomis_stem_15_17_n13-0-25000.json'\n",
    "data_stem_json_n16 = '../../data/raw/stem/nomis_stem_18_n16-0-25000.json'\n",
    "\n",
    "with open(data_stem_json_n10) as f:\n",
    "    data_n10 = json.load(f)\n",
    "with open(data_stem_json_n13) as f:\n",
    "    data_n13 = json.load(f)\n",
    "with open(data_stem_json_n16) as f:\n",
    "    data_n16 = json.load(f)"
   ]
  },
  {
   "cell_type": "code",
   "execution_count": null,
   "metadata": {
    "hidden": true
   },
   "outputs": [],
   "source": [
    "data_stem_n10 = pd.DataFrame.from_records(data_n10)\n",
    "data_stem_n13 = pd.DataFrame.from_records(data_n13)\n",
    "data_stem_n16 = pd.DataFrame.from_records(data_n16)"
   ]
  },
  {
   "cell_type": "code",
   "execution_count": null,
   "metadata": {
    "hidden": true
   },
   "outputs": [],
   "source": [
    "# selecting the rows with the variable in question\n",
    "data_stem_n10 = data_stem_n10[(data_stem_n10['measures_name']=='Value')].reset_index(drop=True)\n",
    "data_stem_n13 = data_stem_n13[(data_stem_n13['measures_name']=='Value')].reset_index(drop=True)\n",
    "data_stem_n16 = data_stem_n16[(data_stem_n16['measures_name']=='Value')].reset_index(drop=True)\n",
    "\n",
    "# creating pivot table with indicators as fields\n",
    "df_stem_pivot_n10 = data_stem_n10.pivot_table(index=data_stem_n10[['geography_name', 'geography_code', 'date_code']], columns='cell_name', aggfunc='mean')['obs_value']\n",
    "df_stem_pivot_n13 = data_stem_n13.pivot_table(index=data_stem_n13[['geography_name', 'geography_code', 'date_code']], columns='cell_name', aggfunc='mean')['obs_value']\n",
    "df_stem_pivot_n16 = data_stem_n16.pivot_table(index=data_stem_n16[['geography_name', 'geography_code', 'date_code']], columns='cell_name', aggfunc='mean')['obs_value']"
   ]
  },
  {
   "cell_type": "code",
   "execution_count": null,
   "metadata": {
    "hidden": true
   },
   "outputs": [],
   "source": [
    "df_stem_pivot_n10.reset_index(inplace=True)\n",
    "df_stem_pivot_n13.reset_index(inplace=True)\n",
    "df_stem_pivot_n16.reset_index(inplace=True)\n",
    "\n",
    "df_stem_pivot_n10.set_index('geography_name',inplace=True)\n",
    "df_stem_pivot_n13.set_index('geography_name',inplace=True)\n",
    "df_stem_pivot_n16.set_index('geography_name',inplace=True)"
   ]
  },
  {
   "cell_type": "code",
   "execution_count": null,
   "metadata": {
    "hidden": true
   },
   "outputs": [],
   "source": [
    "# df_stem_pivot.columns"
   ]
  },
  {
   "cell_type": "code",
   "execution_count": null,
   "metadata": {
    "hidden": true
   },
   "outputs": [],
   "source": [
    "df_stem_pivot_n10['date_code'] = df_stem_pivot_n10['date_code'].apply(lambda x: int(x.split('-')[0]))\n",
    "df_stem_pivot_n13['date_code'] = df_stem_pivot_n13['date_code'].apply(lambda x: int(x.split('-')[0]))\n",
    "df_stem_pivot_n16['date_code'] = df_stem_pivot_n16['date_code'].apply(lambda x: int(x.split('-')[0]))"
   ]
  },
  {
   "cell_type": "code",
   "execution_count": null,
   "metadata": {
    "hidden": true
   },
   "outputs": [],
   "source": [
    "df_stem_pivot_n10.columns = ['nuts_id', 'year', 'aps_econ_active_stem_associate_profs_data','aps_econ_active_stem_profs_data']\n",
    "df_stem_pivot_n13.columns = ['nuts_id', 'year', 'aps_econ_active_stem_associate_profs_data','aps_econ_active_stem_profs_data']\n",
    "df_stem_pivot_n16.columns = ['nuts_id', 'year', 'aps_econ_active_stem_associate_profs_data','aps_econ_active_stem_profs_data']\n",
    "\n",
    "\n",
    "df_stem_pivot_n10['aps_econ_active_stem_profs_data'] = df_stem_pivot_n10['aps_econ_active_stem_profs_data'].apply(lambda x: int(x))\n",
    "df_stem_pivot_n13['aps_econ_active_stem_profs_data'] = df_stem_pivot_n13['aps_econ_active_stem_profs_data'].apply(lambda x: int(x))\n",
    "df_stem_pivot_n16['aps_econ_active_stem_profs_data'] = df_stem_pivot_n16['aps_econ_active_stem_profs_data'].apply(lambda x: int(x))\n",
    "\n",
    "\n",
    "df_stem_pivot_n10['aps_econ_active_stem_associate_profs_data'] = df_stem_pivot_n10['aps_econ_active_stem_associate_profs_data'].apply(lambda x: int(x))\n",
    "df_stem_pivot_n13['aps_econ_active_stem_associate_profs_data'] = df_stem_pivot_n13['aps_econ_active_stem_associate_profs_data'].apply(lambda x: int(x))\n",
    "df_stem_pivot_n16['aps_econ_active_stem_associate_profs_data'] = df_stem_pivot_n16['aps_econ_active_stem_associate_profs_data'].apply(lambda x: int(x))\n",
    "\n",
    "\n",
    "df_stem_pivot_n10['nuts_year_spec'] = [2010]*len(df_stem_pivot_n10)\n",
    "df_stem_pivot_n13['nuts_year_spec'] = [2013]*len(df_stem_pivot_n13)\n",
    "df_stem_pivot_n16['nuts_year_spec'] = [2016]*len(df_stem_pivot_n16)"
   ]
  },
  {
   "cell_type": "code",
   "execution_count": null,
   "metadata": {
    "hidden": true
   },
   "outputs": [],
   "source": [
    "df_stem_pivot = pd.concat([df_stem_pivot_n10, df_stem_pivot_n13, df_stem_pivot_n16]).sort_index()"
   ]
  },
  {
   "cell_type": "code",
   "execution_count": null,
   "metadata": {
    "hidden": true
   },
   "outputs": [],
   "source": [
    "df_stem_pivot_prof = df_stem_pivot[['year','nuts_id', 'nuts_year_spec', 'aps_econ_active_stem_profs_data']].reset_index(drop=True)\n",
    "df_stem_pivot_aprof = df_stem_pivot[['year','nuts_id', 'nuts_year_spec', 'aps_econ_active_stem_associate_profs_data']].reset_index(drop=True)"
   ]
  },
  {
   "cell_type": "code",
   "execution_count": null,
   "metadata": {
    "hidden": true
   },
   "outputs": [],
   "source": [
    "df_stem_pivot_prof.dropna(subset=['aps_econ_active_stem_profs_data'], inplace=True)\n",
    "df_stem_pivot_aprof.dropna(subset=['aps_econ_active_stem_associate_profs_data'], inplace=True)"
   ]
  },
  {
   "cell_type": "code",
   "execution_count": null,
   "metadata": {
    "hidden": true
   },
   "outputs": [],
   "source": [
    "#saving pivot table\n",
    "df_stem_pivot_prof.to_csv('../../data/processed/aps/aps_econ_active_stem_profs_data.nuts2.csv', index=False)\n",
    "df_stem_pivot_aprof.to_csv('../../data/processed/aps/aps_econ_active_stem_associate_profs_data.nuts2.csv', index=False)"
   ]
  },
  {
   "cell_type": "markdown",
   "metadata": {
    "heading_collapsed": true,
    "hidden": true
   },
   "source": [
    "#### NUTS 3 level"
   ]
  },
  {
   "cell_type": "code",
   "execution_count": null,
   "metadata": {
    "hidden": true
   },
   "outputs": [],
   "source": [
    "# fetching raw data\n",
    "data_stem_json_n10 = '../../data/raw/stem/nomis_stem_3_12_14_n10-0-25000.json'\n",
    "data_stem_json_n13 = '../../data/raw/stem/nomis_stem_3_15_17_n13-0-25000.json'\n",
    "data_stem_json_n16 = '../../data/raw/stem/nomis_stem_3_18_n16-0-25000.json'\n",
    "\n",
    "with open(data_stem_json_n10) as f:\n",
    "    data_n10 = json.load(f)\n",
    "with open(data_stem_json_n13) as f:\n",
    "    data_n13 = json.load(f)\n",
    "with open(data_stem_json_n16) as f:\n",
    "    data_n16 = json.load(f)"
   ]
  },
  {
   "cell_type": "code",
   "execution_count": null,
   "metadata": {
    "hidden": true
   },
   "outputs": [],
   "source": [
    "data_stem_n10 = pd.DataFrame.from_records(data_n10)\n",
    "data_stem_n13 = pd.DataFrame.from_records(data_n13)\n",
    "data_stem_n16 = pd.DataFrame.from_records(data_n16)"
   ]
  },
  {
   "cell_type": "code",
   "execution_count": null,
   "metadata": {
    "hidden": true
   },
   "outputs": [],
   "source": [
    "# selecting the rows with the variable in question\n",
    "data_stem_n10 = data_stem_n10[(data_stem_n10['measures_name']=='Value')].reset_index(drop=True)\n",
    "data_stem_n13 = data_stem_n13[(data_stem_n13['measures_name']=='Value')].reset_index(drop=True)\n",
    "data_stem_n16 = data_stem_n16[(data_stem_n16['measures_name']=='Value')].reset_index(drop=True)\n",
    "\n",
    "# creating pivot table with indicators as fields\n",
    "df_stem_pivot_n10 = data_stem_n10.pivot_table(index=data_stem_n10[['geography_name', 'geography_code', 'date_code']], columns='cell_name', aggfunc='mean')['obs_value']\n",
    "df_stem_pivot_n13 = data_stem_n13.pivot_table(index=data_stem_n13[['geography_name', 'geography_code', 'date_code']], columns='cell_name', aggfunc='mean')['obs_value']\n",
    "df_stem_pivot_n16 = data_stem_n16.pivot_table(index=data_stem_n16[['geography_name', 'geography_code', 'date_code']], columns='cell_name', aggfunc='mean')['obs_value']"
   ]
  },
  {
   "cell_type": "code",
   "execution_count": null,
   "metadata": {
    "hidden": true
   },
   "outputs": [],
   "source": [
    "df_stem_pivot_n10.reset_index(inplace=True)\n",
    "df_stem_pivot_n13.reset_index(inplace=True)\n",
    "df_stem_pivot_n16.reset_index(inplace=True)\n",
    "\n",
    "df_stem_pivot_n10.set_index('geography_name',inplace=True)\n",
    "df_stem_pivot_n13.set_index('geography_name',inplace=True)\n",
    "df_stem_pivot_n16.set_index('geography_name',inplace=True)"
   ]
  },
  {
   "cell_type": "code",
   "execution_count": null,
   "metadata": {
    "hidden": true
   },
   "outputs": [],
   "source": [
    "# df_stem_pivot.columns"
   ]
  },
  {
   "cell_type": "code",
   "execution_count": null,
   "metadata": {
    "hidden": true
   },
   "outputs": [],
   "source": [
    "df_stem_pivot_n10['date_code'] = df_stem_pivot_n10['date_code'].apply(lambda x: int(x.split('-')[0]))\n",
    "df_stem_pivot_n13['date_code'] = df_stem_pivot_n13['date_code'].apply(lambda x: int(x.split('-')[0]))\n",
    "df_stem_pivot_n16['date_code'] = df_stem_pivot_n16['date_code'].apply(lambda x: int(x.split('-')[0]))"
   ]
  },
  {
   "cell_type": "code",
   "execution_count": null,
   "metadata": {
    "hidden": true
   },
   "outputs": [],
   "source": [
    "df_stem_pivot_n10.columns = ['nuts_id', 'year', 'aps_econ_active_stem_associate_profs_data','aps_econ_active_stem_profs_data']\n",
    "df_stem_pivot_n13.columns = ['nuts_id', 'year', 'aps_econ_active_stem_associate_profs_data','aps_econ_active_stem_profs_data']\n",
    "df_stem_pivot_n16.columns = ['nuts_id', 'year', 'aps_econ_active_stem_associate_profs_data','aps_econ_active_stem_profs_data']\n",
    "\n",
    "\n",
    "df_stem_pivot_n10['aps_econ_active_stem_profs_data'] = df_stem_pivot_n10['aps_econ_active_stem_profs_data'].apply(lambda x: int(x) if pd.notnull(x) else x)\n",
    "df_stem_pivot_n13['aps_econ_active_stem_profs_data'] = df_stem_pivot_n13['aps_econ_active_stem_profs_data'].apply(lambda x: int(x) if pd.notnull(x) else x)\n",
    "df_stem_pivot_n16['aps_econ_active_stem_profs_data'] = df_stem_pivot_n16['aps_econ_active_stem_profs_data'].apply(lambda x: int(x) if pd.notnull(x) else x)\n",
    "\n",
    "\n",
    "df_stem_pivot_n10['aps_econ_active_stem_associate_profs_data'] = df_stem_pivot_n10['aps_econ_active_stem_associate_profs_data'].apply(lambda x: int(x) if pd.notnull(x) else x)\n",
    "df_stem_pivot_n13['aps_econ_active_stem_associate_profs_data'] = df_stem_pivot_n13['aps_econ_active_stem_associate_profs_data'].apply(lambda x: int(x) if pd.notnull(x) else x)\n",
    "df_stem_pivot_n16['aps_econ_active_stem_associate_profs_data'] = df_stem_pivot_n16['aps_econ_active_stem_associate_profs_data'].apply(lambda x: int(x) if pd.notnull(x) else x)\n",
    "\n",
    "\n",
    "df_stem_pivot_n10['nuts_year_spec'] = [2010]*len(df_stem_pivot_n10)\n",
    "df_stem_pivot_n13['nuts_year_spec'] = [2013]*len(df_stem_pivot_n13)\n",
    "df_stem_pivot_n16['nuts_year_spec'] = [2016]*len(df_stem_pivot_n16)"
   ]
  },
  {
   "cell_type": "code",
   "execution_count": null,
   "metadata": {
    "hidden": true
   },
   "outputs": [],
   "source": [
    "df_stem_pivot = pd.concat([df_stem_pivot_n10, df_stem_pivot_n13, df_stem_pivot_n16]).sort_index()"
   ]
  },
  {
   "cell_type": "code",
   "execution_count": null,
   "metadata": {
    "hidden": true
   },
   "outputs": [],
   "source": [
    "df_stem_pivot_prof = df_stem_pivot[['year','nuts_id', 'nuts_year_spec', 'aps_econ_active_stem_profs_data']].reset_index(drop=True)\n",
    "df_stem_pivot_aprof = df_stem_pivot[['year','nuts_id', 'nuts_year_spec', 'aps_econ_active_stem_associate_profs_data']].reset_index(drop=True)"
   ]
  },
  {
   "cell_type": "code",
   "execution_count": null,
   "metadata": {
    "hidden": true
   },
   "outputs": [],
   "source": [
    "df_stem_pivot_prof.dropna(subset=['aps_econ_active_stem_profs_data'], inplace=True)\n",
    "df_stem_pivot_aprof.dropna(subset=['aps_econ_active_stem_associate_profs_data'], inplace=True)"
   ]
  },
  {
   "cell_type": "code",
   "execution_count": null,
   "metadata": {
    "hidden": true
   },
   "outputs": [],
   "source": [
    "df_stem_pivot_aprof['aps_econ_active_stem_associate_profs_data'] = df_stem_pivot_aprof['aps_econ_active_stem_associate_profs_data'].apply(lambda x: int(x) if pd.notnull(x) else x)"
   ]
  },
  {
   "cell_type": "code",
   "execution_count": null,
   "metadata": {
    "hidden": true
   },
   "outputs": [],
   "source": [
    "#saving pivot table\n",
    "df_stem_pivot_prof.to_csv('../../data/processed/aps/aps_econ_active_stem_profs_data.nuts3.csv', index=False)\n",
    "df_stem_pivot_aprof.to_csv('../../data/processed/aps/aps_econ_active_stem_associate_profs_data.nuts3.csv', index=False)"
   ]
  },
  {
   "cell_type": "markdown",
   "metadata": {
    "heading_collapsed": true,
    "hidden": true
   },
   "source": [
    "#### LEP level"
   ]
  },
  {
   "cell_type": "code",
   "execution_count": null,
   "metadata": {
    "hidden": true
   },
   "outputs": [],
   "source": [
    "# fetching raw data\n",
    "data_stem_json = '../../data/raw/stem/nomis_stem_lep-0-25000.json'\n",
    "with open(data_stem_json) as f:\n",
    "    data_lep = json.load(f)"
   ]
  },
  {
   "cell_type": "code",
   "execution_count": null,
   "metadata": {
    "hidden": true
   },
   "outputs": [],
   "source": [
    "df_stem_lep = pd.DataFrame.from_records(data_lep)"
   ]
  },
  {
   "cell_type": "code",
   "execution_count": null,
   "metadata": {
    "hidden": true
   },
   "outputs": [],
   "source": [
    "# selecting the rows with the variable in question\n",
    "df_stem_lep = df_stem_lep[(df_stem_lep['measures_name']=='Value')].reset_index(drop=True)\n",
    "\n",
    "# creating pivot table with indicators as fields\n",
    "df_stem_pivot_lep = df_stem_lep.pivot_table(index=df_stem_lep[['geography_name', 'geography_code', 'date_code']], columns='cell_name', aggfunc='mean')['obs_value']"
   ]
  },
  {
   "cell_type": "code",
   "execution_count": null,
   "metadata": {
    "hidden": true
   },
   "outputs": [],
   "source": [
    "df_stem_pivot_lep.reset_index(inplace=True)"
   ]
  },
  {
   "cell_type": "code",
   "execution_count": null,
   "metadata": {
    "hidden": true
   },
   "outputs": [],
   "source": [
    "df_stem_pivot_lep.set_index('geography_name',inplace=True)"
   ]
  },
  {
   "cell_type": "code",
   "execution_count": null,
   "metadata": {
    "hidden": true
   },
   "outputs": [],
   "source": [
    "df_stem_pivot_lep['date_code'] = df_stem_pivot_lep['date_code'].apply(lambda x: int(x.split('-')[0]))"
   ]
  },
  {
   "cell_type": "code",
   "execution_count": null,
   "metadata": {
    "hidden": true
   },
   "outputs": [],
   "source": [
    "df_stem_pivot_lep.columns = ['lep_id', 'year', 'aps_econ_active_stem_associate_profs_data','aps_econ_active_stem_profs_data']\n",
    "\n",
    "\n",
    "df_stem_pivot_lep['lep_year_spec'] = [2017]*len(df_stem_pivot_lep)"
   ]
  },
  {
   "cell_type": "code",
   "execution_count": null,
   "metadata": {
    "hidden": true
   },
   "outputs": [],
   "source": [
    "df_stem_pivot_lep_prof = df_stem_pivot_lep[['year','lep_id', 'lep_year_spec', 'aps_econ_active_stem_profs_data']].reset_index(drop=True)\n",
    "df_stem_pivot_lep_aprof = df_stem_pivot_lep[['year','lep_id', 'lep_year_spec', 'aps_econ_active_stem_associate_profs_data']].reset_index(drop=True)"
   ]
  },
  {
   "cell_type": "code",
   "execution_count": null,
   "metadata": {
    "hidden": true
   },
   "outputs": [],
   "source": [
    "df_stem_pivot_lep_prof.dropna(subset=['aps_econ_active_stem_profs_data'], inplace=True)\n",
    "df_stem_pivot_lep_aprof.dropna(subset=['aps_econ_active_stem_associate_profs_data'], inplace=True)"
   ]
  },
  {
   "cell_type": "code",
   "execution_count": null,
   "metadata": {
    "hidden": true
   },
   "outputs": [],
   "source": [
    "df_stem_pivot_lep_aprof['aps_econ_active_stem_associate_profs_data'] = df_stem_pivot_lep_aprof['aps_econ_active_stem_associate_profs_data'].apply(lambda x: int(x) if pd.notnull(x) else x)"
   ]
  },
  {
   "cell_type": "code",
   "execution_count": null,
   "metadata": {
    "hidden": true
   },
   "outputs": [],
   "source": [
    "#saving pivot table\n",
    "df_stem_pivot_lep_prof.to_csv('../../data/processed/aps/aps_econ_active_stem_profs_data.lep.csv', index=False)\n",
    "df_stem_pivot_lep_aprof.to_csv('../../data/processed/aps/aps_econ_active_stem_associate_profs_data.lep.csv', index=False)"
   ]
  },
  {
   "cell_type": "markdown",
   "metadata": {
    "heading_collapsed": true
   },
   "source": [
    "### Processing for 'STEM employee density' data"
   ]
  },
  {
   "cell_type": "markdown",
   "metadata": {
    "heading_collapsed": true,
    "hidden": true
   },
   "source": [
    "#### NUTS 2 level"
   ]
  },
  {
   "cell_type": "code",
   "execution_count": null,
   "metadata": {
    "hidden": true
   },
   "outputs": [],
   "source": [
    "# fetching raw data\n",
    "data_stem_dens_json_n10 = '../../data/raw/stem_dens/nomis_stem_dens_12_14_n10-0-25000.json'\n",
    "data_stem_dens_json_n13 = '../../data/raw/stem_dens/nomis_stem_dens_15_17_n13-0-25000.json'\n",
    "data_stem_dens_json_n16 = '../../data/raw/stem_dens/nomis_stem_dens_18_n16-0-25000.json'\n",
    "\n",
    "with open(data_stem_dens_json_n10) as f:\n",
    "    data_n10 = json.load(f)\n",
    "with open(data_stem_dens_json_n13) as f:\n",
    "    data_n13 = json.load(f)\n",
    "with open(data_stem_dens_json_n16) as f:\n",
    "    data_n16 = json.load(f)"
   ]
  },
  {
   "cell_type": "code",
   "execution_count": null,
   "metadata": {
    "hidden": true
   },
   "outputs": [],
   "source": [
    "data_stem_dens_n10 = pd.DataFrame.from_records(data_n10)\n",
    "data_stem_dens_n13 = pd.DataFrame.from_records(data_n13)\n",
    "data_stem_dens_n16 = pd.DataFrame.from_records(data_n16)"
   ]
  },
  {
   "cell_type": "code",
   "execution_count": null,
   "metadata": {
    "hidden": true
   },
   "outputs": [],
   "source": [
    "# selecting the rows with the variable in question\n",
    "data_stem_dens_n10 = data_stem_dens_n10[(data_stem_dens_n10['measures_name']=='Variable')].reset_index(drop=True)\n",
    "data_stem_dens_n13 = data_stem_dens_n13[(data_stem_dens_n13['measures_name']=='Variable')].reset_index(drop=True)\n",
    "data_stem_dens_n16 = data_stem_dens_n16[(data_stem_dens_n16['measures_name']=='Variable')].reset_index(drop=True)\n",
    "\n",
    "# creating pivot table with indicators as fields\n",
    "df_stem_dens_pivot_n10 = data_stem_dens_n10.pivot_table(index=data_stem_dens_n10[['geography_name', 'geography_code', 'date_code']], columns='variable_name', aggfunc='mean')['obs_value']\n",
    "df_stem_dens_pivot_n13 = data_stem_dens_n13.pivot_table(index=data_stem_dens_n13[['geography_name', 'geography_code', 'date_code']], columns='variable_name', aggfunc='mean')['obs_value']\n",
    "df_stem_dens_pivot_n16 = data_stem_dens_n16.pivot_table(index=data_stem_dens_n16[['geography_name', 'geography_code', 'date_code']], columns='variable_name', aggfunc='mean')['obs_value']\n"
   ]
  },
  {
   "cell_type": "code",
   "execution_count": null,
   "metadata": {
    "hidden": true
   },
   "outputs": [],
   "source": [
    "df_stem_dens_pivot_n10.reset_index(inplace=True)\n",
    "df_stem_dens_pivot_n13.reset_index(inplace=True)\n",
    "df_stem_dens_pivot_n16.reset_index(inplace=True)\n",
    "\n",
    "df_stem_dens_pivot_n10.set_index('geography_name',inplace=True)\n",
    "df_stem_dens_pivot_n13.set_index('geography_name',inplace=True)\n",
    "df_stem_dens_pivot_n16.set_index('geography_name',inplace=True)"
   ]
  },
  {
   "cell_type": "code",
   "execution_count": null,
   "metadata": {
    "hidden": true
   },
   "outputs": [],
   "source": [
    "# data_stem_dens_pivot.columns"
   ]
  },
  {
   "cell_type": "code",
   "execution_count": null,
   "metadata": {
    "hidden": true
   },
   "outputs": [],
   "source": [
    "df_stem_dens_pivot_n10['date_code'] = df_stem_dens_pivot_n10['date_code'].apply(lambda x: int(x.split('-')[0]))\n",
    "df_stem_dens_pivot_n13['date_code'] = df_stem_dens_pivot_n13['date_code'].apply(lambda x: int(x.split('-')[0]))\n",
    "df_stem_dens_pivot_n16['date_code'] = df_stem_dens_pivot_n16['date_code'].apply(lambda x: int(x.split('-')[0]))"
   ]
  },
  {
   "cell_type": "code",
   "execution_count": null,
   "metadata": {
    "hidden": true
   },
   "outputs": [],
   "source": [
    "df_stem_dens_pivot_n10.columns = ['nuts_id', 'year', 'aps_econ_active_stem_density_data']\n",
    "df_stem_dens_pivot_n13.columns = ['nuts_id', 'year', 'aps_econ_active_stem_density_data']\n",
    "df_stem_dens_pivot_n16.columns = ['nuts_id', 'year', 'aps_econ_active_stem_density_data']\n",
    "\n",
    "\n",
    "df_stem_dens_pivot_n10['nuts_year_spec'] = [2010]*len(df_stem_dens_pivot_n10)\n",
    "df_stem_dens_pivot_n13['nuts_year_spec'] = [2013]*len(df_stem_dens_pivot_n13)\n",
    "df_stem_dens_pivot_n16['nuts_year_spec'] = [2016]*len(df_stem_dens_pivot_n16)"
   ]
  },
  {
   "cell_type": "code",
   "execution_count": null,
   "metadata": {
    "hidden": true
   },
   "outputs": [],
   "source": [
    "data_stem_dens_pivot = pd.concat([df_stem_dens_pivot_n10, df_stem_dens_pivot_n13, df_stem_dens_pivot_n16]).sort_index()"
   ]
  },
  {
   "cell_type": "code",
   "execution_count": null,
   "metadata": {
    "hidden": true
   },
   "outputs": [],
   "source": [
    "# data_stem_dens_pivot\n",
    "data_stem_dens_pivot = data_stem_dens_pivot[['year','nuts_id', 'nuts_year_spec', 'aps_econ_active_stem_density_data']].reset_index(drop=True)"
   ]
  },
  {
   "cell_type": "code",
   "execution_count": null,
   "metadata": {
    "hidden": true
   },
   "outputs": [],
   "source": [
    "data_stem_dens_pivot.dropna(subset=['aps_econ_active_stem_density_data'], inplace=True)"
   ]
  },
  {
   "cell_type": "code",
   "execution_count": null,
   "metadata": {
    "hidden": true
   },
   "outputs": [],
   "source": [
    "#saving pivot table\n",
    "data_stem_dens_pivot.to_csv('../../data/processed/aps/aps_econ_active_stem_density_data.nuts2.csv', index=False)"
   ]
  },
  {
   "cell_type": "markdown",
   "metadata": {
    "heading_collapsed": true,
    "hidden": true
   },
   "source": [
    "#### NUTS 3 level"
   ]
  },
  {
   "cell_type": "code",
   "execution_count": null,
   "metadata": {
    "hidden": true
   },
   "outputs": [],
   "source": [
    "# fetching raw data\n",
    "data_stem_dens_json_n10 = '../../data/raw/stem_dens/nomis_stem_dens_3_12_14_n10-0-25000.json'\n",
    "data_stem_dens_json_n13 = '../../data/raw/stem_dens/nomis_stem_dens_3_15_17_n13-0-25000.json'\n",
    "data_stem_dens_json_n16 = '../../data/raw/stem_dens/nomis_stem_dens_3_18_n16-0-25000.json'\n",
    "\n",
    "with open(data_stem_dens_json_n10) as f:\n",
    "    data_n10 = json.load(f)\n",
    "with open(data_stem_dens_json_n13) as f:\n",
    "    data_n13 = json.load(f)\n",
    "with open(data_stem_dens_json_n16) as f:\n",
    "    data_n16 = json.load(f)"
   ]
  },
  {
   "cell_type": "code",
   "execution_count": null,
   "metadata": {
    "hidden": true
   },
   "outputs": [],
   "source": [
    "data_stem_dens_n10 = pd.DataFrame.from_records(data_n10)\n",
    "data_stem_dens_n13 = pd.DataFrame.from_records(data_n13)\n",
    "data_stem_dens_n16 = pd.DataFrame.from_records(data_n16)"
   ]
  },
  {
   "cell_type": "code",
   "execution_count": null,
   "metadata": {
    "hidden": true
   },
   "outputs": [],
   "source": [
    "# selecting the rows with the variable in question\n",
    "data_stem_dens_n10 = data_stem_dens_n10[(data_stem_dens_n10['measures_name']=='Variable')].reset_index(drop=True)\n",
    "data_stem_dens_n13 = data_stem_dens_n13[(data_stem_dens_n13['measures_name']=='Variable')].reset_index(drop=True)\n",
    "data_stem_dens_n16 = data_stem_dens_n16[(data_stem_dens_n16['measures_name']=='Variable')].reset_index(drop=True)\n",
    "\n",
    "# creating pivot table with indicators as fields\n",
    "df_stem_dens_pivot_n10 = data_stem_dens_n10.pivot_table(index=data_stem_dens_n10[['geography_name', 'geography_code', 'date_code']], columns='variable_name', aggfunc='mean')['obs_value']\n",
    "df_stem_dens_pivot_n13 = data_stem_dens_n13.pivot_table(index=data_stem_dens_n13[['geography_name', 'geography_code', 'date_code']], columns='variable_name', aggfunc='mean')['obs_value']\n",
    "df_stem_dens_pivot_n16 = data_stem_dens_n16.pivot_table(index=data_stem_dens_n16[['geography_name', 'geography_code', 'date_code']], columns='variable_name', aggfunc='mean')['obs_value']\n"
   ]
  },
  {
   "cell_type": "code",
   "execution_count": null,
   "metadata": {
    "hidden": true
   },
   "outputs": [],
   "source": [
    "df_stem_dens_pivot_n10.reset_index(inplace=True)\n",
    "df_stem_dens_pivot_n13.reset_index(inplace=True)\n",
    "df_stem_dens_pivot_n16.reset_index(inplace=True)\n",
    "\n",
    "df_stem_dens_pivot_n10.set_index('geography_name',inplace=True)\n",
    "df_stem_dens_pivot_n13.set_index('geography_name',inplace=True)\n",
    "df_stem_dens_pivot_n16.set_index('geography_name',inplace=True)"
   ]
  },
  {
   "cell_type": "code",
   "execution_count": null,
   "metadata": {
    "hidden": true
   },
   "outputs": [],
   "source": [
    "# data_stem_dens_pivot.columns"
   ]
  },
  {
   "cell_type": "code",
   "execution_count": null,
   "metadata": {
    "hidden": true
   },
   "outputs": [],
   "source": [
    "df_stem_dens_pivot_n10['date_code'] = df_stem_dens_pivot_n10['date_code'].apply(lambda x: int(x.split('-')[0]))\n",
    "df_stem_dens_pivot_n13['date_code'] = df_stem_dens_pivot_n13['date_code'].apply(lambda x: int(x.split('-')[0]))\n",
    "df_stem_dens_pivot_n16['date_code'] = df_stem_dens_pivot_n16['date_code'].apply(lambda x: int(x.split('-')[0]))"
   ]
  },
  {
   "cell_type": "code",
   "execution_count": null,
   "metadata": {
    "hidden": true
   },
   "outputs": [],
   "source": [
    "df_stem_dens_pivot_n10.columns = ['nuts_id', 'year', 'aps_econ_active_stem_density_data']\n",
    "df_stem_dens_pivot_n13.columns = ['nuts_id', 'year', 'aps_econ_active_stem_density_data']\n",
    "df_stem_dens_pivot_n16.columns = ['nuts_id', 'year', 'aps_econ_active_stem_density_data']\n",
    "\n",
    "\n",
    "df_stem_dens_pivot_n10['nuts_year_spec'] = [2010]*len(df_stem_dens_pivot_n10)\n",
    "df_stem_dens_pivot_n13['nuts_year_spec'] = [2013]*len(df_stem_dens_pivot_n13)\n",
    "df_stem_dens_pivot_n16['nuts_year_spec'] = [2016]*len(df_stem_dens_pivot_n16)"
   ]
  },
  {
   "cell_type": "code",
   "execution_count": null,
   "metadata": {
    "hidden": true
   },
   "outputs": [],
   "source": [
    "data_stem_dens_pivot = pd.concat([df_stem_dens_pivot_n10, df_stem_dens_pivot_n13, df_stem_dens_pivot_n16]).sort_index()"
   ]
  },
  {
   "cell_type": "code",
   "execution_count": null,
   "metadata": {
    "hidden": true
   },
   "outputs": [],
   "source": [
    "# data_stem_dens_pivot\n",
    "data_stem_dens_pivot = data_stem_dens_pivot[['year','nuts_id', 'nuts_year_spec', 'aps_econ_active_stem_density_data']].reset_index(drop=True)"
   ]
  },
  {
   "cell_type": "code",
   "execution_count": null,
   "metadata": {
    "hidden": true
   },
   "outputs": [],
   "source": [
    "data_stem_dens_pivot.dropna(subset=['aps_econ_active_stem_density_data'], inplace=True)"
   ]
  },
  {
   "cell_type": "code",
   "execution_count": null,
   "metadata": {
    "hidden": true
   },
   "outputs": [],
   "source": [
    "#saving pivot table\n",
    "data_stem_dens_pivot.to_csv('../../data/processed/aps/aps_econ_active_stem_density_data.nuts3.csv', index=False)"
   ]
  },
  {
   "cell_type": "markdown",
   "metadata": {
    "heading_collapsed": true,
    "hidden": true
   },
   "source": [
    "#### LEP level"
   ]
  },
  {
   "cell_type": "code",
   "execution_count": null,
   "metadata": {
    "hidden": true
   },
   "outputs": [],
   "source": [
    "# fetching raw data\n",
    "data_stem_dens_json_lep = '../../data/raw/stem_dens/nomis_stem_dens_lep-0-25000.json'\n",
    "\n",
    "with open(data_stem_dens_json_lep) as f:\n",
    "    data_stem_dens = json.load(f)"
   ]
  },
  {
   "cell_type": "code",
   "execution_count": null,
   "metadata": {
    "hidden": true
   },
   "outputs": [],
   "source": [
    "data_stem_dens_lep = pd.DataFrame.from_records(data_stem_dens)"
   ]
  },
  {
   "cell_type": "code",
   "execution_count": null,
   "metadata": {
    "hidden": true
   },
   "outputs": [],
   "source": [
    "# selecting the rows with the variable in question\n",
    "data_stem_dens_lep = data_stem_dens_lep[(data_stem_dens_lep['measures_name']=='Variable')].reset_index(drop=True)\n",
    "\n",
    "# creating pivot table with indicators as fields\n",
    "df_stem_dens_lep_pivot = data_stem_dens_lep.pivot_table(index=data_stem_dens_lep[['geography_name', 'geography_code', 'date_code']], columns='variable_name', aggfunc='mean')['obs_value']\n"
   ]
  },
  {
   "cell_type": "code",
   "execution_count": null,
   "metadata": {
    "hidden": true
   },
   "outputs": [],
   "source": [
    "df_stem_dens_lep_pivot.reset_index(inplace=True)\n",
    "\n",
    "df_stem_dens_lep_pivot.set_index('geography_name',inplace=True)"
   ]
  },
  {
   "cell_type": "code",
   "execution_count": null,
   "metadata": {
    "hidden": true
   },
   "outputs": [],
   "source": [
    "df_stem_dens_lep_pivot['date_code'] = df_stem_dens_lep_pivot['date_code'].apply(lambda x: int(x.split('-')[0]))"
   ]
  },
  {
   "cell_type": "code",
   "execution_count": null,
   "metadata": {
    "hidden": true
   },
   "outputs": [],
   "source": [
    "df_stem_dens_lep_pivot.columns = ['nuts_id', 'year', 'aps_econ_active_stem_density_data']\n",
    "\n",
    "\n",
    "df_stem_dens_lep_pivot['nuts_year_spec'] = [2017]*len(df_stem_dens_lep_pivot)"
   ]
  },
  {
   "cell_type": "code",
   "execution_count": null,
   "metadata": {
    "hidden": true
   },
   "outputs": [],
   "source": [
    "# data_stem_dens_pivot\n",
    "df_stem_dens_lep_pivot = df_stem_dens_lep_pivot[['year','nuts_id', 'nuts_year_spec', 'aps_econ_active_stem_density_data']].reset_index(drop=True)"
   ]
  },
  {
   "cell_type": "code",
   "execution_count": null,
   "metadata": {
    "hidden": true
   },
   "outputs": [],
   "source": [
    "df_stem_dens_lep_pivot.dropna(subset=['aps_econ_active_stem_density_data'], inplace=True)"
   ]
  },
  {
   "cell_type": "code",
   "execution_count": null,
   "metadata": {
    "hidden": true
   },
   "outputs": [],
   "source": [
    "#saving pivot table\n",
    "df_stem_dens_lep_pivot.to_csv('../../data/processed/aps/aps_econ_active_stem_density_data.lep.csv', index=False)"
   ]
  },
  {
   "cell_type": "markdown",
   "metadata": {},
   "source": [
    "## (Processed) Data Collection\n",
    "\n",
    "This section includes an example of how to work with the dataset if interested in one year (i.e. 2018)."
   ]
  },
  {
   "cell_type": "code",
   "execution_count": null,
   "metadata": {},
   "outputs": [],
   "source": [
    "data_edu = '../../data/processed/aps/11_11_2019_aps_tertiary_education_data.csv'\n",
    "data_occupations = '../../data/processed/aps/11_11_2019_aps_pro_occupations_data.csv'"
   ]
  },
  {
   "cell_type": "code",
   "execution_count": null,
   "metadata": {},
   "outputs": [],
   "source": [
    "df_edu = pd.read_csv(data_edu)\n",
    "df_edu.set_index('geography_name', inplace=True)\n",
    "df_edu"
   ]
  },
  {
   "cell_type": "code",
   "execution_count": null,
   "metadata": {},
   "outputs": [],
   "source": [
    "df_edu_2018 = df_edu[df_edu['date_code'] == '2018-12']\n",
    "df_edu_2018"
   ]
  },
  {
   "cell_type": "code",
   "execution_count": null,
   "metadata": {},
   "outputs": [],
   "source": [
    "df_edu_2018['% with NVQ4+ - aged 16-64'].sort_values(ascending=True).plot(kind='barh', figsize=(10,8))\n",
    "plt.ylabel('NUTS2 Region', fontsize=12)\n",
    "plt.xlabel('% of NUTS2 Region Population', fontsize=12)\n",
    "plt.title('Percentage of population in NUTS2 regions with NVQ4+: 2018')"
   ]
  },
  {
   "cell_type": "code",
   "execution_count": null,
   "metadata": {},
   "outputs": [],
   "source": [
    "df_occ = pd.read_csv(data_occupations)\n",
    "df_occ.set_index('geography_name', inplace=True)\n",
    "df_occ"
   ]
  },
  {
   "cell_type": "code",
   "execution_count": null,
   "metadata": {},
   "outputs": [],
   "source": [
    "df_occ_2018 = df_occ[df_occ['date_code'] == '2018-12']\n",
    "# df_occ_2018"
   ]
  },
  {
   "cell_type": "code",
   "execution_count": null,
   "metadata": {},
   "outputs": [],
   "source": [
    "df_occ_2018.plot(kind='barh', figsize=(10,8), stacked=True)\n",
    "plt.axvline(x= 100, linestyle='--', color='grey', alpha =0.3)\n",
    "plt.xlabel('% of NUTS2 Region Population')\n",
    "plt.ylabel('NUTS2 Region')\n",
    "plt.title('Percentage of population in NUTS2 regions in given employment categories: 2018')\n",
    "plt.legend(bbox_to_anchor=(1.05, 1.05))"
   ]
  }
 ],
 "metadata": {
  "kernelspec": {
   "display_name": "Python 3",
   "language": "python",
   "name": "python3"
  },
  "language_info": {
   "codemirror_mode": {
    "name": "ipython",
    "version": 3
   },
   "file_extension": ".py",
   "mimetype": "text/x-python",
   "name": "python",
   "nbconvert_exporter": "python",
   "pygments_lexer": "ipython3",
   "version": "3.6.5"
  },
  "toc": {
   "base_numbering": 1,
   "nav_menu": {},
   "number_sections": true,
   "sideBar": true,
   "skip_h1_title": false,
   "title_cell": "Table of Contents",
   "title_sidebar": "Contents",
   "toc_cell": false,
   "toc_position": {},
   "toc_section_display": true,
   "toc_window_display": false
  }
 },
 "nbformat": 4,
 "nbformat_minor": 2
}
