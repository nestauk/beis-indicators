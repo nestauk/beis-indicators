{
 "cells": [
  {
   "cell_type": "markdown",
   "metadata": {},
   "source": [
    "# Eurostat\n",
    "Code to collect and process eurostat data to create the following indicators:\n",
    "\n",
    "* Private sector R&D workforce\n",
    "* Business Enterprise R&D (BERD)\n",
    "* Share if hugh growth firms \n",
    "\n",
    "Raw data collected using the Eurostat API via the `EuroStat API Client` python package (https://pypi.org/project/eurostatapiclient/)."
   ]
  },
  {
   "cell_type": "markdown",
   "metadata": {},
   "source": [
    "## Preamble"
   ]
  },
  {
   "cell_type": "code",
   "execution_count": null,
   "metadata": {},
   "outputs": [],
   "source": [
    "%load_ext autoreload\n",
    "%autoreload 2\n",
    "\n",
    "from eurostatapiclient import EurostatAPIClient\n",
    "\n",
    "import numpy as np\n",
    "import pandas as pd\n",
    "\n",
    "from beis_indicators.geo.nuts import auto_nuts2_uk\n",
    "import beis_indicators.geo.nuts as geo_nuts"
   ]
  },
  {
   "cell_type": "code",
   "execution_count": null,
   "metadata": {},
   "outputs": [],
   "source": [
    "VERSION = 'v2.1'\n",
    "FORMAT = 'json'\n",
    "LANGUAGE = 'en'"
   ]
  },
  {
   "cell_type": "code",
   "execution_count": null,
   "metadata": {},
   "outputs": [],
   "source": [
    "client = EurostatAPIClient(VERSION, FORMAT, LANGUAGE)"
   ]
  },
  {
   "cell_type": "markdown",
   "metadata": {},
   "source": [
    "### Mappings"
   ]
  },
  {
   "cell_type": "code",
   "execution_count": null,
   "metadata": {},
   "outputs": [],
   "source": [
    "#using the eurostat code labels\n",
    "vars_map = {\n",
    "    'EUR_HAB': 'Euro per inhabitant',\n",
    "    'MIO_EUR': 'Million euro',\n",
    "    'FTE': 'Full-time equivalent (FTE)',\n",
    "    'HC': 'Head count', \n",
    "    'PC_ACT_FTE': 'Percentage of active population - numerator in full-time equivalent (FTE)',\n",
    "    'PC_ACT_HC': 'Percentage of active population - numerator in head count (HC)',\n",
    "    'PPS_HAB': 'Purchasing power standard (PPS) per inhabitant'\n",
    "}"
   ]
  },
  {
   "cell_type": "code",
   "execution_count": null,
   "metadata": {},
   "outputs": [],
   "source": [
    "from beis_indicators import project_dir\n",
    "import ast"
   ]
  },
  {
   "cell_type": "code",
   "execution_count": null,
   "metadata": {
    "scrolled": false
   },
   "outputs": [],
   "source": [
    "project_dir\n",
    "with open(f'{project_dir}/data/aux/eurostat_data_queries.txt', 'r') as f:\n",
    "    mylist = ast.literal_eval(f.read())"
   ]
  },
  {
   "cell_type": "markdown",
   "metadata": {},
   "source": [
    "## Data Collection, Processing & Transformation\n",
    "\n",
    "This section is made up with three sections- one for each indicator. Each section is broken down in the following steps:\n",
    "\n",
    "* Use the python package to pull down flattened data by entering using a query & put into a dataframe\n",
    "* Collect the subset for UK NUTS2 regions\n",
    "* Replace the codes with the label associated \n",
    "* Data is transformed into a pivot table to output the desired format"
   ]
  },
  {
   "cell_type": "markdown",
   "metadata": {},
   "source": [
    "### Private sector R&D workforce data"
   ]
  },
  {
   "cell_type": "markdown",
   "metadata": {},
   "source": [
    "#### Head Count"
   ]
  },
  {
   "cell_type": "code",
   "execution_count": null,
   "metadata": {},
   "outputs": [],
   "source": [
    "#pull in data\n",
    "data_priv_nuts2 = client.get_dataset('rd_p_persreg?sinceTimePeriod=2007&geoLevel=nuts2&precision=1&sex=T&sectperf=BES&prof_pos=TOTAL&unit=HC')\n",
    "\n",
    "print(data_priv_nuts2.label)\n",
    "\n",
    "dataframe_priv_nuts2 = data_priv_nuts2.to_dataframe()"
   ]
  },
  {
   "cell_type": "code",
   "execution_count": null,
   "metadata": {},
   "outputs": [],
   "source": [
    "#UK NUTS2 regions subset\n",
    "dataframe_priv_nuts2_uk = dataframe_priv_nuts2[dataframe_priv_nuts2['geo'].str.contains('UK')]"
   ]
  },
  {
   "cell_type": "code",
   "execution_count": null,
   "metadata": {},
   "outputs": [],
   "source": [
    "#mappings\n",
    "dataframe_priv_nuts2_uk['time'] = dataframe_priv_nuts2_uk['time'].astype(int)"
   ]
  },
  {
   "cell_type": "code",
   "execution_count": null,
   "metadata": {},
   "outputs": [],
   "source": [
    "#pivot table\n",
    "d_priv = dataframe_priv_nuts2_uk.pivot_table(index=['geo','time'],\n",
    "               columns = 'unit',\n",
    "               values = 'values').reset_index().set_index('geo')"
   ]
  },
  {
   "cell_type": "code",
   "execution_count": null,
   "metadata": {},
   "outputs": [],
   "source": [
    "d_priv['HC'] = pd.to_numeric(d_priv['HC'], downcast='integer')"
   ]
  },
  {
   "cell_type": "code",
   "execution_count": null,
   "metadata": {},
   "outputs": [],
   "source": [
    "d_priv.columns"
   ]
  },
  {
   "cell_type": "code",
   "execution_count": null,
   "metadata": {},
   "outputs": [],
   "source": [
    "d_priv.reset_index(inplace=True)\n",
    "d_priv.columns = ['nuts_id', 'year', 'eurostat_private_rd_headcount_workforce_data']\n",
    "d_priv = auto_nuts2_uk(d_priv)"
   ]
  },
  {
   "cell_type": "code",
   "execution_count": null,
   "metadata": {},
   "outputs": [],
   "source": [
    "d_priv = d_priv[['year','nuts_id', 'nuts_year_spec', 'eurostat_private_rd_headcount_workforce_data']]"
   ]
  },
  {
   "cell_type": "code",
   "execution_count": null,
   "metadata": {},
   "outputs": [],
   "source": [
    "#save data\n",
    "d_priv.to_csv('../../data/processed/eurostat/eurostat_private_rd_headcount_workforce_data.nuts2.csv',index=False)"
   ]
  },
  {
   "cell_type": "markdown",
   "metadata": {},
   "source": [
    "#### Full Time Equivalent (FTE)"
   ]
  },
  {
   "cell_type": "code",
   "execution_count": null,
   "metadata": {},
   "outputs": [],
   "source": [
    "#pull in data\n",
    "data_priv_nuts2 = client.get_dataset('rd_p_persreg?sinceTimePeriod=2007&geoLevel=nuts2&precision=6&sex=T&sectperf=BES&prof_pos=TOTAL&unit=FTE')\n",
    "\n",
    "print(data_priv_nuts2.label)\n",
    "\n",
    "dataframe_priv_nuts2 = data_priv_nuts2.to_dataframe()"
   ]
  },
  {
   "cell_type": "code",
   "execution_count": null,
   "metadata": {},
   "outputs": [],
   "source": [
    "#UK NUTS2 regions subset\n",
    "dataframe_priv_nuts2_uk = dataframe_priv_nuts2[dataframe_priv_nuts2['geo'].str.contains('UK')]"
   ]
  },
  {
   "cell_type": "code",
   "execution_count": null,
   "metadata": {},
   "outputs": [],
   "source": [
    "#mappings\n",
    "dataframe_priv_nuts2_uk['time'] = dataframe_priv_nuts2_uk['time'].astype(int)"
   ]
  },
  {
   "cell_type": "code",
   "execution_count": null,
   "metadata": {},
   "outputs": [],
   "source": [
    "#pivot table\n",
    "d_priv = dataframe_priv_nuts2_uk.pivot_table(index=['geo','time'],\n",
    "               columns = 'unit',\n",
    "               values = 'values').reset_index().set_index('geo')"
   ]
  },
  {
   "cell_type": "code",
   "execution_count": null,
   "metadata": {},
   "outputs": [],
   "source": [
    "d_priv.columns"
   ]
  },
  {
   "cell_type": "code",
   "execution_count": null,
   "metadata": {},
   "outputs": [],
   "source": [
    "d_priv.reset_index(inplace=True)\n",
    "d_priv.columns = ['nuts_id', 'year', 'eurostat_private_rd_fte_workforce_data']\n",
    "d_priv = auto_nuts2_uk(d_priv)"
   ]
  },
  {
   "cell_type": "code",
   "execution_count": null,
   "metadata": {},
   "outputs": [],
   "source": [
    "d_priv = d_priv[['year','nuts_id', 'nuts_year_spec', 'eurostat_private_rd_fte_workforce_data']]"
   ]
  },
  {
   "cell_type": "code",
   "execution_count": null,
   "metadata": {},
   "outputs": [],
   "source": [
    "#save data\n",
    "d_priv.to_csv('../../data/processed/eurostat/eurostat_private_rd_fte_workforce_data.nuts2.csv', index=False)"
   ]
  },
  {
   "cell_type": "markdown",
   "metadata": {},
   "source": [
    "### Business Enterprise R&D (BERD) data"
   ]
  },
  {
   "cell_type": "code",
   "execution_count": null,
   "metadata": {},
   "outputs": [],
   "source": [
    "#pull in data\n",
    "data_berd_nuts2 = client.get_dataset('rd_e_gerdreg?sinceTimePeriod=2007&geoLevel=nuts2&precision=6&sectperf=BES&unit=MIO_EUR')\n",
    "\n",
    "print(data_berd_nuts2.label)\n",
    "\n",
    "dataframe_berd_nuts2 = data_berd_nuts2.to_dataframe()"
   ]
  },
  {
   "cell_type": "code",
   "execution_count": null,
   "metadata": {},
   "outputs": [],
   "source": [
    "#UK NUTS2 regions subset\n",
    "dataframe_berd_nuts2_uk = dataframe_berd_nuts2[dataframe_berd_nuts2['geo'].str.contains('UK')]"
   ]
  },
  {
   "cell_type": "code",
   "execution_count": null,
   "metadata": {},
   "outputs": [],
   "source": [
    "#mappings\n",
    "dataframe_berd_nuts2_uk['time'] = dataframe_berd_nuts2_uk['time'].astype(int)"
   ]
  },
  {
   "cell_type": "code",
   "execution_count": null,
   "metadata": {},
   "outputs": [],
   "source": [
    "#pivot table\n",
    "d_berd = dataframe_berd_nuts2_uk.pivot_table(index=['geo','time'],\n",
    "               columns = 'unit',\n",
    "               values = 'values').reset_index().set_index('geo')"
   ]
  },
  {
   "cell_type": "code",
   "execution_count": null,
   "metadata": {},
   "outputs": [],
   "source": [
    "d_berd['euros'] = d_berd['MIO_EUR'] * 1000000.00\n",
    "d_berd.drop(columns=['MIO_EUR'], inplace=True)"
   ]
  },
  {
   "cell_type": "code",
   "execution_count": null,
   "metadata": {},
   "outputs": [],
   "source": [
    "d_berd.columns"
   ]
  },
  {
   "cell_type": "code",
   "execution_count": null,
   "metadata": {},
   "outputs": [],
   "source": [
    "d_berd.reset_index(inplace=True)\n",
    "d_berd.columns = ['nuts_id', 'year', 'eurostat_berd_data']\n",
    "d_berd = auto_nuts2_uk(d_berd)"
   ]
  },
  {
   "cell_type": "code",
   "execution_count": null,
   "metadata": {},
   "outputs": [],
   "source": [
    "d_berd = d_berd[['year','nuts_id', 'nuts_year_spec', 'eurostat_berd_data']]"
   ]
  },
  {
   "cell_type": "code",
   "execution_count": null,
   "metadata": {},
   "outputs": [],
   "source": [
    "#save data\n",
    "d_berd.to_csv('../../data/processed/eurostat/eurostat_berd_data.nuts2.csv',index=False)"
   ]
  },
  {
   "cell_type": "markdown",
   "metadata": {},
   "source": [
    "### Private non-profit (PNPERD) data"
   ]
  },
  {
   "cell_type": "code",
   "execution_count": null,
   "metadata": {},
   "outputs": [],
   "source": [
    "#pull in data\n",
    "data_pnpberd_nuts2 = client.get_dataset('rd_e_gerdreg?sinceTimePeriod=2007&geoLevel=nuts2&precision=6&sectperf=PNP&unit=MIO_EUR')\n",
    "\n",
    "print(data_pnpberd_nuts2.label)\n",
    "\n",
    "df_pnpberd_nuts2 = data_pnpberd_nuts2.to_dataframe()"
   ]
  },
  {
   "cell_type": "code",
   "execution_count": null,
   "metadata": {},
   "outputs": [],
   "source": [
    "#UK NUTS2 regions subset\n",
    "df_pnpberd_nuts2_uk = df_pnpberd_nuts2[df_pnpberd_nuts2['geo'].str.contains('UK')]"
   ]
  },
  {
   "cell_type": "code",
   "execution_count": null,
   "metadata": {},
   "outputs": [],
   "source": [
    "#mappings\n",
    "df_pnpberd_nuts2_uk['time'] = df_pnpberd_nuts2_uk['time'].astype(int)"
   ]
  },
  {
   "cell_type": "code",
   "execution_count": null,
   "metadata": {},
   "outputs": [],
   "source": [
    "d_pnpberd = df_pnpberd_nuts2_uk.pivot_table(index=['geo','time'],\n",
    "               columns = 'unit',\n",
    "               values = 'values').reset_index().set_index('geo')"
   ]
  },
  {
   "cell_type": "code",
   "execution_count": null,
   "metadata": {},
   "outputs": [],
   "source": [
    "d_pnpberd['euros'] = d_pnpberd['MIO_EUR'] * 1000000.00\n",
    "d_pnpberd.drop(columns=['MIO_EUR'], inplace=True)"
   ]
  },
  {
   "cell_type": "code",
   "execution_count": null,
   "metadata": {},
   "outputs": [],
   "source": [
    "d_pnpberd.columns"
   ]
  },
  {
   "cell_type": "code",
   "execution_count": null,
   "metadata": {},
   "outputs": [],
   "source": [
    "d_pnpberd.reset_index(inplace=True)\n",
    "d_pnpberd.columns = ['nuts_id', 'year', 'eurostat_private_non_profit_rd_workforce_data']\n",
    "d_pnpberd = auto_nuts2_uk(d_pnpberd)"
   ]
  },
  {
   "cell_type": "code",
   "execution_count": null,
   "metadata": {},
   "outputs": [],
   "source": [
    "d_pnpberd = d_pnpberd[['year','nuts_id', 'nuts_year_spec', 'eurostat_private_non_profit_rd_workforce_data']]"
   ]
  },
  {
   "cell_type": "code",
   "execution_count": null,
   "metadata": {},
   "outputs": [],
   "source": [
    "d_pnpberd.to_csv('../../data/processed/eurostat/eurostat_private_non_profit_rd_workforce_data.nuts2.csv', index=False)"
   ]
  },
  {
   "cell_type": "markdown",
   "metadata": {},
   "source": [
    "### Higher Education Performed R&D expenditure (HERD)"
   ]
  },
  {
   "cell_type": "code",
   "execution_count": null,
   "metadata": {},
   "outputs": [],
   "source": [
    "#pull in data\n",
    "data_herd_nuts2 = client.get_dataset('rd_e_gerdreg?sinceTimePeriod=2007&geoLevel=nuts2&precision=6&sectperf=HES&unit=MIO_EUR')\n",
    "\n",
    "print(data_herd_nuts2.label)\n",
    "\n",
    "df_herd_nuts2 = data_herd_nuts2.to_dataframe()"
   ]
  },
  {
   "cell_type": "code",
   "execution_count": null,
   "metadata": {},
   "outputs": [],
   "source": [
    "#UK NUTS2 regions subset\n",
    "df_herd_nuts2_uk = df_herd_nuts2[df_herd_nuts2['geo'].str.contains('UK')]"
   ]
  },
  {
   "cell_type": "code",
   "execution_count": null,
   "metadata": {},
   "outputs": [],
   "source": [
    "#mappings\n",
    "df_herd_nuts2_uk['time'] = df_herd_nuts2_uk['time'].astype(int)"
   ]
  },
  {
   "cell_type": "code",
   "execution_count": null,
   "metadata": {},
   "outputs": [],
   "source": [
    "d_herd = df_herd_nuts2_uk.pivot_table(index=['geo','time'],\n",
    "               columns = 'unit',\n",
    "               values = 'values').reset_index().set_index('geo')"
   ]
  },
  {
   "cell_type": "code",
   "execution_count": null,
   "metadata": {},
   "outputs": [],
   "source": [
    "d_herd['euros'] = d_herd['MIO_EUR'] * 1000000.00\n",
    "d_herd.drop(columns=['MIO_EUR'], inplace=True)"
   ]
  },
  {
   "cell_type": "code",
   "execution_count": null,
   "metadata": {},
   "outputs": [],
   "source": [
    "d_herd.columns"
   ]
  },
  {
   "cell_type": "code",
   "execution_count": null,
   "metadata": {},
   "outputs": [],
   "source": [
    "d_herd.reset_index(inplace=True)\n",
    "d_herd.columns = ['nuts_id', 'year', 'eurostat_higher_ed_rd_workforce_data']\n",
    "d_herd = auto_nuts2_uk(d_herd)"
   ]
  },
  {
   "cell_type": "code",
   "execution_count": null,
   "metadata": {},
   "outputs": [],
   "source": [
    "d_herd = d_herd[['year','nuts_id', 'nuts_year_spec', 'eurostat_higher_ed_rd_workforce_data']]"
   ]
  },
  {
   "cell_type": "code",
   "execution_count": null,
   "metadata": {},
   "outputs": [],
   "source": [
    "d_herd.to_csv('../../data/processed/eurostat/eurostat_higher_ed_rd_workforce_data.nuts2.csv',index=False)"
   ]
  },
  {
   "cell_type": "markdown",
   "metadata": {},
   "source": [
    "### Government Performed R&D Expenditure (GovERD)"
   ]
  },
  {
   "cell_type": "code",
   "execution_count": null,
   "metadata": {},
   "outputs": [],
   "source": [
    "#pull in data\n",
    "data_goverd_nuts2 = client.get_dataset('rd_e_gerdreg?sinceTimePeriod=2007&geoLevel=nuts2&precision=2&sectperf=GOV&unit=MIO_EUR')\n",
    "\n",
    "print(data_goverd_nuts2.label)\n",
    "\n",
    "df_goverd_nuts2 = data_goverd_nuts2.to_dataframe()"
   ]
  },
  {
   "cell_type": "code",
   "execution_count": null,
   "metadata": {},
   "outputs": [],
   "source": [
    "#UK NUTS2 regions subset\n",
    "df_goverd_nuts2_uk = df_goverd_nuts2[df_goverd_nuts2['geo'].str.contains('UK')]"
   ]
  },
  {
   "cell_type": "code",
   "execution_count": null,
   "metadata": {},
   "outputs": [],
   "source": [
    "#mappings\n",
    "df_goverd_nuts2_uk['time'] = df_goverd_nuts2_uk['time'].astype(int)"
   ]
  },
  {
   "cell_type": "code",
   "execution_count": null,
   "metadata": {},
   "outputs": [],
   "source": [
    "d_goverd = df_goverd_nuts2_uk.pivot_table(index=['geo','time'],\n",
    "               columns = 'unit',\n",
    "               values = 'values').reset_index().set_index('geo')"
   ]
  },
  {
   "cell_type": "code",
   "execution_count": null,
   "metadata": {},
   "outputs": [],
   "source": [
    "d_goverd['euros'] = d_goverd['MIO_EUR'] * 1000000.00\n",
    "d_goverd.drop(columns=['MIO_EUR'], inplace=True)"
   ]
  },
  {
   "cell_type": "code",
   "execution_count": null,
   "metadata": {},
   "outputs": [],
   "source": [
    "d_goverd.columns"
   ]
  },
  {
   "cell_type": "code",
   "execution_count": null,
   "metadata": {},
   "outputs": [],
   "source": [
    "d_goverd.reset_index(inplace=True)\n",
    "d_goverd.columns = ['nuts_id', 'year', 'eurostat_gov_rd_workforce_data']\n",
    "d_goverd = auto_nuts2_uk(d_goverd)"
   ]
  },
  {
   "cell_type": "code",
   "execution_count": null,
   "metadata": {},
   "outputs": [],
   "source": [
    "d_goverd = d_goverd[['year','nuts_id', 'nuts_year_spec', 'eurostat_gov_rd_workforce_data']]"
   ]
  },
  {
   "cell_type": "code",
   "execution_count": null,
   "metadata": {},
   "outputs": [],
   "source": [
    "d_goverd.to_csv('../../data/processed/eurostat/eurostat_gov_rd_workforce_data.nuts2.csv', index=False)"
   ]
  },
  {
   "cell_type": "markdown",
   "metadata": {},
   "source": [
    "### Private Household Income"
   ]
  },
  {
   "cell_type": "code",
   "execution_count": null,
   "metadata": {},
   "outputs": [],
   "source": [
    "data_house_nuts2 = client.get_dataset('tgs00036?sinceTimePeriod=2007&precision=2&unit=PPS_HAB')\n",
    "\n",
    "print(data_house_nuts2.label)\n",
    "\n",
    "data_house_nuts2 = data_house_nuts2.to_dataframe()"
   ]
  },
  {
   "cell_type": "code",
   "execution_count": null,
   "metadata": {},
   "outputs": [],
   "source": [
    "# data_house_nuts2"
   ]
  },
  {
   "cell_type": "code",
   "execution_count": null,
   "metadata": {},
   "outputs": [],
   "source": [
    "#UK NUTS2 regions subset\n",
    "data_house_nuts2_uk = data_house_nuts2[data_house_nuts2['geo'].str.contains('UK')]"
   ]
  },
  {
   "cell_type": "code",
   "execution_count": null,
   "metadata": {},
   "outputs": [],
   "source": [
    "#mappings\n",
    "data_house_nuts2_uk['time'] = data_house_nuts2_uk['time'].astype(int)"
   ]
  },
  {
   "cell_type": "code",
   "execution_count": null,
   "metadata": {},
   "outputs": [],
   "source": [
    "# data_house_nuts2_uk"
   ]
  },
  {
   "cell_type": "code",
   "execution_count": null,
   "metadata": {},
   "outputs": [],
   "source": [
    "d_house = data_house_nuts2_uk.pivot_table(index=['geo','time'],\n",
    "               columns = 'unit',\n",
    "               values = 'values').reset_index().set_index('geo')"
   ]
  },
  {
   "cell_type": "code",
   "execution_count": null,
   "metadata": {},
   "outputs": [],
   "source": [
    "d_house['PPS_HAB'] = d_house['PPS_HAB'].round(2)"
   ]
  },
  {
   "cell_type": "code",
   "execution_count": null,
   "metadata": {
    "scrolled": true
   },
   "outputs": [],
   "source": [
    "d_house.columns"
   ]
  },
  {
   "cell_type": "code",
   "execution_count": null,
   "metadata": {},
   "outputs": [],
   "source": [
    "d_house.reset_index(inplace=True)\n",
    "d_house.columns = ['nuts_id', 'year', 'eurostat_private_households_income']\n",
    "d_house = auto_nuts2_uk(d_house)"
   ]
  },
  {
   "cell_type": "code",
   "execution_count": null,
   "metadata": {
    "scrolled": true
   },
   "outputs": [],
   "source": [
    "d_house = d_house[['year','nuts_id', 'nuts_year_spec', 'eurostat_private_households_income']]"
   ]
  },
  {
   "cell_type": "code",
   "execution_count": null,
   "metadata": {},
   "outputs": [],
   "source": [
    "d_house.to_csv('../../data/processed/eurostat/eurostat_private_households_income.nuts2.csv', index=False)"
   ]
  },
  {
   "cell_type": "markdown",
   "metadata": {
    "heading_collapsed": true
   },
   "source": [
    "### Share of high growth firms"
   ]
  },
  {
   "cell_type": "code",
   "execution_count": null,
   "metadata": {
    "hidden": true
   },
   "outputs": [],
   "source": [
    "#pull in data\n",
    "data_share_nuts2 = client.get_dataset('bd_hgnace2_r3?sinceTimePeriod=2007&geoLevel=nuts2&precision=1&indic_sb=V97460&nace_r2=B-E&nace_r2=B-S_X_K642&nace_r2=F&nace_r2=G&nace_r2=H&nace_r2=I&nace_r2=J&nace_r2=K_L_X_K642&nace_r2=M_N&nace_r2=P_Q&nace_r2=R_S')\n",
    "\n",
    "print(data_share_nuts2.label)\n",
    "\n",
    "dataframe_share_nuts2 = data_share_nuts2.to_dataframe()"
   ]
  },
  {
   "cell_type": "code",
   "execution_count": null,
   "metadata": {
    "hidden": true
   },
   "outputs": [],
   "source": [
    "dataframe_share_nuts2[dataframe_share_nuts2['geo'] == 'UKK1']"
   ]
  },
  {
   "cell_type": "code",
   "execution_count": null,
   "metadata": {
    "hidden": true
   },
   "outputs": [],
   "source": [
    "#UK NUTS2 regions subset\n",
    "\n",
    "dataframe_share_nuts2_uk = dataframe_share_nuts2[dataframe_share_nuts2['geo'].str.contains('UK')]"
   ]
  },
  {
   "cell_type": "code",
   "execution_count": null,
   "metadata": {
    "hidden": true
   },
   "outputs": [],
   "source": [
    "dataframe_share_nuts2_uk"
   ]
  },
  {
   "cell_type": "code",
   "execution_count": null,
   "metadata": {
    "hidden": true
   },
   "outputs": [],
   "source": [
    "dataframe_share_nuts2_uk.pivot_table(index=['geo','time'],\n",
    "               columns = 'indic_sb',\n",
    "               values = 'values')"
   ]
  },
  {
   "cell_type": "markdown",
   "metadata": {
    "hidden": true
   },
   "source": [
    "Note: Does not seem to be UK NUTS2 values for this dataset"
   ]
  },
  {
   "cell_type": "markdown",
   "metadata": {},
   "source": [
    "### GDP per capita"
   ]
  },
  {
   "cell_type": "code",
   "execution_count": null,
   "metadata": {},
   "outputs": [],
   "source": [
    "#pull in data\n",
    "data_gdp_nuts2 = client.get_dataset('tgs00004')\n",
    "# TGS00004\n",
    "print(data_gdp_nuts2.label)\n",
    "\n",
    "dataframe_gdp_nuts2 = data_gdp_nuts2.to_dataframe()"
   ]
  },
  {
   "cell_type": "code",
   "execution_count": null,
   "metadata": {},
   "outputs": [],
   "source": [
    "#UK NUTS2 regions subset\n",
    "dataframe_gdp_nuts2_uk = dataframe_gdp_nuts2[dataframe_gdp_nuts2['geo'].str.contains('UK')]"
   ]
  },
  {
   "cell_type": "code",
   "execution_count": null,
   "metadata": {},
   "outputs": [],
   "source": [
    "#mappings\n",
    "dataframe_gdp_nuts2_uk['time'] = dataframe_gdp_nuts2_uk['time'].astype(int)"
   ]
  },
  {
   "cell_type": "code",
   "execution_count": null,
   "metadata": {},
   "outputs": [],
   "source": [
    "dataframe_gdp_nuts2_uk"
   ]
  },
  {
   "cell_type": "code",
   "execution_count": null,
   "metadata": {
    "scrolled": true
   },
   "outputs": [],
   "source": [
    "d_gdp = dataframe_gdp_nuts2_uk.pivot_table(index=['geo','time'],\n",
    "               columns = 'unit',\n",
    "               values = 'values').reset_index().set_index('geo')"
   ]
  },
  {
   "cell_type": "code",
   "execution_count": null,
   "metadata": {},
   "outputs": [],
   "source": [
    "d_gdp['euros'] = (d_gdp['MIO_PPS'] *1e6)"
   ]
  },
  {
   "cell_type": "code",
   "execution_count": null,
   "metadata": {},
   "outputs": [],
   "source": [
    "del d_gdp['MIO_PPS']"
   ]
  },
  {
   "cell_type": "code",
   "execution_count": null,
   "metadata": {},
   "outputs": [],
   "source": [
    "d_gdp.columns"
   ]
  },
  {
   "cell_type": "code",
   "execution_count": null,
   "metadata": {},
   "outputs": [],
   "source": [
    "d_gdp.reset_index(inplace=True)\n",
    "d_gdp.columns = ['nuts_id', 'year', 'eurostat_gdp_per_capita']\n",
    "d_gdp = auto_nuts2_uk(d_gdp)"
   ]
  },
  {
   "cell_type": "code",
   "execution_count": null,
   "metadata": {},
   "outputs": [],
   "source": [
    "d_gdp = d_gdp[['year','nuts_id', 'nuts_year_spec', 'eurostat_gdp_per_capita']]"
   ]
  },
  {
   "cell_type": "code",
   "execution_count": null,
   "metadata": {},
   "outputs": [],
   "source": [
    "d_gdp.loc[503]['eurostat_gdp_per_capita']"
   ]
  },
  {
   "cell_type": "code",
   "execution_count": null,
   "metadata": {},
   "outputs": [],
   "source": [
    "d_gdp.to_csv('../../data/processed/eurostat/eurostat_gdp_per_capita.nuts2.csv', index=False)"
   ]
  }
 ],
 "metadata": {
  "kernelspec": {
   "display_name": "Python 3",
   "language": "python",
   "name": "python3"
  },
  "language_info": {
   "codemirror_mode": {
    "name": "ipython",
    "version": 3
   },
   "file_extension": ".py",
   "mimetype": "text/x-python",
   "name": "python",
   "nbconvert_exporter": "python",
   "pygments_lexer": "ipython3",
   "version": "3.6.5"
  },
  "toc": {
   "base_numbering": 1,
   "nav_menu": {},
   "number_sections": true,
   "sideBar": true,
   "skip_h1_title": false,
   "title_cell": "Table of Contents",
   "title_sidebar": "Contents",
   "toc_cell": false,
   "toc_position": {},
   "toc_section_display": true,
   "toc_window_display": false
  }
 },
 "nbformat": 4,
 "nbformat_minor": 2
}
