{
 "cells": [
  {
   "cell_type": "code",
   "execution_count": null,
   "metadata": {},
   "outputs": [],
   "source": [
    "%load_ext autoreload\n",
    "%autoreload 2"
   ]
  },
  {
   "cell_type": "code",
   "execution_count": null,
   "metadata": {
    "scrolled": true
   },
   "outputs": [],
   "source": [
    "%run ../notebook_preamble.ipy"
   ]
  },
  {
   "cell_type": "code",
   "execution_count": null,
   "metadata": {},
   "outputs": [],
   "source": [
    "import geopandas as gpd\n",
    "import camelot"
   ]
  },
  {
   "cell_type": "code",
   "execution_count": null,
   "metadata": {},
   "outputs": [],
   "source": [
    "import os\n",
    "# import camelot"
   ]
  },
  {
   "cell_type": "code",
   "execution_count": null,
   "metadata": {},
   "outputs": [],
   "source": [
    "from urllib.request import urlretrieve\n",
    "from zipfile import ZipFile\n",
    "from beis_indicators import project_dir"
   ]
  },
  {
   "cell_type": "code",
   "execution_count": null,
   "metadata": {},
   "outputs": [],
   "source": [
    "from beis_indicators.geo.coders import NutsCoder, LepCoder\n",
    "from beis_indicators.geo.nuts import auto_nuts2_uk\n",
    "from beis_indicators.indicators import points_to_indicator, save_indicator"
   ]
  },
  {
   "cell_type": "code",
   "execution_count": null,
   "metadata": {},
   "outputs": [],
   "source": [
    "# lsoa_shp_01 = gpd.read_file('../../data/raw/Lower_Layer_Super_Output_Areas__December_2001__EW_BGC-shp/Lower_Layer_Super_Output_Areas__December_2001__EW_BGC.shp')\n",
    "# lsoa_shp_11 = gpd.read_file('../../data/raw/Lower_Layer_Super_Output_Areas__December_2011__Boundaries_EW_BGC_v3-shp/Lower_Layer_Super_Output_Areas__December_2011__Boundaries_EW_BGC_v3.shp')"
   ]
  },
  {
   "cell_type": "code",
   "execution_count": null,
   "metadata": {},
   "outputs": [],
   "source": [
    "# LSOA to lon/lat\n",
    "lsoa_shp_geo_01 = lsoa_shp_01.to_crs(epsg=4326)\n",
    "lsoa_shp_geo_11 = lsoa_shp_11.to_crs(epsg=4326)"
   ]
  },
  {
   "cell_type": "code",
   "execution_count": null,
   "metadata": {
    "scrolled": true
   },
   "outputs": [],
   "source": [
    "lsoa_shp_geo_11.head(2)"
   ]
  },
  {
   "cell_type": "code",
   "execution_count": null,
   "metadata": {},
   "outputs": [],
   "source": [
    "# print(lsoa_shp_geo.iloc[0].geometry.centroid.x, lsoa_shp_geo.iloc[0].geometry.centroid.y)\n",
    "\n",
    "lsoa_shp_geo_01['lon'] = lsoa_shp_geo_01.geometry.apply(lambda i: i.centroid.x)\n",
    "lsoa_shp_geo_01['lat'] = lsoa_shp_geo_01.geometry.apply(lambda i: i.centroid.y)\n",
    "\n",
    "lsoa_shp_geo_11['lon'] = lsoa_shp_geo_11.geometry.apply(lambda i: i.centroid.x)\n",
    "lsoa_shp_geo_11['lat'] = lsoa_shp_geo_11.geometry.apply(lambda i: i.centroid.y)"
   ]
  },
  {
   "cell_type": "code",
   "execution_count": null,
   "metadata": {},
   "outputs": [],
   "source": [
    "lsoa_shp_geo_re_01 = lsoa_shp_geo_01.rename(columns={'LSOA01CD':'LSOA_code'})\n",
    "lsoa_shp_geo_re_11 = lsoa_shp_geo_11.rename(columns={'LSOA11CD':'LSOA_code'})"
   ]
  },
  {
   "cell_type": "markdown",
   "metadata": {},
   "source": [
    "2011 data (England and Wales) uses 2001 LSOA data <br />\n",
    "2013 data (England only) uses 2011 LSOA data\n",
    "\n",
    "- Read more here: http://data.dft.gov.uk.s3.amazonaws.com/connectivity-data/Brief-guide-to-connectivity-travel-time-data_v2.pdf"
   ]
  },
  {
   "cell_type": "markdown",
   "metadata": {
    "heading_collapsed": true
   },
   "source": [
    "## Road Junctions"
   ]
  },
  {
   "cell_type": "markdown",
   "metadata": {
    "hidden": true
   },
   "source": [
    "Method: Averaging time over the nearest 5 road junctions \n",
    "\n",
    "Time of day: AM\n",
    "\n",
    "Mode of transport: Car"
   ]
  },
  {
   "cell_type": "code",
   "execution_count": null,
   "metadata": {
    "hidden": true
   },
   "outputs": [],
   "source": [
    "#2011 data\n",
    "df_road = pd.read_csv('../../data/raw/travel/Road-junctions-travel-times/Junctions_HW_AM.csv')\n",
    "#2013 data\n",
    "df_road_13 = pd.read_csv('../../data/raw/travel/2013_Junctions_HW_AM.csv')"
   ]
  },
  {
   "cell_type": "code",
   "execution_count": null,
   "metadata": {
    "hidden": true
   },
   "outputs": [],
   "source": [
    "print(len(df_road))\n",
    "print(len(df_road_13))"
   ]
  },
  {
   "cell_type": "code",
   "execution_count": null,
   "metadata": {
    "hidden": true
   },
   "outputs": [],
   "source": [
    "df_road['NearOrder']"
   ]
  },
  {
   "cell_type": "code",
   "execution_count": null,
   "metadata": {
    "hidden": true
   },
   "outputs": [],
   "source": [
    "df_road_filter = df_road[df_road['NearOrder'] <= 4]\n",
    "df_road_filter_13 = df_road_13[df_road_13['NearOrder'] <= 4]"
   ]
  },
  {
   "cell_type": "code",
   "execution_count": null,
   "metadata": {
    "hidden": true
   },
   "outputs": [],
   "source": [
    "len(df_road_filter)\n",
    "len(df_road_filter_13)"
   ]
  },
  {
   "cell_type": "code",
   "execution_count": null,
   "metadata": {
    "hidden": true
   },
   "outputs": [],
   "source": [
    "df_road_filter.reset_index(inplace=True, drop=True)\n",
    "df_road_filter_13.reset_index(inplace=True, drop=True)"
   ]
  },
  {
   "cell_type": "code",
   "execution_count": null,
   "metadata": {
    "hidden": true
   },
   "outputs": [],
   "source": [
    "df_road_lat_lon = df_road_filter.merge(lsoa_shp_geo_re_01, on='LSOA_code', how='left')#\n",
    "df_road_lat_lon_13 = df_road_filter_13.merge(lsoa_shp_geo_re_11, on='LSOA_code', how='left')"
   ]
  },
  {
   "cell_type": "code",
   "execution_count": null,
   "metadata": {
    "hidden": true
   },
   "outputs": [],
   "source": [
    "df_road_lat_lon = df_road_lat_lon[['LSOA_code', 'RepTime', 'Percentage Services', 'uid', 'NearOrder', 'lon', 'lat']]\n",
    "df_road_lat_lon_13 = df_road_lat_lon_13[['LSOA_code', 'RepTime', 'Percentage Services', 'UID', 'NearOrder', 'lon', 'lat']]\n",
    "df_road_lat_lon_13.columns = ['LSOA_code', 'RepTime', 'Percentage Services', 'uid', 'NearOrder', 'lon', 'lat']"
   ]
  },
  {
   "cell_type": "code",
   "execution_count": null,
   "metadata": {
    "hidden": true
   },
   "outputs": [],
   "source": [
    "df_road_lat_lon['year'] = 2011\n",
    "df_road_lat_lon_13['year'] = 2013"
   ]
  },
  {
   "cell_type": "code",
   "execution_count": null,
   "metadata": {
    "hidden": true
   },
   "outputs": [],
   "source": [
    "df_road_latlon_11_13 = pd.concat([df_road_lat_lon, df_road_lat_lon_13]).reset_index(drop=True)"
   ]
  },
  {
   "cell_type": "markdown",
   "metadata": {
    "hidden": true
   },
   "source": [
    "### NUTS 2"
   ]
  },
  {
   "cell_type": "code",
   "execution_count": null,
   "metadata": {
    "hidden": true
   },
   "outputs": [],
   "source": [
    "df_road_nuts2 = points_to_indicator(df_road_latlon_11_13, value_col='RepTime', coder=NutsCoder(level=2),\n",
    "                    aggfunc=np.mean, value_rename='travel_to_road_junctions_average_time',\n",
    "                    projection='EPSG:4326', x_col='lon', y_col='lat')"
   ]
  },
  {
   "cell_type": "code",
   "execution_count": null,
   "metadata": {
    "hidden": true
   },
   "outputs": [],
   "source": [
    "df_road_nuts2 = df_road_nuts2.sort_values(by='nuts_id')"
   ]
  },
  {
   "cell_type": "code",
   "execution_count": null,
   "metadata": {
    "hidden": true
   },
   "outputs": [],
   "source": [
    "df_road_nuts2.to_csv('../../data/processed/travel/travel_to_road_junctions_average_time.nuts2.csv', index=False)"
   ]
  },
  {
   "cell_type": "markdown",
   "metadata": {
    "hidden": true
   },
   "source": [
    "### NUTS 3"
   ]
  },
  {
   "cell_type": "code",
   "execution_count": null,
   "metadata": {
    "hidden": true
   },
   "outputs": [],
   "source": [
    "df_road_nuts3 = points_to_indicator(df_road_latlon_11_13, value_col='RepTime', coder=NutsCoder(level=3),\n",
    "                    aggfunc=np.mean, value_rename='travel_to_road_junctions_average_time',\n",
    "                    projection='EPSG:4326', x_col='lon', y_col='lat')"
   ]
  },
  {
   "cell_type": "code",
   "execution_count": null,
   "metadata": {
    "hidden": true
   },
   "outputs": [],
   "source": [
    "df_road_nuts3 = df_road_nuts3.sort_values(by='nuts_id')"
   ]
  },
  {
   "cell_type": "code",
   "execution_count": null,
   "metadata": {
    "hidden": true
   },
   "outputs": [],
   "source": [
    "df_road_nuts3.to_csv('../../data/processed/travel/travel_to_road_junctions_average_time.nuts3.csv', index=False)"
   ]
  },
  {
   "cell_type": "markdown",
   "metadata": {
    "heading_collapsed": true,
    "hidden": true
   },
   "source": [
    "### LEP"
   ]
  },
  {
   "cell_type": "code",
   "execution_count": null,
   "metadata": {
    "hidden": true,
    "scrolled": true
   },
   "outputs": [],
   "source": [
    "df_road_lep = points_to_indicator(df_road_latlon_11_13, value_col='RepTime', coder=LepCoder(),\n",
    "                    aggfunc=np.mean, value_rename='travel_to_road_junctions_average_time',\n",
    "                    projection='EPSG:4326', x_col='lon', y_col='lat')"
   ]
  },
  {
   "cell_type": "code",
   "execution_count": null,
   "metadata": {
    "hidden": true
   },
   "outputs": [],
   "source": [
    "df_road_lep = df_road_lep.sort_values(by='lep_id')"
   ]
  },
  {
   "cell_type": "code",
   "execution_count": null,
   "metadata": {
    "hidden": true
   },
   "outputs": [],
   "source": [
    "df_road_lep.to_csv('../../data/processed/travel/travel_to_road_junctions_average_time.lep.csv', index=False)"
   ]
  },
  {
   "cell_type": "markdown",
   "metadata": {},
   "source": [
    "## Airport"
   ]
  },
  {
   "cell_type": "markdown",
   "metadata": {},
   "source": [
    "Method: Closest airport \n",
    "\n",
    "Time of Day: AM\n",
    "\n",
    "Mode of transport: Car"
   ]
  },
  {
   "cell_type": "code",
   "execution_count": null,
   "metadata": {},
   "outputs": [],
   "source": [
    "df_air_11 = pd.read_csv('../../data/raw/travel/Airports-travel-times/Airports_HW_AM.csv')\n",
    "df_air_13 = pd.read_csv('../../data/raw/travel/2013_Airports_HW_AM.csv')"
   ]
  },
  {
   "cell_type": "code",
   "execution_count": null,
   "metadata": {},
   "outputs": [],
   "source": [
    "df_air_filter_11 = df_air_11[df_air_11['NearOrder'] <= 0]\n",
    "df_air_filter_13 = df_air_13[df_air_13['NearOrder'] <= 0]"
   ]
  },
  {
   "cell_type": "code",
   "execution_count": null,
   "metadata": {},
   "outputs": [],
   "source": [
    "print(len(df_air_filter_11))\n",
    "print(len(df_air_filter_13))"
   ]
  },
  {
   "cell_type": "code",
   "execution_count": null,
   "metadata": {},
   "outputs": [],
   "source": [
    "df_air_filter_11.reset_index(inplace=True, drop=True)\n",
    "df_air_filter_13.reset_index(inplace=True, drop=True)"
   ]
  },
  {
   "cell_type": "code",
   "execution_count": null,
   "metadata": {},
   "outputs": [],
   "source": [
    "df_air_lat_lon = df_air_filter_11.merge(lsoa_shp_geo_re_01, on='LSOA_code', how='left')\n",
    "df_air_lat_lon_13 = df_air_filter_13.merge(lsoa_shp_geo_re_11, on='LSOA_code', how='left')"
   ]
  },
  {
   "cell_type": "code",
   "execution_count": null,
   "metadata": {},
   "outputs": [],
   "source": [
    "df_air_lat_lon = df_air_lat_lon[['LSOA_code', 'RepTime', 'Percentage Services', 'uid', 'NearOrder', 'lon', 'lat']]\n",
    "df_air_lat_lon_13 = df_air_lat_lon_13[['LSOA_code', 'RepTime', 'Percentage Services', 'UID', 'NearOrder', 'lon', 'lat']]\n",
    "df_air_lat_lon_13.columns = ['LSOA_code', 'RepTime', 'Percentage Services', 'uid', 'NearOrder', 'lon', 'lat']"
   ]
  },
  {
   "cell_type": "code",
   "execution_count": null,
   "metadata": {},
   "outputs": [],
   "source": [
    "df_air_lat_lon['year'] = 2011\n",
    "df_air_lat_lon_13['year'] = 2013"
   ]
  },
  {
   "cell_type": "code",
   "execution_count": null,
   "metadata": {},
   "outputs": [],
   "source": [
    "df_air_latlon_11_13 = pd.concat([df_air_lat_lon, df_air_lat_lon_13]).reset_index(drop=True)"
   ]
  },
  {
   "cell_type": "markdown",
   "metadata": {},
   "source": [
    "### NUTS 2"
   ]
  },
  {
   "cell_type": "code",
   "execution_count": null,
   "metadata": {
    "scrolled": true
   },
   "outputs": [],
   "source": [
    "df_air_nuts2 = points_to_indicator(df_air_latlon_11_13, value_col='RepTime', coder=NutsCoder(level=2),\n",
    "                    aggfunc=np.mean, value_rename='travel_to_airport_time',\n",
    "                    projection='EPSG:4326', x_col='lon', y_col='lat')"
   ]
  },
  {
   "cell_type": "code",
   "execution_count": null,
   "metadata": {},
   "outputs": [],
   "source": [
    "df_air_nuts2 = df_air_nuts2.sort_values(by='nuts_id')"
   ]
  },
  {
   "cell_type": "code",
   "execution_count": null,
   "metadata": {},
   "outputs": [],
   "source": [
    "df_air_nuts2.to_csv('../../data/processed/travel/travel_to_airport_time.nuts2.csv', index=False)"
   ]
  },
  {
   "cell_type": "markdown",
   "metadata": {},
   "source": [
    "### NUTS 3"
   ]
  },
  {
   "cell_type": "code",
   "execution_count": null,
   "metadata": {},
   "outputs": [],
   "source": [
    "df_air_nuts3 = points_to_indicator(df_air_latlon_11_13, value_col='RepTime', coder=NutsCoder(level=3),\n",
    "                    aggfunc=np.mean, value_rename='travel_to_airport_time',\n",
    "                    projection='EPSG:4326', x_col='lon', y_col='lat')"
   ]
  },
  {
   "cell_type": "code",
   "execution_count": null,
   "metadata": {},
   "outputs": [],
   "source": [
    "df_air_nuts3 = df_air_nuts3.sort_values(by='nuts_id')"
   ]
  },
  {
   "cell_type": "code",
   "execution_count": null,
   "metadata": {},
   "outputs": [],
   "source": [
    "df_air_nuts3.to_csv('../../data/processed/travel/travel_to_airport_time.nuts3.csv', index=False)"
   ]
  },
  {
   "cell_type": "markdown",
   "metadata": {},
   "source": [
    "### LEP"
   ]
  },
  {
   "cell_type": "code",
   "execution_count": null,
   "metadata": {
    "scrolled": true
   },
   "outputs": [],
   "source": [
    "df_air_lep = points_to_indicator(df_air_latlon_11_13, value_col='RepTime', coder=LepCoder(),\n",
    "                    aggfunc=np.mean, value_rename='travel_to_airport_time',\n",
    "                    projection='EPSG:4326', x_col='lon', y_col='lat')"
   ]
  },
  {
   "cell_type": "code",
   "execution_count": null,
   "metadata": {},
   "outputs": [],
   "source": [
    "df_air_lep = df_air_lep.sort_values(by='lep_id')"
   ]
  },
  {
   "cell_type": "code",
   "execution_count": null,
   "metadata": {},
   "outputs": [],
   "source": [
    "df_air_lep.to_csv('../../data/processed/travel/travel_to_airport_time.lep.csv', index=False)"
   ]
  },
  {
   "cell_type": "markdown",
   "metadata": {},
   "source": [
    "## Rail Stations"
   ]
  },
  {
   "cell_type": "markdown",
   "metadata": {},
   "source": [
    "Method: Closest rail station \n",
    "\n",
    "Time of Day: AM\n",
    "\n",
    "Mode of transport: Car"
   ]
  },
  {
   "cell_type": "code",
   "execution_count": null,
   "metadata": {},
   "outputs": [],
   "source": [
    "df_rail_11 = pd.read_csv('../../data/raw/travel/Rail-stations-travel-times/Stations_HW_AM.csv')\n",
    "df_rail_13 = pd.read_csv('../../data/raw/travel/2013_Stations_HW_AM.csv')"
   ]
  },
  {
   "cell_type": "code",
   "execution_count": null,
   "metadata": {},
   "outputs": [],
   "source": [
    "df_rail_filter_11 = df_rail_11[df_rail_11['NearOrder'] <= 0]\n",
    "df_rail_filter_13 = df_rail_13[df_rail_13['NearOrder'] <= 0]"
   ]
  },
  {
   "cell_type": "code",
   "execution_count": null,
   "metadata": {},
   "outputs": [],
   "source": [
    "print(len(df_rail_filter_11))\n",
    "print(len(df_rail_filter_13))"
   ]
  },
  {
   "cell_type": "code",
   "execution_count": null,
   "metadata": {},
   "outputs": [],
   "source": [
    "df_rail_filter_11.reset_index(inplace=True, drop=True)\n",
    "df_rail_filter_13.reset_index(inplace=True, drop=True)"
   ]
  },
  {
   "cell_type": "code",
   "execution_count": null,
   "metadata": {},
   "outputs": [],
   "source": [
    "df_rail_lat_lon = df_rail_filter_11.merge(lsoa_shp_geo_re_01, on='LSOA_code', how='left')\n",
    "df_rail_lat_lon_13 = df_rail_filter_13.merge(lsoa_shp_geo_re_11, on='LSOA_code', how='left')"
   ]
  },
  {
   "cell_type": "code",
   "execution_count": null,
   "metadata": {},
   "outputs": [],
   "source": [
    "df_rail_lat_lon = df_rail_lat_lon[['LSOA_code', 'RepTime', 'Percentage Services', 'uid', 'NearOrder', 'lon', 'lat']]\n",
    "df_rail_lat_lon_13 = df_rail_lat_lon_13[['LSOA_code', 'RepTime', 'Percentage Services', 'UID', 'NearOrder', 'lon', 'lat']]\n",
    "df_rail_lat_lon_13.columns = ['LSOA_code', 'RepTime', 'Percentage Services', 'uid', 'NearOrder', 'lon', 'lat']"
   ]
  },
  {
   "cell_type": "code",
   "execution_count": null,
   "metadata": {},
   "outputs": [],
   "source": [
    "df_rail_lat_lon['year'] = 2011\n",
    "df_rail_lat_lon_13['year'] = 2013"
   ]
  },
  {
   "cell_type": "code",
   "execution_count": null,
   "metadata": {},
   "outputs": [],
   "source": [
    "df_rail_latlon_11_13 = pd.concat([df_rail_lat_lon, df_rail_lat_lon_13]).reset_index(drop=True)"
   ]
  },
  {
   "cell_type": "markdown",
   "metadata": {},
   "source": [
    "### NUTS 2"
   ]
  },
  {
   "cell_type": "code",
   "execution_count": null,
   "metadata": {
    "scrolled": true
   },
   "outputs": [],
   "source": [
    "df_rail_nuts2 = points_to_indicator(df_rail_latlon_11_13, value_col='RepTime', coder=NutsCoder(level=2),\n",
    "                    aggfunc=np.mean, value_rename='travel_to_rail_time',\n",
    "                    projection='EPSG:4326', x_col='lon', y_col='lat')"
   ]
  },
  {
   "cell_type": "code",
   "execution_count": null,
   "metadata": {},
   "outputs": [],
   "source": [
    "df_rail_nuts2 = df_rail_nuts2.sort_values(by='nuts_id')"
   ]
  },
  {
   "cell_type": "code",
   "execution_count": null,
   "metadata": {},
   "outputs": [],
   "source": [
    "df_rail_nuts2.to_csv('../../data/processed/travel/travel_to_rail_time.nuts2.csv', index=False)"
   ]
  },
  {
   "cell_type": "markdown",
   "metadata": {},
   "source": [
    "### NUTS 3"
   ]
  },
  {
   "cell_type": "code",
   "execution_count": null,
   "metadata": {},
   "outputs": [],
   "source": [
    "df_rail_nuts3 = points_to_indicator(df_rail_latlon_11_13, value_col='RepTime', coder=NutsCoder(level=3),\n",
    "                    aggfunc=np.mean, value_rename='travel_to_rail_time',\n",
    "                    projection='EPSG:4326', x_col='lon', y_col='lat')"
   ]
  },
  {
   "cell_type": "code",
   "execution_count": null,
   "metadata": {},
   "outputs": [],
   "source": [
    "df_rail_nuts3 = df_rail_nuts3.sort_values(by='nuts_id')"
   ]
  },
  {
   "cell_type": "code",
   "execution_count": null,
   "metadata": {},
   "outputs": [],
   "source": [
    "df_rail_nuts3.to_csv('../../data/processed/travel/travel_to_rail_time.nuts3.csv', index=False)"
   ]
  },
  {
   "cell_type": "markdown",
   "metadata": {},
   "source": [
    "### LEP"
   ]
  },
  {
   "cell_type": "code",
   "execution_count": null,
   "metadata": {
    "scrolled": true
   },
   "outputs": [],
   "source": [
    "df_rail_lep = points_to_indicator(df_air_latlon_11_13, value_col='RepTime', coder=LepCoder(),\n",
    "                    aggfunc=np.mean, value_rename='travel_to_rail_time',\n",
    "                    projection='EPSG:4326', x_col='lon', y_col='lat')"
   ]
  },
  {
   "cell_type": "code",
   "execution_count": null,
   "metadata": {},
   "outputs": [],
   "source": [
    "df_rail_lep = df_rail_lep.sort_values(by='lep_id')"
   ]
  },
  {
   "cell_type": "code",
   "execution_count": null,
   "metadata": {},
   "outputs": [],
   "source": [
    "df_rail_lep.to_csv('../../data/processed/travel/travel_to_rail_time.lep.csv', index=False)"
   ]
  },
  {
   "cell_type": "markdown",
   "metadata": {},
   "source": [
    "## Travel to Work"
   ]
  },
  {
   "cell_type": "code",
   "execution_count": null,
   "metadata": {},
   "outputs": [],
   "source": [
    "xl_16 = pd.ExcelFile('../../data/raw/travel/averagehometoworktraveltimes2016.xls')\n",
    "xl_17 = pd.ExcelFile('../../data/raw/travel/averagehometoworktraveltimes2017.xls')\n",
    "xl_18 = pd.ExcelFile('../../data/raw/travel/averagehometoworktraveltimes2018.xls')"
   ]
  },
  {
   "cell_type": "code",
   "execution_count": null,
   "metadata": {},
   "outputs": [],
   "source": [
    "xl_16.sheet_names"
   ]
  },
  {
   "cell_type": "code",
   "execution_count": null,
   "metadata": {},
   "outputs": [],
   "source": [
    "df_16 = xl_16.parse('OD16').drop('Office For National Statistics', axis=1)\n",
    "df_17 = xl_17.parse('OD17').drop('Office For National Statistics', axis=1)\n",
    "df_18 = xl_18.parse('OD18').drop('Office For National Statistics', axis=1)"
   ]
  },
  {
   "cell_type": "code",
   "execution_count": null,
   "metadata": {},
   "outputs": [],
   "source": [
    "df_16.columns = ['UALADGB UA / LAD of residence', 'Mean']\n",
    "df_17.columns = ['UALADGB UA / LAD of residence', 'Mean']\n",
    "df_18.columns = ['UALADGB UA / LAD of residence', 'Mean']"
   ]
  },
  {
   "cell_type": "code",
   "execution_count": null,
   "metadata": {},
   "outputs": [],
   "source": [
    "df_16 = df_16[9:419].reset_index(drop=True)\n",
    "df_17 = df_17[9:419].reset_index(drop=True)\n",
    "df_18 = df_18[9:419].reset_index(drop=True)"
   ]
  },
  {
   "cell_type": "code",
   "execution_count": null,
   "metadata": {},
   "outputs": [],
   "source": [
    "'47UD Redditch'.split()[1]"
   ]
  },
  {
   "cell_type": "code",
   "execution_count": null,
   "metadata": {},
   "outputs": [],
   "source": [
    "df_16['Code'] = df_16['UALADGB UA / LAD of residence'].apply(lambda x: x.strip().split(\" \",1)[0])\n",
    "df_16['LAD'] = df_16['UALADGB UA / LAD of residence'].apply(lambda x: x.strip().split(\" \",1)[1])\n",
    "\n",
    "df_17['Code'] = df_17['UALADGB UA / LAD of residence'].apply(lambda x: x.strip().split(\" \",1)[0])\n",
    "df_17['LAD'] = df_17['UALADGB UA / LAD of residence'].apply(lambda x: x.strip().split(\" \",1)[1])\n",
    "\n",
    "df_18['Code'] = df_18['UALADGB UA / LAD of residence'].apply(lambda x: x.strip().split(\" \",1)[0])\n",
    "df_18['LAD'] = df_18['UALADGB UA / LAD of residence'].apply(lambda x: x.strip().split(\" \",1)[1])"
   ]
  },
  {
   "cell_type": "code",
   "execution_count": null,
   "metadata": {},
   "outputs": [],
   "source": [
    "del df_16['UALADGB UA / LAD of residence']\n",
    "del df_17['UALADGB UA / LAD of residence']\n",
    "del df_18['UALADGB UA / LAD of residence']"
   ]
  },
  {
   "cell_type": "code",
   "execution_count": null,
   "metadata": {},
   "outputs": [],
   "source": [
    "# df = df[['LAD', 'Mean']]"
   ]
  },
  {
   "cell_type": "code",
   "execution_count": null,
   "metadata": {},
   "outputs": [],
   "source": [
    "len(df_18)"
   ]
  },
  {
   "cell_type": "code",
   "execution_count": null,
   "metadata": {},
   "outputs": [],
   "source": [
    "df_16['Code'] = df_16['Code'].apply(lambda x: ('00'+ x) if len(x) <= 2 else x)\n",
    "df_17['Code'] = df_17['Code'].apply(lambda x: ('00'+ x) if len(x) <= 2 else x)\n",
    "df_18['Code'] = df_18['Code'].apply(lambda x: ('00'+ x) if len(x) <= 2 else x)"
   ]
  },
  {
   "cell_type": "code",
   "execution_count": null,
   "metadata": {},
   "outputs": [],
   "source": [
    "equivs = pd.read_csv('../../data/raw/travel/Equivalents.csv',encoding='cp1252')"
   ]
  },
  {
   "cell_type": "code",
   "execution_count": null,
   "metadata": {},
   "outputs": [],
   "source": [
    "equivs.head(2)"
   ]
  },
  {
   "cell_type": "code",
   "execution_count": null,
   "metadata": {},
   "outputs": [],
   "source": [
    "len(df_16['Code'].tolist())"
   ]
  },
  {
   "cell_type": "code",
   "execution_count": null,
   "metadata": {
    "scrolled": true
   },
   "outputs": [],
   "source": [
    "equiv_df = equivs[equivs.GEOGCDO.isin(df_16['Code'].tolist())][['GEOGCD','GEOGCDO', 'STATUS']]"
   ]
  },
  {
   "cell_type": "code",
   "execution_count": null,
   "metadata": {},
   "outputs": [],
   "source": [
    "equiv_df"
   ]
  },
  {
   "cell_type": "code",
   "execution_count": null,
   "metadata": {},
   "outputs": [],
   "source": [
    "equiv_df.columns = ['GEOGCD', 'Code', 'Status']"
   ]
  },
  {
   "cell_type": "code",
   "execution_count": null,
   "metadata": {},
   "outputs": [],
   "source": [
    "df_16 = df_16.merge(equiv_df, on='Code', how='left')\n",
    "df_17 = df_17.merge(equiv_df, on='Code', how='left')\n",
    "df_18 = df_18.merge(equiv_df, on='Code', how='left')"
   ]
  },
  {
   "cell_type": "code",
   "execution_count": null,
   "metadata": {},
   "outputs": [],
   "source": [
    "df_16.drop_duplicates(subset='Code', inplace=True)\n",
    "df_17.drop_duplicates(subset='Code', inplace=True)\n",
    "df_18.drop_duplicates(subset='Code', inplace=True)"
   ]
  },
  {
   "cell_type": "code",
   "execution_count": null,
   "metadata": {},
   "outputs": [],
   "source": [
    "df_16.reset_index(drop=True,inplace=True)\n",
    "df_17.reset_index(drop=True,inplace=True)\n",
    "df_18.reset_index(drop=True,inplace=True)"
   ]
  },
  {
   "cell_type": "markdown",
   "metadata": {},
   "source": [
    "Reading in PDF table to get updated codes"
   ]
  },
  {
   "cell_type": "code",
   "execution_count": null,
   "metadata": {},
   "outputs": [],
   "source": [
    "file = \"https://www.ons.gov.uk/file?uri=/peoplepopulationandcommunity/populationandmigration/migrationwithintheuk/methodologies/interalmigrationmethodology/internalmigrationmethodology2016.pdf\""
   ]
  },
  {
   "cell_type": "code",
   "execution_count": null,
   "metadata": {},
   "outputs": [],
   "source": [
    "tables = camelot.read_pdf(file, pages = \"15-end\")"
   ]
  },
  {
   "cell_type": "code",
   "execution_count": null,
   "metadata": {
    "scrolled": true
   },
   "outputs": [],
   "source": [
    "tables"
   ]
  },
  {
   "cell_type": "code",
   "execution_count": null,
   "metadata": {},
   "outputs": [],
   "source": [
    "changes_1 = pd.concat([tables[0].df,tables[1].df]).iloc[1:] #,tables[2].df,tables[3].df"
   ]
  },
  {
   "cell_type": "code",
   "execution_count": null,
   "metadata": {},
   "outputs": [],
   "source": [
    "changes_1[0] = changes_1[0].apply(lambda x: x.replace('\\n', ''))\n",
    "changes_1[1] = changes_1[1].apply(lambda x: x.replace('\\n', ''))\n",
    "changes_1[2] = changes_1[2].apply(lambda x: x.replace('\\n', ''))\n",
    "changes_1[3] = changes_1[3].apply(lambda x: x.replace('\\n', ''))"
   ]
  },
  {
   "cell_type": "code",
   "execution_count": null,
   "metadata": {},
   "outputs": [],
   "source": [
    "changes_2 = pd.concat([tables[2].df,tables[3].df]).drop([0,0])"
   ]
  },
  {
   "cell_type": "code",
   "execution_count": null,
   "metadata": {},
   "outputs": [],
   "source": [
    "changes_2[0] = changes_2[0].apply(lambda x: x.replace('\\n', ''))\n",
    "changes_2[1] = changes_2[1].apply(lambda x: x.replace('\\n', ''))\n",
    "changes_2[2] = changes_2[2].apply(lambda x: x.replace('\\n', ''))"
   ]
  },
  {
   "cell_type": "code",
   "execution_count": null,
   "metadata": {},
   "outputs": [],
   "source": [
    "convert_dict = dict(zip(changes_1[2], changes_1[3]))"
   ]
  },
  {
   "cell_type": "code",
   "execution_count": null,
   "metadata": {},
   "outputs": [],
   "source": [
    "convert_dict.update(dict(zip(changes_2[1], changes_2[2])))"
   ]
  },
  {
   "cell_type": "markdown",
   "metadata": {
    "scrolled": true
   },
   "source": [
    "Update old codes to new"
   ]
  },
  {
   "cell_type": "code",
   "execution_count": null,
   "metadata": {},
   "outputs": [],
   "source": [
    "df_16['GEOGCD'] = df_16['GEOGCD'].replace(convert_dict)\n",
    "df_17['GEOGCD'] = df_17['GEOGCD'].replace(convert_dict)\n",
    "df_18['GEOGCD'] = df_18['GEOGCD'].replace(convert_dict)"
   ]
  },
  {
   "cell_type": "code",
   "execution_count": null,
   "metadata": {},
   "outputs": [],
   "source": [
    "df_16[df_16['LAD']=='Kennet']"
   ]
  },
  {
   "cell_type": "code",
   "execution_count": null,
   "metadata": {},
   "outputs": [],
   "source": [
    "df_16 = df_16[~df_16['Mean'].isna()]\n",
    "df_16['Mean'] = df_16['Mean'].astype(float)\n",
    "\n",
    "df_17 = df_17[~df_17['Mean'].isna()]\n",
    "df_17['Mean'] = df_17['Mean'].astype(float)\n",
    "\n",
    "df_18 = df_18[~df_18['Mean'].isna()]\n",
    "df_18['Mean'] = df_18['Mean'].astype(float)"
   ]
  },
  {
   "cell_type": "code",
   "execution_count": null,
   "metadata": {
    "scrolled": true
   },
   "outputs": [],
   "source": [
    "df_16 = df_16.groupby('GEOGCD').mean().reset_index()\n",
    "df_17 = df_17.groupby('GEOGCD').mean().reset_index()\n",
    "df_18 = df_18.groupby('GEOGCD').mean().reset_index()"
   ]
  },
  {
   "cell_type": "code",
   "execution_count": null,
   "metadata": {},
   "outputs": [],
   "source": [
    "df_16['year'] = 2016\n",
    "df_17['year'] = 2017\n",
    "df_18['year'] = 2018"
   ]
  },
  {
   "cell_type": "code",
   "execution_count": null,
   "metadata": {},
   "outputs": [],
   "source": [
    "len(df_18)"
   ]
  },
  {
   "cell_type": "markdown",
   "metadata": {},
   "source": [
    "Next: Get the LAD to NUTS codes and LEP- Do it by years!\n",
    "\n",
    "But for a few of them, it's going to be a mean of a mean of a mean!"
   ]
  },
  {
   "cell_type": "markdown",
   "metadata": {},
   "source": [
    "### NUTS"
   ]
  },
  {
   "cell_type": "code",
   "execution_count": null,
   "metadata": {},
   "outputs": [],
   "source": [
    "# NUTS2016 enforced in 2018 but introduced in 2016\n",
    "lad_nuts_16 = pd.read_csv('../../data/raw/travel/Local_Authority_District__December_2016__to_NUTS3_to_NUTS2_to_NUTS1__January_2018__Lookup_in_United_Kingdom.csv')"
   ]
  },
  {
   "cell_type": "code",
   "execution_count": null,
   "metadata": {
    "scrolled": true
   },
   "outputs": [],
   "source": [
    "len(lad_nuts_16)#.head()"
   ]
  },
  {
   "cell_type": "code",
   "execution_count": null,
   "metadata": {},
   "outputs": [],
   "source": [
    "lad_nuts_16.rename(columns={'LAD16CD': 'GEOGCD'}, inplace = True)"
   ]
  },
  {
   "cell_type": "code",
   "execution_count": null,
   "metadata": {
    "scrolled": true
   },
   "outputs": [],
   "source": [
    "df_16_nuts_geo = df_16.merge(lad_nuts_16, on='GEOGCD', how='left').drop_duplicates(subset='GEOGCD').reset_index(drop=True)\n",
    "df_17_nuts_geo = df_17.merge(lad_nuts_16, on='GEOGCD', how='left').drop_duplicates(subset='GEOGCD').reset_index(drop=True)\n",
    "df_18_nuts_geo = df_18.merge(lad_nuts_16, on='GEOGCD', how='left').drop_duplicates(subset='GEOGCD').reset_index(drop=True)"
   ]
  },
  {
   "cell_type": "code",
   "execution_count": null,
   "metadata": {},
   "outputs": [],
   "source": [
    "# NUTS 2\n",
    "df_16_nuts2 = df_16_nuts_geo[['Mean', 'year', 'NUTS218CD']]\n",
    "df_17_nuts2 = df_17_nuts_geo[['Mean', 'year', 'NUTS218CD']]\n",
    "df_18_nuts2 = df_18_nuts_geo[['Mean', 'year', 'NUTS218CD']]\n",
    "\n",
    "df_16_nuts2.rename(columns={'NUTS218CD':'nuts_id'}, inplace=True)\n",
    "df_17_nuts2.rename(columns={'NUTS218CD':'nuts_id'}, inplace=True)\n",
    "df_18_nuts2.rename(columns={'NUTS218CD':'nuts_id'}, inplace=True)\n",
    "\n",
    "# NUTS 3\n",
    "df_16_nuts3 = df_16_nuts_geo[['Mean', 'year', 'NUTS318CD']]\n",
    "df_17_nuts3 = df_17_nuts_geo[['Mean', 'year', 'NUTS318CD']]\n",
    "df_18_nuts3 = df_18_nuts_geo[['Mean', 'year', 'NUTS318CD']]\n",
    "\n",
    "df_16_nuts3.rename(columns={'NUTS318CD':'nuts_id'}, inplace=True)\n",
    "df_17_nuts3.rename(columns={'NUTS318CD':'nuts_id'}, inplace=True)\n",
    "df_18_nuts3.rename(columns={'NUTS318CD':'nuts_id'}, inplace=True)"
   ]
  },
  {
   "cell_type": "code",
   "execution_count": null,
   "metadata": {},
   "outputs": [],
   "source": [
    "# NUTS 2\n",
    "df_16_nuts2 = df_16_nuts2.groupby('nuts_id').mean().reset_index()\n",
    "df_17_nuts2 = df_17_nuts2.groupby('nuts_id').mean().reset_index()\n",
    "df_18_nuts2 = df_18_nuts2.groupby('nuts_id').mean().reset_index()\n",
    "\n",
    "# NUTS 3\n",
    "df_16_nuts3 = df_16_nuts3.groupby('nuts_id').mean().reset_index()\n",
    "df_17_nuts3 = df_17_nuts3.groupby('nuts_id').mean().reset_index()\n",
    "df_18_nuts3 = df_18_nuts3.groupby('nuts_id').mean().reset_index()"
   ]
  },
  {
   "cell_type": "code",
   "execution_count": null,
   "metadata": {},
   "outputs": [],
   "source": [
    "# NUTS 2\n",
    "df_16_nuts2.rename(columns={'Mean':'travel_to_work_times_average'}, inplace=True)\n",
    "df_17_nuts2.rename(columns={'Mean':'travel_to_work_times_average'}, inplace=True)\n",
    "df_18_nuts2.rename(columns={'Mean':'travel_to_work_times_average'}, inplace=True)\n",
    "\n",
    "# NUTS 3\n",
    "df_16_nuts3.rename(columns={'Mean':'travel_to_work_times_average'}, inplace=True)\n",
    "df_17_nuts3.rename(columns={'Mean':'travel_to_work_times_average'}, inplace=True)\n",
    "df_18_nuts3.rename(columns={'Mean':'travel_to_work_times_average'}, inplace=True)"
   ]
  },
  {
   "cell_type": "code",
   "execution_count": null,
   "metadata": {},
   "outputs": [],
   "source": [
    "# NUTS 2\n",
    "df_16_nuts2 = auto_nuts2_uk(df_16_nuts2)[['year', 'nuts_id', 'nuts_year_spec', 'travel_to_work_times_average']]\n",
    "df_17_nuts2 = auto_nuts2_uk(df_17_nuts2)[['year', 'nuts_id', 'nuts_year_spec', 'travel_to_work_times_average']]\n",
    "df_18_nuts2 = auto_nuts2_uk(df_18_nuts2)[['year', 'nuts_id', 'nuts_year_spec', 'travel_to_work_times_average']]\n",
    "\n",
    "# NUTS 3\n",
    "df_16_nuts3 = auto_nuts2_uk(df_16_nuts3)[['year', 'nuts_id', 'nuts_year_spec', 'travel_to_work_times_average']]\n",
    "df_17_nuts3 = auto_nuts2_uk(df_17_nuts3)[['year', 'nuts_id', 'nuts_year_spec', 'travel_to_work_times_average']]\n",
    "df_18_nuts3 = auto_nuts2_uk(df_18_nuts3)[['year', 'nuts_id', 'nuts_year_spec', 'travel_to_work_times_average']]\n",
    "\n",
    "# [['year', 'nuts_id', 'nuts_year_spec', 'average_travel_to_work_times']]"
   ]
  },
  {
   "cell_type": "code",
   "execution_count": null,
   "metadata": {},
   "outputs": [],
   "source": [
    "# concat\n",
    "\n",
    "df_nuts2 = pd.concat([df_16_nuts2, df_17_nuts2, df_18_nuts2]).sort_values(['nuts_id', 'year']).reset_index(drop=True)\n",
    "\n",
    "df_nuts3 = pd.concat([df_16_nuts3, df_17_nuts3, df_18_nuts3]).sort_values(['nuts_id', 'year']).reset_index(drop=True)"
   ]
  },
  {
   "cell_type": "code",
   "execution_count": null,
   "metadata": {},
   "outputs": [],
   "source": [
    "df_nuts2['travel_to_work_times_average'] = df_nuts2['travel_to_work_times_average'].round(2)\n",
    "df_nuts3['travel_to_work_times_average'] = df_nuts3['travel_to_work_times_average'].round(2)"
   ]
  },
  {
   "cell_type": "code",
   "execution_count": null,
   "metadata": {},
   "outputs": [],
   "source": [
    "save_indicator(df_nuts2, 'travel', 'nuts2')\n",
    "save_indicator(df_nuts3, 'travel', 'nuts3')"
   ]
  },
  {
   "cell_type": "markdown",
   "metadata": {},
   "source": [
    "### LEP"
   ]
  },
  {
   "cell_type": "code",
   "execution_count": null,
   "metadata": {},
   "outputs": [],
   "source": [
    "lad_lat_lon = pd.read_csv('../../data/raw/travel/Local_Authority_Districts__December_2016__Boundaries_UK.csv')"
   ]
  },
  {
   "cell_type": "code",
   "execution_count": null,
   "metadata": {},
   "outputs": [],
   "source": [
    "lad_lat_lon.rename(columns={'lad16cd': 'GEOGCD'}, inplace = True)"
   ]
  },
  {
   "cell_type": "code",
   "execution_count": null,
   "metadata": {},
   "outputs": [],
   "source": [
    "df_16_lep_geo = df_16.merge(lad_lat_lon, on='GEOGCD', how='left').drop_duplicates(subset='GEOGCD').reset_index(drop=True)\n",
    "df_17_lep_geo = df_17.merge(lad_lat_lon, on='GEOGCD', how='left').drop_duplicates(subset='GEOGCD').reset_index(drop=True)\n",
    "df_18_lep_geo = df_18.merge(lad_lat_lon, on='GEOGCD', how='left').drop_duplicates(subset='GEOGCD').reset_index(drop=True)"
   ]
  },
  {
   "cell_type": "code",
   "execution_count": null,
   "metadata": {},
   "outputs": [],
   "source": [
    "df_18_lep_geo"
   ]
  },
  {
   "cell_type": "code",
   "execution_count": null,
   "metadata": {},
   "outputs": [],
   "source": [
    "df_16_lep = df_16_lep_geo[['Mean', 'year', 'long', 'lat']]\n",
    "df_17_lep = df_17_lep_geo[['Mean', 'year', 'long', 'lat']]\n",
    "df_18_lep = df_18_lep_geo[['Mean', 'year', 'long', 'lat']]"
   ]
  },
  {
   "cell_type": "code",
   "execution_count": null,
   "metadata": {},
   "outputs": [],
   "source": [
    "df_lep = pd.concat([df_16_lep, df_17_lep, df_18_lep])\n",
    "# df_lep.rename(columns = {'Mean': 'average_travel_to_work_times'}, inplace=True)\n",
    "df_lep.columns"
   ]
  },
  {
   "cell_type": "code",
   "execution_count": null,
   "metadata": {},
   "outputs": [],
   "source": [
    "df_lep_final = points_to_indicator(df_lep, value_col='Mean', coder=LepCoder(),\n",
    "                    aggfunc=np.mean, value_rename='Mean',\n",
    "                    projection='EPSG:4326', x_col='long', y_col='lat')\n",
    "# centroid coords used - may fall in overlapping regions (chance of over/underrep)"
   ]
  },
  {
   "cell_type": "code",
   "execution_count": null,
   "metadata": {},
   "outputs": [],
   "source": [
    "df_lep_final = df_lep_final.rename(columns = {'Mean': 'travel_to_work_times_average'}).sort_values(['lep_id', 'year']).reset_index(drop=True)"
   ]
  },
  {
   "cell_type": "code",
   "execution_count": null,
   "metadata": {},
   "outputs": [],
   "source": [
    "df_lep_final['travel_to_work_times_average'] = df_lep_final['travel_to_work_times_average'].round(2)\n"
   ]
  },
  {
   "cell_type": "code",
   "execution_count": null,
   "metadata": {},
   "outputs": [],
   "source": [
    "save_indicator(df_lep_final, 'travel', 'lep')"
   ]
  },
  {
   "cell_type": "markdown",
   "metadata": {
    "heading_collapsed": true
   },
   "source": [
    "## Test"
   ]
  },
  {
   "cell_type": "code",
   "execution_count": null,
   "metadata": {
    "hidden": true
   },
   "outputs": [],
   "source": [
    "url = 'https://opendata.arcgis.com/datasets/180a5c44cfc643c0848813f0a81c1bd1_0.zip?outSR=%7B%22latestWkid%22%3A27700%2C%22wkid%22%3A27700%7D'"
   ]
  },
  {
   "cell_type": "code",
   "execution_count": null,
   "metadata": {
    "hidden": true
   },
   "outputs": [],
   "source": [
    "fname = f'travel_road_junctions_13'"
   ]
  },
  {
   "cell_type": "code",
   "execution_count": null,
   "metadata": {
    "hidden": true
   },
   "outputs": [],
   "source": [
    "travel_dir = f'{project_dir}/data/raw/travel'\n",
    "if not os.path.isdir(travel_dir):\n",
    "    os.mkdir(travel_dir)"
   ]
  },
  {
   "cell_type": "code",
   "execution_count": null,
   "metadata": {
    "hidden": true
   },
   "outputs": [],
   "source": [
    "fout = f'{travel_dir}/{fname}.zip'"
   ]
  },
  {
   "cell_type": "code",
   "execution_count": null,
   "metadata": {
    "hidden": true
   },
   "outputs": [],
   "source": [
    "fout"
   ]
  },
  {
   "cell_type": "code",
   "execution_count": null,
   "metadata": {
    "hidden": true
   },
   "outputs": [],
   "source": [
    "if not os.path.isfile(fout):\n",
    "    urlretrieve(url, fout)"
   ]
  },
  {
   "cell_type": "code",
   "execution_count": null,
   "metadata": {
    "hidden": true
   },
   "outputs": [],
   "source": [
    "project_zip_dir = f'{project_dir}/data/raw/travel/shp_01.zip'\n",
    "# project_zip_dir = BROADBAND_YEARS_URL[year]\n",
    "# project_zip = ZipFile(project_zip_dir)"
   ]
  },
  {
   "cell_type": "code",
   "execution_count": null,
   "metadata": {
    "hidden": true
   },
   "outputs": [],
   "source": [
    "project_zip.filename()"
   ]
  },
  {
   "cell_type": "code",
   "execution_count": null,
   "metadata": {
    "hidden": true
   },
   "outputs": [],
   "source": [
    "with ZipFile(project_zip_dir, 'r') as zip_ref:\n",
    "    zip_ref.extractall(f'{project_dir}/data/raw/travel/travel_road_junctions_13')"
   ]
  },
  {
   "cell_type": "code",
   "execution_count": null,
   "metadata": {
    "hidden": true
   },
   "outputs": [],
   "source": [
    "[text_file.filename\n",
    "               for text_file in project_zip.infolist()\n",
    "               ]"
   ]
  },
  {
   "cell_type": "code",
   "execution_count": null,
   "metadata": {
    "hidden": true
   },
   "outputs": [],
   "source": [
    "project_zip.infolist()"
   ]
  },
  {
   "cell_type": "code",
   "execution_count": null,
   "metadata": {
    "hidden": true
   },
   "outputs": [],
   "source": [
    "project_zip.infolist().filename.endswith('.shp')"
   ]
  },
  {
   "cell_type": "code",
   "execution_count": null,
   "metadata": {
    "hidden": true
   },
   "outputs": [],
   "source": [
    "def test():\n",
    "    return {2001: lsoa_shp_geo_01, 2011: lsoa_shp_geo_11}"
   ]
  },
  {
   "cell_type": "code",
   "execution_count": null,
   "metadata": {
    "hidden": true
   },
   "outputs": [],
   "source": [
    "test()[2001]"
   ]
  },
  {
   "cell_type": "code",
   "execution_count": null,
   "metadata": {
    "hidden": true
   },
   "outputs": [],
   "source": []
  }
 ],
 "metadata": {
  "kernelspec": {
   "display_name": "Python 3",
   "language": "python",
   "name": "python3"
  },
  "language_info": {
   "codemirror_mode": {
    "name": "ipython",
    "version": 3
   },
   "file_extension": ".py",
   "mimetype": "text/x-python",
   "name": "python",
   "nbconvert_exporter": "python",
   "pygments_lexer": "ipython3",
   "version": "3.6.5"
  },
  "toc": {
   "base_numbering": 1,
   "nav_menu": {},
   "number_sections": true,
   "sideBar": true,
   "skip_h1_title": false,
   "title_cell": "Table of Contents",
   "title_sidebar": "Contents",
   "toc_cell": false,
   "toc_position": {},
   "toc_section_display": true,
   "toc_window_display": false
  }
 },
 "nbformat": 4,
 "nbformat_minor": 2
}
