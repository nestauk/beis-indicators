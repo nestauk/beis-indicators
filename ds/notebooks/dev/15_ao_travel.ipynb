{
 "cells": [
  {
   "cell_type": "code",
   "execution_count": 1,
   "metadata": {},
   "outputs": [],
   "source": [
    "%load_ext autoreload\n",
    "%autoreload 2"
   ]
  },
  {
   "cell_type": "code",
   "execution_count": 2,
   "metadata": {
    "scrolled": true
   },
   "outputs": [
    {
     "name": "stdout",
     "output_type": "stream",
     "text": [
      "The autoreload extension is already loaded. To reload it, use:\n",
      "  %reload_ext autoreload\n"
     ]
    }
   ],
   "source": [
    "%run ../notebook_preamble.ipy"
   ]
  },
  {
   "cell_type": "code",
   "execution_count": 3,
   "metadata": {},
   "outputs": [],
   "source": [
    "import geopandas as gpd"
   ]
  },
  {
   "cell_type": "code",
   "execution_count": 4,
   "metadata": {},
   "outputs": [],
   "source": [
    "from beis_indicators.geo.coders import NutsCoder, LepCoder\n",
    "# from beis_indicators.geo.nuts import auto_nuts2_uk\n",
    "from beis_indicators.indicators import points_to_indicator"
   ]
  },
  {
   "cell_type": "code",
   "execution_count": 5,
   "metadata": {},
   "outputs": [],
   "source": [
    "lsoa_shp_01 = gpd.read_file('../../data/raw/Lower_Layer_Super_Output_Areas__December_2001__EW_BGC-shp/Lower_Layer_Super_Output_Areas__December_2001__EW_BGC.shp')\n",
    "lsoa_shp_11 = gpd.read_file('../../data/raw/Lower_Layer_Super_Output_Areas__December_2011__Boundaries_EW_BGC_v3-shp/Lower_Layer_Super_Output_Areas__December_2011__Boundaries_EW_BGC_v3.shp')"
   ]
  },
  {
   "cell_type": "code",
   "execution_count": 6,
   "metadata": {},
   "outputs": [],
   "source": [
    "# LSOA to lon/lat\n",
    "lsoa_shp_geo_01 = lsoa_shp_01.to_crs(epsg=4326)\n",
    "lsoa_shp_geo_11 = lsoa_shp_11.to_crs(epsg=4326)"
   ]
  },
  {
   "cell_type": "code",
   "execution_count": 7,
   "metadata": {
    "scrolled": true
   },
   "outputs": [
    {
     "data": {
      "text/html": [
       "<div>\n",
       "<style scoped>\n",
       "    .dataframe tbody tr th:only-of-type {\n",
       "        vertical-align: middle;\n",
       "    }\n",
       "\n",
       "    .dataframe tbody tr th {\n",
       "        vertical-align: top;\n",
       "    }\n",
       "\n",
       "    .dataframe thead th {\n",
       "        text-align: right;\n",
       "    }\n",
       "</style>\n",
       "<table border=\"1\" class=\"dataframe\">\n",
       "  <thead>\n",
       "    <tr style=\"text-align: right;\">\n",
       "      <th></th>\n",
       "      <th>OBJECTID</th>\n",
       "      <th>LSOA11CD</th>\n",
       "      <th>LSOA11NM</th>\n",
       "      <th>LSOA11NMW</th>\n",
       "      <th>Age_Indica</th>\n",
       "      <th>Shape__Are</th>\n",
       "      <th>Shape__Len</th>\n",
       "      <th>geometry</th>\n",
       "    </tr>\n",
       "  </thead>\n",
       "  <tbody>\n",
       "    <tr>\n",
       "      <th>0</th>\n",
       "      <td>1</td>\n",
       "      <td>E01000001</td>\n",
       "      <td>City of London 001A</td>\n",
       "      <td>City of London 001A</td>\n",
       "      <td>0</td>\n",
       "      <td>133320.768867</td>\n",
       "      <td>2291.846072</td>\n",
       "      <td>POLYGON ((-0.0972886732320328 51.5215770420208...</td>\n",
       "    </tr>\n",
       "    <tr>\n",
       "      <th>1</th>\n",
       "      <td>2</td>\n",
       "      <td>E01000002</td>\n",
       "      <td>City of London 001B</td>\n",
       "      <td>City of London 001B</td>\n",
       "      <td>0</td>\n",
       "      <td>226191.273003</td>\n",
       "      <td>2433.960112</td>\n",
       "      <td>POLYGON ((-0.08812915078150488 51.519410719510...</td>\n",
       "    </tr>\n",
       "  </tbody>\n",
       "</table>\n",
       "</div>"
      ],
      "text/plain": [
       "   OBJECTID   LSOA11CD             LSOA11NM            LSOA11NMW  Age_Indica  \\\n",
       "0         1  E01000001  City of London 001A  City of London 001A           0   \n",
       "1         2  E01000002  City of London 001B  City of London 001B           0   \n",
       "\n",
       "      Shape__Are   Shape__Len  \\\n",
       "0  133320.768867  2291.846072   \n",
       "1  226191.273003  2433.960112   \n",
       "\n",
       "                                            geometry  \n",
       "0  POLYGON ((-0.0972886732320328 51.5215770420208...  \n",
       "1  POLYGON ((-0.08812915078150488 51.519410719510...  "
      ]
     },
     "execution_count": 7,
     "metadata": {},
     "output_type": "execute_result"
    }
   ],
   "source": [
    "lsoa_shp_geo_11.head(2)"
   ]
  },
  {
   "cell_type": "code",
   "execution_count": 8,
   "metadata": {},
   "outputs": [],
   "source": [
    "# print(lsoa_shp_geo.iloc[0].geometry.centroid.x, lsoa_shp_geo.iloc[0].geometry.centroid.y)\n",
    "\n",
    "lsoa_shp_geo_01['lon'] = lsoa_shp_geo_01.geometry.apply(lambda i: i.centroid.x)\n",
    "lsoa_shp_geo_01['lat'] = lsoa_shp_geo_01.geometry.apply(lambda i: i.centroid.y)\n",
    "\n",
    "lsoa_shp_geo_11['lon'] = lsoa_shp_geo_11.geometry.apply(lambda i: i.centroid.x)\n",
    "lsoa_shp_geo_11['lat'] = lsoa_shp_geo_11.geometry.apply(lambda i: i.centroid.y)"
   ]
  },
  {
   "cell_type": "code",
   "execution_count": 9,
   "metadata": {},
   "outputs": [],
   "source": [
    "lsoa_shp_geo_re_01 = lsoa_shp_geo_01.rename(columns={'LSOA01CD':'LSOA_code'})\n",
    "lsoa_shp_geo_re_11 = lsoa_shp_geo_11.rename(columns={'LSOA11CD':'LSOA_code'})"
   ]
  },
  {
   "cell_type": "markdown",
   "metadata": {},
   "source": [
    "2011 data (England and Wales) uses 2001 LSOA data <br />\n",
    "2013 data (England only) uses 2011 LSOA data\n",
    "\n",
    "- Read more here: http://data.dft.gov.uk.s3.amazonaws.com/connectivity-data/Brief-guide-to-connectivity-travel-time-data_v2.pdf"
   ]
  },
  {
   "cell_type": "markdown",
   "metadata": {
    "heading_collapsed": true
   },
   "source": [
    "## Road Junctions"
   ]
  },
  {
   "cell_type": "markdown",
   "metadata": {
    "hidden": true
   },
   "source": [
    "Method: Averaging time over the nearest 5 road junctions \n",
    "\n",
    "Time of day: AM\n",
    "\n",
    "Mode of transport: Car"
   ]
  },
  {
   "cell_type": "code",
   "execution_count": 10,
   "metadata": {
    "hidden": true
   },
   "outputs": [],
   "source": [
    "#2011 data\n",
    "df_road = pd.read_csv('../../data/raw/travel/Road-junctions-travel-times/Junctions_HW_AM.csv')\n",
    "#2013 data\n",
    "df_road_13 = pd.read_csv('../../data/raw/travel/2013_Junctions_HW_AM.csv')"
   ]
  },
  {
   "cell_type": "code",
   "execution_count": 11,
   "metadata": {
    "hidden": true
   },
   "outputs": [
    {
     "name": "stdout",
     "output_type": "stream",
     "text": [
      "16869696\n",
      "16051932\n"
     ]
    }
   ],
   "source": [
    "print(len(df_road))\n",
    "print(len(df_road_13))"
   ]
  },
  {
   "cell_type": "code",
   "execution_count": 12,
   "metadata": {
    "hidden": true
   },
   "outputs": [],
   "source": [
    "df_road_filter = df_road[df_road['NearOrder'] <= 4]\n",
    "df_road_filter_13 = df_road_13[df_road_13['NearOrder'] <= 4]"
   ]
  },
  {
   "cell_type": "code",
   "execution_count": 13,
   "metadata": {
    "hidden": true
   },
   "outputs": [
    {
     "data": {
      "text/plain": [
       "163770"
      ]
     },
     "execution_count": 13,
     "metadata": {},
     "output_type": "execute_result"
    }
   ],
   "source": [
    "len(df_road_filter)\n",
    "len(df_road_filter_13)"
   ]
  },
  {
   "cell_type": "code",
   "execution_count": 14,
   "metadata": {
    "hidden": true
   },
   "outputs": [],
   "source": [
    "df_road_filter.reset_index(inplace=True, drop=True)\n",
    "df_road_filter_13.reset_index(inplace=True, drop=True)"
   ]
  },
  {
   "cell_type": "code",
   "execution_count": null,
   "metadata": {
    "hidden": true
   },
   "outputs": [],
   "source": []
  },
  {
   "cell_type": "code",
   "execution_count": 15,
   "metadata": {
    "hidden": true
   },
   "outputs": [],
   "source": [
    "df_road_lat_lon = df_road_filter.merge(lsoa_shp_geo_re_01, on='LSOA_code', how='left')#\n",
    "df_road_lat_lon_13 = df_road_filter_13.merge(lsoa_shp_geo_re_11, on='LSOA_code', how='left')"
   ]
  },
  {
   "cell_type": "code",
   "execution_count": 16,
   "metadata": {
    "hidden": true
   },
   "outputs": [],
   "source": [
    "df_road_lat_lon = df_road_lat_lon[['LSOA_code', 'RepTime', 'Percentage Services', 'uid', 'NearOrder', 'lon', 'lat']]\n",
    "df_road_lat_lon_13 = df_road_lat_lon_13[['LSOA_code', 'RepTime', 'Percentage Services', 'UID', 'NearOrder', 'lon', 'lat']]\n",
    "df_road_lat_lon_13.columns = ['LSOA_code', 'RepTime', 'Percentage Services', 'uid', 'NearOrder', 'lon', 'lat']"
   ]
  },
  {
   "cell_type": "code",
   "execution_count": 17,
   "metadata": {
    "hidden": true
   },
   "outputs": [],
   "source": [
    "df_road_lat_lon['year'] = [2011]*len(df_road_lat_lon)\n",
    "df_road_lat_lon_13['year'] = [2013]*len(df_road_lat_lon_13)"
   ]
  },
  {
   "cell_type": "code",
   "execution_count": 18,
   "metadata": {
    "hidden": true
   },
   "outputs": [],
   "source": [
    "df_road_latlon_11_13 = pd.concat([df_road_lat_lon, df_road_lat_lon_13]).reset_index(drop=True)"
   ]
  },
  {
   "cell_type": "markdown",
   "metadata": {
    "heading_collapsed": true,
    "hidden": true
   },
   "source": [
    "### NUTS 2"
   ]
  },
  {
   "cell_type": "code",
   "execution_count": 155,
   "metadata": {
    "collapsed": true,
    "hidden": true
   },
   "outputs": [
    {
     "name": "stdout",
     "output_type": "stream",
     "text": [
      "2020-10-07 11:36:17,967 - beis_indicators.geo.coders - INFO - Loading NUTS 2 2016 boundaries\n",
      "2020-10-07 11:36:21,600 - beis_indicators.geo.coders - INFO - Loading NUTS 2 2021 boundaries\n",
      "2020-10-07 11:36:25,371 - beis_indicators.geo.coders - INFO - Loading NUTS 2 2003 boundaries\n",
      "2020-10-07 11:36:30,676 - beis_indicators.geo.coders - INFO - Loading NUTS 2 2006 boundaries\n",
      "2020-10-07 11:36:42,290 - beis_indicators.geo.coders - INFO - Loading NUTS 2 2010 boundaries\n",
      "2020-10-07 11:36:47,171 - beis_indicators.geo.coders - INFO - Loading NUTS 2 2013 boundaries\n"
     ]
    },
    {
     "name": "stderr",
     "output_type": "stream",
     "text": [
      "/mnt/c/Users/aotubusen/Documents/DS Projects/beis_2020/beis-indicators/ds/beis_indicators/geo/coders.py:45: UserWarning: CRS mismatch between the CRS of left geometries and the CRS of right geometries.\n",
      "Use `to_crs()` to reproject one of the input geometries to match the CRS of the other.\n",
      "\n",
      "Left CRS: None\n",
      "Right CRS: EPSG:4326\n",
      "\n",
      "  joined = gpd.sjoin(points, shape, op='within', how='right')\n",
      "/mnt/c/Users/aotubusen/Documents/DS Projects/beis_2020/beis-indicators/ds/beis_indicators/geo/coders.py:45: UserWarning: CRS mismatch between the CRS of left geometries and the CRS of right geometries.\n",
      "Use `to_crs()` to reproject one of the input geometries to match the CRS of the other.\n",
      "\n",
      "Left CRS: None\n",
      "Right CRS: EPSG:4326\n",
      "\n",
      "  joined = gpd.sjoin(points, shape, op='within', how='right')\n"
     ]
    }
   ],
   "source": [
    "df_road_nuts2 = points_to_indicator(df_road_latlon_11_13, value_col='RepTime', coder=NutsCoder(level=2),\n",
    "                    aggfunc=np.mean, value_rename='travel_to_junctions_time',\n",
    "                    projection='EPSG:4326', x_col='lon', y_col='lat')"
   ]
  },
  {
   "cell_type": "code",
   "execution_count": 160,
   "metadata": {
    "collapsed": true,
    "hidden": true
   },
   "outputs": [
    {
     "data": {
      "text/html": [
       "<div>\n",
       "<style scoped>\n",
       "    .dataframe tbody tr th:only-of-type {\n",
       "        vertical-align: middle;\n",
       "    }\n",
       "\n",
       "    .dataframe tbody tr th {\n",
       "        vertical-align: top;\n",
       "    }\n",
       "\n",
       "    .dataframe thead th {\n",
       "        text-align: right;\n",
       "    }\n",
       "</style>\n",
       "<table border=\"1\" class=\"dataframe\">\n",
       "  <thead>\n",
       "    <tr style=\"text-align: right;\">\n",
       "      <th></th>\n",
       "      <th>year</th>\n",
       "      <th>nuts_id</th>\n",
       "      <th>nuts_year_spec</th>\n",
       "      <th>road_junction_time</th>\n",
       "    </tr>\n",
       "  </thead>\n",
       "  <tbody>\n",
       "    <tr>\n",
       "      <th>0</th>\n",
       "      <td>2011</td>\n",
       "      <td>UKC1</td>\n",
       "      <td>2010</td>\n",
       "      <td>14.98</td>\n",
       "    </tr>\n",
       "    <tr>\n",
       "      <th>0</th>\n",
       "      <td>2013</td>\n",
       "      <td>UKC1</td>\n",
       "      <td>2013</td>\n",
       "      <td>15.40</td>\n",
       "    </tr>\n",
       "    <tr>\n",
       "      <th>1</th>\n",
       "      <td>2013</td>\n",
       "      <td>UKC2</td>\n",
       "      <td>2013</td>\n",
       "      <td>17.35</td>\n",
       "    </tr>\n",
       "    <tr>\n",
       "      <th>1</th>\n",
       "      <td>2011</td>\n",
       "      <td>UKC2</td>\n",
       "      <td>2010</td>\n",
       "      <td>17.76</td>\n",
       "    </tr>\n",
       "    <tr>\n",
       "      <th>2</th>\n",
       "      <td>2013</td>\n",
       "      <td>UKD1</td>\n",
       "      <td>2013</td>\n",
       "      <td>38.66</td>\n",
       "    </tr>\n",
       "    <tr>\n",
       "      <th>2</th>\n",
       "      <td>2011</td>\n",
       "      <td>UKD1</td>\n",
       "      <td>2010</td>\n",
       "      <td>37.62</td>\n",
       "    </tr>\n",
       "    <tr>\n",
       "      <th>3</th>\n",
       "      <td>2013</td>\n",
       "      <td>UKD3</td>\n",
       "      <td>2013</td>\n",
       "      <td>12.30</td>\n",
       "    </tr>\n",
       "    <tr>\n",
       "      <th>3</th>\n",
       "      <td>2011</td>\n",
       "      <td>UKD3</td>\n",
       "      <td>2010</td>\n",
       "      <td>11.61</td>\n",
       "    </tr>\n",
       "    <tr>\n",
       "      <th>4</th>\n",
       "      <td>2013</td>\n",
       "      <td>UKD4</td>\n",
       "      <td>2013</td>\n",
       "      <td>21.14</td>\n",
       "    </tr>\n",
       "    <tr>\n",
       "      <th>4</th>\n",
       "      <td>2011</td>\n",
       "      <td>UKD4</td>\n",
       "      <td>2010</td>\n",
       "      <td>20.25</td>\n",
       "    </tr>\n",
       "    <tr>\n",
       "      <th>5</th>\n",
       "      <td>2013</td>\n",
       "      <td>UKD6</td>\n",
       "      <td>2013</td>\n",
       "      <td>17.76</td>\n",
       "    </tr>\n",
       "    <tr>\n",
       "      <th>5</th>\n",
       "      <td>2011</td>\n",
       "      <td>UKD6</td>\n",
       "      <td>2010</td>\n",
       "      <td>17.65</td>\n",
       "    </tr>\n",
       "    <tr>\n",
       "      <th>6</th>\n",
       "      <td>2013</td>\n",
       "      <td>UKD7</td>\n",
       "      <td>2013</td>\n",
       "      <td>12.20</td>\n",
       "    </tr>\n",
       "    <tr>\n",
       "      <th>6</th>\n",
       "      <td>2011</td>\n",
       "      <td>UKD7</td>\n",
       "      <td>2010</td>\n",
       "      <td>11.78</td>\n",
       "    </tr>\n",
       "    <tr>\n",
       "      <th>7</th>\n",
       "      <td>2013</td>\n",
       "      <td>UKE1</td>\n",
       "      <td>2013</td>\n",
       "      <td>20.91</td>\n",
       "    </tr>\n",
       "    <tr>\n",
       "      <th>7</th>\n",
       "      <td>2011</td>\n",
       "      <td>UKE1</td>\n",
       "      <td>2010</td>\n",
       "      <td>19.85</td>\n",
       "    </tr>\n",
       "    <tr>\n",
       "      <th>8</th>\n",
       "      <td>2013</td>\n",
       "      <td>UKE2</td>\n",
       "      <td>2013</td>\n",
       "      <td>30.69</td>\n",
       "    </tr>\n",
       "    <tr>\n",
       "      <th>8</th>\n",
       "      <td>2011</td>\n",
       "      <td>UKE2</td>\n",
       "      <td>2010</td>\n",
       "      <td>28.64</td>\n",
       "    </tr>\n",
       "    <tr>\n",
       "      <th>9</th>\n",
       "      <td>2013</td>\n",
       "      <td>UKE3</td>\n",
       "      <td>2013</td>\n",
       "      <td>16.37</td>\n",
       "    </tr>\n",
       "    <tr>\n",
       "      <th>9</th>\n",
       "      <td>2011</td>\n",
       "      <td>UKE3</td>\n",
       "      <td>2010</td>\n",
       "      <td>15.27</td>\n",
       "    </tr>\n",
       "    <tr>\n",
       "      <th>10</th>\n",
       "      <td>2013</td>\n",
       "      <td>UKE4</td>\n",
       "      <td>2013</td>\n",
       "      <td>19.55</td>\n",
       "    </tr>\n",
       "    <tr>\n",
       "      <th>10</th>\n",
       "      <td>2011</td>\n",
       "      <td>UKE4</td>\n",
       "      <td>2010</td>\n",
       "      <td>18.11</td>\n",
       "    </tr>\n",
       "    <tr>\n",
       "      <th>11</th>\n",
       "      <td>2013</td>\n",
       "      <td>UKF1</td>\n",
       "      <td>2013</td>\n",
       "      <td>23.94</td>\n",
       "    </tr>\n",
       "    <tr>\n",
       "      <th>11</th>\n",
       "      <td>2011</td>\n",
       "      <td>UKF1</td>\n",
       "      <td>2010</td>\n",
       "      <td>22.08</td>\n",
       "    </tr>\n",
       "    <tr>\n",
       "      <th>12</th>\n",
       "      <td>2013</td>\n",
       "      <td>UKF2</td>\n",
       "      <td>2013</td>\n",
       "      <td>17.50</td>\n",
       "    </tr>\n",
       "    <tr>\n",
       "      <th>12</th>\n",
       "      <td>2011</td>\n",
       "      <td>UKF2</td>\n",
       "      <td>2010</td>\n",
       "      <td>17.06</td>\n",
       "    </tr>\n",
       "    <tr>\n",
       "      <th>13</th>\n",
       "      <td>2013</td>\n",
       "      <td>UKF3</td>\n",
       "      <td>2013</td>\n",
       "      <td>38.01</td>\n",
       "    </tr>\n",
       "    <tr>\n",
       "      <th>13</th>\n",
       "      <td>2011</td>\n",
       "      <td>UKF3</td>\n",
       "      <td>2010</td>\n",
       "      <td>36.81</td>\n",
       "    </tr>\n",
       "    <tr>\n",
       "      <th>14</th>\n",
       "      <td>2013</td>\n",
       "      <td>UKG1</td>\n",
       "      <td>2013</td>\n",
       "      <td>22.73</td>\n",
       "    </tr>\n",
       "    <tr>\n",
       "      <th>14</th>\n",
       "      <td>2011</td>\n",
       "      <td>UKG1</td>\n",
       "      <td>2010</td>\n",
       "      <td>22.34</td>\n",
       "    </tr>\n",
       "    <tr>\n",
       "      <th>...</th>\n",
       "      <td>...</td>\n",
       "      <td>...</td>\n",
       "      <td>...</td>\n",
       "      <td>...</td>\n",
       "    </tr>\n",
       "    <tr>\n",
       "      <th>17</th>\n",
       "      <td>2013</td>\n",
       "      <td>UKH1</td>\n",
       "      <td>2013</td>\n",
       "      <td>38.31</td>\n",
       "    </tr>\n",
       "    <tr>\n",
       "      <th>18</th>\n",
       "      <td>2013</td>\n",
       "      <td>UKH2</td>\n",
       "      <td>2013</td>\n",
       "      <td>20.07</td>\n",
       "    </tr>\n",
       "    <tr>\n",
       "      <th>18</th>\n",
       "      <td>2011</td>\n",
       "      <td>UKH2</td>\n",
       "      <td>2010</td>\n",
       "      <td>20.88</td>\n",
       "    </tr>\n",
       "    <tr>\n",
       "      <th>19</th>\n",
       "      <td>2013</td>\n",
       "      <td>UKH3</td>\n",
       "      <td>2013</td>\n",
       "      <td>21.17</td>\n",
       "    </tr>\n",
       "    <tr>\n",
       "      <th>19</th>\n",
       "      <td>2011</td>\n",
       "      <td>UKH3</td>\n",
       "      <td>2010</td>\n",
       "      <td>21.90</td>\n",
       "    </tr>\n",
       "    <tr>\n",
       "      <th>20</th>\n",
       "      <td>2011</td>\n",
       "      <td>UKI1</td>\n",
       "      <td>2010</td>\n",
       "      <td>27.78</td>\n",
       "    </tr>\n",
       "    <tr>\n",
       "      <th>21</th>\n",
       "      <td>2011</td>\n",
       "      <td>UKI2</td>\n",
       "      <td>2010</td>\n",
       "      <td>20.30</td>\n",
       "    </tr>\n",
       "    <tr>\n",
       "      <th>20</th>\n",
       "      <td>2013</td>\n",
       "      <td>UKI3</td>\n",
       "      <td>2013</td>\n",
       "      <td>27.78</td>\n",
       "    </tr>\n",
       "    <tr>\n",
       "      <th>21</th>\n",
       "      <td>2013</td>\n",
       "      <td>UKI4</td>\n",
       "      <td>2013</td>\n",
       "      <td>29.75</td>\n",
       "    </tr>\n",
       "    <tr>\n",
       "      <th>22</th>\n",
       "      <td>2013</td>\n",
       "      <td>UKI5</td>\n",
       "      <td>2013</td>\n",
       "      <td>19.49</td>\n",
       "    </tr>\n",
       "    <tr>\n",
       "      <th>23</th>\n",
       "      <td>2013</td>\n",
       "      <td>UKI6</td>\n",
       "      <td>2013</td>\n",
       "      <td>27.76</td>\n",
       "    </tr>\n",
       "    <tr>\n",
       "      <th>24</th>\n",
       "      <td>2013</td>\n",
       "      <td>UKI7</td>\n",
       "      <td>2013</td>\n",
       "      <td>17.10</td>\n",
       "    </tr>\n",
       "    <tr>\n",
       "      <th>25</th>\n",
       "      <td>2013</td>\n",
       "      <td>UKJ1</td>\n",
       "      <td>2013</td>\n",
       "      <td>20.11</td>\n",
       "    </tr>\n",
       "    <tr>\n",
       "      <th>22</th>\n",
       "      <td>2011</td>\n",
       "      <td>UKJ1</td>\n",
       "      <td>2010</td>\n",
       "      <td>18.81</td>\n",
       "    </tr>\n",
       "    <tr>\n",
       "      <th>23</th>\n",
       "      <td>2011</td>\n",
       "      <td>UKJ2</td>\n",
       "      <td>2010</td>\n",
       "      <td>29.60</td>\n",
       "    </tr>\n",
       "    <tr>\n",
       "      <th>26</th>\n",
       "      <td>2013</td>\n",
       "      <td>UKJ2</td>\n",
       "      <td>2013</td>\n",
       "      <td>31.01</td>\n",
       "    </tr>\n",
       "    <tr>\n",
       "      <th>27</th>\n",
       "      <td>2013</td>\n",
       "      <td>UKJ3</td>\n",
       "      <td>2013</td>\n",
       "      <td>15.82</td>\n",
       "    </tr>\n",
       "    <tr>\n",
       "      <th>24</th>\n",
       "      <td>2011</td>\n",
       "      <td>UKJ3</td>\n",
       "      <td>2010</td>\n",
       "      <td>15.42</td>\n",
       "    </tr>\n",
       "    <tr>\n",
       "      <th>25</th>\n",
       "      <td>2011</td>\n",
       "      <td>UKJ4</td>\n",
       "      <td>2010</td>\n",
       "      <td>18.04</td>\n",
       "    </tr>\n",
       "    <tr>\n",
       "      <th>28</th>\n",
       "      <td>2013</td>\n",
       "      <td>UKJ4</td>\n",
       "      <td>2013</td>\n",
       "      <td>19.00</td>\n",
       "    </tr>\n",
       "    <tr>\n",
       "      <th>29</th>\n",
       "      <td>2013</td>\n",
       "      <td>UKK1</td>\n",
       "      <td>2013</td>\n",
       "      <td>25.62</td>\n",
       "    </tr>\n",
       "    <tr>\n",
       "      <th>26</th>\n",
       "      <td>2011</td>\n",
       "      <td>UKK1</td>\n",
       "      <td>2010</td>\n",
       "      <td>22.94</td>\n",
       "    </tr>\n",
       "    <tr>\n",
       "      <th>30</th>\n",
       "      <td>2013</td>\n",
       "      <td>UKK2</td>\n",
       "      <td>2013</td>\n",
       "      <td>40.21</td>\n",
       "    </tr>\n",
       "    <tr>\n",
       "      <th>27</th>\n",
       "      <td>2011</td>\n",
       "      <td>UKK2</td>\n",
       "      <td>2010</td>\n",
       "      <td>39.61</td>\n",
       "    </tr>\n",
       "    <tr>\n",
       "      <th>28</th>\n",
       "      <td>2011</td>\n",
       "      <td>UKK3</td>\n",
       "      <td>2010</td>\n",
       "      <td>94.85</td>\n",
       "    </tr>\n",
       "    <tr>\n",
       "      <th>31</th>\n",
       "      <td>2013</td>\n",
       "      <td>UKK3</td>\n",
       "      <td>2013</td>\n",
       "      <td>92.75</td>\n",
       "    </tr>\n",
       "    <tr>\n",
       "      <th>32</th>\n",
       "      <td>2013</td>\n",
       "      <td>UKK4</td>\n",
       "      <td>2013</td>\n",
       "      <td>40.46</td>\n",
       "    </tr>\n",
       "    <tr>\n",
       "      <th>29</th>\n",
       "      <td>2011</td>\n",
       "      <td>UKK4</td>\n",
       "      <td>2010</td>\n",
       "      <td>40.54</td>\n",
       "    </tr>\n",
       "    <tr>\n",
       "      <th>30</th>\n",
       "      <td>2011</td>\n",
       "      <td>UKL1</td>\n",
       "      <td>2010</td>\n",
       "      <td>70.76</td>\n",
       "    </tr>\n",
       "    <tr>\n",
       "      <th>31</th>\n",
       "      <td>2011</td>\n",
       "      <td>UKL2</td>\n",
       "      <td>2010</td>\n",
       "      <td>37.92</td>\n",
       "    </tr>\n",
       "  </tbody>\n",
       "</table>\n",
       "<p>65 rows × 4 columns</p>\n",
       "</div>"
      ],
      "text/plain": [
       "    year nuts_id  nuts_year_spec  road_junction_time\n",
       "0   2011    UKC1            2010               14.98\n",
       "0   2013    UKC1            2013               15.40\n",
       "1   2013    UKC2            2013               17.35\n",
       "1   2011    UKC2            2010               17.76\n",
       "2   2013    UKD1            2013               38.66\n",
       "2   2011    UKD1            2010               37.62\n",
       "3   2013    UKD3            2013               12.30\n",
       "3   2011    UKD3            2010               11.61\n",
       "4   2013    UKD4            2013               21.14\n",
       "4   2011    UKD4            2010               20.25\n",
       "5   2013    UKD6            2013               17.76\n",
       "5   2011    UKD6            2010               17.65\n",
       "6   2013    UKD7            2013               12.20\n",
       "6   2011    UKD7            2010               11.78\n",
       "7   2013    UKE1            2013               20.91\n",
       "7   2011    UKE1            2010               19.85\n",
       "8   2013    UKE2            2013               30.69\n",
       "8   2011    UKE2            2010               28.64\n",
       "9   2013    UKE3            2013               16.37\n",
       "9   2011    UKE3            2010               15.27\n",
       "10  2013    UKE4            2013               19.55\n",
       "10  2011    UKE4            2010               18.11\n",
       "11  2013    UKF1            2013               23.94\n",
       "11  2011    UKF1            2010               22.08\n",
       "12  2013    UKF2            2013               17.50\n",
       "12  2011    UKF2            2010               17.06\n",
       "13  2013    UKF3            2013               38.01\n",
       "13  2011    UKF3            2010               36.81\n",
       "14  2013    UKG1            2013               22.73\n",
       "14  2011    UKG1            2010               22.34\n",
       "..   ...     ...             ...                 ...\n",
       "17  2013    UKH1            2013               38.31\n",
       "18  2013    UKH2            2013               20.07\n",
       "18  2011    UKH2            2010               20.88\n",
       "19  2013    UKH3            2013               21.17\n",
       "19  2011    UKH3            2010               21.90\n",
       "20  2011    UKI1            2010               27.78\n",
       "21  2011    UKI2            2010               20.30\n",
       "20  2013    UKI3            2013               27.78\n",
       "21  2013    UKI4            2013               29.75\n",
       "22  2013    UKI5            2013               19.49\n",
       "23  2013    UKI6            2013               27.76\n",
       "24  2013    UKI7            2013               17.10\n",
       "25  2013    UKJ1            2013               20.11\n",
       "22  2011    UKJ1            2010               18.81\n",
       "23  2011    UKJ2            2010               29.60\n",
       "26  2013    UKJ2            2013               31.01\n",
       "27  2013    UKJ3            2013               15.82\n",
       "24  2011    UKJ3            2010               15.42\n",
       "25  2011    UKJ4            2010               18.04\n",
       "28  2013    UKJ4            2013               19.00\n",
       "29  2013    UKK1            2013               25.62\n",
       "26  2011    UKK1            2010               22.94\n",
       "30  2013    UKK2            2013               40.21\n",
       "27  2011    UKK2            2010               39.61\n",
       "28  2011    UKK3            2010               94.85\n",
       "31  2013    UKK3            2013               92.75\n",
       "32  2013    UKK4            2013               40.46\n",
       "29  2011    UKK4            2010               40.54\n",
       "30  2011    UKL1            2010               70.76\n",
       "31  2011    UKL2            2010               37.92\n",
       "\n",
       "[65 rows x 4 columns]"
      ]
     },
     "execution_count": 160,
     "metadata": {},
     "output_type": "execute_result"
    }
   ],
   "source": [
    "df_road_nuts2 = df_road_nuts2.sort_values(by='nuts_id')"
   ]
  },
  {
   "cell_type": "markdown",
   "metadata": {
    "heading_collapsed": true,
    "hidden": true
   },
   "source": [
    "### NUTS 3"
   ]
  },
  {
   "cell_type": "code",
   "execution_count": 161,
   "metadata": {
    "hidden": true
   },
   "outputs": [
    {
     "name": "stdout",
     "output_type": "stream",
     "text": [
      "2020-10-07 11:43:33,544 - beis_indicators.geo.coders - INFO - Loading NUTS 3 2016 boundaries\n",
      "2020-10-07 11:43:38,743 - beis_indicators.geo.coders - INFO - Loading NUTS 3 2021 boundaries\n",
      "2020-10-07 11:43:44,247 - beis_indicators.geo.coders - INFO - Loading NUTS 3 2003 boundaries\n",
      "2020-10-07 11:43:52,020 - beis_indicators.geo.coders - INFO - Loading NUTS 3 2006 boundaries\n",
      "2020-10-07 11:44:08,953 - beis_indicators.geo.coders - INFO - Loading NUTS 3 2010 boundaries\n",
      "2020-10-07 11:44:16,670 - beis_indicators.geo.coders - INFO - Loading NUTS 3 2013 boundaries\n"
     ]
    },
    {
     "name": "stderr",
     "output_type": "stream",
     "text": [
      "/mnt/c/Users/aotubusen/Documents/DS Projects/beis_2020/beis-indicators/ds/beis_indicators/geo/coders.py:45: UserWarning: CRS mismatch between the CRS of left geometries and the CRS of right geometries.\n",
      "Use `to_crs()` to reproject one of the input geometries to match the CRS of the other.\n",
      "\n",
      "Left CRS: None\n",
      "Right CRS: EPSG:4326\n",
      "\n",
      "  joined = gpd.sjoin(points, shape, op='within', how='right')\n",
      "/mnt/c/Users/aotubusen/Documents/DS Projects/beis_2020/beis-indicators/ds/beis_indicators/geo/coders.py:45: UserWarning: CRS mismatch between the CRS of left geometries and the CRS of right geometries.\n",
      "Use `to_crs()` to reproject one of the input geometries to match the CRS of the other.\n",
      "\n",
      "Left CRS: None\n",
      "Right CRS: EPSG:4326\n",
      "\n",
      "  joined = gpd.sjoin(points, shape, op='within', how='right')\n"
     ]
    }
   ],
   "source": [
    "df_road_nuts3 = points_to_indicator(df_road_latlon_11_13, value_col='RepTime', coder=NutsCoder(level=3),\n",
    "                    aggfunc=np.mean, value_rename='travel_to_junctions_time',\n",
    "                    projection='EPSG:4326', x_col='lon', y_col='lat')"
   ]
  },
  {
   "cell_type": "code",
   "execution_count": 164,
   "metadata": {
    "hidden": true
   },
   "outputs": [],
   "source": [
    "df_road_nuts3 = df_road_nuts3.sort_values(by='nuts_id')"
   ]
  },
  {
   "cell_type": "markdown",
   "metadata": {
    "heading_collapsed": true,
    "hidden": true
   },
   "source": [
    "### LEP"
   ]
  },
  {
   "cell_type": "code",
   "execution_count": 162,
   "metadata": {
    "hidden": true,
    "scrolled": true
   },
   "outputs": [
    {
     "name": "stdout",
     "output_type": "stream",
     "text": [
      "2020-10-07 11:45:08,832 - beis_indicators.geo.coders - INFO - Loading LEP 2014 boundaries\n",
      "2020-10-07 11:45:18,698 - beis_indicators.geo.coders - INFO - Loading LEP 2017 boundaries\n",
      "2020-10-07 11:45:29,570 - beis_indicators.geo.coders - INFO - Loading LEP 2020 boundaries\n"
     ]
    },
    {
     "name": "stderr",
     "output_type": "stream",
     "text": [
      "/mnt/c/Users/aotubusen/Documents/DS Projects/beis_2020/beis-indicators/ds/beis_indicators/geo/coders.py:45: UserWarning: CRS mismatch between the CRS of left geometries and the CRS of right geometries.\n",
      "Use `to_crs()` to reproject one of the input geometries to match the CRS of the other.\n",
      "\n",
      "Left CRS: None\n",
      "Right CRS: EPSG:4326\n",
      "\n",
      "  joined = gpd.sjoin(points, shape, op='within', how='right')\n",
      "/mnt/c/Users/aotubusen/Documents/DS Projects/beis_2020/beis-indicators/ds/beis_indicators/geo/coders.py:45: UserWarning: CRS mismatch between the CRS of left geometries and the CRS of right geometries.\n",
      "Use `to_crs()` to reproject one of the input geometries to match the CRS of the other.\n",
      "\n",
      "Left CRS: None\n",
      "Right CRS: EPSG:4326\n",
      "\n",
      "  joined = gpd.sjoin(points, shape, op='within', how='right')\n"
     ]
    }
   ],
   "source": [
    "df_road_lep = points_to_indicator(df_road_latlon_11_13, value_col='RepTime', coder=LepCoder(),\n",
    "                    aggfunc=np.mean, value_rename='travel_to_junctions_time',\n",
    "                    projection='EPSG:4326', x_col='lon', y_col='lat')"
   ]
  },
  {
   "cell_type": "code",
   "execution_count": 166,
   "metadata": {
    "hidden": true
   },
   "outputs": [],
   "source": [
    "df_road_lep = df_road_lep.sort_values(by='lep_id')"
   ]
  },
  {
   "cell_type": "markdown",
   "metadata": {
    "heading_collapsed": true
   },
   "source": [
    "## Airport"
   ]
  },
  {
   "cell_type": "markdown",
   "metadata": {
    "hidden": true
   },
   "source": [
    "Method: Closest airport \n",
    "\n",
    "Time of Day: AM\n",
    "\n",
    "Mode of transport: Car"
   ]
  },
  {
   "cell_type": "code",
   "execution_count": 176,
   "metadata": {
    "hidden": true
   },
   "outputs": [],
   "source": [
    "df_air_11 = pd.read_csv('../../data/raw/travel/Airports-travel-times/Airports_HW_AM.csv')\n",
    "df_air_13 = pd.read_csv('../../data/raw/travel/2013_Airports_HW_AM.csv')"
   ]
  },
  {
   "cell_type": "code",
   "execution_count": 177,
   "metadata": {
    "hidden": true
   },
   "outputs": [],
   "source": [
    "df_air_filter_11 = df_air_11[df_air_11['NearOrder'] <= 0]\n",
    "df_air_filter_13 = df_air_13[df_air_13['NearOrder'] <= 0]"
   ]
  },
  {
   "cell_type": "code",
   "execution_count": 178,
   "metadata": {
    "hidden": true
   },
   "outputs": [
    {
     "name": "stdout",
     "output_type": "stream",
     "text": [
      "34288\n",
      "32754\n"
     ]
    }
   ],
   "source": [
    "print(len(df_air_filter_11))\n",
    "print(len(df_air_filter_13))"
   ]
  },
  {
   "cell_type": "code",
   "execution_count": 179,
   "metadata": {
    "hidden": true
   },
   "outputs": [],
   "source": [
    "df_air_filter_11.reset_index(inplace=True, drop=True)\n",
    "df_air_filter_13.reset_index(inplace=True, drop=True)"
   ]
  },
  {
   "cell_type": "code",
   "execution_count": 189,
   "metadata": {
    "hidden": true
   },
   "outputs": [],
   "source": [
    "df_air_lat_lon = df_air_filter_11.merge(lsoa_shp_geo_re_01, on='LSOA_code', how='left')\n",
    "df_air_lat_lon_13 = df_air_filter_13.merge(lsoa_shp_geo_re_11, on='LSOA_code', how='left')"
   ]
  },
  {
   "cell_type": "code",
   "execution_count": 191,
   "metadata": {
    "hidden": true
   },
   "outputs": [],
   "source": [
    "df_air_lat_lon = df_air_lat_lon[['LSOA_code', 'RepTime', 'Percentage Services', 'uid', 'NearOrder', 'lon', 'lat']]\n",
    "df_air_lat_lon_13 = df_air_lat_lon_13[['LSOA_code', 'RepTime', 'Percentage Services', 'UID', 'NearOrder', 'lon', 'lat']]\n",
    "df_air_lat_lon_13.columns = ['LSOA_code', 'RepTime', 'Percentage Services', 'uid', 'NearOrder', 'lon', 'lat']"
   ]
  },
  {
   "cell_type": "code",
   "execution_count": 193,
   "metadata": {
    "hidden": true
   },
   "outputs": [],
   "source": [
    "df_air_lat_lon['year'] = [2011]*len(df_air_lat_lon)\n",
    "df_air_lat_lon_13['year'] = [2013]*len(df_air_lat_lon_13)"
   ]
  },
  {
   "cell_type": "code",
   "execution_count": 194,
   "metadata": {
    "hidden": true
   },
   "outputs": [],
   "source": [
    "df_air_latlon_11_13 = pd.concat([df_air_lat_lon, df_air_lat_lon_13]).reset_index(drop=True)"
   ]
  },
  {
   "cell_type": "markdown",
   "metadata": {
    "heading_collapsed": true,
    "hidden": true
   },
   "source": [
    "### NUTS 2"
   ]
  },
  {
   "cell_type": "code",
   "execution_count": 195,
   "metadata": {
    "hidden": true,
    "scrolled": true
   },
   "outputs": [
    {
     "name": "stdout",
     "output_type": "stream",
     "text": [
      "2020-10-07 11:56:57,366 - beis_indicators.geo.coders - INFO - Loading NUTS 2 2016 boundaries\n",
      "2020-10-07 11:57:00,784 - beis_indicators.geo.coders - INFO - Loading NUTS 2 2021 boundaries\n",
      "2020-10-07 11:57:04,136 - beis_indicators.geo.coders - INFO - Loading NUTS 2 2003 boundaries\n",
      "2020-10-07 11:57:09,219 - beis_indicators.geo.coders - INFO - Loading NUTS 2 2006 boundaries\n",
      "2020-10-07 11:57:19,688 - beis_indicators.geo.coders - INFO - Loading NUTS 2 2010 boundaries\n",
      "2020-10-07 11:57:24,463 - beis_indicators.geo.coders - INFO - Loading NUTS 2 2013 boundaries\n"
     ]
    },
    {
     "name": "stderr",
     "output_type": "stream",
     "text": [
      "/mnt/c/Users/aotubusen/Documents/DS Projects/beis_2020/beis-indicators/ds/beis_indicators/geo/coders.py:45: UserWarning: CRS mismatch between the CRS of left geometries and the CRS of right geometries.\n",
      "Use `to_crs()` to reproject one of the input geometries to match the CRS of the other.\n",
      "\n",
      "Left CRS: None\n",
      "Right CRS: EPSG:4326\n",
      "\n",
      "  joined = gpd.sjoin(points, shape, op='within', how='right')\n",
      "/mnt/c/Users/aotubusen/Documents/DS Projects/beis_2020/beis-indicators/ds/beis_indicators/geo/coders.py:45: UserWarning: CRS mismatch between the CRS of left geometries and the CRS of right geometries.\n",
      "Use `to_crs()` to reproject one of the input geometries to match the CRS of the other.\n",
      "\n",
      "Left CRS: None\n",
      "Right CRS: EPSG:4326\n",
      "\n",
      "  joined = gpd.sjoin(points, shape, op='within', how='right')\n"
     ]
    }
   ],
   "source": [
    "df_air_nuts2 = points_to_indicator(df_air_latlon_11_13, value_col='RepTime', coder=NutsCoder(level=2),\n",
    "                    aggfunc=np.mean, value_rename='travel_to_airport_time',\n",
    "                    projection='EPSG:4326', x_col='lon', y_col='lat')"
   ]
  },
  {
   "cell_type": "code",
   "execution_count": 196,
   "metadata": {
    "hidden": true
   },
   "outputs": [],
   "source": [
    "df_air_nuts2 = df_air_nuts2.sort_values(by='nuts_id')"
   ]
  },
  {
   "cell_type": "markdown",
   "metadata": {
    "heading_collapsed": true,
    "hidden": true
   },
   "source": [
    "### NUTS 3"
   ]
  },
  {
   "cell_type": "code",
   "execution_count": 199,
   "metadata": {
    "hidden": true
   },
   "outputs": [
    {
     "name": "stdout",
     "output_type": "stream",
     "text": [
      "2020-10-07 11:58:54,849 - beis_indicators.geo.coders - INFO - Loading NUTS 3 2016 boundaries\n",
      "2020-10-07 11:58:59,944 - beis_indicators.geo.coders - INFO - Loading NUTS 3 2021 boundaries\n",
      "2020-10-07 11:59:04,870 - beis_indicators.geo.coders - INFO - Loading NUTS 3 2003 boundaries\n",
      "2020-10-07 11:59:12,223 - beis_indicators.geo.coders - INFO - Loading NUTS 3 2006 boundaries\n",
      "2020-10-07 11:59:27,944 - beis_indicators.geo.coders - INFO - Loading NUTS 3 2010 boundaries\n",
      "2020-10-07 11:59:35,116 - beis_indicators.geo.coders - INFO - Loading NUTS 3 2013 boundaries\n"
     ]
    },
    {
     "name": "stderr",
     "output_type": "stream",
     "text": [
      "/mnt/c/Users/aotubusen/Documents/DS Projects/beis_2020/beis-indicators/ds/beis_indicators/geo/coders.py:45: UserWarning: CRS mismatch between the CRS of left geometries and the CRS of right geometries.\n",
      "Use `to_crs()` to reproject one of the input geometries to match the CRS of the other.\n",
      "\n",
      "Left CRS: None\n",
      "Right CRS: EPSG:4326\n",
      "\n",
      "  joined = gpd.sjoin(points, shape, op='within', how='right')\n",
      "/mnt/c/Users/aotubusen/Documents/DS Projects/beis_2020/beis-indicators/ds/beis_indicators/geo/coders.py:45: UserWarning: CRS mismatch between the CRS of left geometries and the CRS of right geometries.\n",
      "Use `to_crs()` to reproject one of the input geometries to match the CRS of the other.\n",
      "\n",
      "Left CRS: None\n",
      "Right CRS: EPSG:4326\n",
      "\n",
      "  joined = gpd.sjoin(points, shape, op='within', how='right')\n"
     ]
    }
   ],
   "source": [
    "df_air_nuts3 = points_to_indicator(df_air_latlon_11_13, value_col='RepTime', coder=NutsCoder(level=3),\n",
    "                    aggfunc=np.mean, value_rename='travel_to_airport_time',\n",
    "                    projection='EPSG:4326', x_col='lon', y_col='lat')"
   ]
  },
  {
   "cell_type": "code",
   "execution_count": 200,
   "metadata": {
    "hidden": true
   },
   "outputs": [],
   "source": [
    "df_air_nuts3 = df_air_nuts3.sort_values(by='nuts_id')"
   ]
  },
  {
   "cell_type": "markdown",
   "metadata": {
    "heading_collapsed": true,
    "hidden": true
   },
   "source": [
    "### LEP"
   ]
  },
  {
   "cell_type": "code",
   "execution_count": 202,
   "metadata": {
    "hidden": true,
    "scrolled": true
   },
   "outputs": [
    {
     "name": "stdout",
     "output_type": "stream",
     "text": [
      "2020-10-07 12:00:39,995 - beis_indicators.geo.coders - INFO - Loading LEP 2014 boundaries\n",
      "2020-10-07 12:00:49,482 - beis_indicators.geo.coders - INFO - Loading LEP 2017 boundaries\n",
      "2020-10-07 12:00:58,745 - beis_indicators.geo.coders - INFO - Loading LEP 2020 boundaries\n"
     ]
    },
    {
     "name": "stderr",
     "output_type": "stream",
     "text": [
      "/mnt/c/Users/aotubusen/Documents/DS Projects/beis_2020/beis-indicators/ds/beis_indicators/geo/coders.py:45: UserWarning: CRS mismatch between the CRS of left geometries and the CRS of right geometries.\n",
      "Use `to_crs()` to reproject one of the input geometries to match the CRS of the other.\n",
      "\n",
      "Left CRS: None\n",
      "Right CRS: EPSG:4326\n",
      "\n",
      "  joined = gpd.sjoin(points, shape, op='within', how='right')\n",
      "/mnt/c/Users/aotubusen/Documents/DS Projects/beis_2020/beis-indicators/ds/beis_indicators/geo/coders.py:45: UserWarning: CRS mismatch between the CRS of left geometries and the CRS of right geometries.\n",
      "Use `to_crs()` to reproject one of the input geometries to match the CRS of the other.\n",
      "\n",
      "Left CRS: None\n",
      "Right CRS: EPSG:4326\n",
      "\n",
      "  joined = gpd.sjoin(points, shape, op='within', how='right')\n"
     ]
    }
   ],
   "source": [
    "df_air_lep = points_to_indicator(df_air_latlon_11_13, value_col='RepTime', coder=LepCoder(),\n",
    "                    aggfunc=np.mean, value_rename='travel_to_airport_time',\n",
    "                    projection='EPSG:4326', x_col='lon', y_col='lat')"
   ]
  },
  {
   "cell_type": "code",
   "execution_count": 203,
   "metadata": {
    "hidden": true
   },
   "outputs": [],
   "source": [
    "df_air_lep = df_air_lep.sort_values(by='lep_id')"
   ]
  },
  {
   "cell_type": "markdown",
   "metadata": {
    "heading_collapsed": true
   },
   "source": [
    "## Rail Stations"
   ]
  },
  {
   "cell_type": "markdown",
   "metadata": {
    "hidden": true
   },
   "source": [
    "Method: Closest rail station \n",
    "\n",
    "Time of Day: AM\n",
    "\n",
    "Mode of transport: Car"
   ]
  },
  {
   "cell_type": "code",
   "execution_count": 132,
   "metadata": {
    "hidden": true
   },
   "outputs": [],
   "source": [
    "df_rail_11 = pd.read_csv('../../data/raw/travel/Rail-stations-travel-times/Stations_HW_AM.csv')\n",
    "df_rail_13 = pd.read_csv('../../data/raw/travel/2013_Stations_HW_AM.csv')"
   ]
  },
  {
   "cell_type": "code",
   "execution_count": 133,
   "metadata": {
    "hidden": true
   },
   "outputs": [],
   "source": [
    "df_rail_filter_11 = df_rail_11[df_rail_11['NearOrder'] <= 0]\n",
    "df_rail_filter_13 = df_rail_13[df_rail_13['NearOrder'] <= 0]"
   ]
  },
  {
   "cell_type": "code",
   "execution_count": 134,
   "metadata": {
    "hidden": true
   },
   "outputs": [
    {
     "data": {
      "text/plain": [
       "34288"
      ]
     },
     "execution_count": 134,
     "metadata": {},
     "output_type": "execute_result"
    }
   ],
   "source": [
    "print(len(df_rail_filter_11))\n",
    "print(len(df_rail_filter_13))"
   ]
  },
  {
   "cell_type": "code",
   "execution_count": 135,
   "metadata": {
    "hidden": true
   },
   "outputs": [],
   "source": [
    "df_rail_filter_11.reset_index(inplace=True, drop=True)\n",
    "df_rail_filter_13.reset_index(inplace=True, drop=True)"
   ]
  },
  {
   "cell_type": "code",
   "execution_count": 136,
   "metadata": {
    "hidden": true
   },
   "outputs": [],
   "source": [
    "df_rail_lat_lon = df_rail_filter_11.merge(lsoa_shp_geo_re_01, on='LSOA_code', how='left')\n",
    "df_rail_lat_lon_13 = df_rail_filter_13.merge(lsoa_shp_geo_re_11, on='LSOA_code', how='left')"
   ]
  },
  {
   "cell_type": "code",
   "execution_count": 137,
   "metadata": {
    "hidden": true
   },
   "outputs": [],
   "source": [
    "df_rail_lat_lon = df_rail_lat_lon[['LSOA_code', 'RepTime', 'Percentage Services', 'uid', 'NearOrder', 'lon', 'lat']]\n",
    "df_rail_lat_lon_13 = df_rail_lat_lon_13[['LSOA_code', 'RepTime', 'Percentage Services', 'UID', 'NearOrder', 'lon', 'lat']]\n",
    "df_rail_lat_lon_13.columns = ['LSOA_code', 'RepTime', 'Percentage Services', 'uid', 'NearOrder', 'lon', 'lat']"
   ]
  },
  {
   "cell_type": "code",
   "execution_count": null,
   "metadata": {
    "hidden": true
   },
   "outputs": [],
   "source": [
    "df_rail_lat_lon['year'] = [2011]*len(df_rail_lat_lon)\n",
    "df_rail_lat_lon_13['year'] = [2013]*len(df_rail_lat_lon_13)"
   ]
  },
  {
   "cell_type": "code",
   "execution_count": null,
   "metadata": {
    "hidden": true
   },
   "outputs": [],
   "source": [
    "df_rail_latlon_11_13 = pd.concat([df_rail_lat_lon, df_rail_lat_lon_13]).reset_index(drop=True)"
   ]
  },
  {
   "cell_type": "markdown",
   "metadata": {
    "heading_collapsed": true,
    "hidden": true
   },
   "source": [
    "### NUTS 2"
   ]
  },
  {
   "cell_type": "code",
   "execution_count": 195,
   "metadata": {
    "hidden": true,
    "scrolled": true
   },
   "outputs": [
    {
     "name": "stdout",
     "output_type": "stream",
     "text": [
      "2020-10-07 11:56:57,366 - beis_indicators.geo.coders - INFO - Loading NUTS 2 2016 boundaries\n",
      "2020-10-07 11:57:00,784 - beis_indicators.geo.coders - INFO - Loading NUTS 2 2021 boundaries\n",
      "2020-10-07 11:57:04,136 - beis_indicators.geo.coders - INFO - Loading NUTS 2 2003 boundaries\n",
      "2020-10-07 11:57:09,219 - beis_indicators.geo.coders - INFO - Loading NUTS 2 2006 boundaries\n",
      "2020-10-07 11:57:19,688 - beis_indicators.geo.coders - INFO - Loading NUTS 2 2010 boundaries\n",
      "2020-10-07 11:57:24,463 - beis_indicators.geo.coders - INFO - Loading NUTS 2 2013 boundaries\n"
     ]
    },
    {
     "name": "stderr",
     "output_type": "stream",
     "text": [
      "/mnt/c/Users/aotubusen/Documents/DS Projects/beis_2020/beis-indicators/ds/beis_indicators/geo/coders.py:45: UserWarning: CRS mismatch between the CRS of left geometries and the CRS of right geometries.\n",
      "Use `to_crs()` to reproject one of the input geometries to match the CRS of the other.\n",
      "\n",
      "Left CRS: None\n",
      "Right CRS: EPSG:4326\n",
      "\n",
      "  joined = gpd.sjoin(points, shape, op='within', how='right')\n",
      "/mnt/c/Users/aotubusen/Documents/DS Projects/beis_2020/beis-indicators/ds/beis_indicators/geo/coders.py:45: UserWarning: CRS mismatch between the CRS of left geometries and the CRS of right geometries.\n",
      "Use `to_crs()` to reproject one of the input geometries to match the CRS of the other.\n",
      "\n",
      "Left CRS: None\n",
      "Right CRS: EPSG:4326\n",
      "\n",
      "  joined = gpd.sjoin(points, shape, op='within', how='right')\n"
     ]
    }
   ],
   "source": [
    "df_rail_nuts2 = points_to_indicator(df_rail_latlon_11_13, value_col='RepTime', coder=NutsCoder(level=2),\n",
    "                    aggfunc=np.mean, value_rename='travel_to_rail_time',\n",
    "                    projection='EPSG:4326', x_col='lon', y_col='lat')"
   ]
  },
  {
   "cell_type": "code",
   "execution_count": null,
   "metadata": {
    "hidden": true
   },
   "outputs": [],
   "source": [
    "df_rail_nuts2 = df_rail_nuts2.sort_values(by='nuts_id')"
   ]
  },
  {
   "cell_type": "markdown",
   "metadata": {
    "heading_collapsed": true,
    "hidden": true
   },
   "source": [
    "### NUTS 3"
   ]
  },
  {
   "cell_type": "code",
   "execution_count": 199,
   "metadata": {
    "hidden": true
   },
   "outputs": [
    {
     "name": "stdout",
     "output_type": "stream",
     "text": [
      "2020-10-07 11:58:54,849 - beis_indicators.geo.coders - INFO - Loading NUTS 3 2016 boundaries\n",
      "2020-10-07 11:58:59,944 - beis_indicators.geo.coders - INFO - Loading NUTS 3 2021 boundaries\n",
      "2020-10-07 11:59:04,870 - beis_indicators.geo.coders - INFO - Loading NUTS 3 2003 boundaries\n",
      "2020-10-07 11:59:12,223 - beis_indicators.geo.coders - INFO - Loading NUTS 3 2006 boundaries\n",
      "2020-10-07 11:59:27,944 - beis_indicators.geo.coders - INFO - Loading NUTS 3 2010 boundaries\n",
      "2020-10-07 11:59:35,116 - beis_indicators.geo.coders - INFO - Loading NUTS 3 2013 boundaries\n"
     ]
    },
    {
     "name": "stderr",
     "output_type": "stream",
     "text": [
      "/mnt/c/Users/aotubusen/Documents/DS Projects/beis_2020/beis-indicators/ds/beis_indicators/geo/coders.py:45: UserWarning: CRS mismatch between the CRS of left geometries and the CRS of right geometries.\n",
      "Use `to_crs()` to reproject one of the input geometries to match the CRS of the other.\n",
      "\n",
      "Left CRS: None\n",
      "Right CRS: EPSG:4326\n",
      "\n",
      "  joined = gpd.sjoin(points, shape, op='within', how='right')\n",
      "/mnt/c/Users/aotubusen/Documents/DS Projects/beis_2020/beis-indicators/ds/beis_indicators/geo/coders.py:45: UserWarning: CRS mismatch between the CRS of left geometries and the CRS of right geometries.\n",
      "Use `to_crs()` to reproject one of the input geometries to match the CRS of the other.\n",
      "\n",
      "Left CRS: None\n",
      "Right CRS: EPSG:4326\n",
      "\n",
      "  joined = gpd.sjoin(points, shape, op='within', how='right')\n"
     ]
    }
   ],
   "source": [
    "df_rail_nuts3 = points_to_indicator(df_rail_latlon_11_13, value_col='RepTime', coder=NutsCoder(level=3),\n",
    "                    aggfunc=np.mean, value_rename='travel_to_rail_time',\n",
    "                    projection='EPSG:4326', x_col='lon', y_col='lat')"
   ]
  },
  {
   "cell_type": "code",
   "execution_count": null,
   "metadata": {
    "hidden": true
   },
   "outputs": [],
   "source": [
    "df_rail_nuts3 = df_rail_nuts3.sort_values(by='nuts_id')"
   ]
  },
  {
   "cell_type": "markdown",
   "metadata": {
    "heading_collapsed": true,
    "hidden": true
   },
   "source": [
    "### LEP"
   ]
  },
  {
   "cell_type": "code",
   "execution_count": 202,
   "metadata": {
    "hidden": true,
    "scrolled": true
   },
   "outputs": [
    {
     "name": "stdout",
     "output_type": "stream",
     "text": [
      "2020-10-07 12:00:39,995 - beis_indicators.geo.coders - INFO - Loading LEP 2014 boundaries\n",
      "2020-10-07 12:00:49,482 - beis_indicators.geo.coders - INFO - Loading LEP 2017 boundaries\n",
      "2020-10-07 12:00:58,745 - beis_indicators.geo.coders - INFO - Loading LEP 2020 boundaries\n"
     ]
    },
    {
     "name": "stderr",
     "output_type": "stream",
     "text": [
      "/mnt/c/Users/aotubusen/Documents/DS Projects/beis_2020/beis-indicators/ds/beis_indicators/geo/coders.py:45: UserWarning: CRS mismatch between the CRS of left geometries and the CRS of right geometries.\n",
      "Use `to_crs()` to reproject one of the input geometries to match the CRS of the other.\n",
      "\n",
      "Left CRS: None\n",
      "Right CRS: EPSG:4326\n",
      "\n",
      "  joined = gpd.sjoin(points, shape, op='within', how='right')\n",
      "/mnt/c/Users/aotubusen/Documents/DS Projects/beis_2020/beis-indicators/ds/beis_indicators/geo/coders.py:45: UserWarning: CRS mismatch between the CRS of left geometries and the CRS of right geometries.\n",
      "Use `to_crs()` to reproject one of the input geometries to match the CRS of the other.\n",
      "\n",
      "Left CRS: None\n",
      "Right CRS: EPSG:4326\n",
      "\n",
      "  joined = gpd.sjoin(points, shape, op='within', how='right')\n"
     ]
    }
   ],
   "source": [
    "df_rail_lep = points_to_indicator(df_air_latlon_11_13, value_col='RepTime', coder=LepCoder(),\n",
    "                    aggfunc=np.mean, value_rename='travel_to_rail_time',\n",
    "                    projection='EPSG:4326', x_col='lon', y_col='lat')"
   ]
  },
  {
   "cell_type": "code",
   "execution_count": 203,
   "metadata": {
    "hidden": true
   },
   "outputs": [],
   "source": [
    "df_rail_lep = df_rail_lep.sort_values(by='lep_id')"
   ]
  },
  {
   "cell_type": "code",
   "execution_count": null,
   "metadata": {
    "hidden": true
   },
   "outputs": [],
   "source": []
  },
  {
   "cell_type": "markdown",
   "metadata": {},
   "source": [
    "## Travel to Work"
   ]
  },
  {
   "cell_type": "code",
   "execution_count": null,
   "metadata": {},
   "outputs": [],
   "source": []
  }
 ],
 "metadata": {
  "kernelspec": {
   "display_name": "Python 3",
   "language": "python",
   "name": "python3"
  },
  "language_info": {
   "codemirror_mode": {
    "name": "ipython",
    "version": 3
   },
   "file_extension": ".py",
   "mimetype": "text/x-python",
   "name": "python",
   "nbconvert_exporter": "python",
   "pygments_lexer": "ipython3",
   "version": "3.6.5"
  },
  "toc": {
   "base_numbering": 1,
   "nav_menu": {},
   "number_sections": true,
   "sideBar": true,
   "skip_h1_title": false,
   "title_cell": "Table of Contents",
   "title_sidebar": "Contents",
   "toc_cell": false,
   "toc_position": {},
   "toc_section_display": true,
   "toc_window_display": false
  }
 },
 "nbformat": 4,
 "nbformat_minor": 2
}
