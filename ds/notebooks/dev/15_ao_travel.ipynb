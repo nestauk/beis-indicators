{
 "cells": [
  {
   "cell_type": "code",
   "execution_count": 259,
   "metadata": {},
   "outputs": [
    {
     "name": "stdout",
     "output_type": "stream",
     "text": [
      "The autoreload extension is already loaded. To reload it, use:\n",
      "  %reload_ext autoreload\n"
     ]
    }
   ],
   "source": [
    "%load_ext autoreload\n",
    "%autoreload 2"
   ]
  },
  {
   "cell_type": "code",
   "execution_count": 260,
   "metadata": {
    "scrolled": true
   },
   "outputs": [
    {
     "name": "stdout",
     "output_type": "stream",
     "text": [
      "The autoreload extension is already loaded. To reload it, use:\n",
      "  %reload_ext autoreload\n"
     ]
    }
   ],
   "source": [
    "%run ../notebook_preamble.ipy"
   ]
  },
  {
   "cell_type": "code",
   "execution_count": 261,
   "metadata": {},
   "outputs": [],
   "source": [
    "import geopandas as gpd"
   ]
  },
  {
   "cell_type": "code",
   "execution_count": 262,
   "metadata": {},
   "outputs": [],
   "source": [
    "import os"
   ]
  },
  {
   "cell_type": "code",
   "execution_count": 263,
   "metadata": {},
   "outputs": [],
   "source": [
    "from urllib.request import urlretrieve\n",
    "from zipfile import ZipFile\n",
    "from beis_indicators import project_dir"
   ]
  },
  {
   "cell_type": "code",
   "execution_count": 264,
   "metadata": {},
   "outputs": [],
   "source": [
    "from beis_indicators.geo.coders import NutsCoder, LepCoder\n",
    "# from beis_indicators.geo.nuts import auto_nuts2_uk\n",
    "from beis_indicators.indicators import points_to_indicator"
   ]
  },
  {
   "cell_type": "code",
   "execution_count": 265,
   "metadata": {},
   "outputs": [],
   "source": [
    "lsoa_shp_01 = gpd.read_file('../../data/raw/Lower_Layer_Super_Output_Areas__December_2001__EW_BGC-shp/Lower_Layer_Super_Output_Areas__December_2001__EW_BGC.shp')\n",
    "lsoa_shp_11 = gpd.read_file('../../data/raw/Lower_Layer_Super_Output_Areas__December_2011__Boundaries_EW_BGC_v3-shp/Lower_Layer_Super_Output_Areas__December_2011__Boundaries_EW_BGC_v3.shp')"
   ]
  },
  {
   "cell_type": "code",
   "execution_count": 266,
   "metadata": {},
   "outputs": [],
   "source": [
    "# LSOA to lon/lat\n",
    "lsoa_shp_geo_01 = lsoa_shp_01.to_crs(epsg=4326)\n",
    "lsoa_shp_geo_11 = lsoa_shp_11.to_crs(epsg=4326)"
   ]
  },
  {
   "cell_type": "code",
   "execution_count": 267,
   "metadata": {
    "scrolled": true
   },
   "outputs": [
    {
     "data": {
      "text/html": [
       "<div>\n",
       "<style scoped>\n",
       "    .dataframe tbody tr th:only-of-type {\n",
       "        vertical-align: middle;\n",
       "    }\n",
       "\n",
       "    .dataframe tbody tr th {\n",
       "        vertical-align: top;\n",
       "    }\n",
       "\n",
       "    .dataframe thead th {\n",
       "        text-align: right;\n",
       "    }\n",
       "</style>\n",
       "<table border=\"1\" class=\"dataframe\">\n",
       "  <thead>\n",
       "    <tr style=\"text-align: right;\">\n",
       "      <th></th>\n",
       "      <th>OBJECTID</th>\n",
       "      <th>LSOA11CD</th>\n",
       "      <th>LSOA11NM</th>\n",
       "      <th>LSOA11NMW</th>\n",
       "      <th>Age_Indica</th>\n",
       "      <th>Shape__Are</th>\n",
       "      <th>Shape__Len</th>\n",
       "      <th>geometry</th>\n",
       "    </tr>\n",
       "  </thead>\n",
       "  <tbody>\n",
       "    <tr>\n",
       "      <th>0</th>\n",
       "      <td>1</td>\n",
       "      <td>E01000001</td>\n",
       "      <td>City of London 001A</td>\n",
       "      <td>City of London 001A</td>\n",
       "      <td>0</td>\n",
       "      <td>133320.768867</td>\n",
       "      <td>2291.846072</td>\n",
       "      <td>POLYGON ((-0.0972886732320328 51.5215770420208...</td>\n",
       "    </tr>\n",
       "    <tr>\n",
       "      <th>1</th>\n",
       "      <td>2</td>\n",
       "      <td>E01000002</td>\n",
       "      <td>City of London 001B</td>\n",
       "      <td>City of London 001B</td>\n",
       "      <td>0</td>\n",
       "      <td>226191.273003</td>\n",
       "      <td>2433.960112</td>\n",
       "      <td>POLYGON ((-0.08812915078150488 51.519410719510...</td>\n",
       "    </tr>\n",
       "  </tbody>\n",
       "</table>\n",
       "</div>"
      ],
      "text/plain": [
       "   OBJECTID   LSOA11CD             LSOA11NM            LSOA11NMW  Age_Indica  \\\n",
       "0         1  E01000001  City of London 001A  City of London 001A           0   \n",
       "1         2  E01000002  City of London 001B  City of London 001B           0   \n",
       "\n",
       "      Shape__Are   Shape__Len  \\\n",
       "0  133320.768867  2291.846072   \n",
       "1  226191.273003  2433.960112   \n",
       "\n",
       "                                            geometry  \n",
       "0  POLYGON ((-0.0972886732320328 51.5215770420208...  \n",
       "1  POLYGON ((-0.08812915078150488 51.519410719510...  "
      ]
     },
     "execution_count": 267,
     "metadata": {},
     "output_type": "execute_result"
    }
   ],
   "source": [
    "lsoa_shp_geo_11.head(2)"
   ]
  },
  {
   "cell_type": "code",
   "execution_count": 268,
   "metadata": {},
   "outputs": [],
   "source": [
    "# print(lsoa_shp_geo.iloc[0].geometry.centroid.x, lsoa_shp_geo.iloc[0].geometry.centroid.y)\n",
    "\n",
    "lsoa_shp_geo_01['lon'] = lsoa_shp_geo_01.geometry.apply(lambda i: i.centroid.x)\n",
    "lsoa_shp_geo_01['lat'] = lsoa_shp_geo_01.geometry.apply(lambda i: i.centroid.y)\n",
    "\n",
    "lsoa_shp_geo_11['lon'] = lsoa_shp_geo_11.geometry.apply(lambda i: i.centroid.x)\n",
    "lsoa_shp_geo_11['lat'] = lsoa_shp_geo_11.geometry.apply(lambda i: i.centroid.y)"
   ]
  },
  {
   "cell_type": "code",
   "execution_count": 269,
   "metadata": {},
   "outputs": [],
   "source": [
    "lsoa_shp_geo_re_01 = lsoa_shp_geo_01.rename(columns={'LSOA01CD':'LSOA_code'})\n",
    "lsoa_shp_geo_re_11 = lsoa_shp_geo_11.rename(columns={'LSOA11CD':'LSOA_code'})"
   ]
  },
  {
   "cell_type": "markdown",
   "metadata": {},
   "source": [
    "2011 data (England and Wales) uses 2001 LSOA data <br />\n",
    "2013 data (England only) uses 2011 LSOA data\n",
    "\n",
    "- Read more here: http://data.dft.gov.uk.s3.amazonaws.com/connectivity-data/Brief-guide-to-connectivity-travel-time-data_v2.pdf"
   ]
  },
  {
   "cell_type": "markdown",
   "metadata": {},
   "source": [
    "## Road Junctions"
   ]
  },
  {
   "cell_type": "markdown",
   "metadata": {},
   "source": [
    "Method: Averaging time over the nearest 5 road junctions \n",
    "\n",
    "Time of day: AM\n",
    "\n",
    "Mode of transport: Car"
   ]
  },
  {
   "cell_type": "code",
   "execution_count": 270,
   "metadata": {},
   "outputs": [],
   "source": [
    "#2011 data\n",
    "df_road = pd.read_csv('../../data/raw/travel/Road-junctions-travel-times/Junctions_HW_AM.csv')\n",
    "#2013 data\n",
    "df_road_13 = pd.read_csv('../../data/raw/travel/2013_Junctions_HW_AM.csv')"
   ]
  },
  {
   "cell_type": "code",
   "execution_count": 271,
   "metadata": {},
   "outputs": [
    {
     "name": "stdout",
     "output_type": "stream",
     "text": [
      "16869696\n",
      "16051932\n"
     ]
    }
   ],
   "source": [
    "print(len(df_road))\n",
    "print(len(df_road_13))"
   ]
  },
  {
   "cell_type": "code",
   "execution_count": 272,
   "metadata": {},
   "outputs": [],
   "source": [
    "df_road_filter = df_road[df_road['NearOrder'] <= 4]\n",
    "df_road_filter_13 = df_road_13[df_road_13['NearOrder'] <= 4]"
   ]
  },
  {
   "cell_type": "code",
   "execution_count": 273,
   "metadata": {},
   "outputs": [
    {
     "data": {
      "text/plain": [
       "163770"
      ]
     },
     "execution_count": 273,
     "metadata": {},
     "output_type": "execute_result"
    }
   ],
   "source": [
    "len(df_road_filter)\n",
    "len(df_road_filter_13)"
   ]
  },
  {
   "cell_type": "code",
   "execution_count": 274,
   "metadata": {},
   "outputs": [],
   "source": [
    "df_road_filter.reset_index(inplace=True, drop=True)\n",
    "df_road_filter_13.reset_index(inplace=True, drop=True)"
   ]
  },
  {
   "cell_type": "code",
   "execution_count": null,
   "metadata": {},
   "outputs": [],
   "source": []
  },
  {
   "cell_type": "code",
   "execution_count": 275,
   "metadata": {},
   "outputs": [],
   "source": [
    "df_road_lat_lon = df_road_filter.merge(lsoa_shp_geo_re_01, on='LSOA_code', how='left')#\n",
    "df_road_lat_lon_13 = df_road_filter_13.merge(lsoa_shp_geo_re_11, on='LSOA_code', how='left')"
   ]
  },
  {
   "cell_type": "code",
   "execution_count": 276,
   "metadata": {},
   "outputs": [],
   "source": [
    "df_road_lat_lon = df_road_lat_lon[['LSOA_code', 'RepTime', 'Percentage Services', 'uid', 'NearOrder', 'lon', 'lat']]\n",
    "df_road_lat_lon_13 = df_road_lat_lon_13[['LSOA_code', 'RepTime', 'Percentage Services', 'UID', 'NearOrder', 'lon', 'lat']]\n",
    "df_road_lat_lon_13.columns = ['LSOA_code', 'RepTime', 'Percentage Services', 'uid', 'NearOrder', 'lon', 'lat']"
   ]
  },
  {
   "cell_type": "code",
   "execution_count": 277,
   "metadata": {},
   "outputs": [],
   "source": [
    "df_road_lat_lon['year'] = 2011\n",
    "df_road_lat_lon_13['year'] = 2013"
   ]
  },
  {
   "cell_type": "code",
   "execution_count": 278,
   "metadata": {},
   "outputs": [],
   "source": [
    "df_road_latlon_11_13 = pd.concat([df_road_lat_lon, df_road_lat_lon_13]).reset_index(drop=True)"
   ]
  },
  {
   "cell_type": "markdown",
   "metadata": {},
   "source": [
    "### NUTS 2"
   ]
  },
  {
   "cell_type": "code",
   "execution_count": 279,
   "metadata": {},
   "outputs": [
    {
     "name": "stdout",
     "output_type": "stream",
     "text": [
      "2020-10-12 14:43:06,015 - beis_indicators.geo.coders - INFO - Loading NUTS 2 2016 boundaries\n",
      "2020-10-12 14:43:10,256 - beis_indicators.geo.coders - INFO - Loading NUTS 2 2021 boundaries\n",
      "2020-10-12 14:43:13,759 - beis_indicators.geo.coders - INFO - Loading NUTS 2 2003 boundaries\n",
      "2020-10-12 14:43:18,746 - beis_indicators.geo.coders - INFO - Loading NUTS 2 2006 boundaries\n",
      "2020-10-12 14:43:30,061 - beis_indicators.geo.coders - INFO - Loading NUTS 2 2010 boundaries\n",
      "2020-10-12 14:43:34,901 - beis_indicators.geo.coders - INFO - Loading NUTS 2 2013 boundaries\n"
     ]
    },
    {
     "name": "stderr",
     "output_type": "stream",
     "text": [
      "/mnt/c/Users/aotubusen/Documents/DS Projects/beis_2020/beis-indicators/ds/beis_indicators/geo/coders.py:45: UserWarning: CRS mismatch between the CRS of left geometries and the CRS of right geometries.\n",
      "Use `to_crs()` to reproject one of the input geometries to match the CRS of the other.\n",
      "\n",
      "Left CRS: None\n",
      "Right CRS: EPSG:4326\n",
      "\n",
      "  joined = gpd.sjoin(points, shape, op='within', how='right')\n",
      "/mnt/c/Users/aotubusen/Documents/DS Projects/beis_2020/beis-indicators/ds/beis_indicators/geo/coders.py:45: UserWarning: CRS mismatch between the CRS of left geometries and the CRS of right geometries.\n",
      "Use `to_crs()` to reproject one of the input geometries to match the CRS of the other.\n",
      "\n",
      "Left CRS: None\n",
      "Right CRS: EPSG:4326\n",
      "\n",
      "  joined = gpd.sjoin(points, shape, op='within', how='right')\n"
     ]
    }
   ],
   "source": [
    "df_road_nuts2 = points_to_indicator(df_road_latlon_11_13, value_col='RepTime', coder=NutsCoder(level=2),\n",
    "                    aggfunc=np.mean, value_rename='travel_to_road_junctions_average_time',\n",
    "                    projection='EPSG:4326', x_col='lon', y_col='lat')"
   ]
  },
  {
   "cell_type": "code",
   "execution_count": 280,
   "metadata": {},
   "outputs": [],
   "source": [
    "df_road_nuts2 = df_road_nuts2.sort_values(by='nuts_id')"
   ]
  },
  {
   "cell_type": "code",
   "execution_count": 281,
   "metadata": {},
   "outputs": [],
   "source": [
    "df_road_nuts2.to_csv('../../data/processed/travel/travel_to_road_junctions_average_time.nuts2.csv', index=False)"
   ]
  },
  {
   "cell_type": "markdown",
   "metadata": {},
   "source": [
    "### NUTS 3"
   ]
  },
  {
   "cell_type": "code",
   "execution_count": 282,
   "metadata": {},
   "outputs": [
    {
     "name": "stdout",
     "output_type": "stream",
     "text": [
      "2020-10-12 14:44:21,785 - beis_indicators.geo.coders - INFO - Loading NUTS 3 2016 boundaries\n",
      "2020-10-12 14:44:27,005 - beis_indicators.geo.coders - INFO - Loading NUTS 3 2021 boundaries\n",
      "2020-10-12 14:44:31,981 - beis_indicators.geo.coders - INFO - Loading NUTS 3 2003 boundaries\n",
      "2020-10-12 14:44:39,283 - beis_indicators.geo.coders - INFO - Loading NUTS 3 2006 boundaries\n",
      "2020-10-12 14:44:55,842 - beis_indicators.geo.coders - INFO - Loading NUTS 3 2010 boundaries\n",
      "2020-10-12 14:45:04,208 - beis_indicators.geo.coders - INFO - Loading NUTS 3 2013 boundaries\n"
     ]
    },
    {
     "name": "stderr",
     "output_type": "stream",
     "text": [
      "/mnt/c/Users/aotubusen/Documents/DS Projects/beis_2020/beis-indicators/ds/beis_indicators/geo/coders.py:45: UserWarning: CRS mismatch between the CRS of left geometries and the CRS of right geometries.\n",
      "Use `to_crs()` to reproject one of the input geometries to match the CRS of the other.\n",
      "\n",
      "Left CRS: None\n",
      "Right CRS: EPSG:4326\n",
      "\n",
      "  joined = gpd.sjoin(points, shape, op='within', how='right')\n",
      "/mnt/c/Users/aotubusen/Documents/DS Projects/beis_2020/beis-indicators/ds/beis_indicators/geo/coders.py:45: UserWarning: CRS mismatch between the CRS of left geometries and the CRS of right geometries.\n",
      "Use `to_crs()` to reproject one of the input geometries to match the CRS of the other.\n",
      "\n",
      "Left CRS: None\n",
      "Right CRS: EPSG:4326\n",
      "\n",
      "  joined = gpd.sjoin(points, shape, op='within', how='right')\n"
     ]
    }
   ],
   "source": [
    "df_road_nuts3 = points_to_indicator(df_road_latlon_11_13, value_col='RepTime', coder=NutsCoder(level=3),\n",
    "                    aggfunc=np.mean, value_rename='travel_to_road_junctions_average_time',\n",
    "                    projection='EPSG:4326', x_col='lon', y_col='lat')"
   ]
  },
  {
   "cell_type": "code",
   "execution_count": 283,
   "metadata": {},
   "outputs": [],
   "source": [
    "df_road_nuts3 = df_road_nuts3.sort_values(by='nuts_id')"
   ]
  },
  {
   "cell_type": "code",
   "execution_count": 284,
   "metadata": {},
   "outputs": [],
   "source": [
    "df_road_nuts3.to_csv('../../data/processed/travel/travel_to_road_junctions_average_time.nuts3.csv', index=False)"
   ]
  },
  {
   "cell_type": "markdown",
   "metadata": {},
   "source": [
    "### LEP"
   ]
  },
  {
   "cell_type": "code",
   "execution_count": 285,
   "metadata": {
    "scrolled": true
   },
   "outputs": [
    {
     "name": "stdout",
     "output_type": "stream",
     "text": [
      "2020-10-12 14:46:05,493 - beis_indicators.geo.coders - INFO - Loading LEP 2014 boundaries\n",
      "2020-10-12 14:46:18,092 - beis_indicators.geo.coders - INFO - Loading LEP 2017 boundaries\n",
      "2020-10-12 14:46:27,262 - beis_indicators.geo.coders - INFO - Loading LEP 2020 boundaries\n"
     ]
    },
    {
     "name": "stderr",
     "output_type": "stream",
     "text": [
      "/mnt/c/Users/aotubusen/Documents/DS Projects/beis_2020/beis-indicators/ds/beis_indicators/geo/coders.py:45: UserWarning: CRS mismatch between the CRS of left geometries and the CRS of right geometries.\n",
      "Use `to_crs()` to reproject one of the input geometries to match the CRS of the other.\n",
      "\n",
      "Left CRS: None\n",
      "Right CRS: EPSG:4326\n",
      "\n",
      "  joined = gpd.sjoin(points, shape, op='within', how='right')\n",
      "/mnt/c/Users/aotubusen/Documents/DS Projects/beis_2020/beis-indicators/ds/beis_indicators/geo/coders.py:45: UserWarning: CRS mismatch between the CRS of left geometries and the CRS of right geometries.\n",
      "Use `to_crs()` to reproject one of the input geometries to match the CRS of the other.\n",
      "\n",
      "Left CRS: None\n",
      "Right CRS: EPSG:4326\n",
      "\n",
      "  joined = gpd.sjoin(points, shape, op='within', how='right')\n"
     ]
    }
   ],
   "source": [
    "df_road_lep = points_to_indicator(df_road_latlon_11_13, value_col='RepTime', coder=LepCoder(),\n",
    "                    aggfunc=np.mean, value_rename='travel_to_road_junctions_average_time',\n",
    "                    projection='EPSG:4326', x_col='lon', y_col='lat')"
   ]
  },
  {
   "cell_type": "code",
   "execution_count": 286,
   "metadata": {},
   "outputs": [],
   "source": [
    "df_road_lep = df_road_lep.sort_values(by='lep_id')"
   ]
  },
  {
   "cell_type": "code",
   "execution_count": 287,
   "metadata": {},
   "outputs": [],
   "source": [
    "df_road_lep.to_csv('../../data/processed/travel/travel_to_road_junctions_average_time.lep.csv', index=False)"
   ]
  },
  {
   "cell_type": "markdown",
   "metadata": {},
   "source": [
    "## Airport"
   ]
  },
  {
   "cell_type": "markdown",
   "metadata": {},
   "source": [
    "Method: Closest airport \n",
    "\n",
    "Time of Day: AM\n",
    "\n",
    "Mode of transport: Car"
   ]
  },
  {
   "cell_type": "code",
   "execution_count": 288,
   "metadata": {},
   "outputs": [],
   "source": [
    "df_air_11 = pd.read_csv('../../data/raw/travel/Airports-travel-times/Airports_HW_AM.csv')\n",
    "df_air_13 = pd.read_csv('../../data/raw/travel/2013_Airports_HW_AM.csv')"
   ]
  },
  {
   "cell_type": "code",
   "execution_count": 289,
   "metadata": {},
   "outputs": [],
   "source": [
    "df_air_filter_11 = df_air_11[df_air_11['NearOrder'] <= 0]\n",
    "df_air_filter_13 = df_air_13[df_air_13['NearOrder'] <= 0]"
   ]
  },
  {
   "cell_type": "code",
   "execution_count": 290,
   "metadata": {},
   "outputs": [
    {
     "name": "stdout",
     "output_type": "stream",
     "text": [
      "34288\n",
      "32754\n"
     ]
    }
   ],
   "source": [
    "print(len(df_air_filter_11))\n",
    "print(len(df_air_filter_13))"
   ]
  },
  {
   "cell_type": "code",
   "execution_count": 291,
   "metadata": {},
   "outputs": [],
   "source": [
    "df_air_filter_11.reset_index(inplace=True, drop=True)\n",
    "df_air_filter_13.reset_index(inplace=True, drop=True)"
   ]
  },
  {
   "cell_type": "code",
   "execution_count": 292,
   "metadata": {},
   "outputs": [],
   "source": [
    "df_air_lat_lon = df_air_filter_11.merge(lsoa_shp_geo_re_01, on='LSOA_code', how='left')\n",
    "df_air_lat_lon_13 = df_air_filter_13.merge(lsoa_shp_geo_re_11, on='LSOA_code', how='left')"
   ]
  },
  {
   "cell_type": "code",
   "execution_count": 293,
   "metadata": {},
   "outputs": [],
   "source": [
    "df_air_lat_lon = df_air_lat_lon[['LSOA_code', 'RepTime', 'Percentage Services', 'uid', 'NearOrder', 'lon', 'lat']]\n",
    "df_air_lat_lon_13 = df_air_lat_lon_13[['LSOA_code', 'RepTime', 'Percentage Services', 'UID', 'NearOrder', 'lon', 'lat']]\n",
    "df_air_lat_lon_13.columns = ['LSOA_code', 'RepTime', 'Percentage Services', 'uid', 'NearOrder', 'lon', 'lat']"
   ]
  },
  {
   "cell_type": "code",
   "execution_count": 294,
   "metadata": {},
   "outputs": [],
   "source": [
    "df_air_lat_lon['year'] = [2011]*len(df_air_lat_lon)\n",
    "df_air_lat_lon_13['year'] = [2013]*len(df_air_lat_lon_13)"
   ]
  },
  {
   "cell_type": "code",
   "execution_count": 295,
   "metadata": {},
   "outputs": [],
   "source": [
    "df_air_latlon_11_13 = pd.concat([df_air_lat_lon, df_air_lat_lon_13]).reset_index(drop=True)"
   ]
  },
  {
   "cell_type": "markdown",
   "metadata": {},
   "source": [
    "### NUTS 2"
   ]
  },
  {
   "cell_type": "code",
   "execution_count": 296,
   "metadata": {
    "scrolled": true
   },
   "outputs": [
    {
     "name": "stdout",
     "output_type": "stream",
     "text": [
      "2020-10-12 14:47:41,628 - beis_indicators.geo.coders - INFO - Loading NUTS 2 2016 boundaries\n",
      "2020-10-12 14:47:45,303 - beis_indicators.geo.coders - INFO - Loading NUTS 2 2021 boundaries\n",
      "2020-10-12 14:47:48,753 - beis_indicators.geo.coders - INFO - Loading NUTS 2 2003 boundaries\n",
      "2020-10-12 14:47:53,723 - beis_indicators.geo.coders - INFO - Loading NUTS 2 2006 boundaries\n",
      "2020-10-12 14:48:04,384 - beis_indicators.geo.coders - INFO - Loading NUTS 2 2010 boundaries\n",
      "2020-10-12 14:48:09,334 - beis_indicators.geo.coders - INFO - Loading NUTS 2 2013 boundaries\n"
     ]
    },
    {
     "name": "stderr",
     "output_type": "stream",
     "text": [
      "/mnt/c/Users/aotubusen/Documents/DS Projects/beis_2020/beis-indicators/ds/beis_indicators/geo/coders.py:45: UserWarning: CRS mismatch between the CRS of left geometries and the CRS of right geometries.\n",
      "Use `to_crs()` to reproject one of the input geometries to match the CRS of the other.\n",
      "\n",
      "Left CRS: None\n",
      "Right CRS: EPSG:4326\n",
      "\n",
      "  joined = gpd.sjoin(points, shape, op='within', how='right')\n",
      "/mnt/c/Users/aotubusen/Documents/DS Projects/beis_2020/beis-indicators/ds/beis_indicators/geo/coders.py:45: UserWarning: CRS mismatch between the CRS of left geometries and the CRS of right geometries.\n",
      "Use `to_crs()` to reproject one of the input geometries to match the CRS of the other.\n",
      "\n",
      "Left CRS: None\n",
      "Right CRS: EPSG:4326\n",
      "\n",
      "  joined = gpd.sjoin(points, shape, op='within', how='right')\n"
     ]
    }
   ],
   "source": [
    "df_air_nuts2 = points_to_indicator(df_air_latlon_11_13, value_col='RepTime', coder=NutsCoder(level=2),\n",
    "                    aggfunc=np.mean, value_rename='travel_to_airport_time',\n",
    "                    projection='EPSG:4326', x_col='lon', y_col='lat')"
   ]
  },
  {
   "cell_type": "code",
   "execution_count": 297,
   "metadata": {},
   "outputs": [],
   "source": [
    "df_air_nuts2 = df_air_nuts2.sort_values(by='nuts_id')"
   ]
  },
  {
   "cell_type": "code",
   "execution_count": 298,
   "metadata": {},
   "outputs": [],
   "source": [
    "df_air_nuts2.to_csv('../../data/processed/travel/travel_to_airport_time.nuts2.csv', index=False)"
   ]
  },
  {
   "cell_type": "markdown",
   "metadata": {},
   "source": [
    "### NUTS 3"
   ]
  },
  {
   "cell_type": "code",
   "execution_count": 299,
   "metadata": {},
   "outputs": [
    {
     "name": "stdout",
     "output_type": "stream",
     "text": [
      "2020-10-12 14:48:21,901 - beis_indicators.geo.coders - INFO - Loading NUTS 3 2016 boundaries\n",
      "2020-10-12 14:48:27,011 - beis_indicators.geo.coders - INFO - Loading NUTS 3 2021 boundaries\n",
      "2020-10-12 14:48:31,991 - beis_indicators.geo.coders - INFO - Loading NUTS 3 2003 boundaries\n",
      "2020-10-12 14:48:39,344 - beis_indicators.geo.coders - INFO - Loading NUTS 3 2006 boundaries\n",
      "2020-10-12 14:48:55,633 - beis_indicators.geo.coders - INFO - Loading NUTS 3 2010 boundaries\n",
      "2020-10-12 14:49:03,214 - beis_indicators.geo.coders - INFO - Loading NUTS 3 2013 boundaries\n"
     ]
    },
    {
     "name": "stderr",
     "output_type": "stream",
     "text": [
      "/mnt/c/Users/aotubusen/Documents/DS Projects/beis_2020/beis-indicators/ds/beis_indicators/geo/coders.py:45: UserWarning: CRS mismatch between the CRS of left geometries and the CRS of right geometries.\n",
      "Use `to_crs()` to reproject one of the input geometries to match the CRS of the other.\n",
      "\n",
      "Left CRS: None\n",
      "Right CRS: EPSG:4326\n",
      "\n",
      "  joined = gpd.sjoin(points, shape, op='within', how='right')\n",
      "/mnt/c/Users/aotubusen/Documents/DS Projects/beis_2020/beis-indicators/ds/beis_indicators/geo/coders.py:45: UserWarning: CRS mismatch between the CRS of left geometries and the CRS of right geometries.\n",
      "Use `to_crs()` to reproject one of the input geometries to match the CRS of the other.\n",
      "\n",
      "Left CRS: None\n",
      "Right CRS: EPSG:4326\n",
      "\n",
      "  joined = gpd.sjoin(points, shape, op='within', how='right')\n"
     ]
    }
   ],
   "source": [
    "df_air_nuts3 = points_to_indicator(df_air_latlon_11_13, value_col='RepTime', coder=NutsCoder(level=3),\n",
    "                    aggfunc=np.mean, value_rename='travel_to_airport_time',\n",
    "                    projection='EPSG:4326', x_col='lon', y_col='lat')"
   ]
  },
  {
   "cell_type": "code",
   "execution_count": 300,
   "metadata": {},
   "outputs": [],
   "source": [
    "df_air_nuts3 = df_air_nuts3.sort_values(by='nuts_id')"
   ]
  },
  {
   "cell_type": "code",
   "execution_count": 301,
   "metadata": {},
   "outputs": [],
   "source": [
    "df_air_nuts3.to_csv('../../data/processed/travel/travel_to_airport_time.nuts3.csv', index=False)"
   ]
  },
  {
   "cell_type": "markdown",
   "metadata": {},
   "source": [
    "### LEP"
   ]
  },
  {
   "cell_type": "code",
   "execution_count": 302,
   "metadata": {
    "scrolled": true
   },
   "outputs": [
    {
     "name": "stdout",
     "output_type": "stream",
     "text": [
      "2020-10-12 14:49:17,460 - beis_indicators.geo.coders - INFO - Loading LEP 2014 boundaries\n",
      "2020-10-12 14:49:27,160 - beis_indicators.geo.coders - INFO - Loading LEP 2017 boundaries\n",
      "2020-10-12 14:49:36,971 - beis_indicators.geo.coders - INFO - Loading LEP 2020 boundaries\n"
     ]
    },
    {
     "name": "stderr",
     "output_type": "stream",
     "text": [
      "/mnt/c/Users/aotubusen/Documents/DS Projects/beis_2020/beis-indicators/ds/beis_indicators/geo/coders.py:45: UserWarning: CRS mismatch between the CRS of left geometries and the CRS of right geometries.\n",
      "Use `to_crs()` to reproject one of the input geometries to match the CRS of the other.\n",
      "\n",
      "Left CRS: None\n",
      "Right CRS: EPSG:4326\n",
      "\n",
      "  joined = gpd.sjoin(points, shape, op='within', how='right')\n",
      "/mnt/c/Users/aotubusen/Documents/DS Projects/beis_2020/beis-indicators/ds/beis_indicators/geo/coders.py:45: UserWarning: CRS mismatch between the CRS of left geometries and the CRS of right geometries.\n",
      "Use `to_crs()` to reproject one of the input geometries to match the CRS of the other.\n",
      "\n",
      "Left CRS: None\n",
      "Right CRS: EPSG:4326\n",
      "\n",
      "  joined = gpd.sjoin(points, shape, op='within', how='right')\n"
     ]
    }
   ],
   "source": [
    "df_air_lep = points_to_indicator(df_air_latlon_11_13, value_col='RepTime', coder=LepCoder(),\n",
    "                    aggfunc=np.mean, value_rename='travel_to_airport_time',\n",
    "                    projection='EPSG:4326', x_col='lon', y_col='lat')"
   ]
  },
  {
   "cell_type": "code",
   "execution_count": 303,
   "metadata": {},
   "outputs": [],
   "source": [
    "df_air_lep = df_air_lep.sort_values(by='lep_id')"
   ]
  },
  {
   "cell_type": "code",
   "execution_count": 304,
   "metadata": {},
   "outputs": [],
   "source": [
    "df_air_lep.to_csv('../../data/processed/travel/travel_to_airport_time.lep.csv', index=False)"
   ]
  },
  {
   "cell_type": "markdown",
   "metadata": {},
   "source": [
    "## Rail Stations"
   ]
  },
  {
   "cell_type": "markdown",
   "metadata": {},
   "source": [
    "Method: Closest rail station \n",
    "\n",
    "Time of Day: AM\n",
    "\n",
    "Mode of transport: Car"
   ]
  },
  {
   "cell_type": "code",
   "execution_count": 305,
   "metadata": {},
   "outputs": [],
   "source": [
    "df_rail_11 = pd.read_csv('../../data/raw/travel/Rail-stations-travel-times/Stations_HW_AM.csv')\n",
    "df_rail_13 = pd.read_csv('../../data/raw/travel/2013_Stations_HW_AM.csv')"
   ]
  },
  {
   "cell_type": "code",
   "execution_count": 306,
   "metadata": {},
   "outputs": [],
   "source": [
    "df_rail_filter_11 = df_rail_11[df_rail_11['NearOrder'] <= 0]\n",
    "df_rail_filter_13 = df_rail_13[df_rail_13['NearOrder'] <= 0]"
   ]
  },
  {
   "cell_type": "code",
   "execution_count": 307,
   "metadata": {},
   "outputs": [
    {
     "name": "stdout",
     "output_type": "stream",
     "text": [
      "34288\n",
      "32754\n"
     ]
    }
   ],
   "source": [
    "print(len(df_rail_filter_11))\n",
    "print(len(df_rail_filter_13))"
   ]
  },
  {
   "cell_type": "code",
   "execution_count": 308,
   "metadata": {},
   "outputs": [],
   "source": [
    "df_rail_filter_11.reset_index(inplace=True, drop=True)\n",
    "df_rail_filter_13.reset_index(inplace=True, drop=True)"
   ]
  },
  {
   "cell_type": "code",
   "execution_count": 309,
   "metadata": {},
   "outputs": [],
   "source": [
    "df_rail_lat_lon = df_rail_filter_11.merge(lsoa_shp_geo_re_01, on='LSOA_code', how='left')\n",
    "df_rail_lat_lon_13 = df_rail_filter_13.merge(lsoa_shp_geo_re_11, on='LSOA_code', how='left')"
   ]
  },
  {
   "cell_type": "code",
   "execution_count": 310,
   "metadata": {},
   "outputs": [],
   "source": [
    "df_rail_lat_lon = df_rail_lat_lon[['LSOA_code', 'RepTime', 'Percentage Services', 'uid', 'NearOrder', 'lon', 'lat']]\n",
    "df_rail_lat_lon_13 = df_rail_lat_lon_13[['LSOA_code', 'RepTime', 'Percentage Services', 'UID', 'NearOrder', 'lon', 'lat']]\n",
    "df_rail_lat_lon_13.columns = ['LSOA_code', 'RepTime', 'Percentage Services', 'uid', 'NearOrder', 'lon', 'lat']"
   ]
  },
  {
   "cell_type": "code",
   "execution_count": 311,
   "metadata": {},
   "outputs": [],
   "source": [
    "df_rail_lat_lon['year'] = [2011]*len(df_rail_lat_lon)\n",
    "df_rail_lat_lon_13['year'] = [2013]*len(df_rail_lat_lon_13)"
   ]
  },
  {
   "cell_type": "code",
   "execution_count": 312,
   "metadata": {},
   "outputs": [],
   "source": [
    "df_rail_latlon_11_13 = pd.concat([df_rail_lat_lon, df_rail_lat_lon_13]).reset_index(drop=True)"
   ]
  },
  {
   "cell_type": "markdown",
   "metadata": {},
   "source": [
    "### NUTS 2"
   ]
  },
  {
   "cell_type": "code",
   "execution_count": 313,
   "metadata": {
    "scrolled": true
   },
   "outputs": [
    {
     "name": "stdout",
     "output_type": "stream",
     "text": [
      "2020-10-12 14:50:27,739 - beis_indicators.geo.coders - INFO - Loading NUTS 2 2016 boundaries\n",
      "2020-10-12 14:50:31,424 - beis_indicators.geo.coders - INFO - Loading NUTS 2 2021 boundaries\n",
      "2020-10-12 14:50:35,029 - beis_indicators.geo.coders - INFO - Loading NUTS 2 2003 boundaries\n",
      "2020-10-12 14:50:40,524 - beis_indicators.geo.coders - INFO - Loading NUTS 2 2006 boundaries\n",
      "2020-10-12 14:50:52,498 - beis_indicators.geo.coders - INFO - Loading NUTS 2 2010 boundaries\n",
      "2020-10-12 14:50:57,515 - beis_indicators.geo.coders - INFO - Loading NUTS 2 2013 boundaries\n"
     ]
    },
    {
     "name": "stderr",
     "output_type": "stream",
     "text": [
      "/mnt/c/Users/aotubusen/Documents/DS Projects/beis_2020/beis-indicators/ds/beis_indicators/geo/coders.py:45: UserWarning: CRS mismatch between the CRS of left geometries and the CRS of right geometries.\n",
      "Use `to_crs()` to reproject one of the input geometries to match the CRS of the other.\n",
      "\n",
      "Left CRS: None\n",
      "Right CRS: EPSG:4326\n",
      "\n",
      "  joined = gpd.sjoin(points, shape, op='within', how='right')\n",
      "/mnt/c/Users/aotubusen/Documents/DS Projects/beis_2020/beis-indicators/ds/beis_indicators/geo/coders.py:45: UserWarning: CRS mismatch between the CRS of left geometries and the CRS of right geometries.\n",
      "Use `to_crs()` to reproject one of the input geometries to match the CRS of the other.\n",
      "\n",
      "Left CRS: None\n",
      "Right CRS: EPSG:4326\n",
      "\n",
      "  joined = gpd.sjoin(points, shape, op='within', how='right')\n"
     ]
    }
   ],
   "source": [
    "df_rail_nuts2 = points_to_indicator(df_rail_latlon_11_13, value_col='RepTime', coder=NutsCoder(level=2),\n",
    "                    aggfunc=np.mean, value_rename='travel_to_rail_time',\n",
    "                    projection='EPSG:4326', x_col='lon', y_col='lat')"
   ]
  },
  {
   "cell_type": "code",
   "execution_count": 314,
   "metadata": {},
   "outputs": [],
   "source": [
    "df_rail_nuts2 = df_rail_nuts2.sort_values(by='nuts_id')"
   ]
  },
  {
   "cell_type": "code",
   "execution_count": 315,
   "metadata": {},
   "outputs": [],
   "source": [
    "df_rail_nuts2.to_csv('../../data/processed/travel/travel_to_rail_time.nuts2.csv', index=False)"
   ]
  },
  {
   "cell_type": "markdown",
   "metadata": {},
   "source": [
    "### NUTS 3"
   ]
  },
  {
   "cell_type": "code",
   "execution_count": 316,
   "metadata": {},
   "outputs": [
    {
     "name": "stdout",
     "output_type": "stream",
     "text": [
      "2020-10-12 14:51:16,761 - beis_indicators.geo.coders - INFO - Loading NUTS 3 2016 boundaries\n",
      "2020-10-12 14:51:25,277 - beis_indicators.geo.coders - INFO - Loading NUTS 3 2021 boundaries\n",
      "2020-10-12 14:51:31,782 - beis_indicators.geo.coders - INFO - Loading NUTS 3 2003 boundaries\n",
      "2020-10-12 14:51:40,658 - beis_indicators.geo.coders - INFO - Loading NUTS 3 2006 boundaries\n",
      "2020-10-12 14:51:58,247 - beis_indicators.geo.coders - INFO - Loading NUTS 3 2010 boundaries\n",
      "2020-10-12 14:52:06,023 - beis_indicators.geo.coders - INFO - Loading NUTS 3 2013 boundaries\n"
     ]
    },
    {
     "name": "stderr",
     "output_type": "stream",
     "text": [
      "/mnt/c/Users/aotubusen/Documents/DS Projects/beis_2020/beis-indicators/ds/beis_indicators/geo/coders.py:45: UserWarning: CRS mismatch between the CRS of left geometries and the CRS of right geometries.\n",
      "Use `to_crs()` to reproject one of the input geometries to match the CRS of the other.\n",
      "\n",
      "Left CRS: None\n",
      "Right CRS: EPSG:4326\n",
      "\n",
      "  joined = gpd.sjoin(points, shape, op='within', how='right')\n",
      "/mnt/c/Users/aotubusen/Documents/DS Projects/beis_2020/beis-indicators/ds/beis_indicators/geo/coders.py:45: UserWarning: CRS mismatch between the CRS of left geometries and the CRS of right geometries.\n",
      "Use `to_crs()` to reproject one of the input geometries to match the CRS of the other.\n",
      "\n",
      "Left CRS: None\n",
      "Right CRS: EPSG:4326\n",
      "\n",
      "  joined = gpd.sjoin(points, shape, op='within', how='right')\n"
     ]
    }
   ],
   "source": [
    "df_rail_nuts3 = points_to_indicator(df_rail_latlon_11_13, value_col='RepTime', coder=NutsCoder(level=3),\n",
    "                    aggfunc=np.mean, value_rename='travel_to_rail_time',\n",
    "                    projection='EPSG:4326', x_col='lon', y_col='lat')"
   ]
  },
  {
   "cell_type": "code",
   "execution_count": 317,
   "metadata": {},
   "outputs": [],
   "source": [
    "df_rail_nuts3 = df_rail_nuts3.sort_values(by='nuts_id')"
   ]
  },
  {
   "cell_type": "code",
   "execution_count": 318,
   "metadata": {},
   "outputs": [],
   "source": [
    "df_rail_nuts3.to_csv('../../data/processed/travel/travel_to_rail_time.nuts3.csv', index=False)"
   ]
  },
  {
   "cell_type": "markdown",
   "metadata": {},
   "source": [
    "### LEP"
   ]
  },
  {
   "cell_type": "code",
   "execution_count": 319,
   "metadata": {
    "scrolled": true
   },
   "outputs": [
    {
     "name": "stdout",
     "output_type": "stream",
     "text": [
      "2020-10-12 14:52:20,330 - beis_indicators.geo.coders - INFO - Loading LEP 2014 boundaries\n",
      "2020-10-12 14:52:30,531 - beis_indicators.geo.coders - INFO - Loading LEP 2017 boundaries\n",
      "2020-10-12 14:52:39,983 - beis_indicators.geo.coders - INFO - Loading LEP 2020 boundaries\n"
     ]
    },
    {
     "name": "stderr",
     "output_type": "stream",
     "text": [
      "/mnt/c/Users/aotubusen/Documents/DS Projects/beis_2020/beis-indicators/ds/beis_indicators/geo/coders.py:45: UserWarning: CRS mismatch between the CRS of left geometries and the CRS of right geometries.\n",
      "Use `to_crs()` to reproject one of the input geometries to match the CRS of the other.\n",
      "\n",
      "Left CRS: None\n",
      "Right CRS: EPSG:4326\n",
      "\n",
      "  joined = gpd.sjoin(points, shape, op='within', how='right')\n",
      "/mnt/c/Users/aotubusen/Documents/DS Projects/beis_2020/beis-indicators/ds/beis_indicators/geo/coders.py:45: UserWarning: CRS mismatch between the CRS of left geometries and the CRS of right geometries.\n",
      "Use `to_crs()` to reproject one of the input geometries to match the CRS of the other.\n",
      "\n",
      "Left CRS: None\n",
      "Right CRS: EPSG:4326\n",
      "\n",
      "  joined = gpd.sjoin(points, shape, op='within', how='right')\n"
     ]
    }
   ],
   "source": [
    "df_rail_lep = points_to_indicator(df_air_latlon_11_13, value_col='RepTime', coder=LepCoder(),\n",
    "                    aggfunc=np.mean, value_rename='travel_to_rail_time',\n",
    "                    projection='EPSG:4326', x_col='lon', y_col='lat')"
   ]
  },
  {
   "cell_type": "code",
   "execution_count": 320,
   "metadata": {},
   "outputs": [],
   "source": [
    "df_rail_lep = df_rail_lep.sort_values(by='lep_id')"
   ]
  },
  {
   "cell_type": "code",
   "execution_count": 321,
   "metadata": {},
   "outputs": [],
   "source": [
    "df_rail_lep.to_csv('../../data/processed/travel/travel_to_rail_time.lep.csv', index=False)"
   ]
  },
  {
   "cell_type": "markdown",
   "metadata": {
    "heading_collapsed": true
   },
   "source": [
    "## Travel to Work"
   ]
  },
  {
   "cell_type": "code",
   "execution_count": 55,
   "metadata": {
    "hidden": true
   },
   "outputs": [],
   "source": [
    "xl = pd.ExcelFile('../../data/raw/travel/averagehometoworktraveltimes16plusod18.xls')"
   ]
  },
  {
   "cell_type": "code",
   "execution_count": 56,
   "metadata": {
    "hidden": true
   },
   "outputs": [
    {
     "data": {
      "text/plain": [
       "['Metadata', 'OD18']"
      ]
     },
     "execution_count": 56,
     "metadata": {},
     "output_type": "execute_result"
    }
   ],
   "source": [
    "xl.sheet_names"
   ]
  },
  {
   "cell_type": "code",
   "execution_count": 57,
   "metadata": {
    "hidden": true
   },
   "outputs": [],
   "source": [
    "lad_latlon = pd.read_csv('../../data/raw/travel/Local_Authority_Districts__December_2018__Boundaries_UK_BGC.csv')"
   ]
  },
  {
   "cell_type": "code",
   "execution_count": 58,
   "metadata": {
    "hidden": true
   },
   "outputs": [],
   "source": [
    "df = xl.parse('OD18').drop('Office For National Statistics', axis=1)"
   ]
  },
  {
   "cell_type": "code",
   "execution_count": null,
   "metadata": {
    "hidden": true
   },
   "outputs": [],
   "source": [
    "#fuzzy search\n",
    "\n"
   ]
  },
  {
   "cell_type": "code",
   "execution_count": 59,
   "metadata": {
    "hidden": true
   },
   "outputs": [
    {
     "data": {
      "text/html": [
       "<div>\n",
       "<style scoped>\n",
       "    .dataframe tbody tr th:only-of-type {\n",
       "        vertical-align: middle;\n",
       "    }\n",
       "\n",
       "    .dataframe tbody tr th {\n",
       "        vertical-align: top;\n",
       "    }\n",
       "\n",
       "    .dataframe thead th {\n",
       "        text-align: right;\n",
       "    }\n",
       "</style>\n",
       "<table border=\"1\" class=\"dataframe\">\n",
       "  <thead>\n",
       "    <tr style=\"text-align: right;\">\n",
       "      <th></th>\n",
       "      <th>Unnamed: 1</th>\n",
       "      <th>Unnamed: 2</th>\n",
       "    </tr>\n",
       "  </thead>\n",
       "  <tbody>\n",
       "    <tr>\n",
       "      <th>0</th>\n",
       "      <td>NaN</td>\n",
       "      <td>NaN</td>\n",
       "    </tr>\n",
       "    <tr>\n",
       "      <th>1</th>\n",
       "      <td>NaN</td>\n",
       "      <td>NaN</td>\n",
       "    </tr>\n",
       "    <tr>\n",
       "      <th>2</th>\n",
       "      <td>NaN</td>\n",
       "      <td>NaN</td>\n",
       "    </tr>\n",
       "    <tr>\n",
       "      <th>3</th>\n",
       "      <td>NaN</td>\n",
       "      <td>NaN</td>\n",
       "    </tr>\n",
       "    <tr>\n",
       "      <th>4</th>\n",
       "      <td>NaN</td>\n",
       "      <td>NaN</td>\n",
       "    </tr>\n",
       "  </tbody>\n",
       "</table>\n",
       "</div>"
      ],
      "text/plain": [
       "  Unnamed: 1 Unnamed: 2\n",
       "0        NaN        NaN\n",
       "1        NaN        NaN\n",
       "2        NaN        NaN\n",
       "3        NaN        NaN\n",
       "4        NaN        NaN"
      ]
     },
     "execution_count": 59,
     "metadata": {},
     "output_type": "execute_result"
    }
   ],
   "source": [
    "df.head()"
   ]
  },
  {
   "cell_type": "code",
   "execution_count": 24,
   "metadata": {
    "hidden": true
   },
   "outputs": [],
   "source": [
    "df.columns = ['UALADGB UA / LAD of residence', 'Mean']\n"
   ]
  },
  {
   "cell_type": "code",
   "execution_count": 25,
   "metadata": {
    "hidden": true
   },
   "outputs": [],
   "source": [
    "df = df[9:419].reset_index(drop=True)"
   ]
  },
  {
   "cell_type": "code",
   "execution_count": 26,
   "metadata": {
    "hidden": true
   },
   "outputs": [
    {
     "data": {
      "text/plain": [
       "'  AA City of London'"
      ]
     },
     "execution_count": 26,
     "metadata": {},
     "output_type": "execute_result"
    }
   ],
   "source": [
    "df['UALADGB UA / LAD of residence'][0]"
   ]
  },
  {
   "cell_type": "code",
   "execution_count": 27,
   "metadata": {
    "hidden": true
   },
   "outputs": [
    {
     "data": {
      "text/plain": [
       "'Redditch'"
      ]
     },
     "execution_count": 27,
     "metadata": {},
     "output_type": "execute_result"
    }
   ],
   "source": [
    "'47UD Redditch'.split()[1]"
   ]
  },
  {
   "cell_type": "code",
   "execution_count": 28,
   "metadata": {
    "hidden": true
   },
   "outputs": [],
   "source": [
    "df['LAD'] = df['UALADGB UA / LAD of residence'].apply(lambda x: x.strip().split(\" \",1)[1])"
   ]
  },
  {
   "cell_type": "code",
   "execution_count": 30,
   "metadata": {
    "hidden": true
   },
   "outputs": [],
   "source": [
    "del df['UALADGB UA / LAD of residence']"
   ]
  },
  {
   "cell_type": "code",
   "execution_count": 33,
   "metadata": {
    "hidden": true
   },
   "outputs": [],
   "source": [
    "df = df[['LAD', 'Mean']]"
   ]
  },
  {
   "cell_type": "code",
   "execution_count": 41,
   "metadata": {
    "hidden": true
   },
   "outputs": [
    {
     "data": {
      "text/plain": [
       "410"
      ]
     },
     "execution_count": 41,
     "metadata": {},
     "output_type": "execute_result"
    }
   ],
   "source": [
    "len(df)"
   ]
  },
  {
   "cell_type": "code",
   "execution_count": 37,
   "metadata": {
    "hidden": true
   },
   "outputs": [
    {
     "data": {
      "text/html": [
       "<div>\n",
       "<style scoped>\n",
       "    .dataframe tbody tr th:only-of-type {\n",
       "        vertical-align: middle;\n",
       "    }\n",
       "\n",
       "    .dataframe tbody tr th {\n",
       "        vertical-align: top;\n",
       "    }\n",
       "\n",
       "    .dataframe thead th {\n",
       "        text-align: right;\n",
       "    }\n",
       "</style>\n",
       "<table border=\"1\" class=\"dataframe\">\n",
       "  <thead>\n",
       "    <tr style=\"text-align: right;\">\n",
       "      <th></th>\n",
       "      <th>objectid</th>\n",
       "      <th>lad18cd</th>\n",
       "      <th>lad18nm</th>\n",
       "      <th>lad18nmw</th>\n",
       "      <th>bng_e</th>\n",
       "      <th>bng_n</th>\n",
       "      <th>long</th>\n",
       "      <th>lat</th>\n",
       "      <th>st_areashape</th>\n",
       "      <th>st_lengthshape</th>\n",
       "    </tr>\n",
       "  </thead>\n",
       "  <tbody>\n",
       "    <tr>\n",
       "      <th>0</th>\n",
       "      <td>1</td>\n",
       "      <td>E06000001</td>\n",
       "      <td>Hartlepool</td>\n",
       "      <td></td>\n",
       "      <td>447157</td>\n",
       "      <td>531476</td>\n",
       "      <td>-1.27023</td>\n",
       "      <td>54.6762</td>\n",
       "      <td>9.364074e+07</td>\n",
       "      <td>69780.416446</td>\n",
       "    </tr>\n",
       "    <tr>\n",
       "      <th>1</th>\n",
       "      <td>2</td>\n",
       "      <td>E06000002</td>\n",
       "      <td>Middlesbrough</td>\n",
       "      <td></td>\n",
       "      <td>451141</td>\n",
       "      <td>516887</td>\n",
       "      <td>-1.21099</td>\n",
       "      <td>54.5447</td>\n",
       "      <td>5.387613e+07</td>\n",
       "      <td>42262.990135</td>\n",
       "    </tr>\n",
       "    <tr>\n",
       "      <th>2</th>\n",
       "      <td>3</td>\n",
       "      <td>E06000003</td>\n",
       "      <td>Redcar and Cleveland</td>\n",
       "      <td></td>\n",
       "      <td>464359</td>\n",
       "      <td>519597</td>\n",
       "      <td>-1.00611</td>\n",
       "      <td>54.5675</td>\n",
       "      <td>2.448759e+08</td>\n",
       "      <td>96548.932570</td>\n",
       "    </tr>\n",
       "    <tr>\n",
       "      <th>3</th>\n",
       "      <td>4</td>\n",
       "      <td>E06000004</td>\n",
       "      <td>Stockton-on-Tees</td>\n",
       "      <td></td>\n",
       "      <td>444937</td>\n",
       "      <td>518183</td>\n",
       "      <td>-1.30669</td>\n",
       "      <td>54.5569</td>\n",
       "      <td>2.049579e+08</td>\n",
       "      <td>115541.332608</td>\n",
       "    </tr>\n",
       "    <tr>\n",
       "      <th>4</th>\n",
       "      <td>5</td>\n",
       "      <td>E06000005</td>\n",
       "      <td>Darlington</td>\n",
       "      <td></td>\n",
       "      <td>428029</td>\n",
       "      <td>515648</td>\n",
       "      <td>-1.56835</td>\n",
       "      <td>54.5353</td>\n",
       "      <td>1.974976e+08</td>\n",
       "      <td>105784.983937</td>\n",
       "    </tr>\n",
       "    <tr>\n",
       "      <th>5</th>\n",
       "      <td>6</td>\n",
       "      <td>E06000006</td>\n",
       "      <td>Halton</td>\n",
       "      <td></td>\n",
       "      <td>354246</td>\n",
       "      <td>382146</td>\n",
       "      <td>-2.68853</td>\n",
       "      <td>53.3342</td>\n",
       "      <td>7.908640e+07</td>\n",
       "      <td>76340.008096</td>\n",
       "    </tr>\n",
       "    <tr>\n",
       "      <th>6</th>\n",
       "      <td>7</td>\n",
       "      <td>E06000007</td>\n",
       "      <td>Warrington</td>\n",
       "      <td></td>\n",
       "      <td>362744</td>\n",
       "      <td>388456</td>\n",
       "      <td>-2.56167</td>\n",
       "      <td>53.3916</td>\n",
       "      <td>1.806453e+08</td>\n",
       "      <td>111798.638796</td>\n",
       "    </tr>\n",
       "    <tr>\n",
       "      <th>7</th>\n",
       "      <td>8</td>\n",
       "      <td>E06000008</td>\n",
       "      <td>Blackburn with Darwen</td>\n",
       "      <td></td>\n",
       "      <td>369490</td>\n",
       "      <td>422806</td>\n",
       "      <td>-2.46360</td>\n",
       "      <td>53.7008</td>\n",
       "      <td>1.370625e+08</td>\n",
       "      <td>63732.321791</td>\n",
       "    </tr>\n",
       "    <tr>\n",
       "      <th>8</th>\n",
       "      <td>9</td>\n",
       "      <td>E06000009</td>\n",
       "      <td>Blackpool</td>\n",
       "      <td></td>\n",
       "      <td>332763</td>\n",
       "      <td>436633</td>\n",
       "      <td>-3.02284</td>\n",
       "      <td>53.8216</td>\n",
       "      <td>3.487525e+07</td>\n",
       "      <td>34580.344897</td>\n",
       "    </tr>\n",
       "    <tr>\n",
       "      <th>9</th>\n",
       "      <td>10</td>\n",
       "      <td>E06000010</td>\n",
       "      <td>Kingston upon Hull, City of</td>\n",
       "      <td></td>\n",
       "      <td>511894</td>\n",
       "      <td>431716</td>\n",
       "      <td>-0.30380</td>\n",
       "      <td>53.7698</td>\n",
       "      <td>7.146231e+07</td>\n",
       "      <td>63584.402721</td>\n",
       "    </tr>\n",
       "    <tr>\n",
       "      <th>10</th>\n",
       "      <td>11</td>\n",
       "      <td>E06000011</td>\n",
       "      <td>East Riding of Yorkshire</td>\n",
       "      <td></td>\n",
       "      <td>488051</td>\n",
       "      <td>443608</td>\n",
       "      <td>-0.66203</td>\n",
       "      <td>53.8812</td>\n",
       "      <td>2.406543e+09</td>\n",
       "      <td>496921.153101</td>\n",
       "    </tr>\n",
       "    <tr>\n",
       "      <th>11</th>\n",
       "      <td>12</td>\n",
       "      <td>E06000012</td>\n",
       "      <td>North East Lincolnshire</td>\n",
       "      <td></td>\n",
       "      <td>523454</td>\n",
       "      <td>404574</td>\n",
       "      <td>-0.13927</td>\n",
       "      <td>53.5234</td>\n",
       "      <td>1.919256e+08</td>\n",
       "      <td>85139.037739</td>\n",
       "    </tr>\n",
       "    <tr>\n",
       "      <th>12</th>\n",
       "      <td>13</td>\n",
       "      <td>E06000013</td>\n",
       "      <td>North Lincolnshire</td>\n",
       "      <td></td>\n",
       "      <td>497798</td>\n",
       "      <td>410996</td>\n",
       "      <td>-0.52410</td>\n",
       "      <td>53.5864</td>\n",
       "      <td>8.463281e+08</td>\n",
       "      <td>237755.597007</td>\n",
       "    </tr>\n",
       "    <tr>\n",
       "      <th>13</th>\n",
       "      <td>14</td>\n",
       "      <td>E06000014</td>\n",
       "      <td>York</td>\n",
       "      <td></td>\n",
       "      <td>460864</td>\n",
       "      <td>452589</td>\n",
       "      <td>-1.07375</td>\n",
       "      <td>53.9658</td>\n",
       "      <td>2.719447e+08</td>\n",
       "      <td>100435.197589</td>\n",
       "    </tr>\n",
       "    <tr>\n",
       "      <th>14</th>\n",
       "      <td>15</td>\n",
       "      <td>E06000015</td>\n",
       "      <td>Derby</td>\n",
       "      <td></td>\n",
       "      <td>435609</td>\n",
       "      <td>335375</td>\n",
       "      <td>-1.47189</td>\n",
       "      <td>52.9146</td>\n",
       "      <td>7.801693e+07</td>\n",
       "      <td>49298.858278</td>\n",
       "    </tr>\n",
       "    <tr>\n",
       "      <th>15</th>\n",
       "      <td>16</td>\n",
       "      <td>E06000016</td>\n",
       "      <td>Leicester</td>\n",
       "      <td></td>\n",
       "      <td>458946</td>\n",
       "      <td>304594</td>\n",
       "      <td>-1.13040</td>\n",
       "      <td>52.6359</td>\n",
       "      <td>7.339883e+07</td>\n",
       "      <td>50775.921930</td>\n",
       "    </tr>\n",
       "    <tr>\n",
       "      <th>16</th>\n",
       "      <td>17</td>\n",
       "      <td>E06000017</td>\n",
       "      <td>Rutland</td>\n",
       "      <td></td>\n",
       "      <td>492992</td>\n",
       "      <td>308655</td>\n",
       "      <td>-0.62630</td>\n",
       "      <td>52.6676</td>\n",
       "      <td>3.937508e+08</td>\n",
       "      <td>120252.809377</td>\n",
       "    </tr>\n",
       "    <tr>\n",
       "      <th>17</th>\n",
       "      <td>18</td>\n",
       "      <td>E06000018</td>\n",
       "      <td>Nottingham</td>\n",
       "      <td></td>\n",
       "      <td>456082</td>\n",
       "      <td>339969</td>\n",
       "      <td>-1.16667</td>\n",
       "      <td>52.9542</td>\n",
       "      <td>7.458847e+07</td>\n",
       "      <td>58022.445388</td>\n",
       "    </tr>\n",
       "    <tr>\n",
       "      <th>18</th>\n",
       "      <td>19</td>\n",
       "      <td>E06000019</td>\n",
       "      <td>Herefordshire, County of</td>\n",
       "      <td></td>\n",
       "      <td>349434</td>\n",
       "      <td>242834</td>\n",
       "      <td>-2.73931</td>\n",
       "      <td>52.0815</td>\n",
       "      <td>2.179710e+09</td>\n",
       "      <td>338901.362686</td>\n",
       "    </tr>\n",
       "    <tr>\n",
       "      <th>19</th>\n",
       "      <td>20</td>\n",
       "      <td>E06000020</td>\n",
       "      <td>Telford and Wrekin</td>\n",
       "      <td></td>\n",
       "      <td>367035</td>\n",
       "      <td>313057</td>\n",
       "      <td>-2.48941</td>\n",
       "      <td>52.7142</td>\n",
       "      <td>2.903246e+08</td>\n",
       "      <td>115362.660918</td>\n",
       "    </tr>\n",
       "    <tr>\n",
       "      <th>20</th>\n",
       "      <td>21</td>\n",
       "      <td>E06000021</td>\n",
       "      <td>Stoke-on-Trent</td>\n",
       "      <td></td>\n",
       "      <td>389438</td>\n",
       "      <td>346652</td>\n",
       "      <td>-2.15888</td>\n",
       "      <td>53.0171</td>\n",
       "      <td>9.343437e+07</td>\n",
       "      <td>62250.298060</td>\n",
       "    </tr>\n",
       "    <tr>\n",
       "      <th>21</th>\n",
       "      <td>22</td>\n",
       "      <td>E06000022</td>\n",
       "      <td>Bath and North East Somerset</td>\n",
       "      <td></td>\n",
       "      <td>366217</td>\n",
       "      <td>161999</td>\n",
       "      <td>-2.48654</td>\n",
       "      <td>51.3560</td>\n",
       "      <td>3.511751e+08</td>\n",
       "      <td>137383.291806</td>\n",
       "    </tr>\n",
       "    <tr>\n",
       "      <th>22</th>\n",
       "      <td>23</td>\n",
       "      <td>E06000023</td>\n",
       "      <td>Bristol, City of</td>\n",
       "      <td></td>\n",
       "      <td>359990</td>\n",
       "      <td>174846</td>\n",
       "      <td>-2.57742</td>\n",
       "      <td>51.4711</td>\n",
       "      <td>1.096945e+08</td>\n",
       "      <td>108901.920657</td>\n",
       "    </tr>\n",
       "    <tr>\n",
       "      <th>23</th>\n",
       "      <td>24</td>\n",
       "      <td>E06000024</td>\n",
       "      <td>North Somerset</td>\n",
       "      <td></td>\n",
       "      <td>347611</td>\n",
       "      <td>166719</td>\n",
       "      <td>-2.75442</td>\n",
       "      <td>51.3971</td>\n",
       "      <td>3.747074e+08</td>\n",
       "      <td>148321.812623</td>\n",
       "    </tr>\n",
       "    <tr>\n",
       "      <th>24</th>\n",
       "      <td>25</td>\n",
       "      <td>E06000025</td>\n",
       "      <td>South Gloucestershire</td>\n",
       "      <td></td>\n",
       "      <td>367559</td>\n",
       "      <td>183196</td>\n",
       "      <td>-2.46922</td>\n",
       "      <td>51.5467</td>\n",
       "      <td>4.969498e+08</td>\n",
       "      <td>140311.706220</td>\n",
       "    </tr>\n",
       "    <tr>\n",
       "      <th>25</th>\n",
       "      <td>26</td>\n",
       "      <td>E06000026</td>\n",
       "      <td>Plymouth</td>\n",
       "      <td></td>\n",
       "      <td>249941</td>\n",
       "      <td>58251</td>\n",
       "      <td>-4.11303</td>\n",
       "      <td>50.4049</td>\n",
       "      <td>7.988748e+07</td>\n",
       "      <td>88995.849746</td>\n",
       "    </tr>\n",
       "    <tr>\n",
       "      <th>26</th>\n",
       "      <td>27</td>\n",
       "      <td>E06000027</td>\n",
       "      <td>Torbay</td>\n",
       "      <td></td>\n",
       "      <td>289730</td>\n",
       "      <td>64608</td>\n",
       "      <td>-3.55523</td>\n",
       "      <td>50.4709</td>\n",
       "      <td>6.292514e+07</td>\n",
       "      <td>73591.780927</td>\n",
       "    </tr>\n",
       "    <tr>\n",
       "      <th>27</th>\n",
       "      <td>28</td>\n",
       "      <td>E06000028</td>\n",
       "      <td>Bournemouth</td>\n",
       "      <td></td>\n",
       "      <td>410069</td>\n",
       "      <td>93928</td>\n",
       "      <td>-1.85864</td>\n",
       "      <td>50.7449</td>\n",
       "      <td>4.619276e+07</td>\n",
       "      <td>47153.649474</td>\n",
       "    </tr>\n",
       "    <tr>\n",
       "      <th>28</th>\n",
       "      <td>29</td>\n",
       "      <td>E06000029</td>\n",
       "      <td>Poole</td>\n",
       "      <td></td>\n",
       "      <td>403393</td>\n",
       "      <td>93466</td>\n",
       "      <td>-1.95327</td>\n",
       "      <td>50.7408</td>\n",
       "      <td>6.475111e+07</td>\n",
       "      <td>71495.230650</td>\n",
       "    </tr>\n",
       "    <tr>\n",
       "      <th>29</th>\n",
       "      <td>30</td>\n",
       "      <td>E06000030</td>\n",
       "      <td>Swindon</td>\n",
       "      <td></td>\n",
       "      <td>418551</td>\n",
       "      <td>186564</td>\n",
       "      <td>-1.73367</td>\n",
       "      <td>51.5776</td>\n",
       "      <td>2.301046e+08</td>\n",
       "      <td>99570.969656</td>\n",
       "    </tr>\n",
       "    <tr>\n",
       "      <th>...</th>\n",
       "      <td>...</td>\n",
       "      <td>...</td>\n",
       "      <td>...</td>\n",
       "      <td>...</td>\n",
       "      <td>...</td>\n",
       "      <td>...</td>\n",
       "      <td>...</td>\n",
       "      <td>...</td>\n",
       "      <td>...</td>\n",
       "      <td>...</td>\n",
       "    </tr>\n",
       "    <tr>\n",
       "      <th>361</th>\n",
       "      <td>362</td>\n",
       "      <td>S12000040</td>\n",
       "      <td>West Lothian</td>\n",
       "      <td></td>\n",
       "      <td>299483</td>\n",
       "      <td>668514</td>\n",
       "      <td>-3.60909</td>\n",
       "      <td>55.8992</td>\n",
       "      <td>4.288180e+08</td>\n",
       "      <td>131722.798591</td>\n",
       "    </tr>\n",
       "    <tr>\n",
       "      <th>362</th>\n",
       "      <td>363</td>\n",
       "      <td>S12000041</td>\n",
       "      <td>Angus</td>\n",
       "      <td></td>\n",
       "      <td>345535</td>\n",
       "      <td>759594</td>\n",
       "      <td>-2.89162</td>\n",
       "      <td>56.7248</td>\n",
       "      <td>2.185221e+09</td>\n",
       "      <td>309577.561793</td>\n",
       "    </tr>\n",
       "    <tr>\n",
       "      <th>363</th>\n",
       "      <td>364</td>\n",
       "      <td>S12000042</td>\n",
       "      <td>Dundee City</td>\n",
       "      <td></td>\n",
       "      <td>340291</td>\n",
       "      <td>732145</td>\n",
       "      <td>-2.97095</td>\n",
       "      <td>56.4776</td>\n",
       "      <td>5.984307e+07</td>\n",
       "      <td>46153.940715</td>\n",
       "    </tr>\n",
       "    <tr>\n",
       "      <th>364</th>\n",
       "      <td>365</td>\n",
       "      <td>S12000044</td>\n",
       "      <td>North Lanarkshire</td>\n",
       "      <td></td>\n",
       "      <td>277984</td>\n",
       "      <td>665608</td>\n",
       "      <td>-3.95140</td>\n",
       "      <td>55.8681</td>\n",
       "      <td>4.722577e+08</td>\n",
       "      <td>160705.893224</td>\n",
       "    </tr>\n",
       "    <tr>\n",
       "      <th>365</th>\n",
       "      <td>366</td>\n",
       "      <td>S12000045</td>\n",
       "      <td>East Dunbartonshire</td>\n",
       "      <td></td>\n",
       "      <td>261240</td>\n",
       "      <td>676154</td>\n",
       "      <td>-4.22417</td>\n",
       "      <td>55.9583</td>\n",
       "      <td>1.744712e+08</td>\n",
       "      <td>97703.602548</td>\n",
       "    </tr>\n",
       "    <tr>\n",
       "      <th>366</th>\n",
       "      <td>367</td>\n",
       "      <td>S12000046</td>\n",
       "      <td>Glasgow City</td>\n",
       "      <td></td>\n",
       "      <td>261534</td>\n",
       "      <td>667033</td>\n",
       "      <td>-4.21479</td>\n",
       "      <td>55.8765</td>\n",
       "      <td>1.747567e+08</td>\n",
       "      <td>132035.298477</td>\n",
       "    </tr>\n",
       "    <tr>\n",
       "      <th>367</th>\n",
       "      <td>368</td>\n",
       "      <td>S12000047</td>\n",
       "      <td>Fife</td>\n",
       "      <td></td>\n",
       "      <td>339197</td>\n",
       "      <td>704726</td>\n",
       "      <td>-2.98235</td>\n",
       "      <td>56.2312</td>\n",
       "      <td>1.325178e+09</td>\n",
       "      <td>326035.266291</td>\n",
       "    </tr>\n",
       "    <tr>\n",
       "      <th>368</th>\n",
       "      <td>369</td>\n",
       "      <td>S12000048</td>\n",
       "      <td>Perth and Kinross</td>\n",
       "      <td></td>\n",
       "      <td>284304</td>\n",
       "      <td>744186</td>\n",
       "      <td>-3.88480</td>\n",
       "      <td>56.5753</td>\n",
       "      <td>5.383648e+09</td>\n",
       "      <td>611000.775222</td>\n",
       "    </tr>\n",
       "    <tr>\n",
       "      <th>369</th>\n",
       "      <td>370</td>\n",
       "      <td>W06000001</td>\n",
       "      <td>Isle of Anglesey</td>\n",
       "      <td>Ynys Môn</td>\n",
       "      <td>245222</td>\n",
       "      <td>378346</td>\n",
       "      <td>-4.32291</td>\n",
       "      <td>53.2794</td>\n",
       "      <td>7.144257e+08</td>\n",
       "      <td>330499.246709</td>\n",
       "    </tr>\n",
       "    <tr>\n",
       "      <th>370</th>\n",
       "      <td>371</td>\n",
       "      <td>W06000002</td>\n",
       "      <td>Gwynedd</td>\n",
       "      <td>Gwynedd</td>\n",
       "      <td>277968</td>\n",
       "      <td>334967</td>\n",
       "      <td>-3.81559</td>\n",
       "      <td>52.8983</td>\n",
       "      <td>2.548210e+09</td>\n",
       "      <td>559831.710602</td>\n",
       "    </tr>\n",
       "    <tr>\n",
       "      <th>371</th>\n",
       "      <td>372</td>\n",
       "      <td>W06000003</td>\n",
       "      <td>Conwy</td>\n",
       "      <td>Conwy</td>\n",
       "      <td>283293</td>\n",
       "      <td>362562</td>\n",
       "      <td>-3.74646</td>\n",
       "      <td>53.1474</td>\n",
       "      <td>1.130299e+09</td>\n",
       "      <td>267851.686659</td>\n",
       "    </tr>\n",
       "    <tr>\n",
       "      <th>372</th>\n",
       "      <td>373</td>\n",
       "      <td>W06000004</td>\n",
       "      <td>Denbighshire</td>\n",
       "      <td>Sir Ddinbych</td>\n",
       "      <td>309843</td>\n",
       "      <td>355416</td>\n",
       "      <td>-3.34761</td>\n",
       "      <td>53.0883</td>\n",
       "      <td>8.385193e+08</td>\n",
       "      <td>224218.256985</td>\n",
       "    </tr>\n",
       "    <tr>\n",
       "      <th>373</th>\n",
       "      <td>374</td>\n",
       "      <td>W06000005</td>\n",
       "      <td>Flintshire</td>\n",
       "      <td>Sir y Fflint</td>\n",
       "      <td>321564</td>\n",
       "      <td>369303</td>\n",
       "      <td>-3.17605</td>\n",
       "      <td>53.2150</td>\n",
       "      <td>4.375133e+08</td>\n",
       "      <td>193171.187641</td>\n",
       "    </tr>\n",
       "    <tr>\n",
       "      <th>374</th>\n",
       "      <td>375</td>\n",
       "      <td>W06000006</td>\n",
       "      <td>Wrexham</td>\n",
       "      <td>Wrecsam</td>\n",
       "      <td>333523</td>\n",
       "      <td>345387</td>\n",
       "      <td>-2.99203</td>\n",
       "      <td>53.0017</td>\n",
       "      <td>5.036850e+08</td>\n",
       "      <td>184245.431311</td>\n",
       "    </tr>\n",
       "    <tr>\n",
       "      <th>375</th>\n",
       "      <td>376</td>\n",
       "      <td>W06000008</td>\n",
       "      <td>Ceredigion</td>\n",
       "      <td>Ceredigion</td>\n",
       "      <td>267126</td>\n",
       "      <td>268437</td>\n",
       "      <td>-3.94994</td>\n",
       "      <td>52.2980</td>\n",
       "      <td>1.789014e+09</td>\n",
       "      <td>356800.984995</td>\n",
       "    </tr>\n",
       "    <tr>\n",
       "      <th>376</th>\n",
       "      <td>377</td>\n",
       "      <td>W06000009</td>\n",
       "      <td>Pembrokeshire</td>\n",
       "      <td>Sir Benfro</td>\n",
       "      <td>199821</td>\n",
       "      <td>221391</td>\n",
       "      <td>-4.90818</td>\n",
       "      <td>51.8551</td>\n",
       "      <td>1.618516e+09</td>\n",
       "      <td>655661.923421</td>\n",
       "    </tr>\n",
       "    <tr>\n",
       "      <th>377</th>\n",
       "      <td>378</td>\n",
       "      <td>W06000010</td>\n",
       "      <td>Carmarthenshire</td>\n",
       "      <td>Sir Gaerfyrddin</td>\n",
       "      <td>247954</td>\n",
       "      <td>224133</td>\n",
       "      <td>-4.21110</td>\n",
       "      <td>51.8950</td>\n",
       "      <td>2.371109e+09</td>\n",
       "      <td>537336.256380</td>\n",
       "    </tr>\n",
       "    <tr>\n",
       "      <th>378</th>\n",
       "      <td>379</td>\n",
       "      <td>W06000011</td>\n",
       "      <td>Swansea</td>\n",
       "      <td>Abertawe</td>\n",
       "      <td>264022</td>\n",
       "      <td>197308</td>\n",
       "      <td>-3.96723</td>\n",
       "      <td>51.6581</td>\n",
       "      <td>3.795664e+08</td>\n",
       "      <td>253604.531153</td>\n",
       "    </tr>\n",
       "    <tr>\n",
       "      <th>379</th>\n",
       "      <td>380</td>\n",
       "      <td>W06000012</td>\n",
       "      <td>Neath Port Talbot</td>\n",
       "      <td>Castell-nedd Port Talbot</td>\n",
       "      <td>279261</td>\n",
       "      <td>195412</td>\n",
       "      <td>-3.74638</td>\n",
       "      <td>51.6445</td>\n",
       "      <td>4.423035e+08</td>\n",
       "      <td>168765.998542</td>\n",
       "    </tr>\n",
       "    <tr>\n",
       "      <th>380</th>\n",
       "      <td>381</td>\n",
       "      <td>W06000013</td>\n",
       "      <td>Bridgend</td>\n",
       "      <td>Pen-y-bont ar Ogwr</td>\n",
       "      <td>288241</td>\n",
       "      <td>185868</td>\n",
       "      <td>-3.61361</td>\n",
       "      <td>51.5606</td>\n",
       "      <td>2.507610e+08</td>\n",
       "      <td>87633.621174</td>\n",
       "    </tr>\n",
       "    <tr>\n",
       "      <th>381</th>\n",
       "      <td>382</td>\n",
       "      <td>W06000014</td>\n",
       "      <td>Vale of Glamorgan</td>\n",
       "      <td>Bro Morgannwg</td>\n",
       "      <td>302946</td>\n",
       "      <td>173083</td>\n",
       "      <td>-3.39803</td>\n",
       "      <td>51.4484</td>\n",
       "      <td>3.311688e+08</td>\n",
       "      <td>104195.395485</td>\n",
       "    </tr>\n",
       "    <tr>\n",
       "      <th>382</th>\n",
       "      <td>383</td>\n",
       "      <td>W06000015</td>\n",
       "      <td>Cardiff</td>\n",
       "      <td>Caerdydd</td>\n",
       "      <td>315270</td>\n",
       "      <td>178887</td>\n",
       "      <td>-3.22212</td>\n",
       "      <td>51.5025</td>\n",
       "      <td>1.423648e+08</td>\n",
       "      <td>76942.665637</td>\n",
       "    </tr>\n",
       "    <tr>\n",
       "      <th>383</th>\n",
       "      <td>384</td>\n",
       "      <td>W06000016</td>\n",
       "      <td>Rhondda Cynon Taf</td>\n",
       "      <td>Rhondda Cynon Taf</td>\n",
       "      <td>302237</td>\n",
       "      <td>192395</td>\n",
       "      <td>-3.41359</td>\n",
       "      <td>51.6218</td>\n",
       "      <td>4.241228e+08</td>\n",
       "      <td>127194.237312</td>\n",
       "    </tr>\n",
       "    <tr>\n",
       "      <th>384</th>\n",
       "      <td>385</td>\n",
       "      <td>W06000018</td>\n",
       "      <td>Caerphilly</td>\n",
       "      <td>Caerffili</td>\n",
       "      <td>317245</td>\n",
       "      <td>195259</td>\n",
       "      <td>-3.19753</td>\n",
       "      <td>51.6500</td>\n",
       "      <td>2.773555e+08</td>\n",
       "      <td>113851.532180</td>\n",
       "    </tr>\n",
       "    <tr>\n",
       "      <th>385</th>\n",
       "      <td>386</td>\n",
       "      <td>W06000019</td>\n",
       "      <td>Blaenau Gwent</td>\n",
       "      <td>Blaenau Gwent</td>\n",
       "      <td>318236</td>\n",
       "      <td>206771</td>\n",
       "      <td>-3.18592</td>\n",
       "      <td>51.7536</td>\n",
       "      <td>1.087179e+08</td>\n",
       "      <td>64673.772445</td>\n",
       "    </tr>\n",
       "    <tr>\n",
       "      <th>386</th>\n",
       "      <td>387</td>\n",
       "      <td>W06000020</td>\n",
       "      <td>Torfaen</td>\n",
       "      <td>Torfaen</td>\n",
       "      <td>327459</td>\n",
       "      <td>200480</td>\n",
       "      <td>-3.05101</td>\n",
       "      <td>51.6984</td>\n",
       "      <td>1.262122e+08</td>\n",
       "      <td>79049.833853</td>\n",
       "    </tr>\n",
       "    <tr>\n",
       "      <th>387</th>\n",
       "      <td>388</td>\n",
       "      <td>W06000021</td>\n",
       "      <td>Monmouthshire</td>\n",
       "      <td>Sir Fynwy</td>\n",
       "      <td>337812</td>\n",
       "      <td>209231</td>\n",
       "      <td>-2.90280</td>\n",
       "      <td>51.7783</td>\n",
       "      <td>8.502912e+08</td>\n",
       "      <td>218310.870415</td>\n",
       "    </tr>\n",
       "    <tr>\n",
       "      <th>388</th>\n",
       "      <td>389</td>\n",
       "      <td>W06000022</td>\n",
       "      <td>Newport</td>\n",
       "      <td>Casnewydd</td>\n",
       "      <td>337897</td>\n",
       "      <td>187433</td>\n",
       "      <td>-2.89769</td>\n",
       "      <td>51.5823</td>\n",
       "      <td>1.905076e+08</td>\n",
       "      <td>148747.859591</td>\n",
       "    </tr>\n",
       "    <tr>\n",
       "      <th>389</th>\n",
       "      <td>390</td>\n",
       "      <td>W06000023</td>\n",
       "      <td>Powys</td>\n",
       "      <td>Powys</td>\n",
       "      <td>302328</td>\n",
       "      <td>273254</td>\n",
       "      <td>-3.43533</td>\n",
       "      <td>52.3486</td>\n",
       "      <td>5.195410e+09</td>\n",
       "      <td>590106.160512</td>\n",
       "    </tr>\n",
       "    <tr>\n",
       "      <th>390</th>\n",
       "      <td>391</td>\n",
       "      <td>W06000024</td>\n",
       "      <td>Merthyr Tydfil</td>\n",
       "      <td>Merthyr Tudful</td>\n",
       "      <td>305916</td>\n",
       "      <td>206424</td>\n",
       "      <td>-3.36425</td>\n",
       "      <td>51.7486</td>\n",
       "      <td>1.119431e+08</td>\n",
       "      <td>65340.207828</td>\n",
       "    </tr>\n",
       "  </tbody>\n",
       "</table>\n",
       "<p>391 rows × 10 columns</p>\n",
       "</div>"
      ],
      "text/plain": [
       "     objectid    lad18cd                       lad18nm  \\\n",
       "0           1  E06000001                    Hartlepool   \n",
       "1           2  E06000002                 Middlesbrough   \n",
       "2           3  E06000003          Redcar and Cleveland   \n",
       "3           4  E06000004              Stockton-on-Tees   \n",
       "4           5  E06000005                    Darlington   \n",
       "5           6  E06000006                        Halton   \n",
       "6           7  E06000007                    Warrington   \n",
       "7           8  E06000008         Blackburn with Darwen   \n",
       "8           9  E06000009                     Blackpool   \n",
       "9          10  E06000010   Kingston upon Hull, City of   \n",
       "10         11  E06000011      East Riding of Yorkshire   \n",
       "11         12  E06000012       North East Lincolnshire   \n",
       "12         13  E06000013            North Lincolnshire   \n",
       "13         14  E06000014                          York   \n",
       "14         15  E06000015                         Derby   \n",
       "15         16  E06000016                     Leicester   \n",
       "16         17  E06000017                       Rutland   \n",
       "17         18  E06000018                    Nottingham   \n",
       "18         19  E06000019      Herefordshire, County of   \n",
       "19         20  E06000020            Telford and Wrekin   \n",
       "20         21  E06000021                Stoke-on-Trent   \n",
       "21         22  E06000022  Bath and North East Somerset   \n",
       "22         23  E06000023              Bristol, City of   \n",
       "23         24  E06000024                North Somerset   \n",
       "24         25  E06000025         South Gloucestershire   \n",
       "25         26  E06000026                      Plymouth   \n",
       "26         27  E06000027                        Torbay   \n",
       "27         28  E06000028                   Bournemouth   \n",
       "28         29  E06000029                         Poole   \n",
       "29         30  E06000030                       Swindon   \n",
       "..        ...        ...                           ...   \n",
       "361       362  S12000040                  West Lothian   \n",
       "362       363  S12000041                         Angus   \n",
       "363       364  S12000042                   Dundee City   \n",
       "364       365  S12000044             North Lanarkshire   \n",
       "365       366  S12000045           East Dunbartonshire   \n",
       "366       367  S12000046                  Glasgow City   \n",
       "367       368  S12000047                          Fife   \n",
       "368       369  S12000048             Perth and Kinross   \n",
       "369       370  W06000001              Isle of Anglesey   \n",
       "370       371  W06000002                       Gwynedd   \n",
       "371       372  W06000003                         Conwy   \n",
       "372       373  W06000004                  Denbighshire   \n",
       "373       374  W06000005                    Flintshire   \n",
       "374       375  W06000006                       Wrexham   \n",
       "375       376  W06000008                    Ceredigion   \n",
       "376       377  W06000009                 Pembrokeshire   \n",
       "377       378  W06000010               Carmarthenshire   \n",
       "378       379  W06000011                       Swansea   \n",
       "379       380  W06000012             Neath Port Talbot   \n",
       "380       381  W06000013                      Bridgend   \n",
       "381       382  W06000014             Vale of Glamorgan   \n",
       "382       383  W06000015                       Cardiff   \n",
       "383       384  W06000016             Rhondda Cynon Taf   \n",
       "384       385  W06000018                    Caerphilly   \n",
       "385       386  W06000019                 Blaenau Gwent   \n",
       "386       387  W06000020                       Torfaen   \n",
       "387       388  W06000021                 Monmouthshire   \n",
       "388       389  W06000022                       Newport   \n",
       "389       390  W06000023                         Powys   \n",
       "390       391  W06000024                Merthyr Tydfil   \n",
       "\n",
       "                     lad18nmw   bng_e   bng_n     long      lat  st_areashape  \\\n",
       "0                              447157  531476 -1.27023  54.6762  9.364074e+07   \n",
       "1                              451141  516887 -1.21099  54.5447  5.387613e+07   \n",
       "2                              464359  519597 -1.00611  54.5675  2.448759e+08   \n",
       "3                              444937  518183 -1.30669  54.5569  2.049579e+08   \n",
       "4                              428029  515648 -1.56835  54.5353  1.974976e+08   \n",
       "5                              354246  382146 -2.68853  53.3342  7.908640e+07   \n",
       "6                              362744  388456 -2.56167  53.3916  1.806453e+08   \n",
       "7                              369490  422806 -2.46360  53.7008  1.370625e+08   \n",
       "8                              332763  436633 -3.02284  53.8216  3.487525e+07   \n",
       "9                              511894  431716 -0.30380  53.7698  7.146231e+07   \n",
       "10                             488051  443608 -0.66203  53.8812  2.406543e+09   \n",
       "11                             523454  404574 -0.13927  53.5234  1.919256e+08   \n",
       "12                             497798  410996 -0.52410  53.5864  8.463281e+08   \n",
       "13                             460864  452589 -1.07375  53.9658  2.719447e+08   \n",
       "14                             435609  335375 -1.47189  52.9146  7.801693e+07   \n",
       "15                             458946  304594 -1.13040  52.6359  7.339883e+07   \n",
       "16                             492992  308655 -0.62630  52.6676  3.937508e+08   \n",
       "17                             456082  339969 -1.16667  52.9542  7.458847e+07   \n",
       "18                             349434  242834 -2.73931  52.0815  2.179710e+09   \n",
       "19                             367035  313057 -2.48941  52.7142  2.903246e+08   \n",
       "20                             389438  346652 -2.15888  53.0171  9.343437e+07   \n",
       "21                             366217  161999 -2.48654  51.3560  3.511751e+08   \n",
       "22                             359990  174846 -2.57742  51.4711  1.096945e+08   \n",
       "23                             347611  166719 -2.75442  51.3971  3.747074e+08   \n",
       "24                             367559  183196 -2.46922  51.5467  4.969498e+08   \n",
       "25                             249941   58251 -4.11303  50.4049  7.988748e+07   \n",
       "26                             289730   64608 -3.55523  50.4709  6.292514e+07   \n",
       "27                             410069   93928 -1.85864  50.7449  4.619276e+07   \n",
       "28                             403393   93466 -1.95327  50.7408  6.475111e+07   \n",
       "29                             418551  186564 -1.73367  51.5776  2.301046e+08   \n",
       "..                        ...     ...     ...      ...      ...           ...   \n",
       "361                            299483  668514 -3.60909  55.8992  4.288180e+08   \n",
       "362                            345535  759594 -2.89162  56.7248  2.185221e+09   \n",
       "363                            340291  732145 -2.97095  56.4776  5.984307e+07   \n",
       "364                            277984  665608 -3.95140  55.8681  4.722577e+08   \n",
       "365                            261240  676154 -4.22417  55.9583  1.744712e+08   \n",
       "366                            261534  667033 -4.21479  55.8765  1.747567e+08   \n",
       "367                            339197  704726 -2.98235  56.2312  1.325178e+09   \n",
       "368                            284304  744186 -3.88480  56.5753  5.383648e+09   \n",
       "369                  Ynys Môn  245222  378346 -4.32291  53.2794  7.144257e+08   \n",
       "370                   Gwynedd  277968  334967 -3.81559  52.8983  2.548210e+09   \n",
       "371                     Conwy  283293  362562 -3.74646  53.1474  1.130299e+09   \n",
       "372              Sir Ddinbych  309843  355416 -3.34761  53.0883  8.385193e+08   \n",
       "373              Sir y Fflint  321564  369303 -3.17605  53.2150  4.375133e+08   \n",
       "374                   Wrecsam  333523  345387 -2.99203  53.0017  5.036850e+08   \n",
       "375                Ceredigion  267126  268437 -3.94994  52.2980  1.789014e+09   \n",
       "376                Sir Benfro  199821  221391 -4.90818  51.8551  1.618516e+09   \n",
       "377           Sir Gaerfyrddin  247954  224133 -4.21110  51.8950  2.371109e+09   \n",
       "378                  Abertawe  264022  197308 -3.96723  51.6581  3.795664e+08   \n",
       "379  Castell-nedd Port Talbot  279261  195412 -3.74638  51.6445  4.423035e+08   \n",
       "380        Pen-y-bont ar Ogwr  288241  185868 -3.61361  51.5606  2.507610e+08   \n",
       "381             Bro Morgannwg  302946  173083 -3.39803  51.4484  3.311688e+08   \n",
       "382                  Caerdydd  315270  178887 -3.22212  51.5025  1.423648e+08   \n",
       "383         Rhondda Cynon Taf  302237  192395 -3.41359  51.6218  4.241228e+08   \n",
       "384                 Caerffili  317245  195259 -3.19753  51.6500  2.773555e+08   \n",
       "385             Blaenau Gwent  318236  206771 -3.18592  51.7536  1.087179e+08   \n",
       "386                   Torfaen  327459  200480 -3.05101  51.6984  1.262122e+08   \n",
       "387                 Sir Fynwy  337812  209231 -2.90280  51.7783  8.502912e+08   \n",
       "388                 Casnewydd  337897  187433 -2.89769  51.5823  1.905076e+08   \n",
       "389                     Powys  302328  273254 -3.43533  52.3486  5.195410e+09   \n",
       "390            Merthyr Tudful  305916  206424 -3.36425  51.7486  1.119431e+08   \n",
       "\n",
       "     st_lengthshape  \n",
       "0      69780.416446  \n",
       "1      42262.990135  \n",
       "2      96548.932570  \n",
       "3     115541.332608  \n",
       "4     105784.983937  \n",
       "5      76340.008096  \n",
       "6     111798.638796  \n",
       "7      63732.321791  \n",
       "8      34580.344897  \n",
       "9      63584.402721  \n",
       "10    496921.153101  \n",
       "11     85139.037739  \n",
       "12    237755.597007  \n",
       "13    100435.197589  \n",
       "14     49298.858278  \n",
       "15     50775.921930  \n",
       "16    120252.809377  \n",
       "17     58022.445388  \n",
       "18    338901.362686  \n",
       "19    115362.660918  \n",
       "20     62250.298060  \n",
       "21    137383.291806  \n",
       "22    108901.920657  \n",
       "23    148321.812623  \n",
       "24    140311.706220  \n",
       "25     88995.849746  \n",
       "26     73591.780927  \n",
       "27     47153.649474  \n",
       "28     71495.230650  \n",
       "29     99570.969656  \n",
       "..              ...  \n",
       "361   131722.798591  \n",
       "362   309577.561793  \n",
       "363    46153.940715  \n",
       "364   160705.893224  \n",
       "365    97703.602548  \n",
       "366   132035.298477  \n",
       "367   326035.266291  \n",
       "368   611000.775222  \n",
       "369   330499.246709  \n",
       "370   559831.710602  \n",
       "371   267851.686659  \n",
       "372   224218.256985  \n",
       "373   193171.187641  \n",
       "374   184245.431311  \n",
       "375   356800.984995  \n",
       "376   655661.923421  \n",
       "377   537336.256380  \n",
       "378   253604.531153  \n",
       "379   168765.998542  \n",
       "380    87633.621174  \n",
       "381   104195.395485  \n",
       "382    76942.665637  \n",
       "383   127194.237312  \n",
       "384   113851.532180  \n",
       "385    64673.772445  \n",
       "386    79049.833853  \n",
       "387   218310.870415  \n",
       "388   148747.859591  \n",
       "389   590106.160512  \n",
       "390    65340.207828  \n",
       "\n",
       "[391 rows x 10 columns]"
      ]
     },
     "execution_count": 37,
     "metadata": {},
     "output_type": "execute_result"
    }
   ],
   "source": [
    "lad_latlon"
   ]
  },
  {
   "cell_type": "code",
   "execution_count": 39,
   "metadata": {
    "hidden": true
   },
   "outputs": [],
   "source": [
    "lad_latlon = lad_latlon.rename(columns={'lad18nm':'LAD'})\n"
   ]
  },
  {
   "cell_type": "code",
   "execution_count": 45,
   "metadata": {
    "hidden": true
   },
   "outputs": [],
   "source": [
    "df_merge = df.merge(lad_latlon, on='LAD', how='left')"
   ]
  },
  {
   "cell_type": "code",
   "execution_count": 49,
   "metadata": {
    "hidden": true
   },
   "outputs": [
    {
     "data": {
      "text/html": [
       "<div>\n",
       "<style scoped>\n",
       "    .dataframe tbody tr th:only-of-type {\n",
       "        vertical-align: middle;\n",
       "    }\n",
       "\n",
       "    .dataframe tbody tr th {\n",
       "        vertical-align: top;\n",
       "    }\n",
       "\n",
       "    .dataframe thead th {\n",
       "        text-align: right;\n",
       "    }\n",
       "</style>\n",
       "<table border=\"1\" class=\"dataframe\">\n",
       "  <thead>\n",
       "    <tr style=\"text-align: right;\">\n",
       "      <th></th>\n",
       "      <th>LAD</th>\n",
       "      <th>Mean</th>\n",
       "      <th>objectid</th>\n",
       "      <th>lad18cd</th>\n",
       "      <th>lad18nmw</th>\n",
       "      <th>bng_e</th>\n",
       "      <th>bng_n</th>\n",
       "      <th>long</th>\n",
       "      <th>lat</th>\n",
       "      <th>st_areashape</th>\n",
       "      <th>st_lengthshape</th>\n",
       "    </tr>\n",
       "  </thead>\n",
       "  <tbody>\n",
       "    <tr>\n",
       "      <th>115</th>\n",
       "      <td>Anglesey, Isle of</td>\n",
       "      <td>26.89</td>\n",
       "      <td>NaN</td>\n",
       "      <td>NaN</td>\n",
       "      <td>NaN</td>\n",
       "      <td>NaN</td>\n",
       "      <td>NaN</td>\n",
       "      <td>NaN</td>\n",
       "      <td>NaN</td>\n",
       "      <td>NaN</td>\n",
       "      <td>NaN</td>\n",
       "    </tr>\n",
       "    <tr>\n",
       "      <th>128</th>\n",
       "      <td>Vale of Glamorgan, The</td>\n",
       "      <td>28.3251</td>\n",
       "      <td>NaN</td>\n",
       "      <td>NaN</td>\n",
       "      <td>NaN</td>\n",
       "      <td>NaN</td>\n",
       "      <td>NaN</td>\n",
       "      <td>NaN</td>\n",
       "      <td>NaN</td>\n",
       "      <td>NaN</td>\n",
       "      <td>NaN</td>\n",
       "    </tr>\n",
       "    <tr>\n",
       "      <th>129</th>\n",
       "      <td>Rhondda, Cynon, Taff</td>\n",
       "      <td>29.9231</td>\n",
       "      <td>NaN</td>\n",
       "      <td>NaN</td>\n",
       "      <td>NaN</td>\n",
       "      <td>NaN</td>\n",
       "      <td>NaN</td>\n",
       "      <td>NaN</td>\n",
       "      <td>NaN</td>\n",
       "      <td>NaN</td>\n",
       "      <td>NaN</td>\n",
       "    </tr>\n",
       "    <tr>\n",
       "      <th>140</th>\n",
       "      <td>Argyll &amp; Bute</td>\n",
       "      <td>33.2173</td>\n",
       "      <td>NaN</td>\n",
       "      <td>NaN</td>\n",
       "      <td>NaN</td>\n",
       "      <td>NaN</td>\n",
       "      <td>NaN</td>\n",
       "      <td>NaN</td>\n",
       "      <td>NaN</td>\n",
       "      <td>NaN</td>\n",
       "      <td>NaN</td>\n",
       "    </tr>\n",
       "    <tr>\n",
       "      <th>141</th>\n",
       "      <td>Scot Borders, The</td>\n",
       "      <td>23.2812</td>\n",
       "      <td>NaN</td>\n",
       "      <td>NaN</td>\n",
       "      <td>NaN</td>\n",
       "      <td>NaN</td>\n",
       "      <td>NaN</td>\n",
       "      <td>NaN</td>\n",
       "      <td>NaN</td>\n",
       "      <td>NaN</td>\n",
       "      <td>NaN</td>\n",
       "    </tr>\n",
       "    <tr>\n",
       "      <th>150</th>\n",
       "      <td>Edinburgh, City of</td>\n",
       "      <td>29.1662</td>\n",
       "      <td>NaN</td>\n",
       "      <td>NaN</td>\n",
       "      <td>NaN</td>\n",
       "      <td>NaN</td>\n",
       "      <td>NaN</td>\n",
       "      <td>NaN</td>\n",
       "      <td>NaN</td>\n",
       "      <td>NaN</td>\n",
       "      <td>NaN</td>\n",
       "    </tr>\n",
       "    <tr>\n",
       "      <th>168</th>\n",
       "      <td>Eilean Siar (Western Isles)</td>\n",
       "      <td>34.9226</td>\n",
       "      <td>NaN</td>\n",
       "      <td>NaN</td>\n",
       "      <td>NaN</td>\n",
       "      <td>NaN</td>\n",
       "      <td>NaN</td>\n",
       "      <td>NaN</td>\n",
       "      <td>NaN</td>\n",
       "      <td>NaN</td>\n",
       "      <td>NaN</td>\n",
       "    </tr>\n",
       "    <tr>\n",
       "      <th>169</th>\n",
       "      <td>Northern Ireland</td>\n",
       "      <td>25.2366</td>\n",
       "      <td>NaN</td>\n",
       "      <td>NaN</td>\n",
       "      <td>NaN</td>\n",
       "      <td>NaN</td>\n",
       "      <td>NaN</td>\n",
       "      <td>NaN</td>\n",
       "      <td>NaN</td>\n",
       "      <td>NaN</td>\n",
       "      <td>NaN</td>\n",
       "    </tr>\n",
       "    <tr>\n",
       "      <th>170</th>\n",
       "      <td>Abroad</td>\n",
       "      <td>NaN</td>\n",
       "      <td>NaN</td>\n",
       "      <td>NaN</td>\n",
       "      <td>NaN</td>\n",
       "      <td>NaN</td>\n",
       "      <td>NaN</td>\n",
       "      <td>NaN</td>\n",
       "      <td>NaN</td>\n",
       "      <td>NaN</td>\n",
       "      <td>NaN</td>\n",
       "    </tr>\n",
       "    <tr>\n",
       "      <th>171</th>\n",
       "      <td>Mid Bedfordshire</td>\n",
       "      <td>34.9258</td>\n",
       "      <td>NaN</td>\n",
       "      <td>NaN</td>\n",
       "      <td>NaN</td>\n",
       "      <td>NaN</td>\n",
       "      <td>NaN</td>\n",
       "      <td>NaN</td>\n",
       "      <td>NaN</td>\n",
       "      <td>NaN</td>\n",
       "      <td>NaN</td>\n",
       "    </tr>\n",
       "    <tr>\n",
       "      <th>173</th>\n",
       "      <td>South Bedfordshire</td>\n",
       "      <td>30.754</td>\n",
       "      <td>NaN</td>\n",
       "      <td>NaN</td>\n",
       "      <td>NaN</td>\n",
       "      <td>NaN</td>\n",
       "      <td>NaN</td>\n",
       "      <td>NaN</td>\n",
       "      <td>NaN</td>\n",
       "      <td>NaN</td>\n",
       "      <td>NaN</td>\n",
       "    </tr>\n",
       "    <tr>\n",
       "      <th>183</th>\n",
       "      <td>Chester</td>\n",
       "      <td>29.4467</td>\n",
       "      <td>NaN</td>\n",
       "      <td>NaN</td>\n",
       "      <td>NaN</td>\n",
       "      <td>NaN</td>\n",
       "      <td>NaN</td>\n",
       "      <td>NaN</td>\n",
       "      <td>NaN</td>\n",
       "      <td>NaN</td>\n",
       "      <td>NaN</td>\n",
       "    </tr>\n",
       "    <tr>\n",
       "      <th>184</th>\n",
       "      <td>Congleton</td>\n",
       "      <td>24.1173</td>\n",
       "      <td>NaN</td>\n",
       "      <td>NaN</td>\n",
       "      <td>NaN</td>\n",
       "      <td>NaN</td>\n",
       "      <td>NaN</td>\n",
       "      <td>NaN</td>\n",
       "      <td>NaN</td>\n",
       "      <td>NaN</td>\n",
       "      <td>NaN</td>\n",
       "    </tr>\n",
       "    <tr>\n",
       "      <th>185</th>\n",
       "      <td>Crewe and Nantwich</td>\n",
       "      <td>32.3536</td>\n",
       "      <td>NaN</td>\n",
       "      <td>NaN</td>\n",
       "      <td>NaN</td>\n",
       "      <td>NaN</td>\n",
       "      <td>NaN</td>\n",
       "      <td>NaN</td>\n",
       "      <td>NaN</td>\n",
       "      <td>NaN</td>\n",
       "      <td>NaN</td>\n",
       "    </tr>\n",
       "    <tr>\n",
       "      <th>186</th>\n",
       "      <td>Ellesmere Port and Neston</td>\n",
       "      <td>36.4944</td>\n",
       "      <td>NaN</td>\n",
       "      <td>NaN</td>\n",
       "      <td>NaN</td>\n",
       "      <td>NaN</td>\n",
       "      <td>NaN</td>\n",
       "      <td>NaN</td>\n",
       "      <td>NaN</td>\n",
       "      <td>NaN</td>\n",
       "      <td>NaN</td>\n",
       "    </tr>\n",
       "    <tr>\n",
       "      <th>187</th>\n",
       "      <td>Macclesfield</td>\n",
       "      <td>29.06</td>\n",
       "      <td>NaN</td>\n",
       "      <td>NaN</td>\n",
       "      <td>NaN</td>\n",
       "      <td>NaN</td>\n",
       "      <td>NaN</td>\n",
       "      <td>NaN</td>\n",
       "      <td>NaN</td>\n",
       "      <td>NaN</td>\n",
       "      <td>NaN</td>\n",
       "    </tr>\n",
       "    <tr>\n",
       "      <th>188</th>\n",
       "      <td>Vale Royal</td>\n",
       "      <td>27.8437</td>\n",
       "      <td>NaN</td>\n",
       "      <td>NaN</td>\n",
       "      <td>NaN</td>\n",
       "      <td>NaN</td>\n",
       "      <td>NaN</td>\n",
       "      <td>NaN</td>\n",
       "      <td>NaN</td>\n",
       "      <td>NaN</td>\n",
       "      <td>NaN</td>\n",
       "    </tr>\n",
       "    <tr>\n",
       "      <th>189</th>\n",
       "      <td>Caradon</td>\n",
       "      <td>27.3162</td>\n",
       "      <td>NaN</td>\n",
       "      <td>NaN</td>\n",
       "      <td>NaN</td>\n",
       "      <td>NaN</td>\n",
       "      <td>NaN</td>\n",
       "      <td>NaN</td>\n",
       "      <td>NaN</td>\n",
       "      <td>NaN</td>\n",
       "      <td>NaN</td>\n",
       "    </tr>\n",
       "    <tr>\n",
       "      <th>190</th>\n",
       "      <td>Carrick</td>\n",
       "      <td>29.4369</td>\n",
       "      <td>NaN</td>\n",
       "      <td>NaN</td>\n",
       "      <td>NaN</td>\n",
       "      <td>NaN</td>\n",
       "      <td>NaN</td>\n",
       "      <td>NaN</td>\n",
       "      <td>NaN</td>\n",
       "      <td>NaN</td>\n",
       "      <td>NaN</td>\n",
       "    </tr>\n",
       "    <tr>\n",
       "      <th>191</th>\n",
       "      <td>Kerrier</td>\n",
       "      <td>19.333</td>\n",
       "      <td>NaN</td>\n",
       "      <td>NaN</td>\n",
       "      <td>NaN</td>\n",
       "      <td>NaN</td>\n",
       "      <td>NaN</td>\n",
       "      <td>NaN</td>\n",
       "      <td>NaN</td>\n",
       "      <td>NaN</td>\n",
       "      <td>NaN</td>\n",
       "    </tr>\n",
       "    <tr>\n",
       "      <th>192</th>\n",
       "      <td>North Cornwall</td>\n",
       "      <td>16.3426</td>\n",
       "      <td>NaN</td>\n",
       "      <td>NaN</td>\n",
       "      <td>NaN</td>\n",
       "      <td>NaN</td>\n",
       "      <td>NaN</td>\n",
       "      <td>NaN</td>\n",
       "      <td>NaN</td>\n",
       "      <td>NaN</td>\n",
       "      <td>NaN</td>\n",
       "    </tr>\n",
       "    <tr>\n",
       "      <th>193</th>\n",
       "      <td>Penwith</td>\n",
       "      <td>23.1983</td>\n",
       "      <td>NaN</td>\n",
       "      <td>NaN</td>\n",
       "      <td>NaN</td>\n",
       "      <td>NaN</td>\n",
       "      <td>NaN</td>\n",
       "      <td>NaN</td>\n",
       "      <td>NaN</td>\n",
       "      <td>NaN</td>\n",
       "      <td>NaN</td>\n",
       "    </tr>\n",
       "    <tr>\n",
       "      <th>194</th>\n",
       "      <td>Restormel</td>\n",
       "      <td>22.7284</td>\n",
       "      <td>NaN</td>\n",
       "      <td>NaN</td>\n",
       "      <td>NaN</td>\n",
       "      <td>NaN</td>\n",
       "      <td>NaN</td>\n",
       "      <td>NaN</td>\n",
       "      <td>NaN</td>\n",
       "      <td>NaN</td>\n",
       "      <td>NaN</td>\n",
       "    </tr>\n",
       "    <tr>\n",
       "      <th>224</th>\n",
       "      <td>Chester-le-Street</td>\n",
       "      <td>22.6405</td>\n",
       "      <td>NaN</td>\n",
       "      <td>NaN</td>\n",
       "      <td>NaN</td>\n",
       "      <td>NaN</td>\n",
       "      <td>NaN</td>\n",
       "      <td>NaN</td>\n",
       "      <td>NaN</td>\n",
       "      <td>NaN</td>\n",
       "      <td>NaN</td>\n",
       "    </tr>\n",
       "    <tr>\n",
       "      <th>225</th>\n",
       "      <td>Derwentside</td>\n",
       "      <td>28.5164</td>\n",
       "      <td>NaN</td>\n",
       "      <td>NaN</td>\n",
       "      <td>NaN</td>\n",
       "      <td>NaN</td>\n",
       "      <td>NaN</td>\n",
       "      <td>NaN</td>\n",
       "      <td>NaN</td>\n",
       "      <td>NaN</td>\n",
       "      <td>NaN</td>\n",
       "    </tr>\n",
       "    <tr>\n",
       "      <th>226</th>\n",
       "      <td>Durham</td>\n",
       "      <td>26.9482</td>\n",
       "      <td>NaN</td>\n",
       "      <td>NaN</td>\n",
       "      <td>NaN</td>\n",
       "      <td>NaN</td>\n",
       "      <td>NaN</td>\n",
       "      <td>NaN</td>\n",
       "      <td>NaN</td>\n",
       "      <td>NaN</td>\n",
       "      <td>NaN</td>\n",
       "    </tr>\n",
       "    <tr>\n",
       "      <th>227</th>\n",
       "      <td>Easington</td>\n",
       "      <td>21.9573</td>\n",
       "      <td>NaN</td>\n",
       "      <td>NaN</td>\n",
       "      <td>NaN</td>\n",
       "      <td>NaN</td>\n",
       "      <td>NaN</td>\n",
       "      <td>NaN</td>\n",
       "      <td>NaN</td>\n",
       "      <td>NaN</td>\n",
       "      <td>NaN</td>\n",
       "    </tr>\n",
       "    <tr>\n",
       "      <th>228</th>\n",
       "      <td>Sedgefield</td>\n",
       "      <td>21.6634</td>\n",
       "      <td>NaN</td>\n",
       "      <td>NaN</td>\n",
       "      <td>NaN</td>\n",
       "      <td>NaN</td>\n",
       "      <td>NaN</td>\n",
       "      <td>NaN</td>\n",
       "      <td>NaN</td>\n",
       "      <td>NaN</td>\n",
       "      <td>NaN</td>\n",
       "    </tr>\n",
       "    <tr>\n",
       "      <th>229</th>\n",
       "      <td>Teesdale</td>\n",
       "      <td>16.307</td>\n",
       "      <td>NaN</td>\n",
       "      <td>NaN</td>\n",
       "      <td>NaN</td>\n",
       "      <td>NaN</td>\n",
       "      <td>NaN</td>\n",
       "      <td>NaN</td>\n",
       "      <td>NaN</td>\n",
       "      <td>NaN</td>\n",
       "      <td>NaN</td>\n",
       "    </tr>\n",
       "    <tr>\n",
       "      <th>230</th>\n",
       "      <td>Wear Valley</td>\n",
       "      <td>17.0821</td>\n",
       "      <td>NaN</td>\n",
       "      <td>NaN</td>\n",
       "      <td>NaN</td>\n",
       "      <td>NaN</td>\n",
       "      <td>NaN</td>\n",
       "      <td>NaN</td>\n",
       "      <td>NaN</td>\n",
       "      <td>NaN</td>\n",
       "      <td>NaN</td>\n",
       "    </tr>\n",
       "    <tr>\n",
       "      <th>270</th>\n",
       "      <td>St. Albans</td>\n",
       "      <td>30.7622</td>\n",
       "      <td>NaN</td>\n",
       "      <td>NaN</td>\n",
       "      <td>NaN</td>\n",
       "      <td>NaN</td>\n",
       "      <td>NaN</td>\n",
       "      <td>NaN</td>\n",
       "      <td>NaN</td>\n",
       "      <td>NaN</td>\n",
       "      <td>NaN</td>\n",
       "    </tr>\n",
       "    <tr>\n",
       "      <th>282</th>\n",
       "      <td>Shepway</td>\n",
       "      <td>22.0655</td>\n",
       "      <td>NaN</td>\n",
       "      <td>NaN</td>\n",
       "      <td>NaN</td>\n",
       "      <td>NaN</td>\n",
       "      <td>NaN</td>\n",
       "      <td>NaN</td>\n",
       "      <td>NaN</td>\n",
       "      <td>NaN</td>\n",
       "      <td>NaN</td>\n",
       "    </tr>\n",
       "    <tr>\n",
       "      <th>316</th>\n",
       "      <td>Kings Lynn and West Norfolk</td>\n",
       "      <td>24.0173</td>\n",
       "      <td>NaN</td>\n",
       "      <td>NaN</td>\n",
       "      <td>NaN</td>\n",
       "      <td>NaN</td>\n",
       "      <td>NaN</td>\n",
       "      <td>NaN</td>\n",
       "      <td>NaN</td>\n",
       "      <td>NaN</td>\n",
       "      <td>NaN</td>\n",
       "    </tr>\n",
       "    <tr>\n",
       "      <th>327</th>\n",
       "      <td>Alnwick</td>\n",
       "      <td>34.7939</td>\n",
       "      <td>NaN</td>\n",
       "      <td>NaN</td>\n",
       "      <td>NaN</td>\n",
       "      <td>NaN</td>\n",
       "      <td>NaN</td>\n",
       "      <td>NaN</td>\n",
       "      <td>NaN</td>\n",
       "      <td>NaN</td>\n",
       "      <td>NaN</td>\n",
       "    </tr>\n",
       "    <tr>\n",
       "      <th>328</th>\n",
       "      <td>Berwick-upon-Tweed</td>\n",
       "      <td>19.7078</td>\n",
       "      <td>NaN</td>\n",
       "      <td>NaN</td>\n",
       "      <td>NaN</td>\n",
       "      <td>NaN</td>\n",
       "      <td>NaN</td>\n",
       "      <td>NaN</td>\n",
       "      <td>NaN</td>\n",
       "      <td>NaN</td>\n",
       "      <td>NaN</td>\n",
       "    </tr>\n",
       "    <tr>\n",
       "      <th>329</th>\n",
       "      <td>Blyth Valley</td>\n",
       "      <td>38.3331</td>\n",
       "      <td>NaN</td>\n",
       "      <td>NaN</td>\n",
       "      <td>NaN</td>\n",
       "      <td>NaN</td>\n",
       "      <td>NaN</td>\n",
       "      <td>NaN</td>\n",
       "      <td>NaN</td>\n",
       "      <td>NaN</td>\n",
       "      <td>NaN</td>\n",
       "    </tr>\n",
       "    <tr>\n",
       "      <th>330</th>\n",
       "      <td>Castle Morpeth</td>\n",
       "      <td>51.9899</td>\n",
       "      <td>NaN</td>\n",
       "      <td>NaN</td>\n",
       "      <td>NaN</td>\n",
       "      <td>NaN</td>\n",
       "      <td>NaN</td>\n",
       "      <td>NaN</td>\n",
       "      <td>NaN</td>\n",
       "      <td>NaN</td>\n",
       "      <td>NaN</td>\n",
       "    </tr>\n",
       "    <tr>\n",
       "      <th>331</th>\n",
       "      <td>Tynedale</td>\n",
       "      <td>37.469</td>\n",
       "      <td>NaN</td>\n",
       "      <td>NaN</td>\n",
       "      <td>NaN</td>\n",
       "      <td>NaN</td>\n",
       "      <td>NaN</td>\n",
       "      <td>NaN</td>\n",
       "      <td>NaN</td>\n",
       "      <td>NaN</td>\n",
       "      <td>NaN</td>\n",
       "    </tr>\n",
       "    <tr>\n",
       "      <th>332</th>\n",
       "      <td>Wansbeck</td>\n",
       "      <td>16.7016</td>\n",
       "      <td>NaN</td>\n",
       "      <td>NaN</td>\n",
       "      <td>NaN</td>\n",
       "      <td>NaN</td>\n",
       "      <td>NaN</td>\n",
       "      <td>NaN</td>\n",
       "      <td>NaN</td>\n",
       "      <td>NaN</td>\n",
       "      <td>NaN</td>\n",
       "    </tr>\n",
       "    <tr>\n",
       "      <th>352</th>\n",
       "      <td>Bridgnorth</td>\n",
       "      <td>38.0023</td>\n",
       "      <td>NaN</td>\n",
       "      <td>NaN</td>\n",
       "      <td>NaN</td>\n",
       "      <td>NaN</td>\n",
       "      <td>NaN</td>\n",
       "      <td>NaN</td>\n",
       "      <td>NaN</td>\n",
       "      <td>NaN</td>\n",
       "      <td>NaN</td>\n",
       "    </tr>\n",
       "    <tr>\n",
       "      <th>353</th>\n",
       "      <td>North Shropshire</td>\n",
       "      <td>31.4555</td>\n",
       "      <td>NaN</td>\n",
       "      <td>NaN</td>\n",
       "      <td>NaN</td>\n",
       "      <td>NaN</td>\n",
       "      <td>NaN</td>\n",
       "      <td>NaN</td>\n",
       "      <td>NaN</td>\n",
       "      <td>NaN</td>\n",
       "      <td>NaN</td>\n",
       "    </tr>\n",
       "    <tr>\n",
       "      <th>354</th>\n",
       "      <td>Oswestry</td>\n",
       "      <td>24.122</td>\n",
       "      <td>NaN</td>\n",
       "      <td>NaN</td>\n",
       "      <td>NaN</td>\n",
       "      <td>NaN</td>\n",
       "      <td>NaN</td>\n",
       "      <td>NaN</td>\n",
       "      <td>NaN</td>\n",
       "      <td>NaN</td>\n",
       "      <td>NaN</td>\n",
       "    </tr>\n",
       "    <tr>\n",
       "      <th>355</th>\n",
       "      <td>Shrewsbury and Atcham</td>\n",
       "      <td>21.1624</td>\n",
       "      <td>NaN</td>\n",
       "      <td>NaN</td>\n",
       "      <td>NaN</td>\n",
       "      <td>NaN</td>\n",
       "      <td>NaN</td>\n",
       "      <td>NaN</td>\n",
       "      <td>NaN</td>\n",
       "      <td>NaN</td>\n",
       "      <td>NaN</td>\n",
       "    </tr>\n",
       "    <tr>\n",
       "      <th>356</th>\n",
       "      <td>South Shropshire</td>\n",
       "      <td>12.7238</td>\n",
       "      <td>NaN</td>\n",
       "      <td>NaN</td>\n",
       "      <td>NaN</td>\n",
       "      <td>NaN</td>\n",
       "      <td>NaN</td>\n",
       "      <td>NaN</td>\n",
       "      <td>NaN</td>\n",
       "      <td>NaN</td>\n",
       "      <td>NaN</td>\n",
       "    </tr>\n",
       "    <tr>\n",
       "      <th>374</th>\n",
       "      <td>St. Edmundsbury</td>\n",
       "      <td>22.3967</td>\n",
       "      <td>NaN</td>\n",
       "      <td>NaN</td>\n",
       "      <td>NaN</td>\n",
       "      <td>NaN</td>\n",
       "      <td>NaN</td>\n",
       "      <td>NaN</td>\n",
       "      <td>NaN</td>\n",
       "      <td>NaN</td>\n",
       "      <td>NaN</td>\n",
       "    </tr>\n",
       "    <tr>\n",
       "      <th>400</th>\n",
       "      <td>Kennet</td>\n",
       "      <td>29.0353</td>\n",
       "      <td>NaN</td>\n",
       "      <td>NaN</td>\n",
       "      <td>NaN</td>\n",
       "      <td>NaN</td>\n",
       "      <td>NaN</td>\n",
       "      <td>NaN</td>\n",
       "      <td>NaN</td>\n",
       "      <td>NaN</td>\n",
       "      <td>NaN</td>\n",
       "    </tr>\n",
       "    <tr>\n",
       "      <th>401</th>\n",
       "      <td>North Wiltshire</td>\n",
       "      <td>30.1315</td>\n",
       "      <td>NaN</td>\n",
       "      <td>NaN</td>\n",
       "      <td>NaN</td>\n",
       "      <td>NaN</td>\n",
       "      <td>NaN</td>\n",
       "      <td>NaN</td>\n",
       "      <td>NaN</td>\n",
       "      <td>NaN</td>\n",
       "      <td>NaN</td>\n",
       "    </tr>\n",
       "    <tr>\n",
       "      <th>402</th>\n",
       "      <td>Salisbury</td>\n",
       "      <td>28.749</td>\n",
       "      <td>NaN</td>\n",
       "      <td>NaN</td>\n",
       "      <td>NaN</td>\n",
       "      <td>NaN</td>\n",
       "      <td>NaN</td>\n",
       "      <td>NaN</td>\n",
       "      <td>NaN</td>\n",
       "      <td>NaN</td>\n",
       "      <td>NaN</td>\n",
       "    </tr>\n",
       "    <tr>\n",
       "      <th>403</th>\n",
       "      <td>West Wiltshire</td>\n",
       "      <td>27.3221</td>\n",
       "      <td>NaN</td>\n",
       "      <td>NaN</td>\n",
       "      <td>NaN</td>\n",
       "      <td>NaN</td>\n",
       "      <td>NaN</td>\n",
       "      <td>NaN</td>\n",
       "      <td>NaN</td>\n",
       "      <td>NaN</td>\n",
       "      <td>NaN</td>\n",
       "    </tr>\n",
       "  </tbody>\n",
       "</table>\n",
       "</div>"
      ],
      "text/plain": [
       "                             LAD     Mean  objectid lad18cd lad18nmw  bng_e  \\\n",
       "115            Anglesey, Isle of    26.89       NaN     NaN      NaN    NaN   \n",
       "128       Vale of Glamorgan, The  28.3251       NaN     NaN      NaN    NaN   \n",
       "129         Rhondda, Cynon, Taff  29.9231       NaN     NaN      NaN    NaN   \n",
       "140                Argyll & Bute  33.2173       NaN     NaN      NaN    NaN   \n",
       "141            Scot Borders, The  23.2812       NaN     NaN      NaN    NaN   \n",
       "150           Edinburgh, City of  29.1662       NaN     NaN      NaN    NaN   \n",
       "168  Eilean Siar (Western Isles)  34.9226       NaN     NaN      NaN    NaN   \n",
       "169             Northern Ireland  25.2366       NaN     NaN      NaN    NaN   \n",
       "170                       Abroad      NaN       NaN     NaN      NaN    NaN   \n",
       "171             Mid Bedfordshire  34.9258       NaN     NaN      NaN    NaN   \n",
       "173           South Bedfordshire   30.754       NaN     NaN      NaN    NaN   \n",
       "183                      Chester  29.4467       NaN     NaN      NaN    NaN   \n",
       "184                    Congleton  24.1173       NaN     NaN      NaN    NaN   \n",
       "185           Crewe and Nantwich  32.3536       NaN     NaN      NaN    NaN   \n",
       "186    Ellesmere Port and Neston  36.4944       NaN     NaN      NaN    NaN   \n",
       "187                 Macclesfield    29.06       NaN     NaN      NaN    NaN   \n",
       "188                   Vale Royal  27.8437       NaN     NaN      NaN    NaN   \n",
       "189                      Caradon  27.3162       NaN     NaN      NaN    NaN   \n",
       "190                      Carrick  29.4369       NaN     NaN      NaN    NaN   \n",
       "191                      Kerrier   19.333       NaN     NaN      NaN    NaN   \n",
       "192               North Cornwall  16.3426       NaN     NaN      NaN    NaN   \n",
       "193                      Penwith  23.1983       NaN     NaN      NaN    NaN   \n",
       "194                    Restormel  22.7284       NaN     NaN      NaN    NaN   \n",
       "224            Chester-le-Street  22.6405       NaN     NaN      NaN    NaN   \n",
       "225                  Derwentside  28.5164       NaN     NaN      NaN    NaN   \n",
       "226                       Durham  26.9482       NaN     NaN      NaN    NaN   \n",
       "227                    Easington  21.9573       NaN     NaN      NaN    NaN   \n",
       "228                   Sedgefield  21.6634       NaN     NaN      NaN    NaN   \n",
       "229                     Teesdale   16.307       NaN     NaN      NaN    NaN   \n",
       "230                  Wear Valley  17.0821       NaN     NaN      NaN    NaN   \n",
       "270                   St. Albans  30.7622       NaN     NaN      NaN    NaN   \n",
       "282                      Shepway  22.0655       NaN     NaN      NaN    NaN   \n",
       "316  Kings Lynn and West Norfolk  24.0173       NaN     NaN      NaN    NaN   \n",
       "327                      Alnwick  34.7939       NaN     NaN      NaN    NaN   \n",
       "328           Berwick-upon-Tweed  19.7078       NaN     NaN      NaN    NaN   \n",
       "329                 Blyth Valley  38.3331       NaN     NaN      NaN    NaN   \n",
       "330               Castle Morpeth  51.9899       NaN     NaN      NaN    NaN   \n",
       "331                     Tynedale   37.469       NaN     NaN      NaN    NaN   \n",
       "332                     Wansbeck  16.7016       NaN     NaN      NaN    NaN   \n",
       "352                   Bridgnorth  38.0023       NaN     NaN      NaN    NaN   \n",
       "353             North Shropshire  31.4555       NaN     NaN      NaN    NaN   \n",
       "354                     Oswestry   24.122       NaN     NaN      NaN    NaN   \n",
       "355        Shrewsbury and Atcham  21.1624       NaN     NaN      NaN    NaN   \n",
       "356             South Shropshire  12.7238       NaN     NaN      NaN    NaN   \n",
       "374              St. Edmundsbury  22.3967       NaN     NaN      NaN    NaN   \n",
       "400                       Kennet  29.0353       NaN     NaN      NaN    NaN   \n",
       "401              North Wiltshire  30.1315       NaN     NaN      NaN    NaN   \n",
       "402                    Salisbury   28.749       NaN     NaN      NaN    NaN   \n",
       "403               West Wiltshire  27.3221       NaN     NaN      NaN    NaN   \n",
       "\n",
       "     bng_n  long  lat  st_areashape  st_lengthshape  \n",
       "115    NaN   NaN  NaN           NaN             NaN  \n",
       "128    NaN   NaN  NaN           NaN             NaN  \n",
       "129    NaN   NaN  NaN           NaN             NaN  \n",
       "140    NaN   NaN  NaN           NaN             NaN  \n",
       "141    NaN   NaN  NaN           NaN             NaN  \n",
       "150    NaN   NaN  NaN           NaN             NaN  \n",
       "168    NaN   NaN  NaN           NaN             NaN  \n",
       "169    NaN   NaN  NaN           NaN             NaN  \n",
       "170    NaN   NaN  NaN           NaN             NaN  \n",
       "171    NaN   NaN  NaN           NaN             NaN  \n",
       "173    NaN   NaN  NaN           NaN             NaN  \n",
       "183    NaN   NaN  NaN           NaN             NaN  \n",
       "184    NaN   NaN  NaN           NaN             NaN  \n",
       "185    NaN   NaN  NaN           NaN             NaN  \n",
       "186    NaN   NaN  NaN           NaN             NaN  \n",
       "187    NaN   NaN  NaN           NaN             NaN  \n",
       "188    NaN   NaN  NaN           NaN             NaN  \n",
       "189    NaN   NaN  NaN           NaN             NaN  \n",
       "190    NaN   NaN  NaN           NaN             NaN  \n",
       "191    NaN   NaN  NaN           NaN             NaN  \n",
       "192    NaN   NaN  NaN           NaN             NaN  \n",
       "193    NaN   NaN  NaN           NaN             NaN  \n",
       "194    NaN   NaN  NaN           NaN             NaN  \n",
       "224    NaN   NaN  NaN           NaN             NaN  \n",
       "225    NaN   NaN  NaN           NaN             NaN  \n",
       "226    NaN   NaN  NaN           NaN             NaN  \n",
       "227    NaN   NaN  NaN           NaN             NaN  \n",
       "228    NaN   NaN  NaN           NaN             NaN  \n",
       "229    NaN   NaN  NaN           NaN             NaN  \n",
       "230    NaN   NaN  NaN           NaN             NaN  \n",
       "270    NaN   NaN  NaN           NaN             NaN  \n",
       "282    NaN   NaN  NaN           NaN             NaN  \n",
       "316    NaN   NaN  NaN           NaN             NaN  \n",
       "327    NaN   NaN  NaN           NaN             NaN  \n",
       "328    NaN   NaN  NaN           NaN             NaN  \n",
       "329    NaN   NaN  NaN           NaN             NaN  \n",
       "330    NaN   NaN  NaN           NaN             NaN  \n",
       "331    NaN   NaN  NaN           NaN             NaN  \n",
       "332    NaN   NaN  NaN           NaN             NaN  \n",
       "352    NaN   NaN  NaN           NaN             NaN  \n",
       "353    NaN   NaN  NaN           NaN             NaN  \n",
       "354    NaN   NaN  NaN           NaN             NaN  \n",
       "355    NaN   NaN  NaN           NaN             NaN  \n",
       "356    NaN   NaN  NaN           NaN             NaN  \n",
       "374    NaN   NaN  NaN           NaN             NaN  \n",
       "400    NaN   NaN  NaN           NaN             NaN  \n",
       "401    NaN   NaN  NaN           NaN             NaN  \n",
       "402    NaN   NaN  NaN           NaN             NaN  \n",
       "403    NaN   NaN  NaN           NaN             NaN  "
      ]
     },
     "execution_count": 49,
     "metadata": {},
     "output_type": "execute_result"
    }
   ],
   "source": [
    "df_merge[df_merge['objectid'].isna()]"
   ]
  },
  {
   "cell_type": "code",
   "execution_count": null,
   "metadata": {
    "hidden": true
   },
   "outputs": [],
   "source": []
  },
  {
   "cell_type": "markdown",
   "metadata": {
    "heading_collapsed": true
   },
   "source": [
    "## Test"
   ]
  },
  {
   "cell_type": "code",
   "execution_count": 98,
   "metadata": {
    "hidden": true
   },
   "outputs": [],
   "source": [
    "url = 'https://opendata.arcgis.com/datasets/180a5c44cfc643c0848813f0a81c1bd1_0.zip?outSR=%7B%22latestWkid%22%3A27700%2C%22wkid%22%3A27700%7D'"
   ]
  },
  {
   "cell_type": "code",
   "execution_count": 99,
   "metadata": {
    "hidden": true
   },
   "outputs": [],
   "source": [
    "fname = f'shp_01'"
   ]
  },
  {
   "cell_type": "code",
   "execution_count": 100,
   "metadata": {
    "hidden": true
   },
   "outputs": [],
   "source": [
    "travel_dir = f'{project_dir}/data/raw/travel'\n",
    "if not os.path.isdir(travel_dir):\n",
    "    os.mkdir(travel_dir)"
   ]
  },
  {
   "cell_type": "code",
   "execution_count": 106,
   "metadata": {
    "hidden": true
   },
   "outputs": [],
   "source": [
    "fout = f'{travel_dir}/{fname}.zip'"
   ]
  },
  {
   "cell_type": "code",
   "execution_count": 107,
   "metadata": {
    "hidden": true
   },
   "outputs": [
    {
     "data": {
      "text/plain": [
       "'/mnt/c/Users/aotubusen/Documents/DS Projects/beis_2020/beis-indicators/ds/data/raw/travel/shp_01.zip'"
      ]
     },
     "execution_count": 107,
     "metadata": {},
     "output_type": "execute_result"
    }
   ],
   "source": [
    "fout"
   ]
  },
  {
   "cell_type": "code",
   "execution_count": 108,
   "metadata": {
    "hidden": true
   },
   "outputs": [],
   "source": [
    "if not os.path.isfile(fout):\n",
    "    urlretrieve(url, fout)"
   ]
  },
  {
   "cell_type": "code",
   "execution_count": 109,
   "metadata": {
    "hidden": true
   },
   "outputs": [],
   "source": [
    "project_zip_dir = f'{project_dir}/data/raw/travel/shp_01.zip'\n",
    "# project_zip_dir = BROADBAND_YEARS_URL[year]\n",
    "project_zip = ZipFile(project_zip_dir)"
   ]
  },
  {
   "cell_type": "code",
   "execution_count": 73,
   "metadata": {
    "hidden": true
   },
   "outputs": [
    {
     "data": {
      "text/plain": [
       "<zipfile.ZipFile filename='/mnt/c/Users/aotubusen/Documents/DS Projects/beis_2020/beis-indicators/ds/data/raw/travel/travel_road.zip' mode='r'>"
      ]
     },
     "execution_count": 73,
     "metadata": {},
     "output_type": "execute_result"
    }
   ],
   "source": [
    "project_zip"
   ]
  },
  {
   "cell_type": "code",
   "execution_count": 97,
   "metadata": {
    "collapsed": true,
    "hidden": true
   },
   "outputs": [
    {
     "data": {
      "text/plain": [
       "[          LSOA_code     RepTime  Percentage Services   uid  NearOrder\n",
       " 0         E01000001   29.109724                  100  R198          0\n",
       " 1         E01000001   30.109724                  100   R32          1\n",
       " 2         E01000001   34.226684                  100  R242          2\n",
       " 3         E01000001   38.109724                  100  R154          3\n",
       " 4         E01000001   38.350382                  100    R1          4\n",
       " 5         E01000001   38.619117                  100  R467          5\n",
       " 6         E01000001   38.859812                  100  R104          6\n",
       " 7         E01000001   39.232699                  100  R299          7\n",
       " 8         E01000001   40.109724                  100  R155          8\n",
       " 9         E01000001   40.859812                  100  R354          9\n",
       " 10        E01000001   44.239024                  100  R479         10\n",
       " 11        E01000001   44.350382                  100  R107         11\n",
       " 12        E01000001   44.612984                  100  R191         12\n",
       " 13        E01000001   44.859812                  100  R179         13\n",
       " 14        E01000001   46.232699                  100   R72         14\n",
       " 15        E01000001   46.350382                  100  R325         15\n",
       " 16        E01000001   46.587845                  100  R256         16\n",
       " 17        E01000001   46.853605                  100    R6         17\n",
       " 18        E01000001   46.859812                  100  R300         18\n",
       " 19        E01000001   46.981559                  100   R59         19\n",
       " 20        E01000001   47.109724                  100  R349         20\n",
       " 21        E01000001   47.619117                  100  R312         21\n",
       " 22        E01000001   48.226684                  100  R293         22\n",
       " 23        E01000001   48.587845                  100   R31         23\n",
       " 24        E01000001   48.739102                  100  R466         24\n",
       " 25        E01000001   49.481252                  100  R353         25\n",
       " 26        E01000001   49.619117                  100   R29         26\n",
       " 27        E01000001   50.239024                  100  R270         27\n",
       " 28        E01000001   50.587845                  100  R275         28\n",
       " 29        E01000001   50.619117                  100  R316         29\n",
       " ...             ...         ...                  ...   ...        ...\n",
       " 16869666  W01001896  271.394021                  100  R180        462\n",
       " 16869667  W01001896  273.000000                  100  R282        463\n",
       " 16869668  W01001896  273.000000                  100  R457        464\n",
       " 16869669  W01001896  275.000000                  100  R461        465\n",
       " 16869670  W01001896  275.000000                  100  R458        466\n",
       " 16869671  W01001896  276.000000                  100  R460        467\n",
       " 16869672  W01001896  276.000000                  100   R11        468\n",
       " 16869673  W01001896  277.000000                  100  R456        469\n",
       " 16869674  W01001896  277.000000                  100  R476        470\n",
       " 16869675  W01001896  278.000000                  100  R262        471\n",
       " 16869676  W01001896  279.000000                  100  R463        472\n",
       " 16869677  W01001896  280.000000                  100  R244        473\n",
       " 16869678  W01001896  280.000000                  100   R12        474\n",
       " 16869679  W01001896  284.000000                  100  R432        475\n",
       " 16869680  W01001896  285.000000                  100  R347        476\n",
       " 16869681  W01001896  285.000000                  100  R303        477\n",
       " 16869682  W01001896  288.000000                  100  R462        478\n",
       " 16869683  W01001896  291.000000                  100  R150        479\n",
       " 16869684  W01001896  295.000000                  100   R66        480\n",
       " 16869685  W01001896  297.196040                  100  R281        481\n",
       " 16869686  W01001896  300.000000                  100  R323        482\n",
       " 16869687  W01001896  310.000000                  100  R445        483\n",
       " 16869688  W01001896  310.000000                  100  R487        484\n",
       " 16869689  W01001896  318.000000                  100  R451        485\n",
       " 16869690  W01001896  318.000000                  100  R450        486\n",
       " 16869691  W01001896  320.000000                  100  R449        487\n",
       " 16869692  W01001896  329.000000                  100  R384        488\n",
       " 16869693  W01001896  331.000000                  100  R448        489\n",
       " 16869694  W01001896  349.000000                  100  R447        490\n",
       " 16869695  W01001896  386.394021                  100  R446        491\n",
       " \n",
       " [16869696 rows x 5 columns]]"
      ]
     },
     "execution_count": 97,
     "metadata": {},
     "output_type": "execute_result"
    }
   ],
   "source": [
    "[pd.read_csv(project_zip.open(text_file.filename))\n",
    "               for text_file in project_zip.infolist()\n",
    "               if 'AM' in text_file.filename\n",
    "                and 'HW' in text_file.filename]"
   ]
  },
  {
   "cell_type": "code",
   "execution_count": 112,
   "metadata": {
    "hidden": true
   },
   "outputs": [
    {
     "data": {
      "text/plain": [
       "[<ZipInfo filename='Lower_Layer_Super_Output_Areas__December_2001__EW_BGC.shp' compress_type=deflate filemode='-rw-r--r--' file_size=133454512 compress_size=69718529>,\n",
       " <ZipInfo filename='Lower_Layer_Super_Output_Areas__December_2001__EW_BGC.dbf' compress_type=deflate filemode='-rw-r--r--' file_size=4434988 compress_size=1300868>,\n",
       " <ZipInfo filename='Lower_Layer_Super_Output_Areas__December_2001__EW_BGC.prj' compress_type=deflate filemode='-rw-r--r--' file_size=417 compress_size=281>,\n",
       " <ZipInfo filename='Lower_Layer_Super_Output_Areas__December_2001__EW_BGC.cpg' filemode='-rw-r--r--' file_size=5>,\n",
       " <ZipInfo filename='Lower_Layer_Super_Output_Areas__December_2001__EW_BGC.shx' compress_type=deflate filemode='-rw-r--r--' file_size=275124 compress_size=178827>,\n",
       " <ZipInfo filename='Lower_Layer_Super_Output_Areas__December_2001__EW_BGC.xml' compress_type=deflate filemode='-rw-r--r--' file_size=41165 compress_size=3068>]"
      ]
     },
     "execution_count": 112,
     "metadata": {},
     "output_type": "execute_result"
    }
   ],
   "source": [
    "project_zip.infolist()"
   ]
  },
  {
   "cell_type": "code",
   "execution_count": 111,
   "metadata": {
    "hidden": true
   },
   "outputs": [
    {
     "ename": "AttributeError",
     "evalue": "'list' object has no attribute 'filename'",
     "output_type": "error",
     "traceback": [
      "\u001b[0;31m---------------------------------------------------------------------------\u001b[0m",
      "\u001b[0;31mAttributeError\u001b[0m                            Traceback (most recent call last)",
      "\u001b[0;32m<ipython-input-111-9bebd592c30c>\u001b[0m in \u001b[0;36m<module>\u001b[0;34m\u001b[0m\n\u001b[0;32m----> 1\u001b[0;31m \u001b[0mproject_zip\u001b[0m\u001b[0;34m.\u001b[0m\u001b[0minfolist\u001b[0m\u001b[0;34m(\u001b[0m\u001b[0;34m)\u001b[0m\u001b[0;34m.\u001b[0m\u001b[0mfilename\u001b[0m\u001b[0;34m.\u001b[0m\u001b[0mendswith\u001b[0m\u001b[0;34m(\u001b[0m\u001b[0;34m'shp'\u001b[0m\u001b[0;34m)\u001b[0m\u001b[0;34m\u001b[0m\u001b[0m\n\u001b[0m",
      "\u001b[0;31mAttributeError\u001b[0m: 'list' object has no attribute 'filename'"
     ]
    }
   ],
   "source": [
    "project_zip.infolist().filename.endswith('.shp')"
   ]
  },
  {
   "cell_type": "code",
   "execution_count": null,
   "metadata": {
    "hidden": true
   },
   "outputs": [],
   "source": []
  }
 ],
 "metadata": {
  "kernelspec": {
   "display_name": "Python 3",
   "language": "python",
   "name": "python3"
  },
  "language_info": {
   "codemirror_mode": {
    "name": "ipython",
    "version": 3
   },
   "file_extension": ".py",
   "mimetype": "text/x-python",
   "name": "python",
   "nbconvert_exporter": "python",
   "pygments_lexer": "ipython3",
   "version": "3.6.5"
  },
  "toc": {
   "base_numbering": 1,
   "nav_menu": {},
   "number_sections": true,
   "sideBar": true,
   "skip_h1_title": false,
   "title_cell": "Table of Contents",
   "title_sidebar": "Contents",
   "toc_cell": false,
   "toc_position": {},
   "toc_section_display": true,
   "toc_window_display": false
  }
 },
 "nbformat": 4,
 "nbformat_minor": 2
}
