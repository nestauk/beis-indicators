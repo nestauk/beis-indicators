{
 "cells": [
  {
   "cell_type": "code",
   "execution_count": 1,
   "metadata": {},
   "outputs": [],
   "source": [
    "%load_ext autoreload\n",
    "%autoreload 2"
   ]
  },
  {
   "cell_type": "code",
   "execution_count": 7,
   "metadata": {},
   "outputs": [],
   "source": [
    "import numpy as np\n",
    "import pandas as pd\n",
    "\n",
    "from beis_indicators import project_dir\n",
    "\n",
    "from beis_indicators.geo import NutsCoder, LepCoder\n",
    "from beis_indicators.indicators import points_to_indicator, save_indicator"
   ]
  },
  {
   "cell_type": "code",
   "execution_count": 3,
   "metadata": {},
   "outputs": [],
   "source": [
    "data = pd.read_csv('../../data/processed/sample.csv')\n"
   ]
  },
  {
   "cell_type": "code",
   "execution_count": 4,
   "metadata": {
    "scrolled": true
   },
   "outputs": [
    {
     "name": "stdout",
     "output_type": "stream",
     "text": [
      "2020-09-08 14:16:44,883 - beis_indicators.geo.coders - INFO - Loading NUTS 2 2016 boundaries\n",
      "2020-09-08 14:16:47,840 - beis_indicators.geo.coders - INFO - Loading NUTS 2 2021 boundaries\n",
      "2020-09-08 14:16:50,636 - beis_indicators.geo.coders - INFO - Loading NUTS 2 2003 boundaries\n",
      "2020-09-08 14:16:54,203 - beis_indicators.geo.coders - INFO - Loading NUTS 2 2006 boundaries\n",
      "2020-09-08 14:17:02,461 - beis_indicators.geo.coders - INFO - Loading NUTS 2 2010 boundaries\n",
      "2020-09-08 14:17:06,077 - beis_indicators.geo.coders - INFO - Loading NUTS 2 2013 boundaries\n",
      "2020-09-08 14:17:08,223 - beis_indicators.geo.coders - INFO - Loading NUTS 3 2016 boundaries\n",
      "2020-09-08 14:17:12,272 - beis_indicators.geo.coders - INFO - Loading NUTS 3 2021 boundaries\n",
      "2020-09-08 14:17:16,318 - beis_indicators.geo.coders - INFO - Loading NUTS 3 2003 boundaries\n",
      "2020-09-08 14:17:21,984 - beis_indicators.geo.coders - INFO - Loading NUTS 3 2006 boundaries\n",
      "2020-09-08 14:17:34,253 - beis_indicators.geo.coders - INFO - Loading NUTS 3 2010 boundaries\n",
      "2020-09-08 14:17:40,048 - beis_indicators.geo.coders - INFO - Loading NUTS 3 2013 boundaries\n",
      "2020-09-08 14:17:42,892 - beis_indicators.geo.coders - INFO - Loading LEP 2014 boundaries\n",
      "2020-09-08 14:17:50,977 - beis_indicators.geo.coders - INFO - Loading LEP 2017 boundaries\n",
      "2020-09-08 14:17:58,801 - beis_indicators.geo.coders - INFO - Loading LEP 2020 boundaries\n"
     ]
    }
   ],
   "source": [
    "coders = {\n",
    "    'nuts2': NutsCoder(level=2),\n",
    "    'nuts3': NutsCoder(level=3),\n",
    "    'lep': LepCoder()\n",
    "    }"
   ]
  },
  {
   "cell_type": "code",
   "execution_count": 5,
   "metadata": {},
   "outputs": [
    {
     "data": {
      "text/html": [
       "<div>\n",
       "<style scoped>\n",
       "    .dataframe tbody tr th:only-of-type {\n",
       "        vertical-align: middle;\n",
       "    }\n",
       "\n",
       "    .dataframe tbody tr th {\n",
       "        vertical-align: top;\n",
       "    }\n",
       "\n",
       "    .dataframe thead th {\n",
       "        text-align: right;\n",
       "    }\n",
       "</style>\n",
       "<table border=\"1\" class=\"dataframe\">\n",
       "  <thead>\n",
       "    <tr style=\"text-align: right;\">\n",
       "      <th></th>\n",
       "      <th>postcode</th>\n",
       "      <th>Average download speed (Mbit/s)</th>\n",
       "      <th>latitude</th>\n",
       "      <th>longitude</th>\n",
       "      <th>year</th>\n",
       "    </tr>\n",
       "  </thead>\n",
       "  <tbody>\n",
       "    <tr>\n",
       "      <th>0</th>\n",
       "      <td>ST12HG</td>\n",
       "      <td>81.3</td>\n",
       "      <td>53.028723</td>\n",
       "      <td>-2.170398</td>\n",
       "      <td>2019</td>\n",
       "    </tr>\n",
       "    <tr>\n",
       "      <th>1</th>\n",
       "      <td>DE555NE</td>\n",
       "      <td>65.8</td>\n",
       "      <td>53.146835</td>\n",
       "      <td>-1.337215</td>\n",
       "      <td>2019</td>\n",
       "    </tr>\n",
       "  </tbody>\n",
       "</table>\n",
       "</div>"
      ],
      "text/plain": [
       "  postcode  Average download speed (Mbit/s)   latitude  longitude  year\n",
       "0   ST12HG                             81.3  53.028723  -2.170398  2019\n",
       "1  DE555NE                             65.8  53.146835  -1.337215  2019"
      ]
     },
     "execution_count": 5,
     "metadata": {},
     "output_type": "execute_result"
    }
   ],
   "source": [
    "data.head(2)"
   ]
  },
  {
   "cell_type": "code",
   "execution_count": 18,
   "metadata": {
    "scrolled": false
   },
   "outputs": [
    {
     "name": "stderr",
     "output_type": "stream",
     "text": [
      "/mnt/c/Users/aotubusen/Documents/DS Projects/beis_2020/beis-indicators/ds/beis_indicators/geo/coders.py:45: UserWarning: CRS mismatch between the CRS of left geometries and the CRS of right geometries.\n",
      "Use `to_crs()` to reproject one of the input geometries to match the CRS of the other.\n",
      "\n",
      "Left CRS: None\n",
      "Right CRS: EPSG:4326\n",
      "\n",
      "  joined = gpd.sjoin(points, shape, op='within', how='right')\n",
      "/mnt/c/Users/aotubusen/Documents/DS Projects/beis_2020/beis-indicators/ds/beis_indicators/geo/coders.py:45: UserWarning: CRS mismatch between the CRS of left geometries and the CRS of right geometries.\n",
      "Use `to_crs()` to reproject one of the input geometries to match the CRS of the other.\n",
      "\n",
      "Left CRS: None\n",
      "Right CRS: EPSG:4326\n",
      "\n",
      "  joined = gpd.sjoin(points, shape, op='within', how='right')\n",
      "/mnt/c/Users/aotubusen/Documents/DS Projects/beis_2020/beis-indicators/ds/beis_indicators/geo/coders.py:45: UserWarning: CRS mismatch between the CRS of left geometries and the CRS of right geometries.\n",
      "Use `to_crs()` to reproject one of the input geometries to match the CRS of the other.\n",
      "\n",
      "Left CRS: None\n",
      "Right CRS: EPSG:4326\n",
      "\n",
      "  joined = gpd.sjoin(points, shape, op='within', how='right')\n"
     ]
    }
   ],
   "source": [
    "for geo, coder in coders.items():\n",
    "    broadsample = points_to_indicator(data, value_col='Average download speed (Mbit/s)', coder=coders['nuts3'],\n",
    "                    aggfunc=np.mean, value_rename='speed',\n",
    "                    projection='EPSG:4326', x_col='longitude', y_col='latitude')\n",
    "    save_indicator(broadsample, 'broadband', 'nuts3')"
   ]
  },
  {
   "cell_type": "code",
   "execution_count": null,
   "metadata": {},
   "outputs": [],
   "source": [
    "#y- lat x- lon"
   ]
  }
 ],
 "metadata": {
  "kernelspec": {
   "display_name": "Python 3",
   "language": "python",
   "name": "python3"
  },
  "language_info": {
   "codemirror_mode": {
    "name": "ipython",
    "version": 3
   },
   "file_extension": ".py",
   "mimetype": "text/x-python",
   "name": "python",
   "nbconvert_exporter": "python",
   "pygments_lexer": "ipython3",
   "version": "3.6.5"
  },
  "toc": {
   "base_numbering": 1,
   "nav_menu": {},
   "number_sections": true,
   "sideBar": true,
   "skip_h1_title": false,
   "title_cell": "Table of Contents",
   "title_sidebar": "Contents",
   "toc_cell": false,
   "toc_position": {},
   "toc_section_display": true,
   "toc_window_display": false
  }
 },
 "nbformat": 4,
 "nbformat_minor": 2
}
