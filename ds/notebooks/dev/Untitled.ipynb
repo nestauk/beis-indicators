{
 "cells": [
  {
   "cell_type": "code",
   "execution_count": 8,
   "metadata": {
    "ExecuteTime": {
     "end_time": "2020-09-16T16:09:47.901630Z",
     "start_time": "2020-09-16T16:09:46.881836Z"
    }
   },
   "outputs": [],
   "source": [
    "from dotenv import load_dotenv\n",
    "import logging\n",
    "import pandas as pd\n",
    "import os\n",
    "from sqlalchemy.engine.url import URL\n",
    "from sqlalchemy.engine import create_engine\n",
    "\n",
    "from beis_indicators import project_dir\n",
    "\n",
    "\n",
    "logger = logging.getLogger(__name__)\n",
    "\n",
    "GTR_RAW_DIR = f'{project_dir}/data/raw/crunchbase/'\n",
    "\n",
    "load_dotenv()\n",
    "url = URL(drivername='mysql+pymysql',\n",
    "        username=os.getenv('DB_USER'),\n",
    "        password=os.getenv('DB_PASS'),\n",
    "        host=os.getenv('DB_HOST'),\n",
    "        port=os.getenv('DB_PORT'),\n",
    "        database='production')\n",
    "engine = create_engine(url)"
   ]
  },
  {
   "cell_type": "code",
   "execution_count": 3,
   "metadata": {
    "ExecuteTime": {
     "end_time": "2020-09-16T16:01:18.583709Z",
     "start_time": "2020-09-16T16:01:18.214695Z"
    }
   },
   "outputs": [],
   "source": [
    "import wikipedia \n",
    "from functools import lru_cache \n",
    " \n",
    "@lru_cache() \n",
    "def get_page_cats(query): \n",
    "    try:  \n",
    "        page = wikipedia.page(query, auto_suggest=False) \n",
    "    except wikipedia.PageError:  \n",
    "        return [] \n",
    "    return page.categories \n",
    " \n",
    "def is_tech(query, depth=0, max_depth=2): \n",
    "    #print('\\t'*depth, query) \n",
    "    cats = get_page_cats(query) \n",
    "    if 'Technology-related lists' in cats: \n",
    "        return True \n",
    "    elif depth == max_depth: \n",
    "        return False \n",
    "    for cat in cats: \n",
    "        if is_tech(cat, depth=depth+1, max_depth=max_depth): \n",
    "            return True \n",
    "    return False "
   ]
  },
  {
   "cell_type": "code",
   "execution_count": 10,
   "metadata": {
    "ExecuteTime": {
     "end_time": "2020-09-16T16:10:06.930478Z",
     "start_time": "2020-09-16T16:10:06.148991Z"
    }
   },
   "outputs": [],
   "source": []
  },
  {
   "cell_type": "code",
   "execution_count": 13,
   "metadata": {
    "ExecuteTime": {
     "end_time": "2020-09-16T16:10:33.501199Z",
     "start_time": "2020-09-16T16:10:33.472570Z"
    }
   },
   "outputs": [],
   "source": []
  },
  {
   "cell_type": "code",
   "execution_count": 15,
   "metadata": {
    "ExecuteTime": {
     "end_time": "2020-09-16T16:11:03.984080Z",
     "start_time": "2020-09-16T16:11:03.975010Z"
    }
   },
   "outputs": [],
   "source": [
    "from collections import Counter\n",
    "from itertools import chain"
   ]
  },
  {
   "cell_type": "code",
   "execution_count": 31,
   "metadata": {
    "ExecuteTime": {
     "end_time": "2020-09-16T16:13:59.921791Z",
     "start_time": "2020-09-16T16:13:59.906925Z"
    }
   },
   "outputs": [
    {
     "data": {
      "text/plain": [
       "[('Software', 88),\n",
       " ('Media and Entertainment', 60),\n",
       " ('Hardware', 52),\n",
       " ('Financial Services', 45),\n",
       " ('Information Technology', 41),\n",
       " ('Health Care', 37),\n",
       " ('Internet Services', 37),\n",
       " ('Sales and Marketing', 34),\n",
       " ('Transportation', 31),\n",
       " ('Commerce and Shopping', 29),\n",
       " ('Data and Analytics', 28),\n",
       " ('Science and Engineering', 28),\n",
       " ('Sports', 28),\n",
       " ('Real Estate', 28),\n",
       " ('Food and Beverage', 27),\n",
       " ('Education', 21),\n",
       " ('Sustainability', 19),\n",
       " ('Platforms', 17),\n",
       " ('Administrative Services', 17),\n",
       " ('Energy', 17),\n",
       " ('Community and Lifestyle', 17),\n",
       " ('Travel and Tourism', 16),\n",
       " ('Consumer Goods', 16),\n",
       " ('Content and Publishing', 16),\n",
       " ('Professional Services', 15),\n",
       " ('Lending and Investments', 15),\n",
       " ('Design', 15),\n",
       " ('Privacy and Security', 15),\n",
       " ('Advertising', 14),\n",
       " ('Natural Resources', 13),\n",
       " ('Consumer Electronics', 13),\n",
       " ('Manufacturing', 12),\n",
       " ('Video', 12),\n",
       " ('Gaming', 12),\n",
       " ('Agriculture and Farming', 10),\n",
       " ('Mobile', 10),\n",
       " ('Music and Audio', 10),\n",
       " ('Payments', 10),\n",
       " ('Government and Military', 9),\n",
       " ('Events', 9),\n",
       " ('Messaging and Telecommunications', 9),\n",
       " ('Biotechnology', 8),\n",
       " ('Apps', 7),\n",
       " ('Navigation and Mapping', 6),\n",
       " ('Artificial Intelligence', 5),\n",
       " ('Clothing and Apparel', 4)]"
      ]
     },
     "execution_count": 31,
     "metadata": {},
     "output_type": "execute_result"
    }
   ],
   "source": [
    "Counter(list(chain(*df['category_groups_list'].dropna()))).most_common(None)"
   ]
  },
  {
   "cell_type": "code",
   "execution_count": 32,
   "metadata": {
    "ExecuteTime": {
     "end_time": "2020-09-16T16:18:51.848608Z",
     "start_time": "2020-09-16T16:18:51.845571Z"
    }
   },
   "outputs": [],
   "source": [
    "from sklearn.preprocessing import MultiLabelBinarizer"
   ]
  },
  {
   "cell_type": "code",
   "execution_count": 42,
   "metadata": {
    "ExecuteTime": {
     "end_time": "2020-09-16T16:21:10.218966Z",
     "start_time": "2020-09-16T16:21:10.214648Z"
    }
   },
   "outputs": [],
   "source": [
    "tech_groups = ['Software', 'Hardware', 'Information Technology', 'Internet Services', 'Data and Analytics', \n",
    " 'Science and Engineering', 'Platforms', 'Consumer Electronics', 'Manufacturing', 'Gaming', 'Mobile',\n",
    " 'Biotechnology', 'Apps', 'Artificial Intelligence', 'Energy']"
   ]
  },
  {
   "cell_type": "code",
   "execution_count": 51,
   "metadata": {
    "ExecuteTime": {
     "end_time": "2020-09-16T16:36:53.981196Z",
     "start_time": "2020-09-16T16:36:53.969674Z"
    }
   },
   "outputs": [],
   "source": [
    "with open('../../data/aux/cb_tech_groups.txt', 'w') as f:\n",
    "    f.write('\\n'.join(sorted(tech_groups)))"
   ]
  },
  {
   "cell_type": "code",
   "execution_count": 60,
   "metadata": {
    "ExecuteTime": {
     "end_time": "2020-09-16T17:50:12.740577Z",
     "start_time": "2020-09-16T17:50:12.734084Z"
    }
   },
   "outputs": [
    {
     "data": {
      "text/plain": [
       "\"'Apps', 'Artificial Intelligence', 'Biotechnology', 'Consumer Electronics', 'Data and Analytics', 'Energy', 'Gaming', 'Hardware', 'Information Technology', 'Internet Services', 'Manufacturing', 'Mobile', 'Platforms', 'Science and Engineering', 'Software'\""
      ]
     },
     "execution_count": 60,
     "metadata": {},
     "output_type": "execute_result"
    }
   ],
   "source": [
    "', '.join([f\"'{t}'\" for t in tech_groups])"
   ]
  },
  {
   "cell_type": "code",
   "execution_count": 34,
   "metadata": {
    "ExecuteTime": {
     "end_time": "2020-09-16T16:20:04.649530Z",
     "start_time": "2020-09-16T16:20:04.629703Z"
    }
   },
   "outputs": [],
   "source": [
    "with open('../../data/aux/cb_tech_groups.txt', 'r') as f:\n",
    "    tech_groups = f.read().splitlines()\n",
    "\n",
    "cat_query = 'SELECT * FROM crunchbase_category_groups'\n",
    "df = pd.read_sql(cat_query, con=engine)\n",
    "df['category_groups_list'] = df['category_groups_list'].str.split(',')\n",
    "df = df[~pd.isnull(df['category_groups_list'])]\n",
    "\n",
    "mlb = MultiLabelBinarizer()\n",
    "mlb_vecs = mlb.fit_transform(df['category_groups_list'])\n",
    "mlb_df = pd.DataFrame(data=mlb_vecs, columns=mlb.classes_, index=df.index)\n",
    "\n",
    "ids = mlb_df[mlb_df[tech_groups].sum(axis=1) > 0].index\n",
    "\n",
    "df = df.loc[ids]"
   ]
  },
  {
   "cell_type": "code",
   "execution_count": 40,
   "metadata": {
    "ExecuteTime": {
     "end_time": "2020-09-16T16:20:44.451046Z",
     "start_time": "2020-09-16T16:20:44.436571Z"
    }
   },
   "outputs": [
    {
     "data": {
      "text/html": [
       "<div>\n",
       "<style scoped>\n",
       "    .dataframe tbody tr th:only-of-type {\n",
       "        vertical-align: middle;\n",
       "    }\n",
       "\n",
       "    .dataframe tbody tr th {\n",
       "        vertical-align: top;\n",
       "    }\n",
       "\n",
       "    .dataframe thead th {\n",
       "        text-align: right;\n",
       "    }\n",
       "</style>\n",
       "<table border=\"1\" class=\"dataframe\">\n",
       "  <thead>\n",
       "    <tr style=\"text-align: right;\">\n",
       "      <th></th>\n",
       "      <th>id</th>\n",
       "      <th>name</th>\n",
       "      <th>category_groups_list</th>\n",
       "    </tr>\n",
       "  </thead>\n",
       "  <tbody>\n",
       "    <tr>\n",
       "      <th>0</th>\n",
       "      <td>ae8f68d2-9319-f2c2-3549-4f1ac2851660</td>\n",
       "      <td>3D Printing</td>\n",
       "      <td>[Manufacturing]</td>\n",
       "    </tr>\n",
       "    <tr>\n",
       "      <th>1</th>\n",
       "      <td>76c672c1-ef33-72f0-8027-d747c8c6e4ba</td>\n",
       "      <td>3D Technology</td>\n",
       "      <td>[Hardware, Software]</td>\n",
       "    </tr>\n",
       "    <tr>\n",
       "      <th>2</th>\n",
       "      <td>a60e9792-884d-0696-63f7-a9c0f3100ded</td>\n",
       "      <td>A/B Testing</td>\n",
       "      <td>[Data and Analytics]</td>\n",
       "    </tr>\n",
       "    <tr>\n",
       "      <th>3</th>\n",
       "      <td>ad091ee0-0259-f129-7777-10f65213584d</td>\n",
       "      <td>Accounting</td>\n",
       "      <td>[Financial Services, Professional Services]</td>\n",
       "    </tr>\n",
       "    <tr>\n",
       "      <th>4</th>\n",
       "      <td>420ed687-9b30-4463-115e-e6150ad85aa0</td>\n",
       "      <td>Ad Exchange</td>\n",
       "      <td>[Advertising]</td>\n",
       "    </tr>\n",
       "    <tr>\n",
       "      <th>...</th>\n",
       "      <td>...</td>\n",
       "      <td>...</td>\n",
       "      <td>...</td>\n",
       "    </tr>\n",
       "    <tr>\n",
       "      <th>737</th>\n",
       "      <td>4acdae6a-217f-be4d-5f3d-6955756b92d5</td>\n",
       "      <td>Winery</td>\n",
       "      <td>[Food and Beverage]</td>\n",
       "    </tr>\n",
       "    <tr>\n",
       "      <th>738</th>\n",
       "      <td>1101e2fd-fb06-08a8-9567-97652bbbe2cf</td>\n",
       "      <td>Wired Telecommunications</td>\n",
       "      <td>[Messaging and Telecommunications]</td>\n",
       "    </tr>\n",
       "    <tr>\n",
       "      <th>739</th>\n",
       "      <td>9f8132a0-2620-1f89-a2d2-fadbb3f16b4c</td>\n",
       "      <td>Wireless</td>\n",
       "      <td>[Hardware, Mobile]</td>\n",
       "    </tr>\n",
       "    <tr>\n",
       "      <th>741</th>\n",
       "      <td>176f72b5-3733-b98e-7ccb-db49dc29ed4a</td>\n",
       "      <td>Wood Processing</td>\n",
       "      <td>[Manufacturing]</td>\n",
       "    </tr>\n",
       "    <tr>\n",
       "      <th>742</th>\n",
       "      <td>47dfbbd5-ca99-4bc0-4fa1-dd2e60a7a7a6</td>\n",
       "      <td>Xbox</td>\n",
       "      <td>[Consumer Electronics, Hardware, Platforms]</td>\n",
       "    </tr>\n",
       "  </tbody>\n",
       "</table>\n",
       "<p>680 rows × 3 columns</p>\n",
       "</div>"
      ],
      "text/plain": [
       "                                       id                      name  \\\n",
       "0    ae8f68d2-9319-f2c2-3549-4f1ac2851660               3D Printing   \n",
       "1    76c672c1-ef33-72f0-8027-d747c8c6e4ba             3D Technology   \n",
       "2    a60e9792-884d-0696-63f7-a9c0f3100ded               A/B Testing   \n",
       "3    ad091ee0-0259-f129-7777-10f65213584d                Accounting   \n",
       "4    420ed687-9b30-4463-115e-e6150ad85aa0               Ad Exchange   \n",
       "..                                    ...                       ...   \n",
       "737  4acdae6a-217f-be4d-5f3d-6955756b92d5                    Winery   \n",
       "738  1101e2fd-fb06-08a8-9567-97652bbbe2cf  Wired Telecommunications   \n",
       "739  9f8132a0-2620-1f89-a2d2-fadbb3f16b4c                  Wireless   \n",
       "741  176f72b5-3733-b98e-7ccb-db49dc29ed4a           Wood Processing   \n",
       "742  47dfbbd5-ca99-4bc0-4fa1-dd2e60a7a7a6                      Xbox   \n",
       "\n",
       "                            category_groups_list  \n",
       "0                                [Manufacturing]  \n",
       "1                           [Hardware, Software]  \n",
       "2                           [Data and Analytics]  \n",
       "3    [Financial Services, Professional Services]  \n",
       "4                                  [Advertising]  \n",
       "..                                           ...  \n",
       "737                          [Food and Beverage]  \n",
       "738           [Messaging and Telecommunications]  \n",
       "739                           [Hardware, Mobile]  \n",
       "741                              [Manufacturing]  \n",
       "742  [Consumer Electronics, Hardware, Platforms]  \n",
       "\n",
       "[680 rows x 3 columns]"
      ]
     },
     "execution_count": 40,
     "metadata": {},
     "output_type": "execute_result"
    }
   ],
   "source": [
    "df"
   ]
  },
  {
   "cell_type": "code",
   "execution_count": null,
   "metadata": {},
   "outputs": [],
   "source": []
  }
 ],
 "metadata": {
  "kernelspec": {
   "display_name": "Python 3",
   "language": "python",
   "name": "python3"
  },
  "language_info": {
   "codemirror_mode": {
    "name": "ipython",
    "version": 3
   },
   "file_extension": ".py",
   "mimetype": "text/x-python",
   "name": "python",
   "nbconvert_exporter": "python",
   "pygments_lexer": "ipython3",
   "version": "3.6.5"
  }
 },
 "nbformat": 4,
 "nbformat_minor": 4
}
