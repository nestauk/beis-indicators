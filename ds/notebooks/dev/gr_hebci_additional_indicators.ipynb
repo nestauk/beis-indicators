{
 "cells": [
  {
   "cell_type": "code",
   "execution_count": 1,
   "metadata": {
    "ExecuteTime": {
     "end_time": "2020-09-17T12:55:39.169599Z",
     "start_time": "2020-09-17T12:55:37.707078Z"
    }
   },
   "outputs": [],
   "source": [
    "%run ../notebook_preamble.ipy\n",
    "\n",
    "from beis_indicators.utils import camel_to_snake"
   ]
  },
  {
   "cell_type": "code",
   "execution_count": 49,
   "metadata": {
    "ExecuteTime": {
     "end_time": "2020-09-17T13:25:50.465240Z",
     "start_time": "2020-09-17T13:25:50.273854Z"
    }
   },
   "outputs": [],
   "source": [
    "df = pd.read_csv(f'{data_path}/raw/hebci/table-2a.csv', header=11)\n",
    "# df.columns = [camel_to_snake(c.replace(' ', '')) for c in df.columns]\n",
    "df['year'] = df['Academic Year'].str[:4].astype(int)\n",
    "df = df[df['Unit'] == '£000s']"
   ]
  },
  {
   "cell_type": "code",
   "execution_count": 50,
   "metadata": {
    "ExecuteTime": {
     "end_time": "2020-09-17T13:25:51.454711Z",
     "start_time": "2020-09-17T13:25:51.417355Z"
    }
   },
   "outputs": [
    {
     "data": {
      "text/plain": [
       "Index(['UKPRN', 'HE Provider', 'Country of HE provider',\n",
       "       'Region of HE provider', 'Academic Year', 'Type of service',\n",
       "       'Type of organisation', 'Number/Value Marker', 'Unit', 'Number/Value',\n",
       "       'year'],\n",
       "      dtype='object')"
      ]
     },
     "execution_count": 50,
     "metadata": {},
     "output_type": "execute_result"
    }
   ],
   "source": [
    "df.columns"
   ]
  },
  {
   "cell_type": "code",
   "execution_count": 59,
   "metadata": {
    "ExecuteTime": {
     "end_time": "2020-09-17T13:47:44.455027Z",
     "start_time": "2020-09-17T13:47:44.422342Z"
    }
   },
   "outputs": [],
   "source": [
    "consultancy_facilities_sme_income = df[\n",
    "    (df['Type of organisation'] == \"SME's\") \n",
    "    & ((df['Type of service'] == 'Facilities and equipment related')\n",
    "        | (df['Type of service'] == 'Consultancy'))]"
   ]
  },
  {
   "cell_type": "code",
   "execution_count": 61,
   "metadata": {
    "ExecuteTime": {
     "end_time": "2020-09-17T13:48:23.102963Z",
     "start_time": "2020-09-17T13:48:23.049935Z"
    }
   },
   "outputs": [
    {
     "data": {
      "text/html": [
       "<div>\n",
       "<style scoped>\n",
       "    .dataframe tbody tr th:only-of-type {\n",
       "        vertical-align: middle;\n",
       "    }\n",
       "\n",
       "    .dataframe tbody tr th {\n",
       "        vertical-align: top;\n",
       "    }\n",
       "\n",
       "    .dataframe thead th {\n",
       "        text-align: right;\n",
       "    }\n",
       "</style>\n",
       "<table border=\"1\" class=\"dataframe\">\n",
       "  <thead>\n",
       "    <tr style=\"text-align: right;\">\n",
       "      <th></th>\n",
       "      <th></th>\n",
       "      <th>Number/Value</th>\n",
       "    </tr>\n",
       "    <tr>\n",
       "      <th>UKPRN</th>\n",
       "      <th>year</th>\n",
       "      <th></th>\n",
       "    </tr>\n",
       "  </thead>\n",
       "  <tbody>\n",
       "    <tr>\n",
       "      <th rowspan=\"3\" valign=\"top\">10000163</th>\n",
       "      <th>2016</th>\n",
       "      <td>0</td>\n",
       "    </tr>\n",
       "    <tr>\n",
       "      <th>2017</th>\n",
       "      <td>23</td>\n",
       "    </tr>\n",
       "    <tr>\n",
       "      <th>2018</th>\n",
       "      <td>0</td>\n",
       "    </tr>\n",
       "    <tr>\n",
       "      <th rowspan=\"2\" valign=\"top\">10000291</th>\n",
       "      <th>2014</th>\n",
       "      <td>8886</td>\n",
       "    </tr>\n",
       "    <tr>\n",
       "      <th>2015</th>\n",
       "      <td>8629</td>\n",
       "    </tr>\n",
       "    <tr>\n",
       "      <th>...</th>\n",
       "      <th>...</th>\n",
       "      <td>...</td>\n",
       "    </tr>\n",
       "    <tr>\n",
       "      <th rowspan=\"2\" valign=\"top\">10040812</th>\n",
       "      <th>2017</th>\n",
       "      <td>283</td>\n",
       "    </tr>\n",
       "    <tr>\n",
       "      <th>2018</th>\n",
       "      <td>285</td>\n",
       "    </tr>\n",
       "    <tr>\n",
       "      <th rowspan=\"3\" valign=\"top\">10080811</th>\n",
       "      <th>2016</th>\n",
       "      <td>0</td>\n",
       "    </tr>\n",
       "    <tr>\n",
       "      <th>2017</th>\n",
       "      <td>223</td>\n",
       "    </tr>\n",
       "    <tr>\n",
       "      <th>2018</th>\n",
       "      <td>443</td>\n",
       "    </tr>\n",
       "  </tbody>\n",
       "</table>\n",
       "<p>819 rows × 1 columns</p>\n",
       "</div>"
      ],
      "text/plain": [
       "               Number/Value\n",
       "UKPRN    year              \n",
       "10000163 2016             0\n",
       "         2017            23\n",
       "         2018             0\n",
       "10000291 2014          8886\n",
       "         2015          8629\n",
       "...                     ...\n",
       "10040812 2017           283\n",
       "         2018           285\n",
       "10080811 2016             0\n",
       "         2017           223\n",
       "         2018           443\n",
       "\n",
       "[819 rows x 1 columns]"
      ]
     },
     "execution_count": 61,
     "metadata": {},
     "output_type": "execute_result"
    }
   ],
   "source": [
    "consultancy_facilities_sme_income.groupby(['UKPRN', 'year']).sum()"
   ]
  },
  {
   "cell_type": "code",
   "execution_count": 65,
   "metadata": {
    "ExecuteTime": {
     "end_time": "2020-09-17T13:50:33.784408Z",
     "start_time": "2020-09-17T13:50:33.748629Z"
    }
   },
   "outputs": [],
   "source": [
    "con_fac_non_sme_income = df[\n",
    "    (df['Type of organisation'] == \"Other (non-SME) commercial businesses\") \n",
    "    & ((df['Type of service'] == 'Facilities and equipment related')\n",
    "        | (df['Type of service'] == 'Consultancy'))]"
   ]
  },
  {
   "cell_type": "code",
   "execution_count": 64,
   "metadata": {
    "ExecuteTime": {
     "end_time": "2020-09-17T13:50:28.521396Z",
     "start_time": "2020-09-17T13:50:28.472948Z"
    }
   },
   "outputs": [
    {
     "data": {
      "text/html": [
       "<div>\n",
       "<style scoped>\n",
       "    .dataframe tbody tr th:only-of-type {\n",
       "        vertical-align: middle;\n",
       "    }\n",
       "\n",
       "    .dataframe tbody tr th {\n",
       "        vertical-align: top;\n",
       "    }\n",
       "\n",
       "    .dataframe thead th {\n",
       "        text-align: right;\n",
       "    }\n",
       "</style>\n",
       "<table border=\"1\" class=\"dataframe\">\n",
       "  <thead>\n",
       "    <tr style=\"text-align: right;\">\n",
       "      <th></th>\n",
       "      <th></th>\n",
       "      <th>Number/Value</th>\n",
       "    </tr>\n",
       "    <tr>\n",
       "      <th>UKPRN</th>\n",
       "      <th>year</th>\n",
       "      <th></th>\n",
       "    </tr>\n",
       "  </thead>\n",
       "  <tbody>\n",
       "    <tr>\n",
       "      <th rowspan=\"3\" valign=\"top\">10000163</th>\n",
       "      <th>2016</th>\n",
       "      <td>0</td>\n",
       "    </tr>\n",
       "    <tr>\n",
       "      <th>2017</th>\n",
       "      <td>0</td>\n",
       "    </tr>\n",
       "    <tr>\n",
       "      <th>2018</th>\n",
       "      <td>14</td>\n",
       "    </tr>\n",
       "    <tr>\n",
       "      <th rowspan=\"2\" valign=\"top\">10000291</th>\n",
       "      <th>2014</th>\n",
       "      <td>8868</td>\n",
       "    </tr>\n",
       "    <tr>\n",
       "      <th>2015</th>\n",
       "      <td>8540</td>\n",
       "    </tr>\n",
       "    <tr>\n",
       "      <th>...</th>\n",
       "      <th>...</th>\n",
       "      <td>...</td>\n",
       "    </tr>\n",
       "    <tr>\n",
       "      <th rowspan=\"2\" valign=\"top\">10040812</th>\n",
       "      <th>2017</th>\n",
       "      <td>74</td>\n",
       "    </tr>\n",
       "    <tr>\n",
       "      <th>2018</th>\n",
       "      <td>85</td>\n",
       "    </tr>\n",
       "    <tr>\n",
       "      <th rowspan=\"3\" valign=\"top\">10080811</th>\n",
       "      <th>2016</th>\n",
       "      <td>0</td>\n",
       "    </tr>\n",
       "    <tr>\n",
       "      <th>2017</th>\n",
       "      <td>514</td>\n",
       "    </tr>\n",
       "    <tr>\n",
       "      <th>2018</th>\n",
       "      <td>596</td>\n",
       "    </tr>\n",
       "  </tbody>\n",
       "</table>\n",
       "<p>819 rows × 1 columns</p>\n",
       "</div>"
      ],
      "text/plain": [
       "               Number/Value\n",
       "UKPRN    year              \n",
       "10000163 2016             0\n",
       "         2017             0\n",
       "         2018            14\n",
       "10000291 2014          8868\n",
       "         2015          8540\n",
       "...                     ...\n",
       "10040812 2017            74\n",
       "         2018            85\n",
       "10080811 2016             0\n",
       "         2017           514\n",
       "         2018           596\n",
       "\n",
       "[819 rows x 1 columns]"
      ]
     },
     "execution_count": 64,
     "metadata": {},
     "output_type": "execute_result"
    }
   ],
   "source": [
    "con_fac_non_sme_income = con_fac_non_sme_income.rename(columns={'Number/Value': col})\n",
    "\n",
    "consultancy_facilities_non_sme_income.groupby(['UKPRN', 'year']).sum()"
   ]
  },
  {
   "cell_type": "code",
   "execution_count": 54,
   "metadata": {
    "ExecuteTime": {
     "end_time": "2020-09-17T13:27:20.645334Z",
     "start_time": "2020-09-17T13:27:20.603085Z"
    }
   },
   "outputs": [],
   "source": [
    "research_non_sme_income = df[\n",
    "    (df['Type of organisation'] == \"Other (non-SME) commercial businesses\") \n",
    "    & (df['Type of service'] == 'Contract research')]"
   ]
  },
  {
   "cell_type": "code",
   "execution_count": 55,
   "metadata": {
    "ExecuteTime": {
     "end_time": "2020-09-17T13:27:32.386768Z",
     "start_time": "2020-09-17T13:27:32.342195Z"
    }
   },
   "outputs": [],
   "source": [
    "research_sme_income = df[\n",
    "    (df['Type of organisation'] == \"SME's\") \n",
    "    & (df['Type of service'] == 'Contract research')]"
   ]
  },
  {
   "cell_type": "code",
   "execution_count": 56,
   "metadata": {
    "ExecuteTime": {
     "end_time": "2020-09-17T13:28:27.697380Z",
     "start_time": "2020-09-17T13:28:27.650570Z"
    }
   },
   "outputs": [],
   "source": [
    "research_public_income = df[\n",
    "    (df['Type of organisation'] == \"Non-commercial organisations\") \n",
    "    & (df['Type of service'] == 'Contract research')]"
   ]
  },
  {
   "cell_type": "code",
   "execution_count": 22,
   "metadata": {
    "ExecuteTime": {
     "end_time": "2020-09-17T13:02:00.275442Z",
     "start_time": "2020-09-17T13:02:00.237645Z"
    }
   },
   "outputs": [
    {
     "data": {
      "text/plain": [
       "Contract research                   6552\n",
       "Facilities and equipment related    6552\n",
       "Consultancy                         6552\n",
       "Name: Type of service, dtype: int64"
      ]
     },
     "execution_count": 22,
     "metadata": {},
     "output_type": "execute_result"
    }
   ],
   "source": [
    "df['Type of service'].value_counts()"
   ]
  },
  {
   "cell_type": "code",
   "execution_count": 44,
   "metadata": {
    "ExecuteTime": {
     "end_time": "2020-09-17T13:17:25.903266Z",
     "start_time": "2020-09-17T13:17:25.769120Z"
    }
   },
   "outputs": [
    {
     "data": {
      "text/plain": [
       "SME's                                    4914\n",
       "Non-commercial organisations             4914\n",
       "Other (non-SME) commercial businesses    4914\n",
       "Total                                    4914\n",
       "Name: Type of organisation, dtype: int64"
      ]
     },
     "execution_count": 44,
     "metadata": {},
     "output_type": "execute_result"
    }
   ],
   "source": [
    "df['Type of organisation'].value_counts()"
   ]
  },
  {
   "cell_type": "code",
   "execution_count": null,
   "metadata": {},
   "outputs": [],
   "source": []
  }
 ],
 "metadata": {
  "kernelspec": {
   "display_name": "Python 3",
   "language": "python",
   "name": "python3"
  },
  "language_info": {
   "codemirror_mode": {
    "name": "ipython",
    "version": 3
   },
   "file_extension": ".py",
   "mimetype": "text/x-python",
   "name": "python",
   "nbconvert_exporter": "python",
   "pygments_lexer": "ipython3",
   "version": "3.6.5"
  }
 },
 "nbformat": 4,
 "nbformat_minor": 4
}
