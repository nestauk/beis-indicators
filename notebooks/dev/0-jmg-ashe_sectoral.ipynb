{
 "cells": [
  {
   "cell_type": "markdown",
   "metadata": {},
   "source": [
    "# Read the ASHE data\n",
    "\n",
    "ASHE is the Annual Survey of Hours and Earnings. It contains information about salaries in various regions and sectors of the UK. Here we want to calculate median salaries in Nesta sectors which we can then use to benchmark industries.\n",
    "\n",
    "\n",
    "**Tasks**\n",
    "\n",
    "* Scrape the data\n",
    "* Parse it\n",
    "* Merge with out segments at the finest level of granularity possible\n",
    "* Create weighted median taking into account distribution of employment in the segment"
   ]
  },
  {
   "cell_type": "markdown",
   "metadata": {},
   "source": [
    "## Preamble"
   ]
  },
  {
   "cell_type": "code",
   "execution_count": 1,
   "metadata": {},
   "outputs": [],
   "source": [
    "%run ../notebook_preamble.ipy"
   ]
  },
  {
   "cell_type": "code",
   "execution_count": 2,
   "metadata": {},
   "outputs": [],
   "source": [
    "from zipfile import ZipFile\n",
    "from io import BytesIO"
   ]
  },
  {
   "cell_type": "code",
   "execution_count": 3,
   "metadata": {},
   "outputs": [],
   "source": [
    "def get_ashe_data(path,ons_path):\n",
    "    '''\n",
    "    Function to collect the ASHE data from the ONS website.\n",
    "    \n",
    "    Arguments:\n",
    "        path (str) is the path for the file we are interested in\n",
    "        ons_path (str) is the parent for all ashe files\n",
    "        \n",
    "    This will return a doanloaded and parsed file\n",
    "    \n",
    "    '''\n",
    "    \n",
    "    file = requests.get(ons_path+path)\n",
    "    \n",
    "    #Create a zipfile with its content\n",
    "    z = ZipFile(BytesIO(file.content))\n",
    "    \n",
    "    #Extract names\n",
    "    names = z.namelist()\n",
    "    \n",
    "    #Select the names (they will meantion hourly gross but not the confidence intervals)\n",
    "    \n",
    "    my_name = [x for x in names if (all(names in x for names in ['Annual','Gross'])) & ('CV' not in x)]\n",
    "    \n",
    "    print(my_name)\n",
    "\n",
    "    #if len(my_name)>1:\n",
    "    #    print('Too many options')\n",
    "    #    break\n",
    "    \n",
    "    #Read into excel\n",
    "    infile = pd.read_excel(BytesIO(z.open(my_name[0]).read()),sheet_name=1,skiprows=4,\n",
    "                      na_values=['x','..',':'])\n",
    "    \n",
    "    #Drop missing values in the matching code or median (these don't interest us)\n",
    "    infile.dropna(axis=0,subset=['Code'],inplace=True)\n",
    "    \n",
    "    infile['Code'] = [x.strip() for x in infile['Code']]\n",
    "    \n",
    "    #container.append(infile.reset_index(drop=True))\n",
    "    \n",
    "    return(infile.reset_index(drop=True))"
   ]
  },
  {
   "cell_type": "code",
   "execution_count": 4,
   "metadata": {},
   "outputs": [],
   "source": [
    "#Processing files\n",
    "def add_zeros(container):\n",
    "    '''\n",
    "    This adds pre-zeroes to codes in categories A and B\n",
    "    \n",
    "    Args:\n",
    "        Container (df) is one of the dataframes we have created before\n",
    "    \n",
    "    '''\n",
    "    \n",
    "    new_cont = container.copy()\n",
    "    \n",
    "    for pid,row in new_cont.iterrows():\n",
    "        \n",
    "        if row['Code']=='C':\n",
    "            break\n",
    "        else:\n",
    "            if row['Code'] not in ['A','B']:\n",
    "            \n",
    "            #print(row['Code'])\n",
    "                new_cont.loc[pid,'Code']='0'+row['Code']\n",
    "        \n",
    "    return(new_cont)\n",
    "    \n",
    "\n",
    "def year_ashe_lookups(ashe_table):\n",
    "    '''\n",
    "    \n",
    "    Takes an ashe table and outputs a list of code lookups depending on the level of resolution at which they are available\n",
    "    \n",
    "    Args:\n",
    "        ashe_table: an ashe table as above\n",
    "        \n",
    "    returns three dicts with code - salary lookups with decreasing levels of resolution\n",
    "    \n",
    "    '''\n",
    "    \n",
    "    #Containers\n",
    "    ashe_4 = {}\n",
    "    ashe_3 = {}\n",
    "    ashe_2 = {}\n",
    "\n",
    "    #In each row it gets the length of a code (sic4,3 etc) and assigns the median salary to the right dict.\n",
    "    #We we will use this later to assign the median to \n",
    "    \n",
    "    for pid, row in ashe_table.iterrows():\n",
    "\n",
    "        code = row['Code'].strip()\n",
    "        med_sal = row['Median']\n",
    "\n",
    "        if len(code)==4:\n",
    "            ashe_4[code]= med_sal\n",
    "\n",
    "        elif len(code)==3:\n",
    "            ashe_3[code] = med_sal\n",
    "\n",
    "        elif len(code)==2:\n",
    "            ashe_2[code] = med_sal\n",
    "\n",
    "        else:\n",
    "            pass\n",
    "        \n",
    "    return([ashe_4,ashe_3,ashe_2])\n",
    "    \n",
    "    "
   ]
  },
  {
   "cell_type": "code",
   "execution_count": 5,
   "metadata": {},
   "outputs": [],
   "source": [
    "def map_salaries(lookup,four_digit, ashe):\n",
    "    '''\n",
    "    \n",
    "    Assigns each 4-digit sic code a median according to ASHE at its finest level of resolution\n",
    "    \n",
    "    Args:\n",
    "        lookup (df) a lookup with the 4 digit sic code we want to query against our ashe lookups\n",
    "        four_digit (str) the name of the variable with the four digits\n",
    "        ashe_lookups (list of dicts) the list of ashe code-median key-value pairs to query\n",
    "        \n",
    "    Returns\n",
    "        a table with four digit sics, names and salaries.\n",
    "    \n",
    "    \n",
    "    '''\n",
    "    \n",
    "    cont = []\n",
    "\n",
    "    #Is loo\n",
    "    for sic in lookup[four_digit]:\n",
    "        \n",
    "        if sic in ashe[0].keys():\n",
    "            #cont.append({sic:ashe_lookups[0][sic]})\n",
    "            cont.append([sic,ashe[0][sic]])\n",
    "            \n",
    "        elif sic[:-1] in ashe[1].keys():\n",
    "            \n",
    "            #cont.append({sic:ashe_lookups[1][sic[:-1]]})\n",
    "            cont.append([sic,ashe[1][sic[:-1]]])\n",
    "        \n",
    "        elif sic[:-2] in ashe[2].keys():\n",
    "            #cont.append({sic:ashe_lookups[2][sic[:-2]]})\n",
    "            cont.append([sic,ashe[2][sic[:-2]]])\n",
    "        \n",
    "        else:\n",
    "            #cont.append({sic:np.nan})\n",
    "            cont.append([sic,np.nan])\n",
    "    \n",
    "    return(pd.DataFrame(cont,columns=['sic_4','median_salary_thGBP']).set_index('sic_4'))\n",
    "        \n",
    "    \n",
    "    "
   ]
  },
  {
   "cell_type": "markdown",
   "metadata": {},
   "source": [
    "## 1. Collect data"
   ]
  },
  {
   "cell_type": "code",
   "execution_count": 6,
   "metadata": {},
   "outputs": [],
   "source": [
    "standard_path = 'https://www.ons.gov.uk/file?uri=/employmentandlabourmarket/peopleinwork/earningsandworkinghours/datasets/industry4digitsic2007ashetable16/'\n",
    "\n",
    "#Ashe paths\n",
    "ashe_paths = ['2018provisional/table162018provisional.zip', '2017revised/table162017revised.zip',\n",
    "            '2016revised/table162016revised.zip','2015/table162015revised.zip']"
   ]
  },
  {
   "cell_type": "code",
   "execution_count": 7,
   "metadata": {},
   "outputs": [
    {
     "name": "stdout",
     "output_type": "stream",
     "text": [
      "['PROV - SIC07 Industry (4) SIC2007 Table 16.7a   Annual pay - Gross 2018.xls']\n",
      "['SIC07 Industry (4) SIC2007 Table 16.7a   Annual pay - Gross 2017.xls']\n",
      "['SIC07 Industry (4) SIC2007 Table 16.7a   Annual pay - Gross 2016.xls']\n",
      "['SIC07 Industry (4) SIC2007 Table 16.7a   Annual pay - Gross 2015.xls']\n"
     ]
    }
   ],
   "source": [
    "ashes = [get_ashe_data(p,standard_path) for p in ashe_paths]"
   ]
  },
  {
   "cell_type": "markdown",
   "metadata": {},
   "source": [
    "We have lost a few codes with zero at the beginning"
   ]
  },
  {
   "cell_type": "code",
   "execution_count": 8,
   "metadata": {},
   "outputs": [
    {
     "data": {
      "text/plain": [
       "0      A\n",
       "1      1\n",
       "2     11\n",
       "3    111\n",
       "4    112\n",
       "Name: Code, dtype: object"
      ]
     },
     "execution_count": 8,
     "metadata": {},
     "output_type": "execute_result"
    }
   ],
   "source": [
    "ashes[0].head()['Code']"
   ]
  },
  {
   "cell_type": "code",
   "execution_count": 9,
   "metadata": {},
   "outputs": [],
   "source": [
    "new_containers = [add_zeros(x) for x in ashes]"
   ]
  },
  {
   "cell_type": "markdown",
   "metadata": {},
   "source": [
    "### Cluster lookup"
   ]
  },
  {
   "cell_type": "code",
   "execution_count": 11,
   "metadata": {},
   "outputs": [],
   "source": [
    "cl = pd.read_csv('../../data/raw/sic_4_industry_segment_lookup.csv',dtype={'sic_4':str})"
   ]
  },
  {
   "cell_type": "markdown",
   "metadata": {},
   "source": [
    "## 2. Processing\n",
    "\n",
    "We need to assign salaries to their more detailed code. If a salary is available at the 4-digit then we are not interested in the salary at the 3 digit"
   ]
  },
  {
   "cell_type": "markdown",
   "metadata": {},
   "source": [
    "### Create 2 digit and four digit lookups from Ashe"
   ]
  },
  {
   "cell_type": "code",
   "execution_count": 12,
   "metadata": {},
   "outputs": [],
   "source": [
    "all_ashe_lookups = [year_ashe_lookups(cont) for cont in new_containers]"
   ]
  },
  {
   "cell_type": "code",
   "execution_count": 13,
   "metadata": {},
   "outputs": [],
   "source": [
    "all_salaries = pd.concat([map_salaries(cl,'sic_4',tab) for tab in all_ashe_lookups],axis=1)\n",
    "\n",
    "all_salaries.columns = [2018,2017,2016,2015]"
   ]
  },
  {
   "cell_type": "code",
   "execution_count": 14,
   "metadata": {},
   "outputs": [
    {
     "data": {
      "text/html": [
       "<div>\n",
       "<style scoped>\n",
       "    .dataframe tbody tr th:only-of-type {\n",
       "        vertical-align: middle;\n",
       "    }\n",
       "\n",
       "    .dataframe tbody tr th {\n",
       "        vertical-align: top;\n",
       "    }\n",
       "\n",
       "    .dataframe thead th {\n",
       "        text-align: right;\n",
       "    }\n",
       "</style>\n",
       "<table border=\"1\" class=\"dataframe\">\n",
       "  <thead>\n",
       "    <tr style=\"text-align: right;\">\n",
       "      <th></th>\n",
       "      <th>2018</th>\n",
       "      <th>2017</th>\n",
       "      <th>2016</th>\n",
       "      <th>2015</th>\n",
       "    </tr>\n",
       "    <tr>\n",
       "      <th>sic_4</th>\n",
       "      <th></th>\n",
       "      <th></th>\n",
       "      <th></th>\n",
       "      <th></th>\n",
       "    </tr>\n",
       "  </thead>\n",
       "  <tbody>\n",
       "    <tr>\n",
       "      <th>4331</th>\n",
       "      <td>NaN</td>\n",
       "      <td>NaN</td>\n",
       "      <td>26295.0</td>\n",
       "      <td>NaN</td>\n",
       "    </tr>\n",
       "    <tr>\n",
       "      <th>4312</th>\n",
       "      <td>29443.0</td>\n",
       "      <td>NaN</td>\n",
       "      <td>NaN</td>\n",
       "      <td>29433.0</td>\n",
       "    </tr>\n",
       "    <tr>\n",
       "      <th>4211</th>\n",
       "      <td>32997.0</td>\n",
       "      <td>30638.0</td>\n",
       "      <td>30072.0</td>\n",
       "      <td>31336.0</td>\n",
       "    </tr>\n",
       "    <tr>\n",
       "      <th>4120</th>\n",
       "      <td>31820.0</td>\n",
       "      <td>31025.0</td>\n",
       "      <td>29472.0</td>\n",
       "      <td>27763.0</td>\n",
       "    </tr>\n",
       "    <tr>\n",
       "      <th>4399</th>\n",
       "      <td>29511.0</td>\n",
       "      <td>30480.0</td>\n",
       "      <td>29675.0</td>\n",
       "      <td>28649.0</td>\n",
       "    </tr>\n",
       "  </tbody>\n",
       "</table>\n",
       "</div>"
      ],
      "text/plain": [
       "          2018     2017     2016     2015\n",
       "sic_4                                    \n",
       "4331       NaN      NaN  26295.0      NaN\n",
       "4312   29443.0      NaN      NaN  29433.0\n",
       "4211   32997.0  30638.0  30072.0  31336.0\n",
       "4120   31820.0  31025.0  29472.0  27763.0\n",
       "4399   29511.0  30480.0  29675.0  28649.0"
      ]
     },
     "execution_count": 14,
     "metadata": {},
     "output_type": "execute_result"
    }
   ],
   "source": [
    "all_salaries.head()"
   ]
  },
  {
   "cell_type": "markdown",
   "metadata": {},
   "source": [
    "#### Create weighted medians\n",
    "\n",
    "We are not going to be working with sic codes, but our own segments. This requires creating weighted medians of salaries across SIC codes. We use levels of employment to create the weights.\n"
   ]
  },
  {
   "cell_type": "code",
   "execution_count": 15,
   "metadata": {},
   "outputs": [],
   "source": [
    "#Melt the salaries file from above\n",
    "salaries_long = all_salaries.reset_index(drop=False).melt(id_vars=['sic_4'],var_name='year',value_name='median_salary')"
   ]
  },
  {
   "cell_type": "code",
   "execution_count": 17,
   "metadata": {},
   "outputs": [
    {
     "data": {
      "text/html": [
       "<div>\n",
       "<style scoped>\n",
       "    .dataframe tbody tr th:only-of-type {\n",
       "        vertical-align: middle;\n",
       "    }\n",
       "\n",
       "    .dataframe tbody tr th {\n",
       "        vertical-align: top;\n",
       "    }\n",
       "\n",
       "    .dataframe thead th {\n",
       "        text-align: right;\n",
       "    }\n",
       "</style>\n",
       "<table border=\"1\" class=\"dataframe\">\n",
       "  <thead>\n",
       "    <tr style=\"text-align: right;\">\n",
       "      <th></th>\n",
       "      <th>Unnamed: 0</th>\n",
       "      <th>year</th>\n",
       "      <th>geo_type</th>\n",
       "      <th>geo_nm</th>\n",
       "      <th>geo_cd</th>\n",
       "      <th>SIC4</th>\n",
       "      <th>value</th>\n",
       "      <th>cluster_name</th>\n",
       "    </tr>\n",
       "  </thead>\n",
       "  <tbody>\n",
       "    <tr>\n",
       "      <th>0</th>\n",
       "      <td>0</td>\n",
       "      <td>2016</td>\n",
       "      <td>nuts 2013 level 2</td>\n",
       "      <td>Tees Valley and Durham</td>\n",
       "      <td>UKC1</td>\n",
       "      <td>0161</td>\n",
       "      <td>100</td>\n",
       "      <td>manufacture_food</td>\n",
       "    </tr>\n",
       "    <tr>\n",
       "      <th>1</th>\n",
       "      <td>1</td>\n",
       "      <td>2016</td>\n",
       "      <td>nuts 2013 level 2</td>\n",
       "      <td>Northumberland and Tyne and Wear</td>\n",
       "      <td>UKC2</td>\n",
       "      <td>0161</td>\n",
       "      <td>200</td>\n",
       "      <td>manufacture_food</td>\n",
       "    </tr>\n",
       "    <tr>\n",
       "      <th>2</th>\n",
       "      <td>2</td>\n",
       "      <td>2016</td>\n",
       "      <td>nuts 2013 level 2</td>\n",
       "      <td>Cumbria</td>\n",
       "      <td>UKD1</td>\n",
       "      <td>0161</td>\n",
       "      <td>200</td>\n",
       "      <td>manufacture_food</td>\n",
       "    </tr>\n",
       "    <tr>\n",
       "      <th>3</th>\n",
       "      <td>3</td>\n",
       "      <td>2016</td>\n",
       "      <td>nuts 2013 level 2</td>\n",
       "      <td>Greater Manchester</td>\n",
       "      <td>UKD3</td>\n",
       "      <td>0161</td>\n",
       "      <td>350</td>\n",
       "      <td>manufacture_food</td>\n",
       "    </tr>\n",
       "    <tr>\n",
       "      <th>4</th>\n",
       "      <td>4</td>\n",
       "      <td>2016</td>\n",
       "      <td>nuts 2013 level 2</td>\n",
       "      <td>Lancashire</td>\n",
       "      <td>UKD4</td>\n",
       "      <td>0161</td>\n",
       "      <td>500</td>\n",
       "      <td>manufacture_food</td>\n",
       "    </tr>\n",
       "  </tbody>\n",
       "</table>\n",
       "</div>"
      ],
      "text/plain": [
       "   Unnamed: 0  year           geo_type                            geo_nm  \\\n",
       "0           0  2016  nuts 2013 level 2            Tees Valley and Durham   \n",
       "1           1  2016  nuts 2013 level 2  Northumberland and Tyne and Wear   \n",
       "2           2  2016  nuts 2013 level 2                           Cumbria   \n",
       "3           3  2016  nuts 2013 level 2                Greater Manchester   \n",
       "4           4  2016  nuts 2013 level 2                        Lancashire   \n",
       "\n",
       "  geo_cd  SIC4  value      cluster_name  \n",
       "0   UKC1  0161    100  manufacture_food  \n",
       "1   UKC2  0161    200  manufacture_food  \n",
       "2   UKD1  0161    200  manufacture_food  \n",
       "3   UKD3  0161    350  manufacture_food  \n",
       "4   UKD4  0161    500  manufacture_food  "
      ]
     },
     "execution_count": 17,
     "metadata": {},
     "output_type": "execute_result"
    }
   ],
   "source": [
    "#We read for the four years\n",
    "bres_data = pd.concat([pd.read_csv(f'../../data/interim/industry/nomis_BRES_{y}_TYPE450.csv',dtype={'SIC4':str}) for y in [2016,2017,2018]],axis=0)\n",
    "\n",
    "bres_data.head()"
   ]
  },
  {
   "cell_type": "code",
   "execution_count": 18,
   "metadata": {},
   "outputs": [],
   "source": [
    "#Group them by year to get the total level of employment by SIC4\n",
    "sic_yearly_long = bres_data.groupby(['year','SIC4'])['value'].sum().reset_index(drop=False)\n",
    "\n",
    "sic_yearly_long.rename(columns={'value':'employment'},inplace=True)"
   ]
  },
  {
   "cell_type": "code",
   "execution_count": 19,
   "metadata": {},
   "outputs": [],
   "source": [
    "salary_empl_merge = pd.merge(salaries_long,sic_yearly_long,left_on=['sic_4','year'],right_on=['SIC4','year'])"
   ]
  },
  {
   "cell_type": "code",
   "execution_count": 20,
   "metadata": {},
   "outputs": [],
   "source": [
    "segment_merged = pd.merge(cl[['sic_4','cluster']],salary_empl_merge,left_on='sic_4',right_on='sic_4')"
   ]
  },
  {
   "cell_type": "code",
   "execution_count": 21,
   "metadata": {},
   "outputs": [
    {
     "data": {
      "text/html": [
       "<div>\n",
       "<style scoped>\n",
       "    .dataframe tbody tr th:only-of-type {\n",
       "        vertical-align: middle;\n",
       "    }\n",
       "\n",
       "    .dataframe tbody tr th {\n",
       "        vertical-align: top;\n",
       "    }\n",
       "\n",
       "    .dataframe thead th {\n",
       "        text-align: right;\n",
       "    }\n",
       "</style>\n",
       "<table border=\"1\" class=\"dataframe\">\n",
       "  <thead>\n",
       "    <tr style=\"text-align: right;\">\n",
       "      <th></th>\n",
       "      <th>sic_4</th>\n",
       "      <th>cluster</th>\n",
       "      <th>year</th>\n",
       "      <th>median_salary</th>\n",
       "      <th>SIC4</th>\n",
       "      <th>employment</th>\n",
       "    </tr>\n",
       "  </thead>\n",
       "  <tbody>\n",
       "    <tr>\n",
       "      <th>0</th>\n",
       "      <td>4331</td>\n",
       "      <td>construction_construction</td>\n",
       "      <td>2018</td>\n",
       "      <td>NaN</td>\n",
       "      <td>4331</td>\n",
       "      <td>13970</td>\n",
       "    </tr>\n",
       "    <tr>\n",
       "      <th>1</th>\n",
       "      <td>4331</td>\n",
       "      <td>construction_construction</td>\n",
       "      <td>2017</td>\n",
       "      <td>NaN</td>\n",
       "      <td>4331</td>\n",
       "      <td>14620</td>\n",
       "    </tr>\n",
       "    <tr>\n",
       "      <th>2</th>\n",
       "      <td>4331</td>\n",
       "      <td>construction_construction</td>\n",
       "      <td>2016</td>\n",
       "      <td>26295.0</td>\n",
       "      <td>4331</td>\n",
       "      <td>15025</td>\n",
       "    </tr>\n",
       "    <tr>\n",
       "      <th>3</th>\n",
       "      <td>4312</td>\n",
       "      <td>construction_construction</td>\n",
       "      <td>2018</td>\n",
       "      <td>29443.0</td>\n",
       "      <td>4312</td>\n",
       "      <td>14130</td>\n",
       "    </tr>\n",
       "    <tr>\n",
       "      <th>4</th>\n",
       "      <td>4312</td>\n",
       "      <td>construction_construction</td>\n",
       "      <td>2017</td>\n",
       "      <td>NaN</td>\n",
       "      <td>4312</td>\n",
       "      <td>15110</td>\n",
       "    </tr>\n",
       "  </tbody>\n",
       "</table>\n",
       "</div>"
      ],
      "text/plain": [
       "  sic_4                    cluster  year  median_salary  SIC4  employment\n",
       "0  4331  construction_construction  2018            NaN  4331       13970\n",
       "1  4331  construction_construction  2017            NaN  4331       14620\n",
       "2  4331  construction_construction  2016        26295.0  4331       15025\n",
       "3  4312  construction_construction  2018        29443.0  4312       14130\n",
       "4  4312  construction_construction  2017            NaN  4312       15110"
      ]
     },
     "execution_count": 21,
     "metadata": {},
     "output_type": "execute_result"
    }
   ],
   "source": [
    "segment_merged.head()"
   ]
  },
  {
   "cell_type": "code",
   "execution_count": 22,
   "metadata": {},
   "outputs": [],
   "source": [
    "#Weighted salary: takes all the sics in a segment and applies a weight based on their importance in the segment\n",
    "weighted_sal = segment_merged.groupby(\n",
    "    ['cluster','year']).apply(lambda x: np.sum(x['median_salary']*x['employment'])/np.sum(x['employment'])).reset_index(drop=False)"
   ]
  },
  {
   "cell_type": "code",
   "execution_count": 23,
   "metadata": {},
   "outputs": [
    {
     "data": {
      "text/html": [
       "<div>\n",
       "<style scoped>\n",
       "    .dataframe tbody tr th:only-of-type {\n",
       "        vertical-align: middle;\n",
       "    }\n",
       "\n",
       "    .dataframe tbody tr th {\n",
       "        vertical-align: top;\n",
       "    }\n",
       "\n",
       "    .dataframe thead th {\n",
       "        text-align: right;\n",
       "    }\n",
       "</style>\n",
       "<table border=\"1\" class=\"dataframe\">\n",
       "  <thead>\n",
       "    <tr style=\"text-align: right;\">\n",
       "      <th>year</th>\n",
       "      <th>2016</th>\n",
       "      <th>2017</th>\n",
       "      <th>2018</th>\n",
       "    </tr>\n",
       "    <tr>\n",
       "      <th>year</th>\n",
       "      <th></th>\n",
       "      <th></th>\n",
       "      <th></th>\n",
       "    </tr>\n",
       "  </thead>\n",
       "  <tbody>\n",
       "    <tr>\n",
       "      <th>2016</th>\n",
       "      <td>1.000000</td>\n",
       "      <td>0.751622</td>\n",
       "      <td>0.856215</td>\n",
       "    </tr>\n",
       "    <tr>\n",
       "      <th>2017</th>\n",
       "      <td>0.751622</td>\n",
       "      <td>1.000000</td>\n",
       "      <td>0.863850</td>\n",
       "    </tr>\n",
       "    <tr>\n",
       "      <th>2018</th>\n",
       "      <td>0.856215</td>\n",
       "      <td>0.863850</td>\n",
       "      <td>1.000000</td>\n",
       "    </tr>\n",
       "  </tbody>\n",
       "</table>\n",
       "</div>"
      ],
      "text/plain": [
       "year      2016      2017      2018\n",
       "year                              \n",
       "2016  1.000000  0.751622  0.856215\n",
       "2017  0.751622  1.000000  0.863850\n",
       "2018  0.856215  0.863850  1.000000"
      ]
     },
     "execution_count": 23,
     "metadata": {},
     "output_type": "execute_result"
    }
   ],
   "source": [
    "ashe_out = weighted_sal.rename(columns={0:'weighted_median_salary'})\n",
    "\n",
    "ashe_out.pivot_table(index='cluster',columns='year',values='weighted_median_salary').corr()"
   ]
  },
  {
   "cell_type": "markdown",
   "metadata": {},
   "source": [
    "**Remove some outliers**"
   ]
  },
  {
   "cell_type": "code",
   "execution_count": 24,
   "metadata": {},
   "outputs": [],
   "source": [
    "for pid,row in ashe_out.iterrows():\n",
    "    \n",
    "    if row['weighted_median_salary']<1000:\n",
    "    \n",
    "        ashe_out.loc[pid,'weighted_median_salary'] = np.nan\n",
    "    "
   ]
  },
  {
   "cell_type": "markdown",
   "metadata": {},
   "source": [
    "**Calculate averages for all years**"
   ]
  },
  {
   "cell_type": "code",
   "execution_count": 25,
   "metadata": {},
   "outputs": [],
   "source": [
    "ashe_out_grouped = pd.DataFrame(ashe_out.groupby(['cluster'])['weighted_median_salary'].mean())"
   ]
  },
  {
   "cell_type": "code",
   "execution_count": 26,
   "metadata": {},
   "outputs": [],
   "source": [
    "ashe_out_grouped['ashe_median_salary_rank'] = pd.qcut(ashe_out_grouped['weighted_median_salary'],np.arange(0,1.1,0.1),labels=False)"
   ]
  },
  {
   "cell_type": "code",
   "execution_count": 27,
   "metadata": {},
   "outputs": [
    {
     "data": {
      "text/html": [
       "<div>\n",
       "<style scoped>\n",
       "    .dataframe tbody tr th:only-of-type {\n",
       "        vertical-align: middle;\n",
       "    }\n",
       "\n",
       "    .dataframe tbody tr th {\n",
       "        vertical-align: top;\n",
       "    }\n",
       "\n",
       "    .dataframe thead th {\n",
       "        text-align: right;\n",
       "    }\n",
       "</style>\n",
       "<table border=\"1\" class=\"dataframe\">\n",
       "  <thead>\n",
       "    <tr style=\"text-align: right;\">\n",
       "      <th></th>\n",
       "      <th>weighted_median_salary</th>\n",
       "      <th>ashe_median_salary_rank</th>\n",
       "    </tr>\n",
       "    <tr>\n",
       "      <th>cluster</th>\n",
       "      <th></th>\n",
       "      <th></th>\n",
       "    </tr>\n",
       "  </thead>\n",
       "  <tbody>\n",
       "    <tr>\n",
       "      <th>services_textiles</th>\n",
       "      <td>13508.121575</td>\n",
       "      <td>0.0</td>\n",
       "    </tr>\n",
       "    <tr>\n",
       "      <th>services_hospitality</th>\n",
       "      <td>12426.698110</td>\n",
       "      <td>0.0</td>\n",
       "    </tr>\n",
       "    <tr>\n",
       "      <th>services_electronics_machinery</th>\n",
       "      <td>7636.231977</td>\n",
       "      <td>0.0</td>\n",
       "    </tr>\n",
       "    <tr>\n",
       "      <th>manufacture_textiles</th>\n",
       "      <td>12078.750425</td>\n",
       "      <td>0.0</td>\n",
       "    </tr>\n",
       "    <tr>\n",
       "      <th>manufacture_light</th>\n",
       "      <td>NaN</td>\n",
       "      <td>NaN</td>\n",
       "    </tr>\n",
       "  </tbody>\n",
       "</table>\n",
       "</div>"
      ],
      "text/plain": [
       "                                weighted_median_salary  \\\n",
       "cluster                                                  \n",
       "services_textiles                         13508.121575   \n",
       "services_hospitality                      12426.698110   \n",
       "services_electronics_machinery             7636.231977   \n",
       "manufacture_textiles                      12078.750425   \n",
       "manufacture_light                                  NaN   \n",
       "\n",
       "                                ashe_median_salary_rank  \n",
       "cluster                                                  \n",
       "services_textiles                                   0.0  \n",
       "services_hospitality                                0.0  \n",
       "services_electronics_machinery                      0.0  \n",
       "manufacture_textiles                                0.0  \n",
       "manufacture_light                                   NaN  "
      ]
     },
     "execution_count": 27,
     "metadata": {},
     "output_type": "execute_result"
    }
   ],
   "source": [
    "ashe_out_grouped.sort_values('ashe_median_salary_rank',ascending=False).tail()"
   ]
  },
  {
   "cell_type": "code",
   "execution_count": 29,
   "metadata": {},
   "outputs": [],
   "source": [
    "ashe_out_grouped.to_csv(f'../../data/interim/industry/{today_str}_ashe_rankings.csv')"
   ]
  },
  {
   "cell_type": "code",
   "execution_count": null,
   "metadata": {},
   "outputs": [],
   "source": []
  }
 ],
 "metadata": {
  "kernelspec": {
   "display_name": "Python 3",
   "language": "python",
   "name": "python3"
  },
  "language_info": {
   "codemirror_mode": {
    "name": "ipython",
    "version": 3
   },
   "file_extension": ".py",
   "mimetype": "text/x-python",
   "name": "python",
   "nbconvert_exporter": "python",
   "pygments_lexer": "ipython3",
   "version": "3.7.3"
  }
 },
 "nbformat": 4,
 "nbformat_minor": 4
}
