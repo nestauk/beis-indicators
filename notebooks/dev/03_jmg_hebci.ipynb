{
 "cells": [
  {
   "cell_type": "markdown",
   "metadata": {},
   "source": [
    "# HE-BCI\n",
    "\n",
    "Here we collect data from the Higher-Education Business Community Interaction Survey available from the HESA website ([link](https://www.hesa.ac.uk/data-and-analysis/business-community))\n",
    "\n",
    "The structure is very similar to other HESA we collected in `01_jmg` so eventually we might want to merge both notebooks. I will definitely be reusing a lot of the code here.\n",
    "\n",
    "In terms of indicators, we would like to create the following:\n",
    "\n",
    "* Graduate start-ups rate (HE-BCI)\n",
    "* Research resource (income) per spin-out (HE-BCI)\n",
    "* Average external investment per formal spin-out (HE-BCI)\n",
    "* Licensing and other IP income as proportion of research income (HE-BCI)\n",
    "* Contract research income with businesses (HE-BCI)\n",
    "* Consultancy income with businesses (HE-BCI)\n",
    "* Contract research income with the public and third sector (HE-BCI)\n",
    "* Consultancy income with the public and third sector  (HE-BCI)"
   ]
  },
  {
   "cell_type": "markdown",
   "metadata": {},
   "source": [
    "## Preamble"
   ]
  },
  {
   "cell_type": "code",
   "execution_count": 14,
   "metadata": {},
   "outputs": [
    {
     "name": "stdout",
     "output_type": "stream",
     "text": [
      "The autoreload extension is already loaded. To reload it, use:\n",
      "  %reload_ext autoreload\n"
     ]
    }
   ],
   "source": [
    "%run ../notebook_preamble.ipy"
   ]
  },
  {
   "cell_type": "code",
   "execution_count": 15,
   "metadata": {},
   "outputs": [],
   "source": [
    "import csv\n",
    "import zipfile\n",
    "import io\n",
    "from ast import literal_eval"
   ]
  },
  {
   "cell_type": "code",
   "execution_count": 16,
   "metadata": {},
   "outputs": [],
   "source": [
    "import seaborn as sn\n",
    "from nuts_finder import NutsFinder"
   ]
  },
  {
   "cell_type": "code",
   "execution_count": 17,
   "metadata": {},
   "outputs": [],
   "source": [
    "today_str = str(datetime.datetime.today()).split(' ')[0]"
   ]
  },
  {
   "cell_type": "markdown",
   "metadata": {},
   "source": [
    "### Functions"
   ]
  },
  {
   "cell_type": "markdown",
   "metadata": {},
   "source": [
    "#### Simple utilities"
   ]
  },
  {
   "cell_type": "code",
   "execution_count": 18,
   "metadata": {},
   "outputs": [],
   "source": [
    "def tidy_cols(my_csv):\n",
    "    '''\n",
    "    Tidies column names ie lower and replace spaces with underscores\n",
    "    \n",
    "    '''\n",
    "    \n",
    "    return([re.sub(' ','_',col.lower()) for col in my_csv.columns])"
   ]
  },
  {
   "cell_type": "code",
   "execution_count": 19,
   "metadata": {},
   "outputs": [],
   "source": [
    "def filter_data(data,var_val_pairs):\n",
    "    '''\n",
    "    We use this to filter the data more easily than using pandas subsetting\n",
    "    \n",
    "    Args:\n",
    "        data (df) is a dataframe\n",
    "        var_val pairs (dict) is a dictionary where the keys are variables and the value are values\n",
    "\n",
    "    \n",
    "    '''\n",
    "    d = data.copy()\n",
    "    \n",
    "    for k,v in var_val_pairs.items():\n",
    "        d = d.loc[d[k]==v]\n",
    "        \n",
    "    return(d.reset_index(drop=True))\n",
    "    "
   ]
  },
  {
   "cell_type": "code",
   "execution_count": 20,
   "metadata": {},
   "outputs": [],
   "source": [
    "def check_categories(data,columns):\n",
    "    '''\n",
    "    This counts frequencies of categorical variables. We use it to decide what variables to choose, and to avoid double counting\n",
    "    \n",
    "    Args:\n",
    "        Data (df) is the data\n",
    "        Columns (list) are the categorical variables we want to check\n",
    "    \n",
    "    '''\n",
    "    print('FREQUENCIES')\n",
    "    print('===========')\n",
    "    \n",
    "    print('\\n')\n",
    "    #We check frequencies\n",
    "    \n",
    "    for var in columns:\n",
    "    \n",
    "        print(var)\n",
    "        print('=====')\n",
    "        print(data[var].value_counts())\n",
    "\n",
    "        print('\\n')\n",
    "        \n",
    "    print('CROSSTABS')\n",
    "    print('===========')\n",
    "    \n",
    "    #We check combinations\n",
    "    \n",
    "    combs = list(combinations(columns,2))\n",
    "    \n",
    "    for comb in combs:\n",
    "        print(comb[0]+' x '+comb[1])\n",
    "        print('=====')\n",
    "        print(pd.crosstab(data[comb[0]],data[comb[1]]))\n",
    "        \n",
    "        print('\\n')\n",
    "        \n",
    "        \n",
    "    \n"
   ]
  },
  {
   "cell_type": "markdown",
   "metadata": {},
   "source": [
    "#### Data collection"
   ]
  },
  {
   "cell_type": "code",
   "execution_count": 21,
   "metadata": {},
   "outputs": [],
   "source": [
    "def hesa_parser(url,out_name,skip=16,encoding='utf-8'):\n",
    "    '''\n",
    "    Function to obtain and parse data from the HESA website \n",
    "    \n",
    "    Args:\n",
    "        url (str) is the location of the csv file\n",
    "        out_name (str) is the saved name of the file\n",
    "        skip is the number of rows to skip (we could automate this by looking for rows at the top with lots of nans)\n",
    "    \n",
    "    '''\n",
    "    \n",
    "    #Request and parse\n",
    "    rs = requests.get(url)\n",
    "    \n",
    "    #Parse the file\n",
    "    parsed = rs.content.decode(encoding)\n",
    "    \n",
    "    #Save it\n",
    "    \n",
    "    with open(f'../../data/raw/hesa/{out_name}.txt','w') as outfile:\n",
    "        outfile.write(parsed)\n",
    "        \n",
    "    #Read it.\n",
    "    my_csv = pd.read_csv(f'../../data/raw/hesa/{out_name}.txt',skiprows=skip)\n",
    "    \n",
    "    #Clean column names\n",
    "    my_csv.columns = tidy_cols(my_csv)\n",
    "    \n",
    "    \n",
    "    return(my_csv)\n",
    "\n",
    "    \n",
    "    "
   ]
  },
  {
   "cell_type": "markdown",
   "metadata": {},
   "source": [
    "#### Data processing"
   ]
  },
  {
   "cell_type": "code",
   "execution_count": 22,
   "metadata": {},
   "outputs": [],
   "source": [
    "def gimme_nuts(lat,lon,level=2):\n",
    "    '''\n",
    "    Function to extract nuts information from a pair of coordinates\n",
    "    \n",
    "    Args:\n",
    "        lat (float) is the latitude\n",
    "        lon (float) is the longitude\n",
    "        level (int) is the NUTS level we want\n",
    "        \n",
    "    \n",
    "    '''\n",
    "    \n",
    "    info = nf.find(lat=lat,lon=lon)\n",
    "    try:\n",
    "        nuts_id = [x['NUTS_ID'] for x in info if x['LEVL_CODE']==level][0]\n",
    "        nuts_name = [x['NUTS_NAME'] for x in info if x['LEVL_CODE']==level][0]\n",
    "    #print(info)\n",
    "    \n",
    "    #nuts_id = info[level]['NUTS_ID']\n",
    "    #nuts_name = info[level]['NUTS_NAME']\n",
    "    \n",
    "    except:\n",
    "        print(f'failed with {np.round(lat,2)},{np.round(lon,2)}')\n",
    "        nuts_id = np.nan\n",
    "        nuts_name=np.nan\n",
    "    \n",
    "    return([nuts_id,nuts_name])"
   ]
  },
  {
   "cell_type": "code",
   "execution_count": 23,
   "metadata": {},
   "outputs": [],
   "source": [
    "def compare_data(df_1,df_2,id_1,id_2,name_1,name_2):\n",
    "    '''\n",
    "    We use this function to check if the ids in two datasets we are merging are consistent.\n",
    "    \n",
    "    Args:\n",
    "        dfs are the dfs we want to compare\n",
    "        ids are the ids we want to check\n",
    "        names are the names we want to use to explore the data\n",
    "    \n",
    "    '''\n",
    "    \n",
    "    print('In 1 but not in 2')\n",
    "    print('==================')\n",
    "    d1_miss = set(df_1[id_1].dropna())-set(df_2[id_2])\n",
    "    print(set(df_1.loc[[x in d1_miss for x in df_1[id_1]]][name_1]))\n",
    "    \n",
    "    print('\\n')\n",
    "\n",
    "    \n",
    "    print('In 2 but not in 1')\n",
    "    print('==================')\n",
    "    d2_miss = set(df_2[id_2].dropna())-set(df_1[id_1])\n",
    "    print(set(df_2.loc[[x in d2_miss for x in df_2[id_2]]][name_2]))\n",
    "\n",
    "    "
   ]
  },
  {
   "cell_type": "markdown",
   "metadata": {},
   "source": [
    "#### Create NUTS aggregations"
   ]
  },
  {
   "cell_type": "code",
   "execution_count": 24,
   "metadata": {},
   "outputs": [],
   "source": [
    "def make_nuts_estimate(data,nuts_lookup,counter,name,year_var='academic_year'):\n",
    "    '''\n",
    "    This function takes hesa data and creates a nuts estimate\n",
    "    \n",
    "    Args:\n",
    "        data (df) where we have already selected variables of interest eg mode of employment\n",
    "        nuts (dict) is the ukprn - nuts name and code lookup\n",
    "        counter (str) is the variable with counts that we are interested in\n",
    "        year_var (str) is the variable containing the years we want to group by. If None, then we are not grouping by year\n",
    "    \n",
    "    '''\n",
    "    \n",
    "    d = data.copy()\n",
    "    \n",
    "    #Add the nuts names and codes\n",
    "    d['nuts_name'],d['nuts_code'] = [[nuts_lookup[ukprn][var] if ukprn in nuts_lookup.keys() else np.nan for ukprn in data['ukprn']] for\n",
    "                                     var in ['nuts_name','nuts_code']]\n",
    "    \n",
    "    #We are focusing on numbers\n",
    "    d[counter] = d[counter].astype(float)\n",
    "    \n",
    "    #Group results by year?\n",
    "    if year_var == None:\n",
    "        out = d.groupby(['nuts_name','nuts_code'])[counter].sum()\n",
    "        \n",
    "    else:\n",
    "        \n",
    "        out = d.groupby(['nuts_name','nuts_code',year_var])[counter].sum()\n",
    "        \n",
    "    \n",
    "    out.name = name\n",
    "    \n",
    "    return(out)"
   ]
  },
  {
   "cell_type": "code",
   "execution_count": 25,
   "metadata": {},
   "outputs": [],
   "source": [
    "def multiple_nuts_estimates(data,nuts_lookup,variables,select_var,value,year_var='academic_year'):\n",
    "    '''\n",
    "    Creates NUTS estimates for multiple variables.\n",
    "    \n",
    "    Args:\n",
    "        data (df) is the filtered dataframe\n",
    "        select_var (str) is the variable we want to use to select values\n",
    "        nuts_lookup (dict) is the lookup between universities and nuts\n",
    "        variables (list) is the list of variables for which we want to generate the analysis\n",
    "        value (str) is the field that contains the numerical value we want to aggregate in the dataframe\n",
    "        year_var (str) is the year_variable. If none, then we are not interested in years\n",
    "    \n",
    "    '''\n",
    "    \n",
    "    if year_var==None:\n",
    "        concat = pd.concat([make_nuts_estimate(data.loc[data[select_var]==m],nuts_lookup,value,m) for m in \n",
    "                  variables],axis=1)\n",
    "    \n",
    "    #If we want to do this by year then we will create aggregates by nuts name and code and year and then concatenate over columns \n",
    "    else:\n",
    "        \n",
    "        year_store = []\n",
    "        \n",
    "        for m in variables:\n",
    "            \n",
    "            y = make_nuts_estimate(data.loc[data[select_var]==m],nuts_lookup,value,m,year_var='academic_year')\n",
    "            \n",
    "            year_store.append(y)\n",
    "            \n",
    "        concat = pd.concat(year_store,axis=1)\n",
    "                \n",
    "    return(concat)"
   ]
  },
  {
   "cell_type": "code",
   "execution_count": 73,
   "metadata": {},
   "outputs": [],
   "source": [
    "def convert_academic_year(df,year_var = 'academic_year',position=0):\n",
    "    '''\n",
    "    This function converts an academic year variable from HESA into a year (int)\n",
    "    \n",
    "    Args:\n",
    "        df (df) with the academic year we want to convert\n",
    "        year_var (str) is the name of the year variable\n",
    "        position (int) is the position of the year. We default to 0 (first year)\n",
    "    \n",
    "    '''\n",
    "    \n",
    "    #Make copy\n",
    "    df_2 = df.copy()\n",
    "    \n",
    "    #Reset index so we can work with it easily\n",
    "    df_2 = df_2.reset_index(level=2)\n",
    "    \n",
    "    #Create the new year variable by splitting the academic year variable on /\n",
    "    df_2[year_var] = [int(x.split('/')[position]) if position==0 else int('20'+x.split('/')[position])  for x in df_2[year_var]]\n",
    "    \n",
    "    #Reappend the year index\n",
    "    df_2.set_index(year_var,append=True,inplace=True)\n",
    "    \n",
    "    #df_2.rename(columns={year_var:'year'},inplace=True)\n",
    "    \n",
    "    return(df_2)"
   ]
  },
  {
   "cell_type": "code",
   "execution_count": 51,
   "metadata": {},
   "outputs": [],
   "source": [
    "def make_indicator(table,target_path,var_lookup,year_var,nuts_var='nuts_code',nuts_spec=2018,decimals=3):\n",
    "    '''\n",
    "    We use this function to create and save indicators using our standardised format.\n",
    "    \n",
    "    Args:\n",
    "        table (df) is a df with relevant information\n",
    "        target_path (str) is the location of the directory where we want to save the data (includes interim and processed)\n",
    "        var_lookup (dict) is a lookup to rename the variable into our standardised name\n",
    "        year (str) is the name of the year variable\n",
    "        nuts_var (str) is the name of the NUTS code variable. We assume it is nuts_code\n",
    "        nuts_spec (y) is the value of the NUTS specification. We assume we are working with 2018 NUTS\n",
    "    \n",
    "    '''\n",
    "    #Copy\n",
    "    t = table.reset_index(drop=False)\n",
    "    \n",
    "    #Reset index (we assume that the index is the nuts code, var name and year - this might need to be changed)\n",
    "    \n",
    "    \n",
    "    #Process the interim data into an indicator\n",
    "    \n",
    "    #This is the variable name and code\n",
    "    var_name = list(var_lookup.keys())[0]\n",
    "    \n",
    "    var_code = list(var_lookup.values())[0]\n",
    "    \n",
    "    #Focus on those\n",
    "    t = t[[year_var,nuts_var,var_name]]\n",
    "    \n",
    "    #Add the nuts specification\n",
    "    t['nuts_year_spec'] = nuts_spec\n",
    "    \n",
    "    #Rename variables\n",
    "    t.rename(columns={var_name:var_code,year_var:'year',nuts_var:'nuts_id'},inplace=True)\n",
    "\n",
    "    #Round variables\n",
    "    t[var_code] = [np.round(x,decimals) if decimals>0 else int(x) for x in t[var_code]]\n",
    "    \n",
    "    \n",
    "    #Reorder variables\n",
    "    t = t[['year','nuts_id','nuts_year_spec',var_code]]\n",
    "    \n",
    "    print(t.head())\n",
    "    \n",
    "    #Save in the processed folder\n",
    "    t.to_csv(f'../../data/processed/{target_path}/{var_code}.csv',index=False)"
   ]
  },
  {
   "cell_type": "markdown",
   "metadata": {},
   "source": [
    "#### Directories etc"
   ]
  },
  {
   "cell_type": "code",
   "execution_count": 52,
   "metadata": {},
   "outputs": [],
   "source": [
    "# Create a hesa directory in raw and processed"
   ]
  },
  {
   "cell_type": "code",
   "execution_count": 53,
   "metadata": {},
   "outputs": [],
   "source": [
    "if 'hebci' not in os.listdir('../../data/raw'):\n",
    "    os.mkdir('../../data/raw/hebci')\n",
    "    \n",
    "if 'hebci' not in os.listdir('../../data/interim'):\n",
    "    os.mkdir('../../data/interim/hebci')\n",
    "    \n",
    "if 'hebci' not in os.listdir('../../data/processed'):\n",
    "    os.mkdir('../../data/processed/hebci')"
   ]
  },
  {
   "cell_type": "markdown",
   "metadata": {},
   "source": [
    "## 1. Collect data"
   ]
  },
  {
   "cell_type": "markdown",
   "metadata": {},
   "source": [
    "### University metadata\n",
    "\n",
    "The [learning providers website](http://learning-provider.data.ac.uk/) contains information about universities. \n",
    "\n",
    "We have geocoded them in `0-jmg-university...`\n",
    "\n"
   ]
  },
  {
   "cell_type": "code",
   "execution_count": 30,
   "metadata": {},
   "outputs": [],
   "source": [
    "with open('../../data/metadata/uni_nuts.txt','r') as infile:\n",
    "    \n",
    "    uni_nuts = literal_eval(infile.read())"
   ]
  },
  {
   "cell_type": "markdown",
   "metadata": {},
   "source": [
    "### Spin-out activity"
   ]
  },
  {
   "cell_type": "code",
   "execution_count": 31,
   "metadata": {},
   "outputs": [],
   "source": [
    "url_1 = 'https://www.hesa.ac.uk/data-and-analysis/providers/business-community/table-4e.csv'"
   ]
  },
  {
   "cell_type": "code",
   "execution_count": 32,
   "metadata": {},
   "outputs": [],
   "source": [
    "spin = hesa_parser(url_1,'spin',skip=11)"
   ]
  },
  {
   "cell_type": "code",
   "execution_count": 33,
   "metadata": {},
   "outputs": [
    {
     "data": {
      "text/html": [
       "<div>\n",
       "<style scoped>\n",
       "    .dataframe tbody tr th:only-of-type {\n",
       "        vertical-align: middle;\n",
       "    }\n",
       "\n",
       "    .dataframe tbody tr th {\n",
       "        vertical-align: top;\n",
       "    }\n",
       "\n",
       "    .dataframe thead th {\n",
       "        text-align: right;\n",
       "    }\n",
       "</style>\n",
       "<table border=\"1\" class=\"dataframe\">\n",
       "  <thead>\n",
       "    <tr style=\"text-align: right;\">\n",
       "      <th></th>\n",
       "      <th>ukprn</th>\n",
       "      <th>he_provider</th>\n",
       "      <th>country_of_he_provider</th>\n",
       "      <th>region_of_he_provider</th>\n",
       "      <th>academic_year</th>\n",
       "      <th>metric</th>\n",
       "      <th>category_marker</th>\n",
       "      <th>value</th>\n",
       "    </tr>\n",
       "  </thead>\n",
       "  <tbody>\n",
       "    <tr>\n",
       "      <th>0</th>\n",
       "      <td>10007783</td>\n",
       "      <td>The University of Aberdeen</td>\n",
       "      <td>Scotland</td>\n",
       "      <td>Scotland</td>\n",
       "      <td>2014/15</td>\n",
       "      <td>Estimated current employment of all active fir...</td>\n",
       "      <td>Spin-offs with some HEP ownership</td>\n",
       "      <td>230</td>\n",
       "    </tr>\n",
       "    <tr>\n",
       "      <th>1</th>\n",
       "      <td>10007783</td>\n",
       "      <td>The University of Aberdeen</td>\n",
       "      <td>Scotland</td>\n",
       "      <td>Scotland</td>\n",
       "      <td>2014/15</td>\n",
       "      <td>Estimated current employment of all active fir...</td>\n",
       "      <td>Formal spin-offs, not HEP owned</td>\n",
       "      <td>1000</td>\n",
       "    </tr>\n",
       "    <tr>\n",
       "      <th>2</th>\n",
       "      <td>10007783</td>\n",
       "      <td>The University of Aberdeen</td>\n",
       "      <td>Scotland</td>\n",
       "      <td>Scotland</td>\n",
       "      <td>2014/15</td>\n",
       "      <td>Estimated current employment of all active fir...</td>\n",
       "      <td>Staff start-ups</td>\n",
       "      <td>0</td>\n",
       "    </tr>\n",
       "    <tr>\n",
       "      <th>3</th>\n",
       "      <td>10007783</td>\n",
       "      <td>The University of Aberdeen</td>\n",
       "      <td>Scotland</td>\n",
       "      <td>Scotland</td>\n",
       "      <td>2014/15</td>\n",
       "      <td>Estimated current employment of all active fir...</td>\n",
       "      <td>Graduate start-ups</td>\n",
       "      <td>1</td>\n",
       "    </tr>\n",
       "    <tr>\n",
       "      <th>4</th>\n",
       "      <td>10007783</td>\n",
       "      <td>The University of Aberdeen</td>\n",
       "      <td>Scotland</td>\n",
       "      <td>Scotland</td>\n",
       "      <td>2014/15</td>\n",
       "      <td>Estimated current employment of all active fir...</td>\n",
       "      <td>Social enterprises</td>\n",
       "      <td>1</td>\n",
       "    </tr>\n",
       "  </tbody>\n",
       "</table>\n",
       "</div>"
      ],
      "text/plain": [
       "      ukprn                 he_provider country_of_he_provider  \\\n",
       "0  10007783  The University of Aberdeen               Scotland   \n",
       "1  10007783  The University of Aberdeen               Scotland   \n",
       "2  10007783  The University of Aberdeen               Scotland   \n",
       "3  10007783  The University of Aberdeen               Scotland   \n",
       "4  10007783  The University of Aberdeen               Scotland   \n",
       "\n",
       "  region_of_he_provider academic_year  \\\n",
       "0              Scotland       2014/15   \n",
       "1              Scotland       2014/15   \n",
       "2              Scotland       2014/15   \n",
       "3              Scotland       2014/15   \n",
       "4              Scotland       2014/15   \n",
       "\n",
       "                                              metric  \\\n",
       "0  Estimated current employment of all active fir...   \n",
       "1  Estimated current employment of all active fir...   \n",
       "2  Estimated current employment of all active fir...   \n",
       "3  Estimated current employment of all active fir...   \n",
       "4  Estimated current employment of all active fir...   \n",
       "\n",
       "                     category_marker  value  \n",
       "0  Spin-offs with some HEP ownership    230  \n",
       "1    Formal spin-offs, not HEP owned   1000  \n",
       "2                    Staff start-ups      0  \n",
       "3                 Graduate start-ups      1  \n",
       "4                 Social enterprises      1  "
      ]
     },
     "execution_count": 33,
     "metadata": {},
     "output_type": "execute_result"
    }
   ],
   "source": [
    "spin.head()"
   ]
  },
  {
   "cell_type": "markdown",
   "metadata": {},
   "source": [
    "### Licensing income"
   ]
  },
  {
   "cell_type": "code",
   "execution_count": 34,
   "metadata": {},
   "outputs": [],
   "source": [
    "url_2 = 'https://www.hesa.ac.uk/data-and-analysis/providers/business-community/table-4d.csv'"
   ]
  },
  {
   "cell_type": "code",
   "execution_count": 35,
   "metadata": {},
   "outputs": [],
   "source": [
    "ip = hesa_parser(url_2,'ip',skip=11)"
   ]
  },
  {
   "cell_type": "code",
   "execution_count": 36,
   "metadata": {},
   "outputs": [
    {
     "data": {
      "text/html": [
       "<div>\n",
       "<style scoped>\n",
       "    .dataframe tbody tr th:only-of-type {\n",
       "        vertical-align: middle;\n",
       "    }\n",
       "\n",
       "    .dataframe tbody tr th {\n",
       "        vertical-align: top;\n",
       "    }\n",
       "\n",
       "    .dataframe thead th {\n",
       "        text-align: right;\n",
       "    }\n",
       "</style>\n",
       "<table border=\"1\" class=\"dataframe\">\n",
       "  <thead>\n",
       "    <tr style=\"text-align: right;\">\n",
       "      <th></th>\n",
       "      <th>ukprn</th>\n",
       "      <th>he_provider</th>\n",
       "      <th>country_of_he_provider</th>\n",
       "      <th>region_of_he_provider</th>\n",
       "      <th>academic_year</th>\n",
       "      <th>category_marker</th>\n",
       "      <th>unit</th>\n",
       "      <th>value</th>\n",
       "    </tr>\n",
       "  </thead>\n",
       "  <tbody>\n",
       "    <tr>\n",
       "      <th>0</th>\n",
       "      <td>10007783</td>\n",
       "      <td>The University of Aberdeen</td>\n",
       "      <td>Scotland</td>\n",
       "      <td>Scotland</td>\n",
       "      <td>2014/15</td>\n",
       "      <td>Subtotal IP income</td>\n",
       "      <td>£000s</td>\n",
       "      <td>1045</td>\n",
       "    </tr>\n",
       "    <tr>\n",
       "      <th>1</th>\n",
       "      <td>10007783</td>\n",
       "      <td>The University of Aberdeen</td>\n",
       "      <td>Scotland</td>\n",
       "      <td>Scotland</td>\n",
       "      <td>2014/15</td>\n",
       "      <td>Subtotal overseas</td>\n",
       "      <td>£000s</td>\n",
       "      <td>0</td>\n",
       "    </tr>\n",
       "    <tr>\n",
       "      <th>2</th>\n",
       "      <td>10007783</td>\n",
       "      <td>The University of Aberdeen</td>\n",
       "      <td>Scotland</td>\n",
       "      <td>Scotland</td>\n",
       "      <td>2014/15</td>\n",
       "      <td>Sale of shares in spin-offs</td>\n",
       "      <td>£000s</td>\n",
       "      <td>3010</td>\n",
       "    </tr>\n",
       "    <tr>\n",
       "      <th>3</th>\n",
       "      <td>10007783</td>\n",
       "      <td>The University of Aberdeen</td>\n",
       "      <td>Scotland</td>\n",
       "      <td>Scotland</td>\n",
       "      <td>2014/15</td>\n",
       "      <td>Total IP revenues</td>\n",
       "      <td>£000s</td>\n",
       "      <td>4055</td>\n",
       "    </tr>\n",
       "    <tr>\n",
       "      <th>4</th>\n",
       "      <td>10007783</td>\n",
       "      <td>The University of Aberdeen</td>\n",
       "      <td>Scotland</td>\n",
       "      <td>Scotland</td>\n",
       "      <td>2014/15</td>\n",
       "      <td>Total costs</td>\n",
       "      <td>£000s</td>\n",
       "      <td>320</td>\n",
       "    </tr>\n",
       "  </tbody>\n",
       "</table>\n",
       "</div>"
      ],
      "text/plain": [
       "      ukprn                 he_provider country_of_he_provider  \\\n",
       "0  10007783  The University of Aberdeen               Scotland   \n",
       "1  10007783  The University of Aberdeen               Scotland   \n",
       "2  10007783  The University of Aberdeen               Scotland   \n",
       "3  10007783  The University of Aberdeen               Scotland   \n",
       "4  10007783  The University of Aberdeen               Scotland   \n",
       "\n",
       "  region_of_he_provider academic_year              category_marker   unit  \\\n",
       "0              Scotland       2014/15           Subtotal IP income  £000s   \n",
       "1              Scotland       2014/15            Subtotal overseas  £000s   \n",
       "2              Scotland       2014/15  Sale of shares in spin-offs  £000s   \n",
       "3              Scotland       2014/15            Total IP revenues  £000s   \n",
       "4              Scotland       2014/15                  Total costs  £000s   \n",
       "\n",
       "   value  \n",
       "0   1045  \n",
       "1      0  \n",
       "2   3010  \n",
       "3   4055  \n",
       "4    320  "
      ]
     },
     "execution_count": 36,
     "metadata": {},
     "output_type": "execute_result"
    }
   ],
   "source": [
    "ip.head()"
   ]
  },
  {
   "cell_type": "markdown",
   "metadata": {},
   "source": [
    "### Services income"
   ]
  },
  {
   "cell_type": "code",
   "execution_count": 37,
   "metadata": {},
   "outputs": [],
   "source": [
    "url_3 = 'https://www.hesa.ac.uk/data-and-analysis/providers/business-community/table-2a.csv'"
   ]
  },
  {
   "cell_type": "code",
   "execution_count": 38,
   "metadata": {},
   "outputs": [],
   "source": [
    "services = hesa_parser(url_3,'services',skip=11)"
   ]
  },
  {
   "cell_type": "code",
   "execution_count": 39,
   "metadata": {},
   "outputs": [
    {
     "data": {
      "text/html": [
       "<div>\n",
       "<style scoped>\n",
       "    .dataframe tbody tr th:only-of-type {\n",
       "        vertical-align: middle;\n",
       "    }\n",
       "\n",
       "    .dataframe tbody tr th {\n",
       "        vertical-align: top;\n",
       "    }\n",
       "\n",
       "    .dataframe thead th {\n",
       "        text-align: right;\n",
       "    }\n",
       "</style>\n",
       "<table border=\"1\" class=\"dataframe\">\n",
       "  <thead>\n",
       "    <tr style=\"text-align: right;\">\n",
       "      <th></th>\n",
       "      <th>ukprn</th>\n",
       "      <th>he_provider</th>\n",
       "      <th>country_of_he_provider</th>\n",
       "      <th>region_of_he_provider</th>\n",
       "      <th>academic_year</th>\n",
       "      <th>type_of_service</th>\n",
       "      <th>type_of_organisation</th>\n",
       "      <th>number/value_marker</th>\n",
       "      <th>unit</th>\n",
       "      <th>number/value</th>\n",
       "    </tr>\n",
       "  </thead>\n",
       "  <tbody>\n",
       "    <tr>\n",
       "      <th>0</th>\n",
       "      <td>10007783</td>\n",
       "      <td>The University of Aberdeen</td>\n",
       "      <td>Scotland</td>\n",
       "      <td>Scotland</td>\n",
       "      <td>2014/15</td>\n",
       "      <td>Consultancy</td>\n",
       "      <td>Non-commercial organisations</td>\n",
       "      <td>Number</td>\n",
       "      <td>NaN</td>\n",
       "      <td>34</td>\n",
       "    </tr>\n",
       "    <tr>\n",
       "      <th>1</th>\n",
       "      <td>10007783</td>\n",
       "      <td>The University of Aberdeen</td>\n",
       "      <td>Scotland</td>\n",
       "      <td>Scotland</td>\n",
       "      <td>2014/15</td>\n",
       "      <td>Contract research</td>\n",
       "      <td>Non-commercial organisations</td>\n",
       "      <td>Number</td>\n",
       "      <td>NaN</td>\n",
       "      <td>64</td>\n",
       "    </tr>\n",
       "    <tr>\n",
       "      <th>2</th>\n",
       "      <td>10007783</td>\n",
       "      <td>The University of Aberdeen</td>\n",
       "      <td>Scotland</td>\n",
       "      <td>Scotland</td>\n",
       "      <td>2014/15</td>\n",
       "      <td>Facilities and equipment related</td>\n",
       "      <td>Non-commercial organisations</td>\n",
       "      <td>Number</td>\n",
       "      <td>NaN</td>\n",
       "      <td>27</td>\n",
       "    </tr>\n",
       "    <tr>\n",
       "      <th>3</th>\n",
       "      <td>10007783</td>\n",
       "      <td>The University of Aberdeen</td>\n",
       "      <td>Scotland</td>\n",
       "      <td>Scotland</td>\n",
       "      <td>2014/15</td>\n",
       "      <td>Consultancy</td>\n",
       "      <td>Non-commercial organisations</td>\n",
       "      <td>Value</td>\n",
       "      <td>£000s</td>\n",
       "      <td>106</td>\n",
       "    </tr>\n",
       "    <tr>\n",
       "      <th>4</th>\n",
       "      <td>10007783</td>\n",
       "      <td>The University of Aberdeen</td>\n",
       "      <td>Scotland</td>\n",
       "      <td>Scotland</td>\n",
       "      <td>2014/15</td>\n",
       "      <td>Contract research</td>\n",
       "      <td>Non-commercial organisations</td>\n",
       "      <td>Value</td>\n",
       "      <td>£000s</td>\n",
       "      <td>2928</td>\n",
       "    </tr>\n",
       "  </tbody>\n",
       "</table>\n",
       "</div>"
      ],
      "text/plain": [
       "      ukprn                 he_provider country_of_he_provider  \\\n",
       "0  10007783  The University of Aberdeen               Scotland   \n",
       "1  10007783  The University of Aberdeen               Scotland   \n",
       "2  10007783  The University of Aberdeen               Scotland   \n",
       "3  10007783  The University of Aberdeen               Scotland   \n",
       "4  10007783  The University of Aberdeen               Scotland   \n",
       "\n",
       "  region_of_he_provider academic_year                   type_of_service  \\\n",
       "0              Scotland       2014/15                       Consultancy   \n",
       "1              Scotland       2014/15                 Contract research   \n",
       "2              Scotland       2014/15  Facilities and equipment related   \n",
       "3              Scotland       2014/15                       Consultancy   \n",
       "4              Scotland       2014/15                 Contract research   \n",
       "\n",
       "           type_of_organisation number/value_marker   unit  number/value  \n",
       "0  Non-commercial organisations              Number    NaN            34  \n",
       "1  Non-commercial organisations              Number    NaN            64  \n",
       "2  Non-commercial organisations              Number    NaN            27  \n",
       "3  Non-commercial organisations               Value  £000s           106  \n",
       "4  Non-commercial organisations               Value  £000s          2928  "
      ]
     },
     "execution_count": 39,
     "metadata": {},
     "output_type": "execute_result"
    }
   ],
   "source": [
    "services.head()"
   ]
  },
  {
   "cell_type": "markdown",
   "metadata": {},
   "source": [
    "### Collaborative research involving public funding"
   ]
  },
  {
   "cell_type": "code",
   "execution_count": 40,
   "metadata": {},
   "outputs": [],
   "source": [
    "url_4 = 'https://www.hesa.ac.uk/data-and-analysis/providers/business-community/table-1.csv'"
   ]
  },
  {
   "cell_type": "code",
   "execution_count": 41,
   "metadata": {},
   "outputs": [],
   "source": [
    "collab = hesa_parser(url_4,'collab',skip=11)"
   ]
  },
  {
   "cell_type": "code",
   "execution_count": 42,
   "metadata": {},
   "outputs": [
    {
     "data": {
      "text/html": [
       "<div>\n",
       "<style scoped>\n",
       "    .dataframe tbody tr th:only-of-type {\n",
       "        vertical-align: middle;\n",
       "    }\n",
       "\n",
       "    .dataframe tbody tr th {\n",
       "        vertical-align: top;\n",
       "    }\n",
       "\n",
       "    .dataframe thead th {\n",
       "        text-align: right;\n",
       "    }\n",
       "</style>\n",
       "<table border=\"1\" class=\"dataframe\">\n",
       "  <thead>\n",
       "    <tr style=\"text-align: right;\">\n",
       "      <th></th>\n",
       "      <th>ukprn</th>\n",
       "      <th>he_provider</th>\n",
       "      <th>country_of_he_provider</th>\n",
       "      <th>region_of_he_provider</th>\n",
       "      <th>academic_year</th>\n",
       "      <th>source_of_public_funding</th>\n",
       "      <th>type_of_income</th>\n",
       "      <th>unit</th>\n",
       "      <th>value</th>\n",
       "    </tr>\n",
       "  </thead>\n",
       "  <tbody>\n",
       "    <tr>\n",
       "      <th>0</th>\n",
       "      <td>10007783</td>\n",
       "      <td>The University of Aberdeen</td>\n",
       "      <td>Scotland</td>\n",
       "      <td>Scotland</td>\n",
       "      <td>2015/16</td>\n",
       "      <td>All</td>\n",
       "      <td>Public funding</td>\n",
       "      <td>£000s</td>\n",
       "      <td>15719</td>\n",
       "    </tr>\n",
       "    <tr>\n",
       "      <th>1</th>\n",
       "      <td>10007783</td>\n",
       "      <td>The University of Aberdeen</td>\n",
       "      <td>Scotland</td>\n",
       "      <td>Scotland</td>\n",
       "      <td>2015/16</td>\n",
       "      <td>All</td>\n",
       "      <td>Collaborative contribution - Cash</td>\n",
       "      <td>£000s</td>\n",
       "      <td>1115</td>\n",
       "    </tr>\n",
       "    <tr>\n",
       "      <th>2</th>\n",
       "      <td>10007783</td>\n",
       "      <td>The University of Aberdeen</td>\n",
       "      <td>Scotland</td>\n",
       "      <td>Scotland</td>\n",
       "      <td>2015/16</td>\n",
       "      <td>All</td>\n",
       "      <td>Collaborative contribution - In kind</td>\n",
       "      <td>£000s</td>\n",
       "      <td>1321</td>\n",
       "    </tr>\n",
       "    <tr>\n",
       "      <th>3</th>\n",
       "      <td>10007783</td>\n",
       "      <td>The University of Aberdeen</td>\n",
       "      <td>Scotland</td>\n",
       "      <td>Scotland</td>\n",
       "      <td>2015/16</td>\n",
       "      <td>All</td>\n",
       "      <td>Total</td>\n",
       "      <td>£000s</td>\n",
       "      <td>18155</td>\n",
       "    </tr>\n",
       "    <tr>\n",
       "      <th>4</th>\n",
       "      <td>10007783</td>\n",
       "      <td>The University of Aberdeen</td>\n",
       "      <td>Scotland</td>\n",
       "      <td>Scotland</td>\n",
       "      <td>2015/16</td>\n",
       "      <td>All</td>\n",
       "      <td>Previous year's total</td>\n",
       "      <td>£000s</td>\n",
       "      <td>21591</td>\n",
       "    </tr>\n",
       "  </tbody>\n",
       "</table>\n",
       "</div>"
      ],
      "text/plain": [
       "      ukprn                 he_provider country_of_he_provider  \\\n",
       "0  10007783  The University of Aberdeen               Scotland   \n",
       "1  10007783  The University of Aberdeen               Scotland   \n",
       "2  10007783  The University of Aberdeen               Scotland   \n",
       "3  10007783  The University of Aberdeen               Scotland   \n",
       "4  10007783  The University of Aberdeen               Scotland   \n",
       "\n",
       "  region_of_he_provider academic_year source_of_public_funding  \\\n",
       "0              Scotland       2015/16                      All   \n",
       "1              Scotland       2015/16                      All   \n",
       "2              Scotland       2015/16                      All   \n",
       "3              Scotland       2015/16                      All   \n",
       "4              Scotland       2015/16                      All   \n",
       "\n",
       "                         type_of_income   unit  value  \n",
       "0                        Public funding  £000s  15719  \n",
       "1     Collaborative contribution - Cash  £000s   1115  \n",
       "2  Collaborative contribution - In kind  £000s   1321  \n",
       "3                                 Total  £000s  18155  \n",
       "4                 Previous year's total  £000s  21591  "
      ]
     },
     "execution_count": 42,
     "metadata": {},
     "output_type": "execute_result"
    }
   ],
   "source": [
    "collab.head()"
   ]
  },
  {
   "cell_type": "markdown",
   "metadata": {},
   "source": [
    "## 2. Create indicators"
   ]
  },
  {
   "cell_type": "code",
   "execution_count": 43,
   "metadata": {},
   "outputs": [],
   "source": [
    "def calculate_perf(table,perf,norm=False,sp_def='all',value='currency'):\n",
    "    '''\n",
    "    Function that calculates performance (employment, turnover, investment, active firms...) \n",
    "    \n",
    "    Args:\n",
    "        table (df) long table with the performance and spinoff category information\n",
    "        perf (str) measure of performance\n",
    "        sp_def (str) definition of spinoff\n",
    "        norm (str) if we want to normalise by the number of entities in the category\n",
    "        value (str) if currency multiply by 1000 to extract gpbs\n",
    "    \n",
    "    Returns a clean indicator\n",
    "    \n",
    "    '''\n",
    "    \n",
    "    t = table.copy()\n",
    "    \n",
    "    #First get the financials\n",
    "    #Create a dict to filter the data\n",
    "    p_filter = {'metric':perf}\n",
    "    \n",
    "    #Extract the estimates\n",
    "    t_filt= multiple_nuts_estimates(filter_data(t,p_filter),uni_nuts,set(spin['category_marker']),'category_marker','value')\n",
    "    \n",
    "    #Are we subsetting by a category?\n",
    "    if sp_def == 'all':\n",
    "        t_filt = t_filt.sum(axis=1)\n",
    "    \n",
    "    else:\n",
    "        t_filt = t_filt[sp_def]\n",
    "    \n",
    "    #Tidy columns\n",
    "    t_filt.name = sp_def\n",
    "\n",
    "    #Scale if the value is a currency\n",
    "    if value=='currency':\n",
    "        t_filt = t_filt*1000\n",
    "        t_filt.name = 'gbp_'+t_filt.name\n",
    "    \n",
    "    #Do the same with the totals\n",
    "    \n",
    "    if norm == True:\n",
    "        \n",
    "        unit_filter = {'metric':'Number of active firms'}\n",
    "        \n",
    "        u_filt= multiple_nuts_estimates(filter_data(t,unit_filter),uni_nuts,set(spin['category_marker']),'category_marker','value')\n",
    "        \n",
    "        #Are we subsetting by a category?\n",
    "        if sp_def == 'all':\n",
    "            u_filt = u_filt.sum(axis=1)\n",
    "\n",
    "        else:\n",
    "            u_filt = u_filt[sp_def]\n",
    "\n",
    "        #Tidy columns\n",
    "        u_filt.name = 'all_comps'\n",
    "        \n",
    "        comb = pd.concat([t_filt,u_filt],axis=1)\n",
    "        \n",
    "        comb[f'{t_filt.name}_by_company']= comb[t_filt.name]/comb['all_comps']\n",
    "        \n",
    "        #Zeroes are nans (this is to avoid division by zero)\n",
    "        comb.fillna(0,inplace=True)\n",
    "        \n",
    "        return(comb)\n",
    "    \n",
    "    else:\n",
    "        return(t_filt)\n",
    "        \n",
    "        \n",
    "    "
   ]
  },
  {
   "cell_type": "code",
   "execution_count": 44,
   "metadata": {},
   "outputs": [],
   "source": [
    "from beis_indicators.utils.nuts_utils import auto_nuts2_uk"
   ]
  },
  {
   "cell_type": "markdown",
   "metadata": {},
   "source": [
    "### a. spinout related\n",
    "\n",
    "Here we will focus on the number of spinouts in different categories and the levels of external investment that they have received.\n",
    "\n",
    "This includes issues `77`, `78`, `79`."
   ]
  },
  {
   "cell_type": "code",
   "execution_count": 45,
   "metadata": {},
   "outputs": [],
   "source": [
    "interesting_columns_spin = ['country_of_he_provider','region_of_he_provider','academic_year','metric','category_marker']\n",
    "\n",
    "#check_categories(spin,interesting_columns_spin)"
   ]
  },
  {
   "cell_type": "code",
   "execution_count": 46,
   "metadata": {},
   "outputs": [
    {
     "data": {
      "text/plain": [
       "Estimated external investment received (£ thousands)                  3265\n",
       "Number still active which have survived at least 3 years              3265\n",
       "Estimated current turnover of all active firms (£ thousands)          3265\n",
       "Number of active firms                                                3265\n",
       "Number (of newly registered companies within the reporting period)    3265\n",
       "Estimated current employment of all active firms (FTE)                3265\n",
       "Name: metric, dtype: int64"
      ]
     },
     "execution_count": 46,
     "metadata": {},
     "output_type": "execute_result"
    }
   ],
   "source": [
    "spin['metric'].value_counts()"
   ]
  },
  {
   "cell_type": "code",
   "execution_count": 47,
   "metadata": {},
   "outputs": [
    {
     "data": {
      "text/plain": [
       "Formal spin-offs, not HEP owned      3918\n",
       "Graduate start-ups                   3918\n",
       "Spin-offs with some HEP ownership    3918\n",
       "Social enterprises                   3918\n",
       "Staff start-ups                      3918\n",
       "Name: category_marker, dtype: int64"
      ]
     },
     "execution_count": 47,
     "metadata": {},
     "output_type": "execute_result"
    }
   ],
   "source": [
    "spin['category_marker'].value_counts()"
   ]
  },
  {
   "cell_type": "markdown",
   "metadata": {},
   "source": [
    "#### Graduate startup rate (item 77)"
   ]
  },
  {
   "cell_type": "code",
   "execution_count": 77,
   "metadata": {},
   "outputs": [],
   "source": [
    "startup_rate = calculate_perf(spin,'Number of active firms',sp_def='Graduate start-ups',value='count')"
   ]
  },
  {
   "cell_type": "code",
   "execution_count": 78,
   "metadata": {},
   "outputs": [
    {
     "name": "stdout",
     "output_type": "stream",
     "text": [
      "   year nuts_id  nuts_year_spec  total_active_graduate_startups\n",
      "0  2014    UKH2            2018                             613\n",
      "1  2015    UKH2            2018                             604\n",
      "2  2016    UKH2            2018                             598\n",
      "3  2017    UKH2            2018                             637\n",
      "4  2014    UKJ1            2018                             128\n"
     ]
    }
   ],
   "source": [
    "make_indicator(convert_academic_year(startup_rate),'hebci',{'Graduate start-ups':'total_active_graduate_startups'},\n",
    "               year_var='academic_year',decimals=0)"
   ]
  },
  {
   "cell_type": "markdown",
   "metadata": {},
   "source": [
    "#### Turnover per spinout (item 78)"
   ]
  },
  {
   "cell_type": "code",
   "execution_count": 79,
   "metadata": {},
   "outputs": [
    {
     "name": "stdout",
     "output_type": "stream",
     "text": [
      "   year nuts_id  nuts_year_spec  gbp_turnover_per_active_spinoff\n",
      "0  2014    UKH2            2018                            38756\n",
      "1  2015    UKH2            2018                            34000\n",
      "2  2016    UKH2            2018                            35453\n",
      "3  2017    UKH2            2018                            34855\n",
      "4  2014    UKJ1            2018                           403991\n"
     ]
    }
   ],
   "source": [
    "turn_per_startup = calculate_perf(spin,'Estimated current turnover of all active firms (£ thousands)',norm=True,\n",
    "                                  sp_def='all',value='currency')\n",
    "\n",
    "make_indicator(convert_academic_year(turn_per_startup),'hebci',{'gbp_all_by_company':'gbp_turnover_per_active_spinoff'},year_var='academic_year',decimals=0)"
   ]
  },
  {
   "cell_type": "markdown",
   "metadata": {},
   "source": [
    "#### Average external investment per 'formal' (?) spinout (item 79)\n",
    "\n",
    "This is the same as above but with investment instead of turnover. We will focus on all companies because we have found some mistakes in the data - for example, Cranfield university has recorded £500K of investment recorded vs formal spinoffs, but no active companies."
   ]
  },
  {
   "cell_type": "code",
   "execution_count": 80,
   "metadata": {},
   "outputs": [],
   "source": [
    "# test_2 = spin.loc[\n",
    "#     (spin['category_marker']=='Formal spin-offs, not HEP owned')&(spin['academic_year']=='2014/15')].groupby(\n",
    "#     ['he_provider','metric'])['value'].sum().reset_index(drop=False).pivot(index='he_provider',columns='metric',values='value')\n",
    "\n",
    "# test_3 = test_2.loc[test_2['Number of active firms']==0]\n",
    "\n",
    "# test_3.sort_values('Estimated external investment received (£ thousands)')\n",
    "\n",
    "# #test_3.loc[test_3['Estimated current turnover of all active firms (£ thousands)']>0]"
   ]
  },
  {
   "cell_type": "code",
   "execution_count": 81,
   "metadata": {},
   "outputs": [
    {
     "name": "stdout",
     "output_type": "stream",
     "text": [
      "   year nuts_id  nuts_year_spec  gbp_investment_per_active_spinoff\n",
      "0  2014    UKH2            2018                           2585.139\n",
      "1  2015    UKH2            2018                           3301.917\n",
      "2  2016    UKH2            2018                           2750.000\n",
      "3  2017    UKH2            2018                           2927.602\n",
      "4  2014    UKJ1            2018                         417995.868\n"
     ]
    }
   ],
   "source": [
    "inv_per_formal = calculate_perf(spin,'Estimated external investment received (£ thousands)',norm=True,\n",
    "                                  sp_def='all',value='currency')\n",
    "\n",
    "make_indicator(convert_academic_year(inv_per_formal),'hebci',{'gbp_all_by_company':'gbp_investment_per_active_spinoff'},year_var='academic_year',decimals=3)"
   ]
  },
  {
   "cell_type": "markdown",
   "metadata": {},
   "source": [
    "### b. Licensing income related\n",
    "\n",
    "We will extract total IP"
   ]
  },
  {
   "cell_type": "code",
   "execution_count": 82,
   "metadata": {},
   "outputs": [],
   "source": [
    "interesting_columns_income = ['country_of_he_provider','region_of_he_provider','academic_year','category_marker','unit']\n",
    "\n",
    "#check_categories(income,interesting_columns_income)"
   ]
  },
  {
   "cell_type": "code",
   "execution_count": 83,
   "metadata": {},
   "outputs": [
    {
     "data": {
      "text/html": [
       "<div>\n",
       "<style scoped>\n",
       "    .dataframe tbody tr th:only-of-type {\n",
       "        vertical-align: middle;\n",
       "    }\n",
       "\n",
       "    .dataframe tbody tr th {\n",
       "        vertical-align: top;\n",
       "    }\n",
       "\n",
       "    .dataframe thead th {\n",
       "        text-align: right;\n",
       "    }\n",
       "</style>\n",
       "<table border=\"1\" class=\"dataframe\">\n",
       "  <thead>\n",
       "    <tr style=\"text-align: right;\">\n",
       "      <th></th>\n",
       "      <th>ukprn</th>\n",
       "      <th>he_provider</th>\n",
       "      <th>country_of_he_provider</th>\n",
       "      <th>region_of_he_provider</th>\n",
       "      <th>academic_year</th>\n",
       "      <th>category_marker</th>\n",
       "      <th>unit</th>\n",
       "      <th>value</th>\n",
       "    </tr>\n",
       "  </thead>\n",
       "  <tbody>\n",
       "    <tr>\n",
       "      <th>0</th>\n",
       "      <td>10007783</td>\n",
       "      <td>The University of Aberdeen</td>\n",
       "      <td>Scotland</td>\n",
       "      <td>Scotland</td>\n",
       "      <td>2014/15</td>\n",
       "      <td>Subtotal IP income</td>\n",
       "      <td>£000s</td>\n",
       "      <td>1045</td>\n",
       "    </tr>\n",
       "    <tr>\n",
       "      <th>1</th>\n",
       "      <td>10007783</td>\n",
       "      <td>The University of Aberdeen</td>\n",
       "      <td>Scotland</td>\n",
       "      <td>Scotland</td>\n",
       "      <td>2014/15</td>\n",
       "      <td>Subtotal overseas</td>\n",
       "      <td>£000s</td>\n",
       "      <td>0</td>\n",
       "    </tr>\n",
       "    <tr>\n",
       "      <th>2</th>\n",
       "      <td>10007783</td>\n",
       "      <td>The University of Aberdeen</td>\n",
       "      <td>Scotland</td>\n",
       "      <td>Scotland</td>\n",
       "      <td>2014/15</td>\n",
       "      <td>Sale of shares in spin-offs</td>\n",
       "      <td>£000s</td>\n",
       "      <td>3010</td>\n",
       "    </tr>\n",
       "    <tr>\n",
       "      <th>3</th>\n",
       "      <td>10007783</td>\n",
       "      <td>The University of Aberdeen</td>\n",
       "      <td>Scotland</td>\n",
       "      <td>Scotland</td>\n",
       "      <td>2014/15</td>\n",
       "      <td>Total IP revenues</td>\n",
       "      <td>£000s</td>\n",
       "      <td>4055</td>\n",
       "    </tr>\n",
       "    <tr>\n",
       "      <th>4</th>\n",
       "      <td>10007783</td>\n",
       "      <td>The University of Aberdeen</td>\n",
       "      <td>Scotland</td>\n",
       "      <td>Scotland</td>\n",
       "      <td>2014/15</td>\n",
       "      <td>Total costs</td>\n",
       "      <td>£000s</td>\n",
       "      <td>320</td>\n",
       "    </tr>\n",
       "  </tbody>\n",
       "</table>\n",
       "</div>"
      ],
      "text/plain": [
       "      ukprn                 he_provider country_of_he_provider  \\\n",
       "0  10007783  The University of Aberdeen               Scotland   \n",
       "1  10007783  The University of Aberdeen               Scotland   \n",
       "2  10007783  The University of Aberdeen               Scotland   \n",
       "3  10007783  The University of Aberdeen               Scotland   \n",
       "4  10007783  The University of Aberdeen               Scotland   \n",
       "\n",
       "  region_of_he_provider academic_year              category_marker   unit  \\\n",
       "0              Scotland       2014/15           Subtotal IP income  £000s   \n",
       "1              Scotland       2014/15            Subtotal overseas  £000s   \n",
       "2              Scotland       2014/15  Sale of shares in spin-offs  £000s   \n",
       "3              Scotland       2014/15            Total IP revenues  £000s   \n",
       "4              Scotland       2014/15                  Total costs  £000s   \n",
       "\n",
       "   value  \n",
       "0   1045  \n",
       "1      0  \n",
       "2   3010  \n",
       "3   4055  \n",
       "4    320  "
      ]
     },
     "execution_count": 83,
     "metadata": {},
     "output_type": "execute_result"
    }
   ],
   "source": [
    "ip.head()"
   ]
  },
  {
   "cell_type": "code",
   "execution_count": 84,
   "metadata": {},
   "outputs": [],
   "source": [
    "ip_filter = {'category_marker':'Total IP revenues'}"
   ]
  },
  {
   "cell_type": "code",
   "execution_count": 86,
   "metadata": {},
   "outputs": [],
   "source": [
    "#Note that we are multiplying by 1000 to convert into GBP\n",
    "income_nuts = 1000*make_nuts_estimate(filter_data(ip,ip_filter),uni_nuts,'value','total_ip_revenues',year_var='academic_year')"
   ]
  },
  {
   "cell_type": "code",
   "execution_count": 87,
   "metadata": {},
   "outputs": [
    {
     "name": "stdout",
     "output_type": "stream",
     "text": [
      "   year nuts_id  nuts_year_spec  gbp_ip_revenues\n",
      "0  2014    UKH2            2018           345000\n",
      "1  2015    UKH2            2018           512000\n",
      "2  2016    UKH2            2018           586000\n",
      "3  2017    UKH2            2018           613000\n",
      "4  2014    UKJ1            2018         21230000\n"
     ]
    }
   ],
   "source": [
    "make_indicator(convert_academic_year(income_nuts),'hebci',{'total_ip_revenues':'gbp_ip_revenues'},year_var='academic_year',decimals=0)"
   ]
  },
  {
   "cell_type": "markdown",
   "metadata": {},
   "source": [
    "Note that they want this normalised by research income. We have already produced that indicator before. We need to pull the HESA data in to produce it. We combine them below"
   ]
  },
  {
   "cell_type": "markdown",
   "metadata": {},
   "source": [
    "### services related"
   ]
  },
  {
   "cell_type": "code",
   "execution_count": 88,
   "metadata": {},
   "outputs": [
    {
     "data": {
      "text/html": [
       "<div>\n",
       "<style scoped>\n",
       "    .dataframe tbody tr th:only-of-type {\n",
       "        vertical-align: middle;\n",
       "    }\n",
       "\n",
       "    .dataframe tbody tr th {\n",
       "        vertical-align: top;\n",
       "    }\n",
       "\n",
       "    .dataframe thead th {\n",
       "        text-align: right;\n",
       "    }\n",
       "</style>\n",
       "<table border=\"1\" class=\"dataframe\">\n",
       "  <thead>\n",
       "    <tr style=\"text-align: right;\">\n",
       "      <th></th>\n",
       "      <th>ukprn</th>\n",
       "      <th>he_provider</th>\n",
       "      <th>country_of_he_provider</th>\n",
       "      <th>region_of_he_provider</th>\n",
       "      <th>academic_year</th>\n",
       "      <th>type_of_service</th>\n",
       "      <th>type_of_organisation</th>\n",
       "      <th>number/value_marker</th>\n",
       "      <th>unit</th>\n",
       "      <th>number/value</th>\n",
       "    </tr>\n",
       "  </thead>\n",
       "  <tbody>\n",
       "    <tr>\n",
       "      <th>0</th>\n",
       "      <td>10007783</td>\n",
       "      <td>The University of Aberdeen</td>\n",
       "      <td>Scotland</td>\n",
       "      <td>Scotland</td>\n",
       "      <td>2014/15</td>\n",
       "      <td>Consultancy</td>\n",
       "      <td>Non-commercial organisations</td>\n",
       "      <td>Number</td>\n",
       "      <td>NaN</td>\n",
       "      <td>34</td>\n",
       "    </tr>\n",
       "    <tr>\n",
       "      <th>1</th>\n",
       "      <td>10007783</td>\n",
       "      <td>The University of Aberdeen</td>\n",
       "      <td>Scotland</td>\n",
       "      <td>Scotland</td>\n",
       "      <td>2014/15</td>\n",
       "      <td>Contract research</td>\n",
       "      <td>Non-commercial organisations</td>\n",
       "      <td>Number</td>\n",
       "      <td>NaN</td>\n",
       "      <td>64</td>\n",
       "    </tr>\n",
       "    <tr>\n",
       "      <th>2</th>\n",
       "      <td>10007783</td>\n",
       "      <td>The University of Aberdeen</td>\n",
       "      <td>Scotland</td>\n",
       "      <td>Scotland</td>\n",
       "      <td>2014/15</td>\n",
       "      <td>Facilities and equipment related</td>\n",
       "      <td>Non-commercial organisations</td>\n",
       "      <td>Number</td>\n",
       "      <td>NaN</td>\n",
       "      <td>27</td>\n",
       "    </tr>\n",
       "    <tr>\n",
       "      <th>3</th>\n",
       "      <td>10007783</td>\n",
       "      <td>The University of Aberdeen</td>\n",
       "      <td>Scotland</td>\n",
       "      <td>Scotland</td>\n",
       "      <td>2014/15</td>\n",
       "      <td>Consultancy</td>\n",
       "      <td>Non-commercial organisations</td>\n",
       "      <td>Value</td>\n",
       "      <td>£000s</td>\n",
       "      <td>106</td>\n",
       "    </tr>\n",
       "    <tr>\n",
       "      <th>4</th>\n",
       "      <td>10007783</td>\n",
       "      <td>The University of Aberdeen</td>\n",
       "      <td>Scotland</td>\n",
       "      <td>Scotland</td>\n",
       "      <td>2014/15</td>\n",
       "      <td>Contract research</td>\n",
       "      <td>Non-commercial organisations</td>\n",
       "      <td>Value</td>\n",
       "      <td>£000s</td>\n",
       "      <td>2928</td>\n",
       "    </tr>\n",
       "  </tbody>\n",
       "</table>\n",
       "</div>"
      ],
      "text/plain": [
       "      ukprn                 he_provider country_of_he_provider  \\\n",
       "0  10007783  The University of Aberdeen               Scotland   \n",
       "1  10007783  The University of Aberdeen               Scotland   \n",
       "2  10007783  The University of Aberdeen               Scotland   \n",
       "3  10007783  The University of Aberdeen               Scotland   \n",
       "4  10007783  The University of Aberdeen               Scotland   \n",
       "\n",
       "  region_of_he_provider academic_year                   type_of_service  \\\n",
       "0              Scotland       2014/15                       Consultancy   \n",
       "1              Scotland       2014/15                 Contract research   \n",
       "2              Scotland       2014/15  Facilities and equipment related   \n",
       "3              Scotland       2014/15                       Consultancy   \n",
       "4              Scotland       2014/15                 Contract research   \n",
       "\n",
       "           type_of_organisation number/value_marker   unit  number/value  \n",
       "0  Non-commercial organisations              Number    NaN            34  \n",
       "1  Non-commercial organisations              Number    NaN            64  \n",
       "2  Non-commercial organisations              Number    NaN            27  \n",
       "3  Non-commercial organisations               Value  £000s           106  \n",
       "4  Non-commercial organisations               Value  £000s          2928  "
      ]
     },
     "execution_count": 88,
     "metadata": {},
     "output_type": "execute_result"
    }
   ],
   "source": [
    "services.head()"
   ]
  },
  {
   "cell_type": "code",
   "execution_count": 89,
   "metadata": {},
   "outputs": [],
   "source": [
    "# interesting_columns = ['type_of_service','type_of_organisation','number/value_marker']\n",
    "\n",
    "# check_categories(services,interesting_columns)"
   ]
  },
  {
   "cell_type": "code",
   "execution_count": 90,
   "metadata": {},
   "outputs": [
    {
     "data": {
      "text/html": [
       "<div>\n",
       "<style scoped>\n",
       "    .dataframe tbody tr th:only-of-type {\n",
       "        vertical-align: middle;\n",
       "    }\n",
       "\n",
       "    .dataframe tbody tr th {\n",
       "        vertical-align: top;\n",
       "    }\n",
       "\n",
       "    .dataframe thead th {\n",
       "        text-align: right;\n",
       "    }\n",
       "</style>\n",
       "<table border=\"1\" class=\"dataframe\">\n",
       "  <thead>\n",
       "    <tr style=\"text-align: right;\">\n",
       "      <th></th>\n",
       "      <th></th>\n",
       "      <th></th>\n",
       "      <th>other_(non-sme)_commercial_businesses</th>\n",
       "      <th>non-commercial_organisations</th>\n",
       "      <th>total</th>\n",
       "      <th>sme's</th>\n",
       "    </tr>\n",
       "    <tr>\n",
       "      <th>nuts_name</th>\n",
       "      <th>nuts_code</th>\n",
       "      <th>academic_year</th>\n",
       "      <th></th>\n",
       "      <th></th>\n",
       "      <th></th>\n",
       "      <th></th>\n",
       "    </tr>\n",
       "  </thead>\n",
       "  <tbody>\n",
       "    <tr>\n",
       "      <th rowspan=\"4\" valign=\"top\">Bedfordshire and Hertfordshire</th>\n",
       "      <th rowspan=\"4\" valign=\"top\">UKH2</th>\n",
       "      <th>2014/15</th>\n",
       "      <td>2949000.0</td>\n",
       "      <td>4274000.0</td>\n",
       "      <td>9705000.0</td>\n",
       "      <td>2482000.0</td>\n",
       "    </tr>\n",
       "    <tr>\n",
       "      <th>2015/16</th>\n",
       "      <td>2691000.0</td>\n",
       "      <td>4248000.0</td>\n",
       "      <td>8565000.0</td>\n",
       "      <td>1626000.0</td>\n",
       "    </tr>\n",
       "    <tr>\n",
       "      <th>2016/17</th>\n",
       "      <td>3259000.0</td>\n",
       "      <td>2630000.0</td>\n",
       "      <td>7203000.0</td>\n",
       "      <td>1314000.0</td>\n",
       "    </tr>\n",
       "    <tr>\n",
       "      <th>2017/18</th>\n",
       "      <td>3554000.0</td>\n",
       "      <td>2265000.0</td>\n",
       "      <td>7462000.0</td>\n",
       "      <td>1643000.0</td>\n",
       "    </tr>\n",
       "    <tr>\n",
       "      <th>Berkshire, Buckinghamshire and Oxfordshire</th>\n",
       "      <th>UKJ1</th>\n",
       "      <th>2014/15</th>\n",
       "      <td>2469000.0</td>\n",
       "      <td>6794000.0</td>\n",
       "      <td>10507000.0</td>\n",
       "      <td>1244000.0</td>\n",
       "    </tr>\n",
       "  </tbody>\n",
       "</table>\n",
       "</div>"
      ],
      "text/plain": [
       "                                                                    other_(non-sme)_commercial_businesses  \\\n",
       "nuts_name                                  nuts_code academic_year                                          \n",
       "Bedfordshire and Hertfordshire             UKH2      2014/15                                    2949000.0   \n",
       "                                                     2015/16                                    2691000.0   \n",
       "                                                     2016/17                                    3259000.0   \n",
       "                                                     2017/18                                    3554000.0   \n",
       "Berkshire, Buckinghamshire and Oxfordshire UKJ1      2014/15                                    2469000.0   \n",
       "\n",
       "                                                                    non-commercial_organisations  \\\n",
       "nuts_name                                  nuts_code academic_year                                 \n",
       "Bedfordshire and Hertfordshire             UKH2      2014/15                           4274000.0   \n",
       "                                                     2015/16                           4248000.0   \n",
       "                                                     2016/17                           2630000.0   \n",
       "                                                     2017/18                           2265000.0   \n",
       "Berkshire, Buckinghamshire and Oxfordshire UKJ1      2014/15                           6794000.0   \n",
       "\n",
       "                                                                         total  \\\n",
       "nuts_name                                  nuts_code academic_year               \n",
       "Bedfordshire and Hertfordshire             UKH2      2014/15         9705000.0   \n",
       "                                                     2015/16         8565000.0   \n",
       "                                                     2016/17         7203000.0   \n",
       "                                                     2017/18         7462000.0   \n",
       "Berkshire, Buckinghamshire and Oxfordshire UKJ1      2014/15        10507000.0   \n",
       "\n",
       "                                                                        sme's  \n",
       "nuts_name                                  nuts_code academic_year             \n",
       "Bedfordshire and Hertfordshire             UKH2      2014/15        2482000.0  \n",
       "                                                     2015/16        1626000.0  \n",
       "                                                     2016/17        1314000.0  \n",
       "                                                     2017/18        1643000.0  \n",
       "Berkshire, Buckinghamshire and Oxfordshire UKJ1      2014/15        1244000.0  "
      ]
     },
     "execution_count": 90,
     "metadata": {},
     "output_type": "execute_result"
    }
   ],
   "source": [
    "services_filter = {'type_of_service':'Consultancy','number/value_marker':'Value'}\n",
    "\n",
    "#Note that, as before, I am multiplying by 1000 as I am dealing with businesses\n",
    "services_nuts = 1000*multiple_nuts_estimates(filter_data(\n",
    "    services,services_filter),uni_nuts,set(services['type_of_organisation']),'type_of_organisation','number/value','academic_year')\n",
    "\n",
    "services_nuts.columns = tidy_cols(services_nuts)\n",
    "\n",
    "services_nuts.head()"
   ]
  },
  {
   "cell_type": "markdown",
   "metadata": {},
   "source": [
    "#### consultancy with business (#82)"
   ]
  },
  {
   "cell_type": "code",
   "execution_count": 91,
   "metadata": {},
   "outputs": [
    {
     "name": "stdout",
     "output_type": "stream",
     "text": [
      "   year nuts_id  nuts_year_spec  gbp_business_consulting\n",
      "0  2014    UKH2            2018                 12654000\n",
      "1  2015    UKH2            2018                 11256000\n",
      "2  2016    UKH2            2018                 10462000\n",
      "3  2017    UKH2            2018                 11016000\n",
      "4  2014    UKJ1            2018                 12976000\n"
     ]
    }
   ],
   "source": [
    "services_nuts['business_consultancy'] = services_nuts.iloc[:,0]+services_nuts.iloc[:,2]\n",
    "\n",
    "make_indicator(convert_academic_year(services_nuts),'hebci',{'business_consultancy':'gbp_business_consulting'},year_var='academic_year',decimals=0)"
   ]
  },
  {
   "cell_type": "markdown",
   "metadata": {},
   "source": [
    "#### consultancy with public sector organisations (#85)"
   ]
  },
  {
   "cell_type": "code",
   "execution_count": 92,
   "metadata": {},
   "outputs": [
    {
     "name": "stdout",
     "output_type": "stream",
     "text": [
      "   year nuts_id  nuts_year_spec  gbp_non_business_consulting\n",
      "0  2014    UKH2            2018                      4274000\n",
      "1  2015    UKH2            2018                      4248000\n",
      "2  2016    UKH2            2018                      2630000\n",
      "3  2017    UKH2            2018                      2265000\n",
      "4  2014    UKJ1            2018                      6794000\n"
     ]
    }
   ],
   "source": [
    "make_indicator(convert_academic_year(services_nuts),'hebci',{'non-commercial_organisations':'gbp_non_business_consulting'},\n",
    "               year_var='academic_year',decimals=0)"
   ]
  },
  {
   "cell_type": "markdown",
   "metadata": {},
   "source": [
    "#### Contract research with business (#81)"
   ]
  },
  {
   "cell_type": "code",
   "execution_count": 93,
   "metadata": {},
   "outputs": [
    {
     "name": "stdout",
     "output_type": "stream",
     "text": [
      "   year nuts_id  nuts_year_spec  gbp_business_contract_research\n",
      "0  2014    UKH2            2018                        19836000\n",
      "1  2015    UKH2            2018                        16978000\n",
      "2  2016    UKH2            2018                        15759000\n",
      "3  2017    UKH2            2018                        15533000\n",
      "4  2014    UKJ1            2018                        66479000\n"
     ]
    }
   ],
   "source": [
    "contract_res_filter = {'type_of_service':'Contract research','number/value_marker':'Value'}\n",
    "\n",
    "#Note that, as before, I am multiplying by 1000 as I am dealing with businesses\n",
    "res_nuts = 1000*multiple_nuts_estimates(filter_data(\n",
    "    services,contract_res_filter),uni_nuts,set(services['type_of_organisation']),'type_of_organisation','number/value','academic_year')\n",
    "\n",
    "res_nuts.columns = tidy_cols(res_nuts)\n",
    "\n",
    "res_nuts.head()\n",
    "\n",
    "#Add SME and non-SME contract research\n",
    "res_nuts['business_contract_research'] = res_nuts.iloc[:,0]+services_nuts.iloc[:,2]\n",
    "\n",
    "make_indicator(convert_academic_year(res_nuts),'hebci',{'business_contract_research':'gbp_business_contract_research'},year_var='academic_year',decimals=0)\n"
   ]
  },
  {
   "cell_type": "markdown",
   "metadata": {},
   "source": [
    "## Coda: Apply autonuts to all indicators\n",
    "\n",
    "This is a bit clunky. It would be better to apply to the indicators as they are produced but this requires some fidgeting with the code. **TOFIX**"
   ]
  },
  {
   "cell_type": "code",
   "execution_count": 103,
   "metadata": {},
   "outputs": [],
   "source": [
    "def autonuts_folder(path):\n",
    "    '''\n",
    "    Applies autonuts to all the files in a folder\n",
    "    \n",
    "    '''\n",
    "    \n",
    "    csvs = [x for x in os.listdir(path) if '.csv' in x]\n",
    "    \n",
    "    for x in csvs:\n",
    "        \n",
    "        print(x)\n",
    "        \n",
    "        table = pd.read_csv(os.path.join(path,x))\n",
    "        \n",
    "        an = auto_nuts2_uk(table)\n",
    "        \n",
    "        an.to_csv(os.path.join(path,x),index=False)       "
   ]
  },
  {
   "cell_type": "code",
   "execution_count": 104,
   "metadata": {},
   "outputs": [
    {
     "name": "stdout",
     "output_type": "stream",
     "text": [
      "gbp_business_consulting.csv\n",
      "gbp_business_contract_research.csv\n",
      "gbp_investment_per_active_spinoff.csv\n",
      "gbp_ip_revenues.csv\n",
      "gbp_non_business_consulting.csv\n",
      "gbp_turnover_per_active_spinoff.csv\n",
      "total_active_graduate_startups.csv\n"
     ]
    }
   ],
   "source": [
    "autonuts_folder('../../data/processed/hebci/')"
   ]
  },
  {
   "cell_type": "code",
   "execution_count": null,
   "metadata": {},
   "outputs": [],
   "source": []
  }
 ],
 "metadata": {
  "kernelspec": {
   "display_name": "Python 3",
   "language": "python",
   "name": "python3"
  },
  "language_info": {
   "codemirror_mode": {
    "name": "ipython",
    "version": 3
   },
   "file_extension": ".py",
   "mimetype": "text/x-python",
   "name": "python",
   "nbconvert_exporter": "python",
   "pygments_lexer": "ipython3",
   "version": "3.7.3"
  }
 },
 "nbformat": 4,
 "nbformat_minor": 4
}
