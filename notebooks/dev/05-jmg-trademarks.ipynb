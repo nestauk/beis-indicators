{
 "cells": [
  {
   "cell_type": "markdown",
   "metadata": {},
   "source": [
    "# Trademarks\n",
    "\n",
    "Here we collect open trademark data from the Intellectual Property Office. \n",
    "\n",
    "The data is available here: https://www.gov.uk/government/publications/ipo-trade-mark-data-release\n",
    "\n",
    "We will undertake the following activities:\n",
    "\n",
    "* Collect all the data.\n",
    "* Enrich it with information about the product codes that the trademarks refer to\n",
    "* Enrich it with information about its NUTS location (we keep this flexible as we will using this code in multiple places)\n",
    "\n",
    "\n"
   ]
  },
  {
   "cell_type": "markdown",
   "metadata": {},
   "source": [
    "## Preamble"
   ]
  },
  {
   "cell_type": "code",
   "execution_count": 1,
   "metadata": {},
   "outputs": [],
   "source": [
    "%run ../notebook_preamble.ipy"
   ]
  },
  {
   "cell_type": "code",
   "execution_count": 2,
   "metadata": {},
   "outputs": [],
   "source": [
    "import re\n",
    "import random\n",
    "from zipfile import ZipFile\n",
    "from io import BytesIO\n",
    "import csv"
   ]
  },
  {
   "cell_type": "code",
   "execution_count": 4,
   "metadata": {},
   "outputs": [],
   "source": [
    "#dirs\n",
    "\n",
    "if 'trademarks' not in os.listdir('../../data/raw'):\n",
    "    os.makedirs('../../data/raw/trademarks')\n",
    "    \n",
    "if 'trademarks' not in os.listdir('../../data/interim'):\n",
    "    os.makedirs('../../data/interim/trademarks')\n",
    "\n",
    "if 'trademarks' not in os.listdir('../../data/processed/'):\n",
    "    os.makedirs('../../data/processed/trademarks')"
   ]
  },
  {
   "cell_type": "code",
   "execution_count": 5,
   "metadata": {},
   "outputs": [],
   "source": [
    "# %load ../utilities.py\n",
    "# Some utilities\n",
    "\n",
    "import random\n",
    "\n",
    "def make_data_dict(table,name,path,sample=5):\n",
    "    '''\n",
    "    A function to output the form for a data dictionary\n",
    "    \n",
    "    Args:\n",
    "        -table (df) is the df we want to create the data dictionary for\n",
    "        -name (str) of the df\n",
    "        -path (str) is the place where we want to save the file\n",
    "        \n",
    "\n",
    "    \n",
    "    '''\n",
    "    \n",
    "    types = [estimate_type(table[x],sample=sample) for x in table.columns]\n",
    "        \n",
    "    data_dict = pd.DataFrame()\n",
    "    data_dict['variable'] = table.columns\n",
    "        \n",
    "    data_dict['type'] = types\n",
    "    \n",
    "    data_dict['description'] = ['' for x in data_dict['variable']]\n",
    "        \n",
    "    out = os.path.join(path,f'{today_str}_{name}.csv')\n",
    "    \n",
    "    #print(data_dict.columns)\n",
    "    \n",
    "    data_dict.to_csv(out)\n",
    "    \n",
    "\n",
    "def estimate_type(variable,sample):\n",
    "    '''\n",
    "    Estimates the type of a column. \n",
    "\n",
    "    Args:\n",
    "        variable (iterable) with values\n",
    "        sample (n) is the number of values to test\n",
    "    \n",
    "    '''\n",
    "    \n",
    "    selection = random.sample(list(variable),sample)\n",
    "    \n",
    "    types = pd.Series([type(x) for x in selection]).value_counts().sort_values(ascending=False)\n",
    "    \n",
    "    return(types.index[0])"
   ]
  },
  {
   "cell_type": "code",
   "execution_count": 29,
   "metadata": {},
   "outputs": [],
   "source": [
    "\n",
    "def make_indicator(table,target_path,var_lookup,year_var,nuts_var='nuts_code',nuts_spec=2018,decimals=3):\n",
    "    '''\n",
    "    We use this function to create and save indicators using our standardised format.\n",
    "    \n",
    "    Args:\n",
    "        table (df) is a df with relevant information\n",
    "        target_path (str) is the location of the directory where we want to save the data (includes interim and processed)\n",
    "        var_lookup (dict) is a lookup to rename the variable into our standardised name\n",
    "        year (str) is the name of the year variable\n",
    "        nuts_var (str) is the name of the NUTS code variable. We assume it is nuts_code\n",
    "        nuts_spec (y) is the value of the NUTS specification. We assume we are working with 2018 NUTS\n",
    "    \n",
    "    '''\n",
    "    #Copy\n",
    "    t = table.reset_index(drop=False)\n",
    "    \n",
    "    #Reset index (we assume that the index is the nuts code, var name and year - this might need to be changed)\n",
    "    \n",
    "    \n",
    "    #Process the interim data into an indicator\n",
    "    \n",
    "    #This is the variable name and code\n",
    "    var_name = list(var_lookup.keys())[0]\n",
    "    \n",
    "    var_code = list(var_lookup.values())[0]\n",
    "    \n",
    "    #Focus on those\n",
    "    t = t[[year_var,nuts_var,var_name]]\n",
    "    \n",
    "    #Add the nuts specification\n",
    "    t['nuts_year_spec'] = nuts_spec\n",
    "    \n",
    "    #Rename variables\n",
    "    t.rename(columns={var_name:var_code,year_var:'year',nuts_var:'nuts_id'},inplace=True)\n",
    "\n",
    "    #Round variables\n",
    "    t[var_code] = [np.round(x,decimals) if decimals>0 else int(x) for x in t[var_code]]\n",
    "    \n",
    "    \n",
    "    #Reorder variables\n",
    "    t = t[['year','nuts_id','nuts_year_spec',var_code]]\n",
    "    \n",
    "    print(t.head())\n",
    "    \n",
    "    #Save in the processed folder\n",
    "    t.to_csv(f'../../data/processed/{target_path}/{var_code}.csv',index=False)"
   ]
  },
  {
   "cell_type": "markdown",
   "metadata": {},
   "source": [
    "## 1. Collect data\n",
    "\n",
    "We collect the data from the IPOs open data site. This is a zip file."
   ]
  },
  {
   "cell_type": "markdown",
   "metadata": {},
   "source": [
    "#### Collect trademark open dataset"
   ]
  },
  {
   "cell_type": "code",
   "execution_count": 6,
   "metadata": {},
   "outputs": [],
   "source": [
    "#Download and parse the data\n",
    "trademark_link = 'https://www.gov.uk/government/uploads/system/uploads/attachment_data/file/680986/opendatadomestic.zip'\n",
    "trade_request = requests.get(trademark_link)"
   ]
  },
  {
   "cell_type": "code",
   "execution_count": 7,
   "metadata": {},
   "outputs": [],
   "source": [
    "tradem = ZipFile(BytesIO(trade_request.content)).extract('OpenDataDomestic.txt',path=f'../../data/raw/trademarks/{today_str}_trademarks.txt')"
   ]
  },
  {
   "cell_type": "code",
   "execution_count": 8,
   "metadata": {},
   "outputs": [
    {
     "name": "stderr",
     "output_type": "stream",
     "text": [
      "/Users/jmateosgarcia/anaconda3/lib/python3.7/site-packages/IPython/core/interactiveshell.py:3058: DtypeWarning: Columns (15) have mixed types. Specify dtype option on import or set low_memory=False.\n",
      "  interactivity=interactivity, compiler=compiler, result=result)\n"
     ]
    }
   ],
   "source": [
    "#Note that here we are escaping a small number (~20) of badlines.\n",
    "#I couldn't quite determine what was the problem with them\n",
    "\n",
    "tradem_df = pd.read_csv('../../data/raw/trademarks/2020_02_14_trademarks.txt/OpenDataDomestic.txt',delimiter='|',\n",
    "                        encoding='utf-16',warn_bad_lines=False,error_bad_lines=False)"
   ]
  },
  {
   "cell_type": "code",
   "execution_count": 10,
   "metadata": {},
   "outputs": [
    {
     "data": {
      "text/html": [
       "<div>\n",
       "<style scoped>\n",
       "    .dataframe tbody tr th:only-of-type {\n",
       "        vertical-align: middle;\n",
       "    }\n",
       "\n",
       "    .dataframe tbody tr th {\n",
       "        vertical-align: top;\n",
       "    }\n",
       "\n",
       "    .dataframe thead th {\n",
       "        text-align: right;\n",
       "    }\n",
       "</style>\n",
       "<table border=\"1\" class=\"dataframe\">\n",
       "  <thead>\n",
       "    <tr style=\"text-align: right;\">\n",
       "      <th></th>\n",
       "      <th>Trade Mark</th>\n",
       "      <th>Hyperlink</th>\n",
       "      <th>Mark Text</th>\n",
       "      <th>Name</th>\n",
       "      <th>Postcode</th>\n",
       "      <th>Region</th>\n",
       "      <th>Country</th>\n",
       "      <th>Status</th>\n",
       "      <th>Category of Mark</th>\n",
       "      <th>Mark Type</th>\n",
       "      <th>...</th>\n",
       "      <th>Class36</th>\n",
       "      <th>Class37</th>\n",
       "      <th>Class38</th>\n",
       "      <th>Class39</th>\n",
       "      <th>Class40</th>\n",
       "      <th>Class41</th>\n",
       "      <th>Class42</th>\n",
       "      <th>Class43</th>\n",
       "      <th>Class44</th>\n",
       "      <th>Class45</th>\n",
       "    </tr>\n",
       "  </thead>\n",
       "  <tbody>\n",
       "    <tr>\n",
       "      <th>0</th>\n",
       "      <td>UK00000000001</td>\n",
       "      <td>=HYPERLINK(\"http://www.ipo.gov.uk/tmcase/Resul...</td>\n",
       "      <td>BASS &amp; Co's PALE ALE</td>\n",
       "      <td>Pioneer Brewing Company Limited</td>\n",
       "      <td>LU1</td>\n",
       "      <td>East of England</td>\n",
       "      <td>United Kingdom</td>\n",
       "      <td>Registered</td>\n",
       "      <td>Standard</td>\n",
       "      <td>Figurative</td>\n",
       "      <td>...</td>\n",
       "      <td>0.0</td>\n",
       "      <td>0.0</td>\n",
       "      <td>0.0</td>\n",
       "      <td>0.0</td>\n",
       "      <td>0.0</td>\n",
       "      <td>0.0</td>\n",
       "      <td>0.0</td>\n",
       "      <td>0.0</td>\n",
       "      <td>0.0</td>\n",
       "      <td>0.0</td>\n",
       "    </tr>\n",
       "    <tr>\n",
       "      <th>1</th>\n",
       "      <td>UK00000000002</td>\n",
       "      <td>=HYPERLINK(\"http://www.ipo.gov.uk/tmcase/Resul...</td>\n",
       "      <td>BASS &amp; Co's</td>\n",
       "      <td>Pioneer Brewing Company Limited</td>\n",
       "      <td>LU1</td>\n",
       "      <td>East of England</td>\n",
       "      <td>United Kingdom</td>\n",
       "      <td>Registered</td>\n",
       "      <td>Standard</td>\n",
       "      <td>Figurative</td>\n",
       "      <td>...</td>\n",
       "      <td>0.0</td>\n",
       "      <td>0.0</td>\n",
       "      <td>0.0</td>\n",
       "      <td>0.0</td>\n",
       "      <td>0.0</td>\n",
       "      <td>0.0</td>\n",
       "      <td>0.0</td>\n",
       "      <td>0.0</td>\n",
       "      <td>0.0</td>\n",
       "      <td>0.0</td>\n",
       "    </tr>\n",
       "    <tr>\n",
       "      <th>2</th>\n",
       "      <td>UK00000000039</td>\n",
       "      <td>=HYPERLINK(\"http://www.ipo.gov.uk/tmcase/Resul...</td>\n",
       "      <td>BBB</td>\n",
       "      <td>A. Oppenheimer &amp; Co., Limited</td>\n",
       "      <td>SS3</td>\n",
       "      <td>East of England</td>\n",
       "      <td>United Kingdom</td>\n",
       "      <td>Dead</td>\n",
       "      <td>Standard</td>\n",
       "      <td>Figurative</td>\n",
       "      <td>...</td>\n",
       "      <td>0.0</td>\n",
       "      <td>0.0</td>\n",
       "      <td>0.0</td>\n",
       "      <td>0.0</td>\n",
       "      <td>0.0</td>\n",
       "      <td>0.0</td>\n",
       "      <td>0.0</td>\n",
       "      <td>0.0</td>\n",
       "      <td>0.0</td>\n",
       "      <td>0.0</td>\n",
       "    </tr>\n",
       "    <tr>\n",
       "      <th>3</th>\n",
       "      <td>UK00000000041</td>\n",
       "      <td>=HYPERLINK(\"http://www.ipo.gov.uk/tmcase/Resul...</td>\n",
       "      <td>Bodega</td>\n",
       "      <td>Travelodge Hotels Limited</td>\n",
       "      <td>OX9</td>\n",
       "      <td>South East</td>\n",
       "      <td>United Kingdom</td>\n",
       "      <td>Dead</td>\n",
       "      <td>Standard</td>\n",
       "      <td>Word</td>\n",
       "      <td>...</td>\n",
       "      <td>0.0</td>\n",
       "      <td>0.0</td>\n",
       "      <td>0.0</td>\n",
       "      <td>0.0</td>\n",
       "      <td>0.0</td>\n",
       "      <td>0.0</td>\n",
       "      <td>0.0</td>\n",
       "      <td>0.0</td>\n",
       "      <td>0.0</td>\n",
       "      <td>0.0</td>\n",
       "    </tr>\n",
       "    <tr>\n",
       "      <th>4</th>\n",
       "      <td>UK00000000042</td>\n",
       "      <td>=HYPERLINK(\"http://www.ipo.gov.uk/tmcase/Resul...</td>\n",
       "      <td>BODEGA</td>\n",
       "      <td>Travelodge Hotels Limited</td>\n",
       "      <td>OX9</td>\n",
       "      <td>South East</td>\n",
       "      <td>United Kingdom</td>\n",
       "      <td>Dead</td>\n",
       "      <td>Standard</td>\n",
       "      <td>Figurative</td>\n",
       "      <td>...</td>\n",
       "      <td>0.0</td>\n",
       "      <td>0.0</td>\n",
       "      <td>0.0</td>\n",
       "      <td>0.0</td>\n",
       "      <td>0.0</td>\n",
       "      <td>0.0</td>\n",
       "      <td>0.0</td>\n",
       "      <td>0.0</td>\n",
       "      <td>0.0</td>\n",
       "      <td>0.0</td>\n",
       "    </tr>\n",
       "  </tbody>\n",
       "</table>\n",
       "<p>5 rows × 62 columns</p>\n",
       "</div>"
      ],
      "text/plain": [
       "         Trade Mark                                          Hyperlink  \\\n",
       "0  UK00000000001     =HYPERLINK(\"http://www.ipo.gov.uk/tmcase/Resul...   \n",
       "1  UK00000000002     =HYPERLINK(\"http://www.ipo.gov.uk/tmcase/Resul...   \n",
       "2  UK00000000039     =HYPERLINK(\"http://www.ipo.gov.uk/tmcase/Resul...   \n",
       "3  UK00000000041     =HYPERLINK(\"http://www.ipo.gov.uk/tmcase/Resul...   \n",
       "4  UK00000000042     =HYPERLINK(\"http://www.ipo.gov.uk/tmcase/Resul...   \n",
       "\n",
       "              Mark Text                             Name Postcode  \\\n",
       "0  BASS & Co's PALE ALE  Pioneer Brewing Company Limited     LU1    \n",
       "1           BASS & Co's  Pioneer Brewing Company Limited     LU1    \n",
       "2                   BBB    A. Oppenheimer & Co., Limited     SS3    \n",
       "3                Bodega        Travelodge Hotels Limited     OX9    \n",
       "4                BODEGA        Travelodge Hotels Limited     OX9    \n",
       "\n",
       "            Region         Country      Status Category of Mark   Mark Type  \\\n",
       "0  East of England  United Kingdom  Registered         Standard  Figurative   \n",
       "1  East of England  United Kingdom  Registered         Standard  Figurative   \n",
       "2  East of England  United Kingdom        Dead         Standard  Figurative   \n",
       "3       South East  United Kingdom        Dead         Standard        Word   \n",
       "4       South East  United Kingdom        Dead         Standard  Figurative   \n",
       "\n",
       "   ... Class36  Class37 Class38 Class39 Class40 Class41 Class42  Class43  \\\n",
       "0  ...     0.0      0.0     0.0     0.0     0.0     0.0     0.0      0.0   \n",
       "1  ...     0.0      0.0     0.0     0.0     0.0     0.0     0.0      0.0   \n",
       "2  ...     0.0      0.0     0.0     0.0     0.0     0.0     0.0      0.0   \n",
       "3  ...     0.0      0.0     0.0     0.0     0.0     0.0     0.0      0.0   \n",
       "4  ...     0.0      0.0     0.0     0.0     0.0     0.0     0.0      0.0   \n",
       "\n",
       "   Class44  Class45  \n",
       "0      0.0      0.0  \n",
       "1      0.0      0.0  \n",
       "2      0.0      0.0  \n",
       "3      0.0      0.0  \n",
       "4      0.0      0.0  \n",
       "\n",
       "[5 rows x 62 columns]"
      ]
     },
     "execution_count": 10,
     "metadata": {},
     "output_type": "execute_result"
    }
   ],
   "source": [
    "# This is what it looks like\n",
    "tradem_df.head()"
   ]
  },
  {
   "cell_type": "code",
   "execution_count": 11,
   "metadata": {},
   "outputs": [],
   "source": [
    "#Tidy the columns\n",
    "tradem_df.columns = [re.sub(' ','_',x).lower() for x in tradem_df.columns]\n",
    "\n",
    "#Convert year strings to years. Faster with string processing than with datetime\n",
    "tradem_df['year_published'] = [int(str(x).split('-')[0]) if not pd.isnull(x) else x for x in tradem_df.published]"
   ]
  },
  {
   "cell_type": "markdown",
   "metadata": {},
   "source": [
    "#### Product - category lookup\n",
    "\n",
    "We will use this lookup to identify patents with scientific Nice codes"
   ]
  },
  {
   "cell_type": "code",
   "execution_count": 12,
   "metadata": {},
   "outputs": [],
   "source": [
    "class_product_category_lookup = pd.read_csv('../../data/aux/12_11_2019_nice_class_to_category_lookup.csv')"
   ]
  },
  {
   "cell_type": "markdown",
   "metadata": {},
   "source": [
    "## 2. Geocoding the trademarks\n",
    "\n",
    "We are going to create a function that automatically geocodes the trademarks using a postcode-NUTS lookup. One challenge with this is that both postcodes and NUTS classifications change over time.\n",
    "\n"
   ]
  },
  {
   "cell_type": "code",
   "execution_count": 13,
   "metadata": {},
   "outputs": [],
   "source": [
    "#Clean postcodes\n",
    "tradem_df['postcode'] = [x.strip().lower() if (pd.isnull(x)==False) & (x!='Not Available') else np.nan for x in tradem_df.postcode]"
   ]
  },
  {
   "cell_type": "code",
   "execution_count": 14,
   "metadata": {},
   "outputs": [
    {
     "data": {
      "text/plain": [
       "811417"
      ]
     },
     "execution_count": 14,
     "metadata": {},
     "output_type": "execute_result"
    }
   ],
   "source": [
    "tradem_uk = tradem_df.loc[tradem_df['country']=='United Kingdom'].dropna(axis=0,subset=['postcode'])\n",
    "\n",
    "len(tradem_uk)"
   ]
  },
  {
   "cell_type": "markdown",
   "metadata": {},
   "source": [
    "These are the trademarks in the UK with postcodes. We can use them in subsequent analyses"
   ]
  },
  {
   "cell_type": "code",
   "execution_count": 15,
   "metadata": {},
   "outputs": [],
   "source": [
    "pc_url = 'https://www.arcgis.com/sharing/rest/content/items/19fac93960554b5e90840505bd73917f/data'"
   ]
  },
  {
   "cell_type": "code",
   "execution_count": 16,
   "metadata": {},
   "outputs": [],
   "source": [
    "def geo_trademark(tradem_df,geography,nspl_file,lookup_file,geo_code,path_to_nspl):\n",
    "    '''\n",
    "    \n",
    "    This function classifies trademars into locations using a postcode Lookup. As part of this we need to merge the merged file with a geo-code - geo-name\n",
    "    lookup to get the geography names.\n",
    "    \n",
    "    Arguments:\n",
    "        tradem_df (df) is the df with the trademark information. It needs to include a postode for matching\n",
    "        geography (str) is the geography we want to match\n",
    "        nspl_file (str) is the file with the nspl data\n",
    "        lookup_file (str) is the name of the file with a lookup between variable names and codes\n",
    "        geo_code (str) is the name of the variable name in the lookup\n",
    "        path_to_nspl (str) if a link, then we download the nspl file.\n",
    "    \n",
    "    '''\n",
    "    \n",
    "    #Read the NSPL files\n",
    "    \n",
    "    if 'https' in path_to_nspl:\n",
    "        \n",
    "        print('downloading nspl')\n",
    "        \n",
    "        #Download the file\n",
    "        nspl_request = requests.get(path_to_nspl)\n",
    "        \n",
    "        nspl_zipfile = ZipFile(BytesIO(nspl_request.content))\n",
    "        \n",
    "        #Read the nspl\n",
    "        nspl = pd.read_csv(nspl_zipfile.open(f'Data/{nspl_file}'))[['pcds',geography]]\n",
    "        \n",
    "        #Read the lookup\n",
    "        lookup = pd.read_csv(nspl_zipfile.open(f'Documents/{lookup_file}'))\n",
    "        \n",
    "    else:\n",
    "        print('reading nspl')\n",
    "        \n",
    "        nspl = pd.read_csv(path_to_nspl+f'/Data/{nspl_file}')[['pcds',geography]]\n",
    "        \n",
    "        lookup = pd.read_csv(path_to_nspl+f'/Documents/{lookup_file}')\n",
    "        \n",
    "       \n",
    "    print('processing data')\n",
    "    #Throw away unnecessary postcodes in the nspl file (we are only interested in the first digit. Also, make them lowercase\n",
    "    nspl['pcds_1st'] = nspl['pcds'].apply(lambda x: x.split(' ')[0].lower())\n",
    "    \n",
    "    \n",
    "    #Merge\n",
    "    tradem_merged = pd.merge(tradem_df,nspl.drop_duplicates('pcds_1st')[['pcds_1st',geography]],left_on='postcode',right_on='pcds_1st')\n",
    "    \n",
    "    \n",
    "    #Merge with the lookup names\n",
    "    #Remove Walsh column names from lookup\n",
    "    lookup = lookup[[x for x in lookup.columns if x[-1]!='W']]\n",
    "    \n",
    "    tradem_w_names = pd.merge(tradem_merged,lookup,left_on=geography,right_on=geo_code)\n",
    "    \n",
    "    #Remove the geography variable as it has unstandardised names\n",
    "    tradem_w_names.drop(axis=1,labels=geography,inplace=True)\n",
    "    \n",
    "    return(tradem_w_names)    "
   ]
  },
  {
   "cell_type": "code",
   "execution_count": 17,
   "metadata": {},
   "outputs": [
    {
     "name": "stdout",
     "output_type": "stream",
     "text": [
      "downloading nspl\n"
     ]
    },
    {
     "name": "stderr",
     "output_type": "stream",
     "text": [
      "/Users/jmateosgarcia/anaconda3/lib/python3.7/site-packages/IPython/core/interactiveshell.py:3249: DtypeWarning: Columns (31,36) have mixed types. Specify dtype option on import or set low_memory=False.\n",
      "  if (await self.run_code(code, result,  async_=asy)):\n"
     ]
    },
    {
     "name": "stdout",
     "output_type": "stream",
     "text": [
      "processing data\n"
     ]
    }
   ],
   "source": [
    "trademark_nuts = geo_trademark(tradem_df,geography='nuts',nspl_file='NSPL_AUG_2019_UK.csv',\n",
    "                            lookup_file='LAU219_LAU119_NUTS18_MAY_2019_UK_LU.csv',\n",
    "                            geo_code='LAU219CD',path_to_nspl = pc_url)"
   ]
  },
  {
   "cell_type": "code",
   "execution_count": 18,
   "metadata": {},
   "outputs": [
    {
     "data": {
      "text/html": [
       "<div>\n",
       "<style scoped>\n",
       "    .dataframe tbody tr th:only-of-type {\n",
       "        vertical-align: middle;\n",
       "    }\n",
       "\n",
       "    .dataframe tbody tr th {\n",
       "        vertical-align: top;\n",
       "    }\n",
       "\n",
       "    .dataframe thead th {\n",
       "        text-align: right;\n",
       "    }\n",
       "</style>\n",
       "<table border=\"1\" class=\"dataframe\">\n",
       "  <thead>\n",
       "    <tr style=\"text-align: right;\">\n",
       "      <th></th>\n",
       "      <th>trade_mark</th>\n",
       "      <th>hyperlink</th>\n",
       "      <th>mark_text</th>\n",
       "      <th>name</th>\n",
       "      <th>postcode</th>\n",
       "      <th>region</th>\n",
       "      <th>country</th>\n",
       "      <th>status</th>\n",
       "      <th>category_of_mark</th>\n",
       "      <th>mark_type</th>\n",
       "      <th>...</th>\n",
       "      <th>LAU219CD</th>\n",
       "      <th>LAU219NM</th>\n",
       "      <th>LAU119CD</th>\n",
       "      <th>LAU119NM</th>\n",
       "      <th>NUTS318CD</th>\n",
       "      <th>NUTS318NM</th>\n",
       "      <th>NUTS218CD</th>\n",
       "      <th>NUTS218NM</th>\n",
       "      <th>NUTS118CD</th>\n",
       "      <th>NUTS118NM</th>\n",
       "    </tr>\n",
       "  </thead>\n",
       "  <tbody>\n",
       "    <tr>\n",
       "      <th>0</th>\n",
       "      <td>UK00000000001</td>\n",
       "      <td>=HYPERLINK(\"http://www.ipo.gov.uk/tmcase/Resul...</td>\n",
       "      <td>BASS &amp; Co's PALE ALE</td>\n",
       "      <td>Pioneer Brewing Company Limited</td>\n",
       "      <td>lu1</td>\n",
       "      <td>East of England</td>\n",
       "      <td>United Kingdom</td>\n",
       "      <td>Registered</td>\n",
       "      <td>Standard</td>\n",
       "      <td>Figurative</td>\n",
       "      <td>...</td>\n",
       "      <td>E05002208</td>\n",
       "      <td>South</td>\n",
       "      <td>E06000032</td>\n",
       "      <td>Luton</td>\n",
       "      <td>UKH21</td>\n",
       "      <td>Luton</td>\n",
       "      <td>UKH2</td>\n",
       "      <td>Bedfordshire and Hertfordshire</td>\n",
       "      <td>UKH</td>\n",
       "      <td>East of England</td>\n",
       "    </tr>\n",
       "    <tr>\n",
       "      <th>1</th>\n",
       "      <td>UK00000000002</td>\n",
       "      <td>=HYPERLINK(\"http://www.ipo.gov.uk/tmcase/Resul...</td>\n",
       "      <td>BASS &amp; Co's</td>\n",
       "      <td>Pioneer Brewing Company Limited</td>\n",
       "      <td>lu1</td>\n",
       "      <td>East of England</td>\n",
       "      <td>United Kingdom</td>\n",
       "      <td>Registered</td>\n",
       "      <td>Standard</td>\n",
       "      <td>Figurative</td>\n",
       "      <td>...</td>\n",
       "      <td>E05002208</td>\n",
       "      <td>South</td>\n",
       "      <td>E06000032</td>\n",
       "      <td>Luton</td>\n",
       "      <td>UKH21</td>\n",
       "      <td>Luton</td>\n",
       "      <td>UKH2</td>\n",
       "      <td>Bedfordshire and Hertfordshire</td>\n",
       "      <td>UKH</td>\n",
       "      <td>East of England</td>\n",
       "    </tr>\n",
       "    <tr>\n",
       "      <th>2</th>\n",
       "      <td>UK00000000914</td>\n",
       "      <td>=HYPERLINK(\"http://www.ipo.gov.uk/tmcase/Resul...</td>\n",
       "      <td>NaN</td>\n",
       "      <td>Pioneer Brewing Company Limited</td>\n",
       "      <td>lu1</td>\n",
       "      <td>East of England</td>\n",
       "      <td>United Kingdom</td>\n",
       "      <td>Registered</td>\n",
       "      <td>Standard</td>\n",
       "      <td>Figurative</td>\n",
       "      <td>...</td>\n",
       "      <td>E05002208</td>\n",
       "      <td>South</td>\n",
       "      <td>E06000032</td>\n",
       "      <td>Luton</td>\n",
       "      <td>UKH21</td>\n",
       "      <td>Luton</td>\n",
       "      <td>UKH2</td>\n",
       "      <td>Bedfordshire and Hertfordshire</td>\n",
       "      <td>UKH</td>\n",
       "      <td>East of England</td>\n",
       "    </tr>\n",
       "    <tr>\n",
       "      <th>3</th>\n",
       "      <td>UK00000000915</td>\n",
       "      <td>=HYPERLINK(\"http://www.ipo.gov.uk/tmcase/Resul...</td>\n",
       "      <td>NaN</td>\n",
       "      <td>Pioneer Brewing Company Limited</td>\n",
       "      <td>lu1</td>\n",
       "      <td>East of England</td>\n",
       "      <td>United Kingdom</td>\n",
       "      <td>Registered</td>\n",
       "      <td>Standard</td>\n",
       "      <td>Figurative</td>\n",
       "      <td>...</td>\n",
       "      <td>E05002208</td>\n",
       "      <td>South</td>\n",
       "      <td>E06000032</td>\n",
       "      <td>Luton</td>\n",
       "      <td>UKH21</td>\n",
       "      <td>Luton</td>\n",
       "      <td>UKH2</td>\n",
       "      <td>Bedfordshire and Hertfordshire</td>\n",
       "      <td>UKH</td>\n",
       "      <td>East of England</td>\n",
       "    </tr>\n",
       "    <tr>\n",
       "      <th>4</th>\n",
       "      <td>UK00001387389</td>\n",
       "      <td>=HYPERLINK(\"http://www.ipo.gov.uk/tmcase/Resul...</td>\n",
       "      <td>VAUXHALL MASTERFIT</td>\n",
       "      <td>Vauxhall Motors Limited</td>\n",
       "      <td>lu1</td>\n",
       "      <td>East of England</td>\n",
       "      <td>United Kingdom</td>\n",
       "      <td>Registered</td>\n",
       "      <td>Standard</td>\n",
       "      <td>Word</td>\n",
       "      <td>...</td>\n",
       "      <td>E05002208</td>\n",
       "      <td>South</td>\n",
       "      <td>E06000032</td>\n",
       "      <td>Luton</td>\n",
       "      <td>UKH21</td>\n",
       "      <td>Luton</td>\n",
       "      <td>UKH2</td>\n",
       "      <td>Bedfordshire and Hertfordshire</td>\n",
       "      <td>UKH</td>\n",
       "      <td>East of England</td>\n",
       "    </tr>\n",
       "  </tbody>\n",
       "</table>\n",
       "<p>5 rows × 74 columns</p>\n",
       "</div>"
      ],
      "text/plain": [
       "         trade_mark                                          hyperlink  \\\n",
       "0  UK00000000001     =HYPERLINK(\"http://www.ipo.gov.uk/tmcase/Resul...   \n",
       "1  UK00000000002     =HYPERLINK(\"http://www.ipo.gov.uk/tmcase/Resul...   \n",
       "2  UK00000000914     =HYPERLINK(\"http://www.ipo.gov.uk/tmcase/Resul...   \n",
       "3  UK00000000915     =HYPERLINK(\"http://www.ipo.gov.uk/tmcase/Resul...   \n",
       "4  UK00001387389     =HYPERLINK(\"http://www.ipo.gov.uk/tmcase/Resul...   \n",
       "\n",
       "              mark_text                             name postcode  \\\n",
       "0  BASS & Co's PALE ALE  Pioneer Brewing Company Limited      lu1   \n",
       "1           BASS & Co's  Pioneer Brewing Company Limited      lu1   \n",
       "2                   NaN  Pioneer Brewing Company Limited      lu1   \n",
       "3                   NaN  Pioneer Brewing Company Limited      lu1   \n",
       "4    VAUXHALL MASTERFIT          Vauxhall Motors Limited      lu1   \n",
       "\n",
       "            region         country      status category_of_mark   mark_type  \\\n",
       "0  East of England  United Kingdom  Registered         Standard  Figurative   \n",
       "1  East of England  United Kingdom  Registered         Standard  Figurative   \n",
       "2  East of England  United Kingdom  Registered         Standard  Figurative   \n",
       "3  East of England  United Kingdom  Registered         Standard  Figurative   \n",
       "4  East of England  United Kingdom  Registered         Standard        Word   \n",
       "\n",
       "   ...   LAU219CD  LAU219NM   LAU119CD LAU119NM NUTS318CD NUTS318NM NUTS218CD  \\\n",
       "0  ...  E05002208     South  E06000032    Luton     UKH21     Luton      UKH2   \n",
       "1  ...  E05002208     South  E06000032    Luton     UKH21     Luton      UKH2   \n",
       "2  ...  E05002208     South  E06000032    Luton     UKH21     Luton      UKH2   \n",
       "3  ...  E05002208     South  E06000032    Luton     UKH21     Luton      UKH2   \n",
       "4  ...  E05002208     South  E06000032    Luton     UKH21     Luton      UKH2   \n",
       "\n",
       "                        NUTS218NM  NUTS118CD        NUTS118NM  \n",
       "0  Bedfordshire and Hertfordshire        UKH  East of England  \n",
       "1  Bedfordshire and Hertfordshire        UKH  East of England  \n",
       "2  Bedfordshire and Hertfordshire        UKH  East of England  \n",
       "3  Bedfordshire and Hertfordshire        UKH  East of England  \n",
       "4  Bedfordshire and Hertfordshire        UKH  East of England  \n",
       "\n",
       "[5 rows x 74 columns]"
      ]
     },
     "execution_count": 18,
     "metadata": {},
     "output_type": "execute_result"
    }
   ],
   "source": [
    "trademark_nuts.head()"
   ]
  },
  {
   "cell_type": "markdown",
   "metadata": {},
   "source": [
    "## 3. Processing\n",
    "\n",
    "We will create a df with registered trademark counts after 2010, and counts of trademarks in scientific and technnological nice codes. \n",
    "\n",
    "We identify what these are using the lookup we created in our project mapping innovation in Scotland, and which we loaded above."
   ]
  },
  {
   "cell_type": "code",
   "execution_count": 19,
   "metadata": {},
   "outputs": [],
   "source": [
    "#Filter to focus on recent & registered trademarks\n",
    "trademark_clean = trademark_nuts.loc[(trademark_nuts['status']=='Registered')&(trademark_nuts['year_published']>=2010)]"
   ]
  },
  {
   "cell_type": "code",
   "execution_count": 20,
   "metadata": {},
   "outputs": [
    {
     "data": {
      "text/html": [
       "<div>\n",
       "<style scoped>\n",
       "    .dataframe tbody tr th:only-of-type {\n",
       "        vertical-align: middle;\n",
       "    }\n",
       "\n",
       "    .dataframe tbody tr th {\n",
       "        vertical-align: top;\n",
       "    }\n",
       "\n",
       "    .dataframe thead th {\n",
       "        text-align: right;\n",
       "    }\n",
       "</style>\n",
       "<table border=\"1\" class=\"dataframe\">\n",
       "  <thead>\n",
       "    <tr style=\"text-align: right;\">\n",
       "      <th></th>\n",
       "      <th>Unnamed: 0</th>\n",
       "      <th>class</th>\n",
       "      <th>Description</th>\n",
       "      <th>category</th>\n",
       "    </tr>\n",
       "  </thead>\n",
       "  <tbody>\n",
       "    <tr>\n",
       "      <th>8</th>\n",
       "      <td>8</td>\n",
       "      <td>class9</td>\n",
       "      <td>Scientific, nautical, surveying, photographic,...</td>\n",
       "      <td>scientific</td>\n",
       "    </tr>\n",
       "    <tr>\n",
       "      <th>9</th>\n",
       "      <td>9</td>\n",
       "      <td>class10</td>\n",
       "      <td>Surgical, medical, dental and veterinary appar...</td>\n",
       "      <td>scientific</td>\n",
       "    </tr>\n",
       "    <tr>\n",
       "      <th>41</th>\n",
       "      <td>41</td>\n",
       "      <td>class42</td>\n",
       "      <td>Scientific and technological services and rese...</td>\n",
       "      <td>scientific</td>\n",
       "    </tr>\n",
       "  </tbody>\n",
       "</table>\n",
       "</div>"
      ],
      "text/plain": [
       "    Unnamed: 0    class                                        Description  \\\n",
       "8            8   class9  Scientific, nautical, surveying, photographic,...   \n",
       "9            9  class10  Surgical, medical, dental and veterinary appar...   \n",
       "41          41  class42  Scientific and technological services and rese...   \n",
       "\n",
       "      category  \n",
       "8   scientific  \n",
       "9   scientific  \n",
       "41  scientific  "
      ]
     },
     "execution_count": 20,
     "metadata": {},
     "output_type": "execute_result"
    }
   ],
   "source": [
    "#What are the scientic classes?\n",
    "class_product_category_lookup.loc[class_product_category_lookup['category']=='scientific']"
   ]
  },
  {
   "cell_type": "code",
   "execution_count": 21,
   "metadata": {},
   "outputs": [],
   "source": [
    "scientic_nice_classes = list(class_product_category_lookup.loc[class_product_category_lookup['category']=='scientific']['class'])"
   ]
  },
  {
   "cell_type": "code",
   "execution_count": 22,
   "metadata": {},
   "outputs": [
    {
     "name": "stderr",
     "output_type": "stream",
     "text": [
      "/Users/jmateosgarcia/anaconda3/lib/python3.7/site-packages/ipykernel_launcher.py:4: SettingWithCopyWarning: \n",
      "A value is trying to be set on a copy of a slice from a DataFrame.\n",
      "Try using .loc[row_indexer,col_indexer] = value instead\n",
      "\n",
      "See the caveats in the documentation: http://pandas.pydata.org/pandas-docs/stable/user_guide/indexing.html#returning-a-view-versus-a-copy\n",
      "  after removing the cwd from sys.path.\n"
     ]
    }
   ],
   "source": [
    "#Does a trademark have at least one scientific category?\n",
    "#trademark_clean['is_scientific'] = trademark_nuts[scientic_nice_classes].sum(axis=1)>0\n",
    "\n",
    "trademark_clean['is_scientific'] = trademark_nuts['class42']>0"
   ]
  },
  {
   "cell_type": "code",
   "execution_count": 23,
   "metadata": {},
   "outputs": [
    {
     "data": {
      "text/plain": [
       "34974"
      ]
     },
     "execution_count": 23,
     "metadata": {},
     "output_type": "execute_result"
    }
   ],
   "source": [
    "trademark_clean['is_scientific'].sum()"
   ]
  },
  {
   "cell_type": "markdown",
   "metadata": {},
   "source": [
   ]
  },
  {
   "cell_type": "code",
   "execution_count": 32,
   "metadata": {},
   "outputs": [],
   "source": [
    "trademark_grouped = pd.concat([trademark_clean.groupby(['NUTS218NM','NUTS218CD','year_published']).size(),\n",
    "                            trademark_clean.groupby(['NUTS218NM','NUTS218CD','year_published'])['is_scientific'].sum()],axis=1)"
   ]
  },
  {
   "cell_type": "code",
   "execution_count": 33,
   "metadata": {},
   "outputs": [],
   "source": [
    "trademark_grouped.rename(columns={0:'trademark_n','is_scientific':'scientific_trademark_n'},inplace=True)"
   ]
  },
  {
   "cell_type": "code",
   "execution_count": 34,
   "metadata": {},
   "outputs": [],
   "source": [
    "trademark_grouped['scientific_trademark_share'] = trademark_grouped['scientific_trademark_n']/trademark_grouped['trademark_n']"
   ]
  },
  {
   "cell_type": "code",
   "execution_count": 35,
   "metadata": {},
   "outputs": [
    {
     "data": {
      "text/html": [
       "<div>\n",
       "<style scoped>\n",
       "    .dataframe tbody tr th:only-of-type {\n",
       "        vertical-align: middle;\n",
       "    }\n",
       "\n",
       "    .dataframe tbody tr th {\n",
       "        vertical-align: top;\n",
       "    }\n",
       "\n",
       "    .dataframe thead th {\n",
       "        text-align: right;\n",
       "    }\n",
       "</style>\n",
       "<table border=\"1\" class=\"dataframe\">\n",
       "  <thead>\n",
       "    <tr style=\"text-align: right;\">\n",
       "      <th></th>\n",
       "      <th></th>\n",
       "      <th></th>\n",
       "      <th>trademark_n</th>\n",
       "      <th>scientific_trademark_n</th>\n",
       "      <th>scientific_trademark_share</th>\n",
       "    </tr>\n",
       "    <tr>\n",
       "      <th>NUTS218NM</th>\n",
       "      <th>NUTS218CD</th>\n",
       "      <th>year_published</th>\n",
       "      <th></th>\n",
       "      <th></th>\n",
       "      <th></th>\n",
       "    </tr>\n",
       "  </thead>\n",
       "  <tbody>\n",
       "    <tr>\n",
       "      <th rowspan=\"4\" valign=\"top\">North Eastern Scotland</th>\n",
       "      <th rowspan=\"4\" valign=\"top\">UKM5</th>\n",
       "      <th>2011.0</th>\n",
       "      <td>116</td>\n",
       "      <td>37.0</td>\n",
       "      <td>0.318966</td>\n",
       "    </tr>\n",
       "    <tr>\n",
       "      <th>2013.0</th>\n",
       "      <td>152</td>\n",
       "      <td>47.0</td>\n",
       "      <td>0.309211</td>\n",
       "    </tr>\n",
       "    <tr>\n",
       "      <th>2012.0</th>\n",
       "      <td>132</td>\n",
       "      <td>39.0</td>\n",
       "      <td>0.295455</td>\n",
       "    </tr>\n",
       "    <tr>\n",
       "      <th>2010.0</th>\n",
       "      <td>109</td>\n",
       "      <td>29.0</td>\n",
       "      <td>0.266055</td>\n",
       "    </tr>\n",
       "    <tr>\n",
       "      <th>Highlands and Islands</th>\n",
       "      <th>UKM6</th>\n",
       "      <th>2011.0</th>\n",
       "      <td>83</td>\n",
       "      <td>17.0</td>\n",
       "      <td>0.204819</td>\n",
       "    </tr>\n",
       "  </tbody>\n",
       "</table>\n",
       "</div>"
      ],
      "text/plain": [
       "                                                 trademark_n  \\\n",
       "NUTS218NM              NUTS218CD year_published                \n",
       "North Eastern Scotland UKM5      2011.0                  116   \n",
       "                                 2013.0                  152   \n",
       "                                 2012.0                  132   \n",
       "                                 2010.0                  109   \n",
       "Highlands and Islands  UKM6      2011.0                   83   \n",
       "\n",
       "                                                 scientific_trademark_n  \\\n",
       "NUTS218NM              NUTS218CD year_published                           \n",
       "North Eastern Scotland UKM5      2011.0                            37.0   \n",
       "                                 2013.0                            47.0   \n",
       "                                 2012.0                            39.0   \n",
       "                                 2010.0                            29.0   \n",
       "Highlands and Islands  UKM6      2011.0                            17.0   \n",
       "\n",
       "                                                 scientific_trademark_share  \n",
       "NUTS218NM              NUTS218CD year_published                              \n",
       "North Eastern Scotland UKM5      2011.0                            0.318966  \n",
       "                                 2013.0                            0.309211  \n",
       "                                 2012.0                            0.295455  \n",
       "                                 2010.0                            0.266055  \n",
       "Highlands and Islands  UKM6      2011.0                            0.204819  "
      ]
     },
     "execution_count": 35,
     "metadata": {},
     "output_type": "execute_result"
    }
   ],
   "source": [
    "trademark_grouped.sort_values('scientific_trademark_share',ascending=False).head()"
   ]
  },
  {
   "cell_type": "code",
   "execution_count": 36,
   "metadata": {},
   "outputs": [],
   "source": [
    "trademark_grouped.to_csv(f'../../data/interim/trademarks/{today_str}_nuts_trademarks.csv')"
   ]
  },
  {
   "cell_type": "markdown",
   "metadata": {},
   "source": [
    "## 4. Create final indicators\n",
    "\n",
    "Trademarks (#74)"
   ]
  },
  {
   "cell_type": "code",
   "execution_count": 30,
   "metadata": {},
   "outputs": [
    {
     "data": {
      "text/plain": [
       "Index(['trademark_n', 'scientific_trademark_n', 'scientific_trademark_share'], dtype='object')"
      ]
     },
     "execution_count": 30,
     "metadata": {},
     "output_type": "execute_result"
    }
   ],
   "source": [
    "trademark_grouped.columns"
   ]
  },
  {
   "cell_type": "code",
   "execution_count": 43,
   "metadata": {},
   "outputs": [
    {
     "name": "stdout",
     "output_type": "stream",
     "text": [
      "     year nuts_id  nuts_year_spec  total_trademarks\n",
      "0  2010.0    UKH2            2016               873\n",
      "1  2011.0    UKH2            2016               940\n",
      "2  2012.0    UKH2            2016              1059\n",
      "3  2013.0    UKH2            2016              1171\n",
      "4  2014.0    UKH2            2016              1441\n"
     ]
    }
   ],
   "source": [
    "make_indicator(trademark_grouped,'trademarks',{'trademark_n':'total_trademarks'},\n",
    "               nuts_spec=2016,nuts_var='NUTS218CD',year_var='year_published',decimals=0)"
   ]
  },
  {
   "cell_type": "code",
   "execution_count": 42,
   "metadata": {},
   "outputs": [
    {
     "name": "stdout",
     "output_type": "stream",
     "text": [
      "     year nuts_id  nuts_year_spec  total_trademarks_scientific\n",
      "0  2010.0    UKH2            2016                           90\n",
      "1  2011.0    UKH2            2016                           92\n",
      "2  2012.0    UKH2            2016                          132\n",
      "3  2013.0    UKH2            2016                          164\n",
      "4  2014.0    UKH2            2016                          160\n"
     ]
    }
   ],
   "source": [
    "make_indicator(trademark_grouped,'trademarks',{'scientific_trademark_n':'total_trademarks_scientific'},\n",
    "               nuts_spec=2016,nuts_var='NUTS218CD',year_var='year_published',decimals=0)"
   ]
  },
  {
   "cell_type": "code",
   "execution_count": null,
   "metadata": {},
   "outputs": [],
   "source": [
    "tr"
   ]
  }
 ],
 "metadata": {
  "kernelspec": {
   "display_name": "Python 3",
   "language": "python",
   "name": "python3"
  },
  "language_info": {
   "codemirror_mode": {
    "name": "ipython",
    "version": 3
   },
   "file_extension": ".py",
   "mimetype": "text/x-python",
   "name": "python",
   "nbconvert_exporter": "python",
   "pygments_lexer": "ipython3",
   "version": "3.7.3"
  }
 },
 "nbformat": 4,
 "nbformat_minor": 4
}
