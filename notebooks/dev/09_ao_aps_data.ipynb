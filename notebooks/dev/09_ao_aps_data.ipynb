{
 "cells": [
  {
   "cell_type": "markdown",
   "metadata": {},
   "source": [
    "# APS\n",
    "\n",
    "Code to process, work with and plot APS data to create indicators about skills supply in the UK. \n",
    "\n",
    "We are interested in the following indicators:\n",
    "\n",
    "* Percentage of the population with tertiary education\n",
    "* Percentage of population employed in professional occupations\n",
    "\n",
    "Raw collected from https://www.nomisweb.co.uk/articles/676.aspx\n",
    "\n",
    "See [this table](https://docs.google.com/spreadsheets/d/1V2fAQcvuLsoImwo6uLdyIK3x80pBNoX97CxsxkjvRP4/edit?usp=sharing) for more information."
   ]
  },
  {
   "cell_type": "markdown",
   "metadata": {},
   "source": [
    "## Preamble"
   ]
  },
  {
   "cell_type": "code",
   "execution_count": null,
   "metadata": {},
   "outputs": [],
   "source": [
    "import requests \n",
    "\n",
    "import numpy as np \n",
    "import pandas as pd \n",
    "import json\n",
    "import seaborn as sns\n",
    "\n",
    "import os\n",
    "cwd = os.getcwd()\n",
    "\n",
    "import matplotlib.pyplot as plt\n",
    "%matplotlib inline"
   ]
  },
  {
   "cell_type": "markdown",
   "metadata": {},
   "source": [
    "## Data Processing & Transformation\n",
    "\n",
    "Raw data is downloaded via command line using `get_aps_nomis_data` module in the `beis-indicators/data` directory.\n",
    "Note: `get_nomis_data` uses `nomis`"
   ]
  },
  {
   "cell_type": "markdown",
   "metadata": {},
   "source": [
    "### Processing for 'Percentage of population employed in professional occupations' data"
   ]
  },
  {
   "cell_type": "code",
   "execution_count": null,
   "metadata": {},
   "outputs": [],
   "source": [
    "# fetching raw data\n",
    "data_occupations_json = '../../data/raw/nomis_percent_pro_occs-0-25000.json'\n",
    "with open(data_occupations_json) as f:\n",
    "    data = json.load(f)"
   ]
  },
  {
   "cell_type": "code",
   "execution_count": null,
   "metadata": {},
   "outputs": [],
   "source": [
    "df_occupations = pd.DataFrame.from_records(data)"
   ]
  },
  {
   "cell_type": "code",
   "execution_count": null,
   "metadata": {},
   "outputs": [],
   "source": [
    "# selecting the rows with the variable in question\n",
    "df_occupations = df_occupations[(df_occupations['measures_name']=='Variable')].reset_index(drop=True)\n",
    "\n",
    "# creating pivot table with indicators as fields\n",
    "df_occupations_pivot = df_occupations.pivot_table(index=df_occupations[['geography_name', 'geography_code', 'date_code']], columns='variable_name', aggfunc='mean')['obs_value']"
   ]
  },
  {
   "cell_type": "code",
   "execution_count": null,
   "metadata": {},
   "outputs": [],
   "source": [
    "df_occupations_pivot.reset_index(inplace=True)"
   ]
  },
  {
   "cell_type": "code",
   "execution_count": null,
   "metadata": {},
   "outputs": [],
   "source": [
    "df_occupations_pivot.set_index('geography_name',inplace=True)"
   ]
  },
  {
   "cell_type": "code",
   "execution_count": null,
   "metadata": {},
   "outputs": [],
   "source": [
    "df_occupations_pivot.columns"
   ]
  },
  {
   "cell_type": "code",
   "execution_count": null,
   "metadata": {},
   "outputs": [],
   "source": [
    "df_occupations_pivot['date_code'] = df_occupations_pivot['date_code'].apply(lambda x: int(x.split('-')[0]))"
   ]
  },
  {
   "cell_type": "code",
   "execution_count": null,
   "metadata": {},
   "outputs": [],
   "source": [
    "df_occupations_pivot.columns = ['nuts_id', 'year', 'aps_pro_occupations_data']\n",
    "df_occupations_pivot['nuts_year_spec'] = [2016]*len(df_occupations_pivot)"
   ]
  },
  {
   "cell_type": "code",
   "execution_count": null,
   "metadata": {},
   "outputs": [],
   "source": [
    "df_occupations_pivot = df_occupations_pivot[['year','nuts_id', 'nuts_year_spec', 'aps_pro_occupations_data']].reset_index(drop=True)"
   ]
  },
  {
   "cell_type": "code",
   "execution_count": null,
   "metadata": {},
   "outputs": [],
   "source": [
    "#saving pivot table\n",
    "df_occupations_pivot.to_csv('../../data/processed/aps/aps_pro_occupations_data.csv', index=False)"
   ]
  },
  {
   "cell_type": "markdown",
   "metadata": {},
   "source": [
    "### Processing for 'Economically active with NVQ4+ (graduates)' data"
   ]
  },
  {
   "cell_type": "code",
   "execution_count": null,
   "metadata": {},
   "outputs": [],
   "source": [
    "# fetching raw data\n",
    "data_edu_json = '../../data/raw/nomis_tert_quals-0-25000.json'\n",
    "with open(data_edu_json) as f:\n",
    "    data = json.load(f)"
   ]
  },
  {
   "cell_type": "code",
   "execution_count": null,
   "metadata": {},
   "outputs": [],
   "source": [
    "df_edu = pd.DataFrame.from_records(data)"
   ]
  },
  {
   "cell_type": "code",
   "execution_count": null,
   "metadata": {},
   "outputs": [],
   "source": [
    "# selecting the rows with the variable in question\n",
    "df_edu = df_edu[(df_edu['measures_name']=='Variable')].reset_index(drop=True)\n",
    "\n",
    "# creating pivot table with indicators as fields\n",
    "df_edu_pivot = df_edu.pivot_table(index=df_edu[['geography_name', 'geography_code', 'date_code']], columns='variable_name', aggfunc='mean')['obs_value']"
   ]
  },
  {
   "cell_type": "code",
   "execution_count": null,
   "metadata": {},
   "outputs": [],
   "source": [
    "df_edu_pivot.reset_index(inplace=True)\n",
    "df_edu_pivot.set_index('geography_name',inplace=True)"
   ]
  },
  {
   "cell_type": "code",
   "execution_count": null,
   "metadata": {},
   "outputs": [],
   "source": [
    "df_edu_pivot.columns"
   ]
  },
  {
   "cell_type": "code",
   "execution_count": null,
   "metadata": {},
   "outputs": [],
   "source": [
    "df_edu_pivot['date_code'] = df_edu_pivot['date_code'].apply(lambda x: int(x.split('-')[0]))"
   ]
  },
  {
   "cell_type": "code",
   "execution_count": null,
   "metadata": {},
   "outputs": [],
   "source": [
    "df_edu_pivot.columns = ['nuts_id', 'year', 'aps_nvq4_education_data']\n",
    "df_edu_pivot['nuts_year_spec'] = [2016]*len(df_edu_pivot)"
   ]
  },
  {
   "cell_type": "code",
   "execution_count": null,
   "metadata": {},
   "outputs": [],
   "source": [
    "df_edu_pivot = df_edu_pivot[['year','nuts_id', 'nuts_year_spec', 'aps_nvq4_education_data']].reset_index(drop=True)"
   ]
  },
  {
   "cell_type": "code",
   "execution_count": null,
   "metadata": {},
   "outputs": [],
   "source": [
    "df_edu_pivot"
   ]
  },
  {
   "cell_type": "code",
   "execution_count": null,
   "metadata": {},
   "outputs": [],
   "source": [
    "#saving pivot table\n",
    "df_edu_pivot.to_csv('../../data/processed/aps/aps_nvq4_education_data.csv', index=False)"
   ]
  },
  {
   "cell_type": "markdown",
   "metadata": {},
   "source": [
    "### Processing for 'Economically active in either science, research, engineering and technology, professionals and associated professionals' data"
   ]
  },
  {
   "cell_type": "code",
   "execution_count": null,
   "metadata": {},
   "outputs": [],
   "source": [
    "# fetching raw data\n",
    "data_stem_json = '../../data/raw/nomis_stem-0-25000.json'\n",
    "with open(data_stem_json) as f:\n",
    "    data = json.load(f)"
   ]
  },
  {
   "cell_type": "code",
   "execution_count": null,
   "metadata": {},
   "outputs": [],
   "source": [
    "data_stem = pd.DataFrame.from_records(data)"
   ]
  },
  {
   "cell_type": "code",
   "execution_count": null,
   "metadata": {},
   "outputs": [],
   "source": [
    "# selecting the rows with the variable in question\n",
    "data_stem = data_stem[(data_stem['measures_name']=='Value')].reset_index(drop=True)\n",
    "\n",
    "# creating pivot table with indicators as fields\n",
    "df_stem_pivot = data_stem.pivot_table(index=data_stem[['geography_name', 'geography_code', 'date_code']], columns='cell_name', aggfunc='mean')['obs_value']"
   ]
  },
  {
   "cell_type": "code",
   "execution_count": null,
   "metadata": {},
   "outputs": [],
   "source": [
    "df_stem_pivot.reset_index(inplace=True)\n",
    "df_stem_pivot.set_index('geography_name',inplace=True)"
   ]
  },
  {
   "cell_type": "code",
   "execution_count": null,
   "metadata": {},
   "outputs": [],
   "source": [
    "df_stem_pivot.columns"
   ]
  },
  {
   "cell_type": "code",
   "execution_count": null,
   "metadata": {},
   "outputs": [],
   "source": [
    "df_stem_pivot['date_code'] = df_stem_pivot['date_code'].apply(lambda x: int(x.split('-')[0]))"
   ]
  },
  {
   "cell_type": "code",
   "execution_count": null,
   "metadata": {},
   "outputs": [],
   "source": [
    "df_stem_pivot.columns = ['nuts_id', 'year', 'aps_econ_active_stem_associate_profs_data','aps_econ_active_stem_profs_data']\n",
    "df_stem_pivot['aps_econ_active_stem_profs_data'] = df_stem_pivot['aps_econ_active_stem_profs_data'].apply(lambda x: int(x))\n",
    "df_stem_pivot['aps_econ_active_stem_associate_profs_data'] = df_stem_pivot['aps_econ_active_stem_associate_profs_data'].apply(lambda x: int(x))\n",
    "df_stem_pivot['nuts_year_spec'] = [2016]*len(df_edu_pivot)"
   ]
  },
  {
   "cell_type": "code",
   "execution_count": null,
   "metadata": {},
   "outputs": [],
   "source": [
    "df_stem_pivot_prof = df_stem_pivot[['year','nuts_id', 'nuts_year_spec', 'aps_econ_active_stem_profs_data']].reset_index(drop=True)\n",
    "df_stem_pivot_aprof = df_stem_pivot[['year','nuts_id', 'nuts_year_spec', 'aps_econ_active_stem_associate_profs_data']].reset_index(drop=True)"
   ]
  },
  {
   "cell_type": "code",
   "execution_count": null,
   "metadata": {},
   "outputs": [],
   "source": [
    "#saving pivot table\n",
    "df_stem_pivot_prof.to_csv('../../data/processed/aps/aps_econ_active_stem_profs_data.csv', index=False)\n",
    "df_stem_pivot_aprof.to_csv('../../data/processed/aps/aps_econ_active_stem_associate_profs_data.csv', index=False)"
   ]
  },
  {
   "cell_type": "markdown",
   "metadata": {},
   "source": [
    "### Processing for 'STEM employee density' data"
   ]
  },
  {
   "cell_type": "code",
   "execution_count": null,
   "metadata": {},
   "outputs": [],
   "source": [
    "# fetching raw data\n",
    "data_stem_dens_json = '../../data/raw/nomis_stem_dens-0-25000.json'\n",
    "with open(data_stem_dens_json) as f:\n",
    "    data = json.load(f)"
   ]
  },
  {
   "cell_type": "code",
   "execution_count": null,
   "metadata": {},
   "outputs": [],
   "source": [
    "data_stem_dens = pd.DataFrame.from_records(data)"
   ]
  },
  {
   "cell_type": "code",
   "execution_count": null,
   "metadata": {},
   "outputs": [],
   "source": [
    "# selecting the rows with the variable in question\n",
    "data_stem_dens = data_stem_dens[(data_stem_dens['measures_name']=='Variable')].reset_index(drop=True)\n",
    "\n",
    "# creating pivot table with indicators as fields\n",
    "data_stem_dens_pivot = data_stem_dens.pivot_table(index=data_stem_dens[['geography_name', 'geography_code', 'date_code']], columns='variable_name', aggfunc='mean')['obs_value']"
   ]
  },
  {
   "cell_type": "code",
   "execution_count": null,
   "metadata": {},
   "outputs": [],
   "source": [
    "data_stem_dens_pivot.reset_index(inplace=True)\n",
    "data_stem_dens_pivot.set_index('geography_name',inplace=True)"
   ]
  },
  {
   "cell_type": "code",
   "execution_count": null,
   "metadata": {},
   "outputs": [],
   "source": [
    "data_stem_dens_pivot.columns"
   ]
  },
  {
   "cell_type": "code",
   "execution_count": null,
   "metadata": {},
   "outputs": [],
   "source": [
    "data_stem_dens_pivot['date_code'] = data_stem_dens_pivot['date_code'].apply(lambda x: int(x.split('-')[0]))"
   ]
  },
  {
   "cell_type": "code",
   "execution_count": null,
   "metadata": {},
   "outputs": [],
   "source": [
    "data_stem_dens_pivot"
   ]
  },
  {
   "cell_type": "code",
   "execution_count": null,
   "metadata": {},
   "outputs": [],
   "source": [
    "data_stem_dens_pivot.columns = ['nuts_id', 'year', 'aps_econ_active_stem_density_data']\n",
    "data_stem_dens_pivot['nuts_year_spec'] = [2016]*len(data_stem_dens_pivot)"
   ]
  },
  {
   "cell_type": "code",
   "execution_count": null,
   "metadata": {},
   "outputs": [],
   "source": [
    "# data_stem_dens_pivot\n",
    "data_stem_dens_pivot = data_stem_dens_pivot[['year','nuts_id', 'nuts_year_spec', 'aps_econ_active_stem_density_data']].reset_index(drop=True)"
   ]
  },
  {
   "cell_type": "code",
   "execution_count": null,
   "metadata": {},
   "outputs": [],
   "source": [
    "#saving pivot table\n",
    "data_stem_dens_pivot.to_csv('../../data/processed/aps/aps_econ_active_stem_density_data.csv', index=False)"
   ]
  },
  {
   "cell_type": "markdown",
   "metadata": {
    "heading_collapsed": true
   },
   "source": [
    "## (Processed) Data Collection\n",
    "\n",
    "This section includes an example of how to work with the dataset if interested in one year (i.e. 2018)."
   ]
  },
  {
   "cell_type": "code",
   "execution_count": null,
   "metadata": {
    "hidden": true
   },
   "outputs": [],
   "source": [
    "data_edu = '../../data/processed/aps/11_11_2019_aps_tertiary_education_data.csv'\n",
    "data_occupations = '../../data/processed/aps/11_11_2019_aps_pro_occupations_data.csv'"
   ]
  },
  {
   "cell_type": "code",
   "execution_count": null,
   "metadata": {
    "hidden": true
   },
   "outputs": [],
   "source": [
    "df_edu = pd.read_csv(data_edu)\n",
    "df_edu.set_index('geography_name', inplace=True)\n",
    "df_edu"
   ]
  },
  {
   "cell_type": "code",
   "execution_count": null,
   "metadata": {
    "hidden": true
   },
   "outputs": [],
   "source": [
    "df_edu_2018 = df_edu[df_edu['date_code'] == '2018-12']\n",
    "df_edu_2018"
   ]
  },
  {
   "cell_type": "code",
   "execution_count": null,
   "metadata": {
    "hidden": true
   },
   "outputs": [],
   "source": [
    "df_edu_2018['% with NVQ4+ - aged 16-64'].sort_values(ascending=True).plot(kind='barh', figsize=(10,8))\n",
    "plt.ylabel('NUTS2 Region', fontsize=12)\n",
    "plt.xlabel('% of NUTS2 Region Population', fontsize=12)\n",
    "plt.title('Percentage of population in NUTS2 regions with NVQ4+: 2018')"
   ]
  },
  {
   "cell_type": "code",
   "execution_count": null,
   "metadata": {
    "hidden": true
   },
   "outputs": [],
   "source": [
    "df_occ = pd.read_csv(data_occupations)\n",
    "df_occ.set_index('geography_name', inplace=True)\n",
    "df_occ"
   ]
  },
  {
   "cell_type": "code",
   "execution_count": null,
   "metadata": {
    "hidden": true
   },
   "outputs": [],
   "source": [
    "df_occ_2018 = df_occ[df_occ['date_code'] == '2018-12']\n",
    "# df_occ_2018"
   ]
  },
  {
   "cell_type": "code",
   "execution_count": null,
   "metadata": {
    "hidden": true
   },
   "outputs": [],
   "source": [
    "df_occ_2018.plot(kind='barh', figsize=(10,8), stacked=True)\n",
    "plt.axvline(x= 100, linestyle='--', color='grey', alpha =0.3)\n",
    "plt.xlabel('% of NUTS2 Region Population')\n",
    "plt.ylabel('NUTS2 Region')\n",
    "plt.title('Percentage of population in NUTS2 regions in given employment categories: 2018')\n",
    "plt.legend(bbox_to_anchor=(1.05, 1.05))"
   ]
  }
 ],
 "metadata": {
  "kernelspec": {
   "display_name": "Python 3",
   "language": "python",
   "name": "python3"
  },
  "language_info": {
   "codemirror_mode": {
    "name": "ipython",
    "version": 3
   },
   "file_extension": ".py",
   "mimetype": "text/x-python",
   "name": "python",
   "nbconvert_exporter": "python",
   "pygments_lexer": "ipython3",
   "version": "3.6.7"
  },
  "toc": {
   "base_numbering": 1,
   "nav_menu": {},
   "number_sections": true,
   "sideBar": true,
   "skip_h1_title": false,
   "title_cell": "Table of Contents",
   "title_sidebar": "Contents",
   "toc_cell": false,
   "toc_position": {},
   "toc_section_display": true,
   "toc_window_display": false
  }
 },
 "nbformat": 4,
 "nbformat_minor": 2
}
