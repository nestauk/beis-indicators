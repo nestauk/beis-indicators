{
 "cells": [
  {
   "cell_type": "markdown",
   "metadata": {},
   "source": [
    "# APS\n",
    "\n",
    "Code to process, work with and plot APS data to create indicators about skills supply in the UK. \n",
    "\n",
    "We are interested in the following indicators:\n",
    "\n",
    "* Percentage of the population with tertiary education\n",
    "* Percentage of population employed in professional occupations\n",
    "\n",
    "Raw collected from https://www.nomisweb.co.uk/articles/676.aspx\n",
    "\n",
    "See [this table](https://docs.google.com/spreadsheets/d/1V2fAQcvuLsoImwo6uLdyIK3x80pBNoX97CxsxkjvRP4/edit?usp=sharing) for more information."
   ]
  },
  {
   "cell_type": "markdown",
   "metadata": {},
   "source": [
    "## Preamble"
   ]
  },
  {
   "cell_type": "code",
   "execution_count": 1,
   "metadata": {},
   "outputs": [
    {
     "name": "stderr",
     "output_type": "stream",
     "text": [
      "/home/ao95/miniconda3/envs/pyenv_nesta/lib/python3.6/site-packages/statsmodels/tools/_testing.py:19: FutureWarning: pandas.util.testing is deprecated. Use the functions in the public API at pandas.testing instead.\n",
      "  import pandas.util.testing as tm\n"
     ]
    }
   ],
   "source": [
    "import requests \n",
    "\n",
    "import numpy as np \n",
    "import pandas as pd \n",
    "import json\n",
    "import seaborn as sns\n",
    "\n",
    "import os\n",
    "cwd = os.getcwd()\n",
    "\n",
    "import matplotlib.pyplot as plt\n",
    "%matplotlib inline"
   ]
  },
  {
   "cell_type": "markdown",
   "metadata": {},
   "source": [
    "## Data Processing & Transformation\n",
    "\n",
    "Raw data is downloaded via command line using `get_aps_nomis_data` module in the `beis-indicators/data` directory.\n",
    "Note: `get_nomis_data` uses `nomis`"
   ]
  },
  {
   "cell_type": "markdown",
   "metadata": {
    "heading_collapsed": true
   },
   "source": [
    "### Processing for 'Percentage of population employed in professional occupations' data"
   ]
  },
  {
   "cell_type": "code",
   "execution_count": 2,
   "metadata": {
    "hidden": true
   },
   "outputs": [],
   "source": [
    "# fetching raw data\n",
    "data_occupations_json = '../../data/raw/nomis_percent_pro_occs-0-25000.json'\n",
    "with open(data_occupations_json) as f:\n",
    "    data = json.load(f)"
   ]
  },
  {
   "cell_type": "code",
   "execution_count": 3,
   "metadata": {
    "hidden": true
   },
   "outputs": [],
   "source": [
    "df_occupations = pd.DataFrame.from_records(data)"
   ]
  },
  {
   "cell_type": "code",
   "execution_count": 4,
   "metadata": {
    "hidden": true
   },
   "outputs": [],
   "source": [
    "# selecting the rows with the variable in question\n",
    "df_occupations = df_occupations[(df_occupations['measures_name']=='Variable')].reset_index(drop=True)\n",
    "\n",
    "# creating pivot table with indicators as fields\n",
    "df_occupations_pivot = df_occupations.pivot_table(index=df_occupations[['geography_name', 'geography_code', 'date_code']], columns='variable_name', aggfunc='mean')['obs_value']"
   ]
  },
  {
   "cell_type": "code",
   "execution_count": 5,
   "metadata": {
    "hidden": true
   },
   "outputs": [],
   "source": [
    "df_occupations_pivot.reset_index(inplace=True)"
   ]
  },
  {
   "cell_type": "code",
   "execution_count": 6,
   "metadata": {
    "hidden": true
   },
   "outputs": [],
   "source": [
    "df_occupations_pivot.set_index('geography_name',inplace=True)"
   ]
  },
  {
   "cell_type": "code",
   "execution_count": 7,
   "metadata": {
    "hidden": true
   },
   "outputs": [
    {
     "data": {
      "text/plain": [
       "Index(['geography_code', 'date_code',\n",
       "       '% all in employment who are - 2: professional occupations (SOC2010)'],\n",
       "      dtype='object', name='variable_name')"
      ]
     },
     "execution_count": 7,
     "metadata": {},
     "output_type": "execute_result"
    }
   ],
   "source": [
    "df_occupations_pivot.columns"
   ]
  },
  {
   "cell_type": "code",
   "execution_count": 8,
   "metadata": {
    "hidden": true
   },
   "outputs": [],
   "source": [
    "df_occupations_pivot['date_code'] = df_occupations_pivot['date_code'].apply(lambda x: int(x.split('-')[0]))"
   ]
  },
  {
   "cell_type": "code",
   "execution_count": 9,
   "metadata": {
    "hidden": true
   },
   "outputs": [],
   "source": [
    "df_occupations_pivot.columns = ['nuts_id', 'year', 'aps_pro_occupations_data']\n",
    "df_occupations_pivot['nuts_year_spec'] = [2016]*len(df_occupations_pivot)"
   ]
  },
  {
   "cell_type": "code",
   "execution_count": 10,
   "metadata": {
    "hidden": true
   },
   "outputs": [],
   "source": [
    "df_occupations_pivot = df_occupations_pivot[['year','nuts_id', 'nuts_year_spec', 'aps_pro_occupations_data']].reset_index(drop=True)"
   ]
  },
  {
   "cell_type": "code",
   "execution_count": 11,
   "metadata": {
    "hidden": true
   },
   "outputs": [],
   "source": [
    "#saving pivot table\n",
    "df_occupations_pivot.to_csv('../../data/processed/aps/aps_pro_occupations_data.csv')"
   ]
  },
  {
   "cell_type": "markdown",
   "metadata": {
    "heading_collapsed": true
   },
   "source": [
    "### Processing for 'Economically active with NVQ4+ (graduates)' data"
   ]
  },
  {
   "cell_type": "code",
   "execution_count": 24,
   "metadata": {
    "hidden": true
   },
   "outputs": [],
   "source": [
    "# fetching raw data\n",
    "data_edu_json = '../../data/raw/nomis_tert_quals-0-25000.json'\n",
    "with open(data_edu_json) as f:\n",
    "    data = json.load(f)"
   ]
  },
  {
   "cell_type": "code",
   "execution_count": 25,
   "metadata": {
    "hidden": true
   },
   "outputs": [],
   "source": [
    "df_edu = pd.DataFrame.from_records(data)"
   ]
  },
  {
   "cell_type": "code",
   "execution_count": 26,
   "metadata": {
    "hidden": true
   },
   "outputs": [],
   "source": [
    "# selecting the rows with the variable in question\n",
    "df_edu = df_edu[(df_edu['measures_name']=='Variable')].reset_index(drop=True)\n",
    "\n",
    "# creating pivot table with indicators as fields\n",
    "df_edu_pivot = df_edu.pivot_table(index=df_edu[['geography_name', 'geography_code', 'date_code']], columns='variable_name', aggfunc='mean')['obs_value']"
   ]
  },
  {
   "cell_type": "code",
   "execution_count": 27,
   "metadata": {
    "hidden": true
   },
   "outputs": [],
   "source": [
    "df_edu_pivot.reset_index(inplace=True)\n",
    "df_edu_pivot.set_index('geography_name',inplace=True)"
   ]
  },
  {
   "cell_type": "code",
   "execution_count": 28,
   "metadata": {
    "hidden": true
   },
   "outputs": [
    {
     "data": {
      "text/plain": [
       "Index(['geography_code', 'date_code',\n",
       "       '% of economically active with NVQ4+ - aged 16-64'],\n",
       "      dtype='object', name='variable_name')"
      ]
     },
     "execution_count": 28,
     "metadata": {},
     "output_type": "execute_result"
    }
   ],
   "source": [
    "df_edu_pivot.columns"
   ]
  },
  {
   "cell_type": "code",
   "execution_count": 29,
   "metadata": {
    "hidden": true
   },
   "outputs": [],
   "source": [
    "df_edu_pivot['date_code'] = df_edu_pivot['date_code'].apply(lambda x: int(x.split('-')[0]))"
   ]
  },
  {
   "cell_type": "code",
   "execution_count": 30,
   "metadata": {
    "hidden": true
   },
   "outputs": [],
   "source": [
    "df_edu_pivot.columns = ['nuts_id', 'year', 'aps_nvq4_education_data']\n",
    "df_edu_pivot['nuts_year_spec'] = [2016]*len(df_edu_pivot)"
   ]
  },
  {
   "cell_type": "code",
   "execution_count": 31,
   "metadata": {
    "hidden": true
   },
   "outputs": [],
   "source": [
    "df_edu_pivot = df_edu_pivot[['year','nuts_id', 'nuts_year_spec', 'aps_nvq4_education_data']].reset_index(drop=True)"
   ]
  },
  {
   "cell_type": "code",
   "execution_count": 32,
   "metadata": {
    "hidden": true
   },
   "outputs": [
    {
     "data": {
      "text/html": [
       "<div>\n",
       "<style scoped>\n",
       "    .dataframe tbody tr th:only-of-type {\n",
       "        vertical-align: middle;\n",
       "    }\n",
       "\n",
       "    .dataframe tbody tr th {\n",
       "        vertical-align: top;\n",
       "    }\n",
       "\n",
       "    .dataframe thead th {\n",
       "        text-align: right;\n",
       "    }\n",
       "</style>\n",
       "<table border=\"1\" class=\"dataframe\">\n",
       "  <thead>\n",
       "    <tr style=\"text-align: right;\">\n",
       "      <th></th>\n",
       "      <th>year</th>\n",
       "      <th>nuts_id</th>\n",
       "      <th>nuts_year_spec</th>\n",
       "      <th>aps_nvq4_education_data</th>\n",
       "    </tr>\n",
       "  </thead>\n",
       "  <tbody>\n",
       "    <tr>\n",
       "      <th>0</th>\n",
       "      <td>2012</td>\n",
       "      <td>UKH2</td>\n",
       "      <td>2016</td>\n",
       "      <td>41.7</td>\n",
       "    </tr>\n",
       "    <tr>\n",
       "      <th>1</th>\n",
       "      <td>2013</td>\n",
       "      <td>UKH2</td>\n",
       "      <td>2016</td>\n",
       "      <td>41.4</td>\n",
       "    </tr>\n",
       "    <tr>\n",
       "      <th>2</th>\n",
       "      <td>2014</td>\n",
       "      <td>UKH2</td>\n",
       "      <td>2016</td>\n",
       "      <td>43.5</td>\n",
       "    </tr>\n",
       "    <tr>\n",
       "      <th>3</th>\n",
       "      <td>2015</td>\n",
       "      <td>UKH2</td>\n",
       "      <td>2016</td>\n",
       "      <td>43.5</td>\n",
       "    </tr>\n",
       "    <tr>\n",
       "      <th>4</th>\n",
       "      <td>2016</td>\n",
       "      <td>UKH2</td>\n",
       "      <td>2016</td>\n",
       "      <td>43.8</td>\n",
       "    </tr>\n",
       "    <tr>\n",
       "      <th>...</th>\n",
       "      <td>...</td>\n",
       "      <td>...</td>\n",
       "      <td>...</td>\n",
       "      <td>...</td>\n",
       "    </tr>\n",
       "    <tr>\n",
       "      <th>275</th>\n",
       "      <td>2014</td>\n",
       "      <td>UKE4</td>\n",
       "      <td>2016</td>\n",
       "      <td>34.0</td>\n",
       "    </tr>\n",
       "    <tr>\n",
       "      <th>276</th>\n",
       "      <td>2015</td>\n",
       "      <td>UKE4</td>\n",
       "      <td>2016</td>\n",
       "      <td>35.1</td>\n",
       "    </tr>\n",
       "    <tr>\n",
       "      <th>277</th>\n",
       "      <td>2016</td>\n",
       "      <td>UKE4</td>\n",
       "      <td>2016</td>\n",
       "      <td>34.6</td>\n",
       "    </tr>\n",
       "    <tr>\n",
       "      <th>278</th>\n",
       "      <td>2017</td>\n",
       "      <td>UKE4</td>\n",
       "      <td>2016</td>\n",
       "      <td>36.7</td>\n",
       "    </tr>\n",
       "    <tr>\n",
       "      <th>279</th>\n",
       "      <td>2018</td>\n",
       "      <td>UKE4</td>\n",
       "      <td>2016</td>\n",
       "      <td>37.7</td>\n",
       "    </tr>\n",
       "  </tbody>\n",
       "</table>\n",
       "<p>280 rows × 4 columns</p>\n",
       "</div>"
      ],
      "text/plain": [
       "     year nuts_id  nuts_year_spec  aps_nvq4_education_data\n",
       "0    2012    UKH2            2016                     41.7\n",
       "1    2013    UKH2            2016                     41.4\n",
       "2    2014    UKH2            2016                     43.5\n",
       "3    2015    UKH2            2016                     43.5\n",
       "4    2016    UKH2            2016                     43.8\n",
       "..    ...     ...             ...                      ...\n",
       "275  2014    UKE4            2016                     34.0\n",
       "276  2015    UKE4            2016                     35.1\n",
       "277  2016    UKE4            2016                     34.6\n",
       "278  2017    UKE4            2016                     36.7\n",
       "279  2018    UKE4            2016                     37.7\n",
       "\n",
       "[280 rows x 4 columns]"
      ]
     },
     "execution_count": 32,
     "metadata": {},
     "output_type": "execute_result"
    }
   ],
   "source": [
    "df_edu_pivot"
   ]
  },
  {
   "cell_type": "code",
   "execution_count": 33,
   "metadata": {
    "hidden": true
   },
   "outputs": [],
   "source": [
    "#saving pivot table\n",
    "df_edu_pivot.to_csv('../../data/processed/aps/aps_nvq4_education_data.csv')"
   ]
  },
  {
   "cell_type": "markdown",
   "metadata": {},
   "source": [
    "### Processing for 'Economically active in either science, research, engineering and technology, professionals and associated professionals' data"
   ]
  },
  {
   "cell_type": "code",
   "execution_count": 91,
   "metadata": {},
   "outputs": [],
   "source": [
    "# fetching raw data\n",
    "data_stem_json = '../../data/raw/nomis_stem-0-25000.json'\n",
    "with open(data_stem_json) as f:\n",
    "    data = json.load(f)"
   ]
  },
  {
   "cell_type": "code",
   "execution_count": 92,
   "metadata": {},
   "outputs": [],
   "source": [
    "data_stem = pd.DataFrame.from_records(data)"
   ]
  },
  {
   "cell_type": "code",
   "execution_count": 93,
   "metadata": {},
   "outputs": [],
   "source": [
    "# selecting the rows with the variable in question\n",
    "data_stem = data_stem[(data_stem['measures_name']=='Value')].reset_index(drop=True)\n",
    "\n",
    "# creating pivot table with indicators as fields\n",
    "df_stem_pivot = data_stem.pivot_table(index=data_stem[['geography_name', 'geography_code', 'date_code']], columns='cell_name', aggfunc='mean')['obs_value']"
   ]
  },
  {
   "cell_type": "code",
   "execution_count": 94,
   "metadata": {},
   "outputs": [],
   "source": [
    "df_stem_pivot.reset_index(inplace=True)\n",
    "df_stem_pivot.set_index('geography_name',inplace=True)"
   ]
  },
  {
   "cell_type": "code",
   "execution_count": 95,
   "metadata": {},
   "outputs": [
    {
     "data": {
      "text/plain": [
       "Index(['geography_code', 'date_code',\n",
       "       'T09a:19 (All people - Science, Engineering and Technology Associate Professionals (SOC2010) : All people )',\n",
       "       'T09a:7 (All people - Science, Research, Engineering and Technology Professionals (SOC2010) : All people )'],\n",
       "      dtype='object', name='cell_name')"
      ]
     },
     "execution_count": 95,
     "metadata": {},
     "output_type": "execute_result"
    }
   ],
   "source": [
    "df_stem_pivot.columns"
   ]
  },
  {
   "cell_type": "code",
   "execution_count": 96,
   "metadata": {},
   "outputs": [],
   "source": [
    "df_stem_pivot['date_code'] = df_stem_pivot['date_code'].apply(lambda x: int(x.split('-')[0]))"
   ]
  },
  {
   "cell_type": "code",
   "execution_count": 97,
   "metadata": {},
   "outputs": [],
   "source": [
    "df_stem_pivot.columns = ['nuts_id', 'year', 'aps_econ_active_stem_associate_profs_data','aps_econ_active_stem_profs_data']\n",
    "df_stem_pivot['aps_econ_active_stem_profs_data'] = df_stem_pivot['aps_econ_active_stem_profs_data'].apply(lambda x: int(x))\n",
    "df_stem_pivot['aps_econ_active_stem_associate_profs_data'] = df_stem_pivot['aps_econ_active_stem_associate_profs_data'].apply(lambda x: int(x))\n",
    "df_stem_pivot['nuts_year_spec'] = [2016]*len(df_edu_pivot)"
   ]
  },
  {
   "cell_type": "code",
   "execution_count": 98,
   "metadata": {},
   "outputs": [],
   "source": [
    "df_stem_pivot_prof = df_stem_pivot[['year','nuts_id', 'nuts_year_spec', 'aps_econ_active_stem_profs_data']].reset_index(drop=True)\n",
    "df_stem_pivot_aprof = df_stem_pivot[['year','nuts_id', 'nuts_year_spec', 'aps_econ_active_stem_associate_profs_data']].reset_index(drop=True)"
   ]
  },
  {
   "cell_type": "code",
   "execution_count": 99,
   "metadata": {},
   "outputs": [],
   "source": [
    "#saving pivot table\n",
    "df_stem_pivot_prof.to_csv('../../data/processed/aps/aps_econ_active_stem_profs_data.csv')\n",
    "df_stem_pivot_aprof.to_csv('../../data/processed/aps/aps_econ_active_stem_associate_profs_data.csv')"
   ]
  },
  {
   "cell_type": "markdown",
   "metadata": {
    "heading_collapsed": true
   },
   "source": [
    "### Processing for 'STEM employee density' data"
   ]
  },
  {
   "cell_type": "code",
   "execution_count": 72,
   "metadata": {
    "hidden": true
   },
   "outputs": [],
   "source": [
    "# fetching raw data\n",
    "data_stem_dens_json = '../../data/raw/nomis_stem_dens-0-25000.json'\n",
    "with open(data_stem_dens_json) as f:\n",
    "    data = json.load(f)"
   ]
  },
  {
   "cell_type": "code",
   "execution_count": 73,
   "metadata": {
    "hidden": true
   },
   "outputs": [],
   "source": [
    "data_stem_dens = pd.DataFrame.from_records(data)"
   ]
  },
  {
   "cell_type": "code",
   "execution_count": 74,
   "metadata": {
    "hidden": true
   },
   "outputs": [],
   "source": [
    "# selecting the rows with the variable in question\n",
    "data_stem_dens = data_stem_dens[(data_stem_dens['measures_name']=='Variable')].reset_index(drop=True)\n",
    "\n",
    "# creating pivot table with indicators as fields\n",
    "data_stem_dens_pivot = data_stem_dens.pivot_table(index=data_stem_dens[['geography_name', 'geography_code', 'date_code']], columns='variable_name', aggfunc='mean')['obs_value']"
   ]
  },
  {
   "cell_type": "code",
   "execution_count": 75,
   "metadata": {
    "hidden": true
   },
   "outputs": [],
   "source": [
    "data_stem_dens_pivot.reset_index(inplace=True)\n",
    "data_stem_dens_pivot.set_index('geography_name',inplace=True)"
   ]
  },
  {
   "cell_type": "code",
   "execution_count": 76,
   "metadata": {
    "hidden": true
   },
   "outputs": [
    {
     "data": {
      "text/plain": [
       "Index(['geography_code', 'date_code',\n",
       "       '% all in employment who are - 21: science, research, engineering and technology profs (SOC2010)'],\n",
       "      dtype='object', name='variable_name')"
      ]
     },
     "execution_count": 76,
     "metadata": {},
     "output_type": "execute_result"
    }
   ],
   "source": [
    "data_stem_dens_pivot.columns"
   ]
  },
  {
   "cell_type": "code",
   "execution_count": 77,
   "metadata": {
    "hidden": true
   },
   "outputs": [],
   "source": [
    "data_stem_dens_pivot['date_code'] = data_stem_dens_pivot['date_code'].apply(lambda x: int(x.split('-')[0]))"
   ]
  },
  {
   "cell_type": "code",
   "execution_count": 78,
   "metadata": {
    "hidden": true
   },
   "outputs": [
    {
     "data": {
      "text/html": [
       "<div>\n",
       "<style scoped>\n",
       "    .dataframe tbody tr th:only-of-type {\n",
       "        vertical-align: middle;\n",
       "    }\n",
       "\n",
       "    .dataframe tbody tr th {\n",
       "        vertical-align: top;\n",
       "    }\n",
       "\n",
       "    .dataframe thead th {\n",
       "        text-align: right;\n",
       "    }\n",
       "</style>\n",
       "<table border=\"1\" class=\"dataframe\">\n",
       "  <thead>\n",
       "    <tr style=\"text-align: right;\">\n",
       "      <th>variable_name</th>\n",
       "      <th>geography_code</th>\n",
       "      <th>date_code</th>\n",
       "      <th>% all in employment who are - 21: science, research, engineering and technology profs (SOC2010)</th>\n",
       "    </tr>\n",
       "    <tr>\n",
       "      <th>geography_name</th>\n",
       "      <th></th>\n",
       "      <th></th>\n",
       "      <th></th>\n",
       "    </tr>\n",
       "  </thead>\n",
       "  <tbody>\n",
       "    <tr>\n",
       "      <th>Bedfordshire and Hertfordshire</th>\n",
       "      <td>UKH2</td>\n",
       "      <td>2012</td>\n",
       "      <td>7.1</td>\n",
       "    </tr>\n",
       "    <tr>\n",
       "      <th>Bedfordshire and Hertfordshire</th>\n",
       "      <td>UKH2</td>\n",
       "      <td>2013</td>\n",
       "      <td>6.8</td>\n",
       "    </tr>\n",
       "    <tr>\n",
       "      <th>Bedfordshire and Hertfordshire</th>\n",
       "      <td>UKH2</td>\n",
       "      <td>2014</td>\n",
       "      <td>6.7</td>\n",
       "    </tr>\n",
       "    <tr>\n",
       "      <th>Bedfordshire and Hertfordshire</th>\n",
       "      <td>UKH2</td>\n",
       "      <td>2015</td>\n",
       "      <td>5.8</td>\n",
       "    </tr>\n",
       "    <tr>\n",
       "      <th>Bedfordshire and Hertfordshire</th>\n",
       "      <td>UKH2</td>\n",
       "      <td>2016</td>\n",
       "      <td>6.8</td>\n",
       "    </tr>\n",
       "    <tr>\n",
       "      <th>...</th>\n",
       "      <td>...</td>\n",
       "      <td>...</td>\n",
       "      <td>...</td>\n",
       "    </tr>\n",
       "    <tr>\n",
       "      <th>West Yorkshire</th>\n",
       "      <td>UKE4</td>\n",
       "      <td>2014</td>\n",
       "      <td>4.1</td>\n",
       "    </tr>\n",
       "    <tr>\n",
       "      <th>West Yorkshire</th>\n",
       "      <td>UKE4</td>\n",
       "      <td>2015</td>\n",
       "      <td>4.1</td>\n",
       "    </tr>\n",
       "    <tr>\n",
       "      <th>West Yorkshire</th>\n",
       "      <td>UKE4</td>\n",
       "      <td>2016</td>\n",
       "      <td>4.8</td>\n",
       "    </tr>\n",
       "    <tr>\n",
       "      <th>West Yorkshire</th>\n",
       "      <td>UKE4</td>\n",
       "      <td>2017</td>\n",
       "      <td>4.1</td>\n",
       "    </tr>\n",
       "    <tr>\n",
       "      <th>West Yorkshire</th>\n",
       "      <td>UKE4</td>\n",
       "      <td>2018</td>\n",
       "      <td>4.7</td>\n",
       "    </tr>\n",
       "  </tbody>\n",
       "</table>\n",
       "<p>280 rows × 3 columns</p>\n",
       "</div>"
      ],
      "text/plain": [
       "variable_name                  geography_code  date_code  \\\n",
       "geography_name                                             \n",
       "Bedfordshire and Hertfordshire           UKH2       2012   \n",
       "Bedfordshire and Hertfordshire           UKH2       2013   \n",
       "Bedfordshire and Hertfordshire           UKH2       2014   \n",
       "Bedfordshire and Hertfordshire           UKH2       2015   \n",
       "Bedfordshire and Hertfordshire           UKH2       2016   \n",
       "...                                       ...        ...   \n",
       "West Yorkshire                           UKE4       2014   \n",
       "West Yorkshire                           UKE4       2015   \n",
       "West Yorkshire                           UKE4       2016   \n",
       "West Yorkshire                           UKE4       2017   \n",
       "West Yorkshire                           UKE4       2018   \n",
       "\n",
       "variable_name                   % all in employment who are - 21: science, research, engineering and technology profs (SOC2010)  \n",
       "geography_name                                                                                                                   \n",
       "Bedfordshire and Hertfordshire                                                7.1                                                \n",
       "Bedfordshire and Hertfordshire                                                6.8                                                \n",
       "Bedfordshire and Hertfordshire                                                6.7                                                \n",
       "Bedfordshire and Hertfordshire                                                5.8                                                \n",
       "Bedfordshire and Hertfordshire                                                6.8                                                \n",
       "...                                                                           ...                                                \n",
       "West Yorkshire                                                                4.1                                                \n",
       "West Yorkshire                                                                4.1                                                \n",
       "West Yorkshire                                                                4.8                                                \n",
       "West Yorkshire                                                                4.1                                                \n",
       "West Yorkshire                                                                4.7                                                \n",
       "\n",
       "[280 rows x 3 columns]"
      ]
     },
     "execution_count": 78,
     "metadata": {},
     "output_type": "execute_result"
    }
   ],
   "source": [
    "data_stem_dens_pivot"
   ]
  },
  {
   "cell_type": "code",
   "execution_count": 79,
   "metadata": {
    "hidden": true
   },
   "outputs": [],
   "source": [
    "data_stem_dens_pivot.columns = ['nuts_id', 'year', 'aps_econ_active_stem_density_data']\n",
    "data_stem_dens_pivot['nuts_year_spec'] = [2016]*len(data_stem_dens_pivot)"
   ]
  },
  {
   "cell_type": "code",
   "execution_count": 80,
   "metadata": {
    "hidden": true
   },
   "outputs": [],
   "source": [
    "# data_stem_dens_pivot\n",
    "data_stem_dens_pivot = data_stem_dens_pivot[['year','nuts_id', 'nuts_year_spec', 'aps_econ_active_stem_density_data']].reset_index(drop=True)"
   ]
  },
  {
   "cell_type": "code",
   "execution_count": 81,
   "metadata": {
    "hidden": true
   },
   "outputs": [],
   "source": [
    "#saving pivot table\n",
    "data_stem_dens_pivot.to_csv('../../data/processed/aps/aps_econ_active_stem_density_data.csv')"
   ]
  },
  {
   "cell_type": "markdown",
   "metadata": {
    "heading_collapsed": true
   },
   "source": [
    "## (Processed) Data Collection\n",
    "\n",
    "This section includes an example of how to work with the dataset if interested in one year (i.e. 2018)."
   ]
  },
  {
   "cell_type": "code",
   "execution_count": null,
   "metadata": {
    "hidden": true
   },
   "outputs": [],
   "source": [
    "data_edu = '../../data/processed/aps/11_11_2019_aps_tertiary_education_data.csv'\n",
    "data_occupations = '../../data/processed/aps/11_11_2019_aps_pro_occupations_data.csv'"
   ]
  },
  {
   "cell_type": "code",
   "execution_count": null,
   "metadata": {
    "hidden": true
   },
   "outputs": [],
   "source": [
    "df_edu = pd.read_csv(data_edu)\n",
    "df_edu.set_index('geography_name', inplace=True)\n",
    "df_edu"
   ]
  },
  {
   "cell_type": "code",
   "execution_count": null,
   "metadata": {
    "hidden": true
   },
   "outputs": [],
   "source": [
    "df_edu_2018 = df_edu[df_edu['date_code'] == '2018-12']\n",
    "df_edu_2018"
   ]
  },
  {
   "cell_type": "code",
   "execution_count": null,
   "metadata": {
    "hidden": true
   },
   "outputs": [],
   "source": [
    "df_edu_2018['% with NVQ4+ - aged 16-64'].sort_values(ascending=True).plot(kind='barh', figsize=(10,8))\n",
    "plt.ylabel('NUTS2 Region', fontsize=12)\n",
    "plt.xlabel('% of NUTS2 Region Population', fontsize=12)\n",
    "plt.title('Percentage of population in NUTS2 regions with NVQ4+: 2018')"
   ]
  },
  {
   "cell_type": "code",
   "execution_count": null,
   "metadata": {
    "hidden": true
   },
   "outputs": [],
   "source": [
    "df_occ = pd.read_csv(data_occupations)\n",
    "df_occ.set_index('geography_name', inplace=True)\n",
    "df_occ"
   ]
  },
  {
   "cell_type": "code",
   "execution_count": null,
   "metadata": {
    "hidden": true
   },
   "outputs": [],
   "source": [
    "df_occ_2018 = df_occ[df_occ['date_code'] == '2018-12']\n",
    "# df_occ_2018"
   ]
  },
  {
   "cell_type": "code",
   "execution_count": null,
   "metadata": {
    "hidden": true
   },
   "outputs": [],
   "source": [
    "df_occ_2018.plot(kind='barh', figsize=(10,8), stacked=True)\n",
    "plt.axvline(x= 100, linestyle='--', color='grey', alpha =0.3)\n",
    "plt.xlabel('% of NUTS2 Region Population')\n",
    "plt.ylabel('NUTS2 Region')\n",
    "plt.title('Percentage of population in NUTS2 regions in given employment categories: 2018')\n",
    "plt.legend(bbox_to_anchor=(1.05, 1.05))"
   ]
  }
 ],
 "metadata": {
  "kernelspec": {
   "display_name": "Python 3",
   "language": "python",
   "name": "python3"
  },
  "language_info": {
   "codemirror_mode": {
    "name": "ipython",
    "version": 3
   },
   "file_extension": ".py",
   "mimetype": "text/x-python",
   "name": "python",
   "nbconvert_exporter": "python",
   "pygments_lexer": "ipython3",
   "version": "3.6.7"
  },
  "toc": {
   "base_numbering": 1,
   "nav_menu": {},
   "number_sections": true,
   "sideBar": true,
   "skip_h1_title": false,
   "title_cell": "Table of Contents",
   "title_sidebar": "Contents",
   "toc_cell": false,
   "toc_position": {},
   "toc_section_display": true,
   "toc_window_display": false
  }
 },
 "nbformat": 4,
 "nbformat_minor": 2
}
