{
 "cells": [
  {
   "cell_type": "markdown",
   "metadata": {},
   "source": [
    "# CrunchBase indicators: number of organisations and investment.\n",
    "\n",
    "Here we produce indicators about level of Venture & Seed Funding in the UK using proprietary CrunchBase data licensed by Nesta. \n",
    "\n",
    "This involves:\n",
    "\n",
    "* Download the data from Nesta DAPS system\n",
    "* Merge organisations & funders to create org - funding matches\n",
    "* Geocode with NUTS2 and LEPS geographies\n",
    "* Create indicators\n",
    "  * This will be based on a function that subsets by year and distinguishes between seed funding and venture capital"
   ]
  },
  {
   "cell_type": "markdown",
   "metadata": {},
   "source": [
    "## Preamble"
   ]
  },
  {
   "cell_type": "code",
   "execution_count": 1,
   "metadata": {},
   "outputs": [],
   "source": [
    "%run ../notebook_preamble.ipy"
   ]
  },
  {
   "cell_type": "code",
   "execution_count": 2,
   "metadata": {},
   "outputs": [],
   "source": [
    "import re\n",
    "import random\n",
    "from zipfile import ZipFile\n",
    "from io import BytesIO\n",
    "import csv\n",
    "from data_getters.labs.core import download_file\n",
    "from ast import literal_eval\n",
    "from data_getters.core import get_engine\n"
   ]
  },
  {
   "cell_type": "code",
   "execution_count": 3,
   "metadata": {},
   "outputs": [],
   "source": [
    "#dirs\n",
    "\n",
    "if 'crunchbase' not in os.listdir('../../data/raw'):\n",
    "    os.makedirs('../../data/raw/crunchbase')\n",
    "\n",
    "\n",
    "if 'crunchbase' not in os.listdir('../../data/interim'):\n",
    "    os.makedirs('../../data/interim/crunchbase')\n",
    "\n",
    "    \n",
    "if 'crunchbase' not in os.listdir('../../data/processed/'):\n",
    "    os.makedirs('../../data/processed/crunchbase')"
   ]
  },
  {
   "cell_type": "code",
   "execution_count": 4,
   "metadata": {},
   "outputs": [],
   "source": [
    "# %load ../utilities.py\n",
    "# Some utilities\n",
    "\n",
    "import random\n",
    "\n",
    "def make_data_dict(table,name,path,sample=5):\n",
    "    '''\n",
    "    A function to output the form for a data dictionary\n",
    "    \n",
    "    Args:\n",
    "        -table (df) is the df we want to create the data dictionary for\n",
    "        -name (str) of the df\n",
    "        -path (str) is the place where we want to save the file\n",
    "        \n",
    "\n",
    "    \n",
    "    '''\n",
    "    \n",
    "    types = [estimate_type(table[x],sample=sample) for x in table.columns]\n",
    "        \n",
    "    data_dict = pd.DataFrame()\n",
    "    data_dict['variable'] = table.columns\n",
    "        \n",
    "    data_dict['type'] = types\n",
    "    \n",
    "    data_dict['description'] = ['' for x in data_dict['variable']]\n",
    "        \n",
    "    out = os.path.join(path,f'{today_str}_{name}.csv')\n",
    "    \n",
    "    #print(data_dict.columns)\n",
    "    \n",
    "    data_dict.to_csv(out)\n",
    "    \n",
    "\n",
    "def estimate_type(variable,sample):\n",
    "    '''\n",
    "    Estimates the type of a column. \n",
    "\n",
    "    Args:\n",
    "        variable (iterable) with values\n",
    "        sample (n) is the number of values to test\n",
    "    \n",
    "    '''\n",
    "    \n",
    "    selection = random.sample(list(variable),sample)\n",
    "    \n",
    "    types = pd.Series([type(x) for x in selection]).value_counts().sort_values(ascending=False)\n",
    "    \n",
    "    return(types.index[0])\n",
    "\n"
   ]
  },
  {
   "cell_type": "code",
   "execution_count": 5,
   "metadata": {},
   "outputs": [],
   "source": [
    "def save_data(df,name,path,today=today_str):\n",
    "    '''\n",
    "    Utility to save processed data quicker\n",
    "    \n",
    "    Arguments:\n",
    "        df (df) is the dataframe we want to save\n",
    "        name (str) is the name of the file\n",
    "        path (str) is the path where we want to save the file\n",
    "        today (str) is the day when the data is saved\n",
    "    \n",
    "    '''\n",
    "    \n",
    "    df.to_csv(f'{path}/{today_str}_{name}.csv')\n",
    "    "
   ]
  },
  {
   "cell_type": "code",
   "execution_count": 6,
   "metadata": {},
   "outputs": [],
   "source": [
    "def get_daps_data(table,connection,chunksize=1000):\n",
    "    '''\n",
    "    Utility function to get data from DAPS with less faff\n",
    "    \n",
    "    Args:\n",
    "        -table is the SQL table in DAPS that we are extracting\n",
    "        -connection is the database connection we are using\n",
    "        -Chunksize are the chunks to download\n",
    "    \n",
    "    Returns:\n",
    "        -A dataframe with the data we have collected\n",
    "    \n",
    "    '''\n",
    "    #Get chunks\n",
    "    chunks = pd.read_sql_table(table, connection, chunksize=chunksize)\n",
    "    \n",
    "    #Create df\n",
    "    df = pd.concat(chunks)\n",
    "    \n",
    "    #Return data\n",
    "    return(df)"
   ]
  },
  {
   "cell_type": "code",
   "execution_count": 7,
   "metadata": {},
   "outputs": [],
   "source": [
    "def make_conversion(x,tid):\n",
    "    '''\n",
    "    Function to convert funding rounds from CrunchBase into GBP\n",
    "    \n",
    "    Args:\n",
    "        transaction: a transaction from the CB funding rounds dataset\n",
    "        tid: transaction id (to track issues)\n",
    "    \n",
    "    Returns:\n",
    "        A conversion (if possible)\n",
    "    '''\n",
    "    \n",
    "    #If an amount is not in GBP convert to GBP, if not, keep it as is\n",
    "    \n",
    "    #The currency converter doesn't work with Lebanese pounds so we will skip that\n",
    "    if (x['raised_amount_currency_code']=='LBP')|(x['raised_amount_currency_code']==None):\n",
    "        return(np.nan)\n",
    "    \n",
    "    else:\n",
    "    \n",
    "        try:\n",
    "            out = x['raised_amount']*c.get_rate(\n",
    "                x['raised_amount_currency_code'],'GBP',x['announced_on']) if x['raised_amount_currency_code']!='GBP' else x['raised_amount']\n",
    "            return(out)\n",
    "\n",
    "        except: \n",
    "            print(tid)"
   ]
  },
  {
   "cell_type": "code",
   "execution_count": 8,
   "metadata": {},
   "outputs": [],
   "source": [
    "def aggregate_investments(df,geography):\n",
    "    '''\n",
    "    This function aggregates level of funding over a geography and investment type for a selected period\n",
    "    \n",
    "    Arguments:\n",
    "        df: df with investment levels by geocoded organisaton, year and type\n",
    "        years: (list) year range to be considered\n",
    "        geography: (str) what geography name to use\n",
    "    \n",
    "    Returns a table where the rows are the geography and the columns are levels of funding by investment type\n",
    "    \n",
    "    '''\n",
    "    \n",
    "    #Period to consider\n",
    "    #period = np.arange(years[0],years[1])\n",
    "    \n",
    "    #Subset by the year\n",
    "    #df_in_period = df.loc[[x.year in period for x in df['announced_on']]]\n",
    "    \n",
    "    #Pivot\n",
    "    out = pd.pivot_table(df,index=[geography,'announced_year'],columns='investment_type',values='raised_amount_gbp',aggfunc='sum').fillna(0)\n",
    "    \n",
    "    return(out)\n",
    "    "
   ]
  },
  {
   "cell_type": "code",
   "execution_count": 9,
   "metadata": {},
   "outputs": [],
   "source": [
    "def make_indicator(table,target_path,var_lookup,year_var,nuts_var='nuts_code',nuts_spec=2018,decimals=3):\n",
    "    '''\n",
    "    We use this function to create and save indicators using our standardised format.\n",
    "    \n",
    "    Args:\n",
    "        table (df) is a df with relevant information\n",
    "        target_path (str) is the location of the directory where we want to save the data (includes interim and processed)\n",
    "        var_lookup (dict) is a lookup to rename the variable into our standardised name\n",
    "        year (str) is the name of the year variable\n",
    "        nuts_var (str) is the name of the NUTS code variable. We assume it is nuts_code\n",
    "        nuts_spec (y) is the value of the NUTS specification. We assume we are working with 2018 NUTS\n",
    "    \n",
    "    '''\n",
    "    #Copy\n",
    "    t = table.reset_index(drop=False)\n",
    "    \n",
    "    #Reset index (we assume that the index is the nuts code, var name and year - this might need to be changed)\n",
    "    \n",
    "    \n",
    "    #Process the interim data into an indicator\n",
    "    \n",
    "    #This is the variable name and code\n",
    "    var_name = list(var_lookup.keys())[0]\n",
    "    \n",
    "    var_code = list(var_lookup.values())[0]\n",
    "    \n",
    "    #Focus on those\n",
    "    t = t[[year_var,nuts_var,var_name]]\n",
    "    \n",
    "    #Add the nuts specification\n",
    "    t['nuts_year_spec'] = nuts_spec\n",
    "    \n",
    "    #Rename variables\n",
    "    t.rename(columns={var_name:var_code,year_var:'year',nuts_var:'nuts_id'},inplace=True)\n",
    "\n",
    "    #Round variables\n",
    "    t[var_code] = [np.round(x,decimals) if decimals>0 else int(x) for x in t[var_code]]\n",
    "    \n",
    "    \n",
    "    #Reorder variables\n",
    "    t = t[['year','nuts_id','nuts_year_spec',var_code]]\n",
    "    \n",
    "    print(t.head())\n",
    "    \n",
    "    #Save in the processed folder\n",
    "    t.to_csv(f'../../data/processed/{target_path}/{var_code}.csv',index=False)"
   ]
  },
  {
   "cell_type": "markdown",
   "metadata": {},
   "source": [
    "## 1. Load Data"
   ]
  },
  {
   "cell_type": "markdown",
   "metadata": {},
   "source": [
    "### Setup"
   ]
  },
  {
   "cell_type": "code",
   "execution_count": 10,
   "metadata": {},
   "outputs": [],
   "source": [
    "# Download CrunchBase data using DAPS\n",
    "\n",
    "my_config = '../../mysqldb_team.config'\n",
    "\n",
    "#Create connection with SQL\n",
    "con = get_engine(my_config)"
   ]
  },
  {
   "cell_type": "markdown",
   "metadata": {},
   "source": [
    "#### Organisations\n",
    "\n",
    "This is the list of organisations we want to wo"
   ]
  },
  {
   "cell_type": "code",
   "execution_count": 11,
   "metadata": {},
   "outputs": [],
   "source": [
    "#Read data\n",
    "cb_orgs = get_daps_data('crunchbase_organizations',con)"
   ]
  },
  {
   "cell_type": "code",
   "execution_count": 12,
   "metadata": {},
   "outputs": [
    {
     "data": {
      "text/html": [
       "<div>\n",
       "<style scoped>\n",
       "    .dataframe tbody tr th:only-of-type {\n",
       "        vertical-align: middle;\n",
       "    }\n",
       "\n",
       "    .dataframe tbody tr th {\n",
       "        vertical-align: top;\n",
       "    }\n",
       "\n",
       "    .dataframe thead th {\n",
       "        text-align: right;\n",
       "    }\n",
       "</style>\n",
       "<table border=\"1\" class=\"dataframe\">\n",
       "  <thead>\n",
       "    <tr style=\"text-align: right;\">\n",
       "      <th></th>\n",
       "      <th>id</th>\n",
       "      <th>company_name</th>\n",
       "      <th>roles</th>\n",
       "      <th>permalink</th>\n",
       "      <th>domain</th>\n",
       "      <th>homepage_url</th>\n",
       "      <th>country</th>\n",
       "      <th>state_code</th>\n",
       "      <th>region</th>\n",
       "      <th>city</th>\n",
       "      <th>...</th>\n",
       "      <th>twitter_url</th>\n",
       "      <th>aliases</th>\n",
       "      <th>created_at</th>\n",
       "      <th>updated_at</th>\n",
       "      <th>primary_role</th>\n",
       "      <th>type</th>\n",
       "      <th>long_description</th>\n",
       "      <th>parent_id</th>\n",
       "      <th>is_health</th>\n",
       "      <th>mesh_terms</th>\n",
       "    </tr>\n",
       "  </thead>\n",
       "  <tbody>\n",
       "    <tr>\n",
       "      <th>0</th>\n",
       "      <td>00000aa4-ba42-9b68-a9c3-040c9f3bf9b9</td>\n",
       "      <td>Formel D GmbH</td>\n",
       "      <td>company</td>\n",
       "      <td>/organization/formel-d-gmbh</td>\n",
       "      <td>formeld.com</td>\n",
       "      <td>http://www.formeld.com</td>\n",
       "      <td>Germany</td>\n",
       "      <td>None</td>\n",
       "      <td>DEU - Other</td>\n",
       "      <td>Troisdorf</td>\n",
       "      <td>...</td>\n",
       "      <td>https://www.twitter.com/formeld_es</td>\n",
       "      <td>None</td>\n",
       "      <td>2016-06-01 06:58:37</td>\n",
       "      <td>2018-10-26 22:19:19</td>\n",
       "      <td>company</td>\n",
       "      <td>organization</td>\n",
       "      <td>Formel D GmbH is a automotive manufacturer and...</td>\n",
       "      <td>None</td>\n",
       "      <td>0</td>\n",
       "      <td>None</td>\n",
       "    </tr>\n",
       "    <tr>\n",
       "      <th>1</th>\n",
       "      <td>000014da-0c46-b9cb-0941-3a93c027b119</td>\n",
       "      <td>Resilio</td>\n",
       "      <td>company</td>\n",
       "      <td>/organization/resiliohq</td>\n",
       "      <td>resiliohq.com</td>\n",
       "      <td>http://www.resiliohq.com</td>\n",
       "      <td>Denmark</td>\n",
       "      <td>None</td>\n",
       "      <td>None</td>\n",
       "      <td>Aarhus</td>\n",
       "      <td>...</td>\n",
       "      <td>https://twitter.com/andersresilio</td>\n",
       "      <td>None</td>\n",
       "      <td>2017-05-03 20:09:32</td>\n",
       "      <td>2018-10-26 23:15:32</td>\n",
       "      <td>company</td>\n",
       "      <td>organization</td>\n",
       "      <td>By combining state of the art signal processin...</td>\n",
       "      <td>None</td>\n",
       "      <td>1</td>\n",
       "      <td>Games, Recreational|Signal Processing, Compute...</td>\n",
       "    </tr>\n",
       "    <tr>\n",
       "      <th>2</th>\n",
       "      <td>00001b2d-a4f7-55d5-d69a-17acbac9c17b</td>\n",
       "      <td>STD Risk Calculator</td>\n",
       "      <td>company</td>\n",
       "      <td>/organization/std-risk-calculator</td>\n",
       "      <td>stdriskcalculator.com</td>\n",
       "      <td>http://www.stdriskcalculator.com</td>\n",
       "      <td>None</td>\n",
       "      <td>None</td>\n",
       "      <td>None</td>\n",
       "      <td>None</td>\n",
       "      <td>...</td>\n",
       "      <td>http://twitter.com/STDRisk</td>\n",
       "      <td>None</td>\n",
       "      <td>2012-03-18 06:23:27</td>\n",
       "      <td>2018-10-26 23:30:24</td>\n",
       "      <td>company</td>\n",
       "      <td>organization</td>\n",
       "      <td>STD Risk Calculator is a company dedicated to ...</td>\n",
       "      <td>None</td>\n",
       "      <td>1</td>\n",
       "      <td>Gonorrhea|Syphilis|Sexual Health|Sexually Tran...</td>\n",
       "    </tr>\n",
       "    <tr>\n",
       "      <th>3</th>\n",
       "      <td>00001dba-e22c-2285-55ee-352a8b087a04</td>\n",
       "      <td>Buy Man Things</td>\n",
       "      <td>company</td>\n",
       "      <td>/organization/buy-man-things</td>\n",
       "      <td>buymanthings.com</td>\n",
       "      <td>http://buymanthings.com</td>\n",
       "      <td>None</td>\n",
       "      <td>None</td>\n",
       "      <td>None</td>\n",
       "      <td>None</td>\n",
       "      <td>...</td>\n",
       "      <td>http://twitter.com/buymanthings</td>\n",
       "      <td>None</td>\n",
       "      <td>2013-08-10 00:59:51</td>\n",
       "      <td>2018-10-26 21:45:19</td>\n",
       "      <td>company</td>\n",
       "      <td>organization</td>\n",
       "      <td>Buy Man Things is an online men's magazine fea...</td>\n",
       "      <td>None</td>\n",
       "      <td>0</td>\n",
       "      <td>None</td>\n",
       "    </tr>\n",
       "    <tr>\n",
       "      <th>4</th>\n",
       "      <td>0000221d-6dfd-a049-dcfc-b4a5ca3b0fe7</td>\n",
       "      <td>Stabil Capital Management</td>\n",
       "      <td>company</td>\n",
       "      <td>/organization/stabil-capital-management</td>\n",
       "      <td>None</td>\n",
       "      <td>None</td>\n",
       "      <td>None</td>\n",
       "      <td>None</td>\n",
       "      <td>None</td>\n",
       "      <td>None</td>\n",
       "      <td>...</td>\n",
       "      <td>None</td>\n",
       "      <td>None</td>\n",
       "      <td>2016-10-03 16:35:46</td>\n",
       "      <td>2018-02-12 23:47:40</td>\n",
       "      <td>company</td>\n",
       "      <td>organization</td>\n",
       "      <td>None</td>\n",
       "      <td>None</td>\n",
       "      <td>0</td>\n",
       "      <td>None</td>\n",
       "    </tr>\n",
       "  </tbody>\n",
       "</table>\n",
       "<p>5 rows × 36 columns</p>\n",
       "</div>"
      ],
      "text/plain": [
       "                                     id               company_name    roles  \\\n",
       "0  00000aa4-ba42-9b68-a9c3-040c9f3bf9b9              Formel D GmbH  company   \n",
       "1  000014da-0c46-b9cb-0941-3a93c027b119                    Resilio  company   \n",
       "2  00001b2d-a4f7-55d5-d69a-17acbac9c17b        STD Risk Calculator  company   \n",
       "3  00001dba-e22c-2285-55ee-352a8b087a04             Buy Man Things  company   \n",
       "4  0000221d-6dfd-a049-dcfc-b4a5ca3b0fe7  Stabil Capital Management  company   \n",
       "\n",
       "                                 permalink                 domain  \\\n",
       "0              /organization/formel-d-gmbh            formeld.com   \n",
       "1                  /organization/resiliohq          resiliohq.com   \n",
       "2        /organization/std-risk-calculator  stdriskcalculator.com   \n",
       "3             /organization/buy-man-things       buymanthings.com   \n",
       "4  /organization/stabil-capital-management                   None   \n",
       "\n",
       "                       homepage_url  country state_code       region  \\\n",
       "0            http://www.formeld.com  Germany       None  DEU - Other   \n",
       "1          http://www.resiliohq.com  Denmark       None         None   \n",
       "2  http://www.stdriskcalculator.com     None       None         None   \n",
       "3           http://buymanthings.com     None       None         None   \n",
       "4                              None     None       None         None   \n",
       "\n",
       "        city  ...                         twitter_url aliases  \\\n",
       "0  Troisdorf  ...  https://www.twitter.com/formeld_es    None   \n",
       "1     Aarhus  ...   https://twitter.com/andersresilio    None   \n",
       "2       None  ...          http://twitter.com/STDRisk    None   \n",
       "3       None  ...     http://twitter.com/buymanthings    None   \n",
       "4       None  ...                                None    None   \n",
       "\n",
       "           created_at          updated_at  primary_role          type  \\\n",
       "0 2016-06-01 06:58:37 2018-10-26 22:19:19       company  organization   \n",
       "1 2017-05-03 20:09:32 2018-10-26 23:15:32       company  organization   \n",
       "2 2012-03-18 06:23:27 2018-10-26 23:30:24       company  organization   \n",
       "3 2013-08-10 00:59:51 2018-10-26 21:45:19       company  organization   \n",
       "4 2016-10-03 16:35:46 2018-02-12 23:47:40       company  organization   \n",
       "\n",
       "                                    long_description parent_id is_health  \\\n",
       "0  Formel D GmbH is a automotive manufacturer and...      None         0   \n",
       "1  By combining state of the art signal processin...      None         1   \n",
       "2  STD Risk Calculator is a company dedicated to ...      None         1   \n",
       "3  Buy Man Things is an online men's magazine fea...      None         0   \n",
       "4                                               None      None         0   \n",
       "\n",
       "                                          mesh_terms  \n",
       "0                                               None  \n",
       "1  Games, Recreational|Signal Processing, Compute...  \n",
       "2  Gonorrhea|Syphilis|Sexual Health|Sexually Tran...  \n",
       "3                                               None  \n",
       "4                                               None  \n",
       "\n",
       "[5 rows x 36 columns]"
      ]
     },
     "execution_count": 12,
     "metadata": {},
     "output_type": "execute_result"
    }
   ],
   "source": [
    "cb_orgs.head()"
   ]
  },
  {
   "cell_type": "markdown",
   "metadata": {},
   "source": [
    "Every organisation has an id and a location id"
   ]
  },
  {
   "cell_type": "markdown",
   "metadata": {},
   "source": [
    "### Funding rounds\n",
    "\n",
    "Funding rounds for organisations"
   ]
  },
  {
   "cell_type": "code",
   "execution_count": 13,
   "metadata": {},
   "outputs": [],
   "source": [
    "cb_funding_rounds = get_daps_data('crunchbase_funding_rounds',con)"
   ]
  },
  {
   "cell_type": "code",
   "execution_count": 14,
   "metadata": {},
   "outputs": [
    {
     "data": {
      "text/html": [
       "<div>\n",
       "<style scoped>\n",
       "    .dataframe tbody tr th:only-of-type {\n",
       "        vertical-align: middle;\n",
       "    }\n",
       "\n",
       "    .dataframe tbody tr th {\n",
       "        vertical-align: top;\n",
       "    }\n",
       "\n",
       "    .dataframe thead th {\n",
       "        text-align: right;\n",
       "    }\n",
       "</style>\n",
       "<table border=\"1\" class=\"dataframe\">\n",
       "  <thead>\n",
       "    <tr style=\"text-align: right;\">\n",
       "      <th></th>\n",
       "      <th>funding_round_id</th>\n",
       "      <th>company_name</th>\n",
       "      <th>location_id</th>\n",
       "      <th>country</th>\n",
       "      <th>state_code</th>\n",
       "      <th>region</th>\n",
       "      <th>city</th>\n",
       "      <th>investment_type</th>\n",
       "      <th>announced_on</th>\n",
       "      <th>raised_amount_usd</th>\n",
       "      <th>...</th>\n",
       "      <th>post_money_valuation_usd</th>\n",
       "      <th>post_money_valuation</th>\n",
       "      <th>post_money_currency_code</th>\n",
       "      <th>investor_count</th>\n",
       "      <th>cb_url</th>\n",
       "      <th>company_id</th>\n",
       "      <th>created_at</th>\n",
       "      <th>updated_at</th>\n",
       "      <th>investor_names</th>\n",
       "      <th>investor_ids</th>\n",
       "    </tr>\n",
       "  </thead>\n",
       "  <tbody>\n",
       "    <tr>\n",
       "      <th>0</th>\n",
       "      <td>00006645-9ef6-8958-129a-2e225e577eb8</td>\n",
       "      <td>OnPath Technologies</td>\n",
       "      <td>marlton_united-states</td>\n",
       "      <td>United States</td>\n",
       "      <td>NJ</td>\n",
       "      <td>NJ - Other</td>\n",
       "      <td>Marlton</td>\n",
       "      <td>series_a</td>\n",
       "      <td>2007-03-17</td>\n",
       "      <td>8500000.0</td>\n",
       "      <td>...</td>\n",
       "      <td>NaN</td>\n",
       "      <td>NaN</td>\n",
       "      <td>None</td>\n",
       "      <td>NaN</td>\n",
       "      <td>https://www.crunchbase.com/funding-round/onpat...</td>\n",
       "      <td>dfaccc94-3874-9fa7-f1f9-680dbd7d5f2c</td>\n",
       "      <td>2010-12-14 07:02:56</td>\n",
       "      <td>2018-02-12 23:37:51</td>\n",
       "      <td>{}</td>\n",
       "      <td>{}</td>\n",
       "    </tr>\n",
       "    <tr>\n",
       "      <th>1</th>\n",
       "      <td>00014924-0e2b-bd9e-65b9-da6cc58959dd</td>\n",
       "      <td>Distributed ID</td>\n",
       "      <td>toronto_canada</td>\n",
       "      <td>Canada</td>\n",
       "      <td>ON</td>\n",
       "      <td>Toronto</td>\n",
       "      <td>Toronto</td>\n",
       "      <td>seed</td>\n",
       "      <td>2017-02-01</td>\n",
       "      <td>103461.0</td>\n",
       "      <td>...</td>\n",
       "      <td>1636226.0</td>\n",
       "      <td>2135000.0</td>\n",
       "      <td>CAD</td>\n",
       "      <td>NaN</td>\n",
       "      <td>https://www.crunchbase.com/funding-round/distr...</td>\n",
       "      <td>abb6101f-f808-fa9a-ec1c-1f7b4cc64513</td>\n",
       "      <td>2017-07-08 03:31:12</td>\n",
       "      <td>2018-07-17 07:46:49</td>\n",
       "      <td>{}</td>\n",
       "      <td>{}</td>\n",
       "    </tr>\n",
       "    <tr>\n",
       "      <th>2</th>\n",
       "      <td>00015b5a-54e6-4285-9c9e-2374cb608dd7</td>\n",
       "      <td>Snaptrude</td>\n",
       "      <td>bangalore_india</td>\n",
       "      <td>India</td>\n",
       "      <td>None</td>\n",
       "      <td>Bangalore</td>\n",
       "      <td>Bangalore</td>\n",
       "      <td>seed</td>\n",
       "      <td>2017-08-30</td>\n",
       "      <td>NaN</td>\n",
       "      <td>...</td>\n",
       "      <td>NaN</td>\n",
       "      <td>NaN</td>\n",
       "      <td>None</td>\n",
       "      <td>1.0</td>\n",
       "      <td>https://www.crunchbase.com/funding-round/snapt...</td>\n",
       "      <td>ab4297e8-d9d7-99dc-6214-2bbb88bb7bcd</td>\n",
       "      <td>2019-02-07 06:07:57</td>\n",
       "      <td>2019-02-07 06:07:57</td>\n",
       "      <td>{\"Brigade Group\"}</td>\n",
       "      <td>{47d6eee4-c487-c86e-2c21-dafcf1125f62}</td>\n",
       "    </tr>\n",
       "    <tr>\n",
       "      <th>3</th>\n",
       "      <td>0001c361-4849-c8fb-d6c6-157bba9e0847</td>\n",
       "      <td>Vapor Corp</td>\n",
       "      <td>florida_united-states</td>\n",
       "      <td>United States</td>\n",
       "      <td>NY</td>\n",
       "      <td>NY - Other</td>\n",
       "      <td>Florida</td>\n",
       "      <td>debt_financing</td>\n",
       "      <td>2014-11-26</td>\n",
       "      <td>1250000.0</td>\n",
       "      <td>...</td>\n",
       "      <td>NaN</td>\n",
       "      <td>NaN</td>\n",
       "      <td>None</td>\n",
       "      <td>NaN</td>\n",
       "      <td>https://www.crunchbase.com/funding-round/vapor...</td>\n",
       "      <td>97d154d6-423e-b046-b335-f60d9b9f2279</td>\n",
       "      <td>2014-12-08 11:22:01</td>\n",
       "      <td>2018-02-12 23:19:17</td>\n",
       "      <td>{}</td>\n",
       "      <td>{}</td>\n",
       "    </tr>\n",
       "    <tr>\n",
       "      <th>4</th>\n",
       "      <td>0001cbd1-f7e2-4a56-607c-c57f46cc7dcb</td>\n",
       "      <td>CloudVelox</td>\n",
       "      <td>santa-clara_united-states</td>\n",
       "      <td>United States</td>\n",
       "      <td>CA</td>\n",
       "      <td>SF Bay Area</td>\n",
       "      <td>Santa Clara</td>\n",
       "      <td>series_c</td>\n",
       "      <td>2015-02-12</td>\n",
       "      <td>15000000.0</td>\n",
       "      <td>...</td>\n",
       "      <td>NaN</td>\n",
       "      <td>NaN</td>\n",
       "      <td>None</td>\n",
       "      <td>3.0</td>\n",
       "      <td>https://www.crunchbase.com/funding-round/cloud...</td>\n",
       "      <td>3c8f1ae9-16f1-bd5f-2800-63756ed685de</td>\n",
       "      <td>2015-02-13 06:08:29</td>\n",
       "      <td>2018-02-12 23:42:38</td>\n",
       "      <td>{\"Third Point Ventures\"}</td>\n",
       "      <td>{960ce830-967e-79c4-e98a-b402d7db9748}</td>\n",
       "    </tr>\n",
       "  </tbody>\n",
       "</table>\n",
       "<p>5 rows × 22 columns</p>\n",
       "</div>"
      ],
      "text/plain": [
       "                       funding_round_id         company_name  \\\n",
       "0  00006645-9ef6-8958-129a-2e225e577eb8  OnPath Technologies   \n",
       "1  00014924-0e2b-bd9e-65b9-da6cc58959dd       Distributed ID   \n",
       "2  00015b5a-54e6-4285-9c9e-2374cb608dd7            Snaptrude   \n",
       "3  0001c361-4849-c8fb-d6c6-157bba9e0847           Vapor Corp   \n",
       "4  0001cbd1-f7e2-4a56-607c-c57f46cc7dcb           CloudVelox   \n",
       "\n",
       "                 location_id        country state_code       region  \\\n",
       "0      marlton_united-states  United States         NJ   NJ - Other   \n",
       "1             toronto_canada         Canada         ON      Toronto   \n",
       "2            bangalore_india          India       None    Bangalore   \n",
       "3      florida_united-states  United States         NY   NY - Other   \n",
       "4  santa-clara_united-states  United States         CA  SF Bay Area   \n",
       "\n",
       "          city investment_type announced_on  raised_amount_usd  ...  \\\n",
       "0      Marlton        series_a   2007-03-17          8500000.0  ...   \n",
       "1      Toronto            seed   2017-02-01           103461.0  ...   \n",
       "2    Bangalore            seed   2017-08-30                NaN  ...   \n",
       "3      Florida  debt_financing   2014-11-26          1250000.0  ...   \n",
       "4  Santa Clara        series_c   2015-02-12         15000000.0  ...   \n",
       "\n",
       "   post_money_valuation_usd post_money_valuation  post_money_currency_code  \\\n",
       "0                       NaN                  NaN                      None   \n",
       "1                 1636226.0            2135000.0                       CAD   \n",
       "2                       NaN                  NaN                      None   \n",
       "3                       NaN                  NaN                      None   \n",
       "4                       NaN                  NaN                      None   \n",
       "\n",
       "   investor_count                                             cb_url  \\\n",
       "0             NaN  https://www.crunchbase.com/funding-round/onpat...   \n",
       "1             NaN  https://www.crunchbase.com/funding-round/distr...   \n",
       "2             1.0  https://www.crunchbase.com/funding-round/snapt...   \n",
       "3             NaN  https://www.crunchbase.com/funding-round/vapor...   \n",
       "4             3.0  https://www.crunchbase.com/funding-round/cloud...   \n",
       "\n",
       "                             company_id          created_at  \\\n",
       "0  dfaccc94-3874-9fa7-f1f9-680dbd7d5f2c 2010-12-14 07:02:56   \n",
       "1  abb6101f-f808-fa9a-ec1c-1f7b4cc64513 2017-07-08 03:31:12   \n",
       "2  ab4297e8-d9d7-99dc-6214-2bbb88bb7bcd 2019-02-07 06:07:57   \n",
       "3  97d154d6-423e-b046-b335-f60d9b9f2279 2014-12-08 11:22:01   \n",
       "4  3c8f1ae9-16f1-bd5f-2800-63756ed685de 2015-02-13 06:08:29   \n",
       "\n",
       "           updated_at            investor_names  \\\n",
       "0 2018-02-12 23:37:51                        {}   \n",
       "1 2018-07-17 07:46:49                        {}   \n",
       "2 2019-02-07 06:07:57         {\"Brigade Group\"}   \n",
       "3 2018-02-12 23:19:17                        {}   \n",
       "4 2018-02-12 23:42:38  {\"Third Point Ventures\"}   \n",
       "\n",
       "                             investor_ids  \n",
       "0                                      {}  \n",
       "1                                      {}  \n",
       "2  {47d6eee4-c487-c86e-2c21-dafcf1125f62}  \n",
       "3                                      {}  \n",
       "4  {960ce830-967e-79c4-e98a-b402d7db9748}  \n",
       "\n",
       "[5 rows x 22 columns]"
      ]
     },
     "execution_count": 14,
     "metadata": {},
     "output_type": "execute_result"
    }
   ],
   "source": [
    "cb_funding_rounds.head()"
   ]
  },
  {
   "cell_type": "markdown",
   "metadata": {},
   "source": [
    "Each funding round has the company name and location id, the investment type and the year. This means that we don't need the organisation data for the funding measurements"
   ]
  },
  {
   "cell_type": "markdown",
   "metadata": {},
   "source": [
    "### Reverse geocoded place ids\n",
    "\n",
    "We have reverse geocoded place ids with their NUTS and LEPS code in notebook `0_rev_geocoder`. \n",
    "\n",
    "We load that information here and use it to generate indicators of activity by NUTS and LEPS area in the UK."
   ]
  },
  {
   "cell_type": "code",
   "execution_count": 15,
   "metadata": {},
   "outputs": [],
   "source": [
    "places = pd.read_csv('../../data/interim/crunchbase/2020_02_18_rev_geocoded_places.csv')"
   ]
  },
  {
   "cell_type": "code",
   "execution_count": 16,
   "metadata": {},
   "outputs": [
    {
     "data": {
      "text/html": [
       "<div>\n",
       "<style scoped>\n",
       "    .dataframe tbody tr th:only-of-type {\n",
       "        vertical-align: middle;\n",
       "    }\n",
       "\n",
       "    .dataframe tbody tr th {\n",
       "        vertical-align: top;\n",
       "    }\n",
       "\n",
       "    .dataframe thead th {\n",
       "        text-align: right;\n",
       "    }\n",
       "</style>\n",
       "<table border=\"1\" class=\"dataframe\">\n",
       "  <thead>\n",
       "    <tr style=\"text-align: right;\">\n",
       "      <th></th>\n",
       "      <th>location_id</th>\n",
       "      <th>nuts218cd</th>\n",
       "      <th>nuts218nm</th>\n",
       "      <th>lep17cd</th>\n",
       "      <th>lep17nm</th>\n",
       "    </tr>\n",
       "  </thead>\n",
       "  <tbody>\n",
       "    <tr>\n",
       "      <th>0</th>\n",
       "      <td>abbots-langley_united-kingdom</td>\n",
       "      <td>UKH2</td>\n",
       "      <td>Bedfordshire and Hertfordshire</td>\n",
       "      <td>E37000017</td>\n",
       "      <td>Hertfordshire</td>\n",
       "    </tr>\n",
       "    <tr>\n",
       "      <th>1</th>\n",
       "      <td>ampthill_united-kingdom</td>\n",
       "      <td>UKH2</td>\n",
       "      <td>Bedfordshire and Hertfordshire</td>\n",
       "      <td>E37000041</td>\n",
       "      <td>South East Midlands</td>\n",
       "    </tr>\n",
       "    <tr>\n",
       "      <th>2</th>\n",
       "      <td>ardeley_united-kingdom</td>\n",
       "      <td>UKH2</td>\n",
       "      <td>Bedfordshire and Hertfordshire</td>\n",
       "      <td>E37000017</td>\n",
       "      <td>Hertfordshire</td>\n",
       "    </tr>\n",
       "    <tr>\n",
       "      <th>3</th>\n",
       "      <td>arlesey_united-kingdom</td>\n",
       "      <td>UKH2</td>\n",
       "      <td>Bedfordshire and Hertfordshire</td>\n",
       "      <td>E37000041</td>\n",
       "      <td>South East Midlands</td>\n",
       "    </tr>\n",
       "    <tr>\n",
       "      <th>4</th>\n",
       "      <td>ashwell_united-kingdom</td>\n",
       "      <td>UKH2</td>\n",
       "      <td>Bedfordshire and Hertfordshire</td>\n",
       "      <td>E37000017</td>\n",
       "      <td>Hertfordshire</td>\n",
       "    </tr>\n",
       "  </tbody>\n",
       "</table>\n",
       "</div>"
      ],
      "text/plain": [
       "                     location_id nuts218cd                       nuts218nm  \\\n",
       "0  abbots-langley_united-kingdom      UKH2  Bedfordshire and Hertfordshire   \n",
       "1        ampthill_united-kingdom      UKH2  Bedfordshire and Hertfordshire   \n",
       "2         ardeley_united-kingdom      UKH2  Bedfordshire and Hertfordshire   \n",
       "3         arlesey_united-kingdom      UKH2  Bedfordshire and Hertfordshire   \n",
       "4         ashwell_united-kingdom      UKH2  Bedfordshire and Hertfordshire   \n",
       "\n",
       "     lep17cd              lep17nm  \n",
       "0  E37000017        Hertfordshire  \n",
       "1  E37000041  South East Midlands  \n",
       "2  E37000017        Hertfordshire  \n",
       "3  E37000041  South East Midlands  \n",
       "4  E37000017        Hertfordshire  "
      ]
     },
     "execution_count": 16,
     "metadata": {},
     "output_type": "execute_result"
    }
   ],
   "source": [
    "places.head()"
   ]
  },
  {
   "cell_type": "markdown",
   "metadata": {},
   "source": [
    "## 2. Process data"
   ]
  },
  {
   "cell_type": "markdown",
   "metadata": {},
   "source": [
    "### a. Number of technology companies indicator\n",
    "\n",
    "This is the number of active companies in a NUTS or LEP."
   ]
  },
  {
   "cell_type": "code",
   "execution_count": 20,
   "metadata": {},
   "outputs": [
    {
     "name": "stderr",
     "output_type": "stream",
     "text": [
      "/Users/jmateosgarcia/anaconda3/lib/python3.7/site-packages/ipykernel_launcher.py:5: SettingWithCopyWarning: \n",
      "A value is trying to be set on a copy of a slice from a DataFrame.\n",
      "Try using .loc[row_indexer,col_indexer] = value instead\n",
      "\n",
      "See the caveats in the documentation: http://pandas.pydata.org/pandas-docs/stable/user_guide/indexing.html#returning-a-view-versus-a-copy\n",
      "  \"\"\"\n"
     ]
    }
   ],
   "source": [
    "cb_orgs_geo = pd.merge(cb_orgs,places,left_on='location_id',right_on='location_id')\n",
    "\n",
    "#We remove organisations without founding year\n",
    "cb_orgs_geo_time = cb_orgs_geo.dropna(axis=0,subset=['founded_on'])\n",
    "cb_orgs_geo_time['founding_year'] = [x.year for x in cb_orgs_geo_time['founded_on']]"
   ]
  },
  {
   "cell_type": "code",
   "execution_count": 21,
   "metadata": {},
   "outputs": [],
   "source": [
    "#Focus on active companies\n",
    "\n",
    "uk_comps = cb_orgs_geo.loc[(cb_orgs_geo['primary_role']=='company')&(cb_orgs_geo['status']=='operating')&(cb_orgs_geo['country']=='United Kingdom')]\n"
   ]
  },
  {
   "cell_type": "code",
   "execution_count": 22,
   "metadata": {},
   "outputs": [
    {
     "data": {
      "text/plain": [
       "(34721, 40)"
      ]
     },
     "execution_count": 22,
     "metadata": {},
     "output_type": "execute_result"
    }
   ],
   "source": [
    "uk_comps.shape"
   ]
  },
  {
   "cell_type": "code",
   "execution_count": 23,
   "metadata": {},
   "outputs": [
    {
     "data": {
      "text/plain": [
       "(34721, 40)"
      ]
     },
     "execution_count": 23,
     "metadata": {},
     "output_type": "execute_result"
    }
   ],
   "source": [
    "uk_comps.shape"
   ]
  },
  {
   "cell_type": "code",
   "execution_count": 24,
   "metadata": {},
   "outputs": [
    {
     "data": {
      "text/plain": [
       "Inner London - West                                 16823\n",
       "Berkshire, Buckinghamshire and Oxfordshire           1636\n",
       "Surrey, East and West Sussex                         1181\n",
       "East Anglia                                          1122\n",
       "Greater Manchester                                   1081\n",
       "Gloucestershire, Wiltshire and Bath/Bristol area     1055\n",
       "Eastern Scotland                                      878\n",
       "West Midlands                                         758\n",
       "Hampshire and Isle of Wight                           610\n",
       "Bedfordshire and Hertfordshire                        596\n",
       "Name: nuts218nm, dtype: int64"
      ]
     },
     "execution_count": 24,
     "metadata": {},
     "output_type": "execute_result"
    }
   ],
   "source": [
    "uk_comps['nuts218nm'].value_counts().head(n=10)"
   ]
  },
  {
   "cell_type": "code",
   "execution_count": 25,
   "metadata": {},
   "outputs": [
    {
     "data": {
      "text/plain": [
       "London                                        17606\n",
       "Greater Manchester                             1081\n",
       "South East                                      863\n",
       "Greater Cambridge and Greater Peterborough      818\n",
       "Coast to Capital                                796\n",
       "Leeds City Region                               795\n",
       "Enterprise M3                                   716\n",
       "West of England                                 683\n",
       "Greater Birmingham and Solihull                 622\n",
       "Oxfordshire                                     599\n",
       "Name: lep17nm, dtype: int64"
      ]
     },
     "execution_count": 25,
     "metadata": {},
     "output_type": "execute_result"
    }
   ],
   "source": [
    "uk_comps['lep17nm'].value_counts().head(n=10)"
   ]
  },
  {
   "cell_type": "code",
   "execution_count": 26,
   "metadata": {},
   "outputs": [],
   "source": [
    "#Create activity files\n",
    "nuts_orgs,leps_orgs = [uk_comps.groupby(var).size() for var in [['nuts218nm','nuts218cd'],['lep17nm','lep17cd']]]\n",
    "\n",
    "#Name the series\n",
    "nuts_orgs.name='company_n'\n",
    "leps_orgs.name='company_n'"
   ]
  },
  {
   "cell_type": "markdown",
   "metadata": {},
   "source": [
    "### b. Level of VC and seed funding indicator\n",
    "\n",
    "Here we merge the geocoded df with the funding one and then create a function that aggregates funding by location & category for a threshold year."
   ]
  },
  {
   "cell_type": "code",
   "execution_count": 27,
   "metadata": {},
   "outputs": [],
   "source": [
    "inv_geo = pd.merge(cb_funding_rounds,places,left_on='location_id',right_on='location_id')"
   ]
  },
  {
   "cell_type": "code",
   "execution_count": 28,
   "metadata": {},
   "outputs": [
    {
     "data": {
      "text/plain": [
       "GBP    9194\n",
       "EUR    1110\n",
       "AUD      13\n",
       "ISK      13\n",
       "CAD       9\n",
       "Name: raised_amount_currency_code, dtype: int64"
      ]
     },
     "execution_count": 28,
     "metadata": {},
     "output_type": "execute_result"
    }
   ],
   "source": [
    "#We will need a python currency converter.\n",
    "inv_geo['raised_amount_currency_code'].value_counts().head()"
   ]
  },
  {
   "cell_type": "code",
   "execution_count": 29,
   "metadata": {},
   "outputs": [
    {
     "data": {
      "text/plain": [
       "Index(['funding_round_id', 'company_name', 'location_id', 'country',\n",
       "       'state_code', 'region', 'city', 'investment_type', 'announced_on',\n",
       "       'raised_amount_usd', 'raised_amount', 'raised_amount_currency_code',\n",
       "       'post_money_valuation_usd', 'post_money_valuation',\n",
       "       'post_money_currency_code', 'investor_count', 'cb_url', 'company_id',\n",
       "       'created_at', 'updated_at', 'investor_names', 'investor_ids',\n",
       "       'nuts218cd', 'nuts218nm', 'lep17cd', 'lep17nm'],\n",
       "      dtype='object')"
      ]
     },
     "execution_count": 29,
     "metadata": {},
     "output_type": "execute_result"
    }
   ],
   "source": [
    "inv_geo.columns"
   ]
  },
  {
   "cell_type": "markdown",
   "metadata": {},
   "source": [
    "#### Conversion strategy\n",
    "\n",
    "We will use the announcement date and the currency information"
   ]
  },
  {
   "cell_type": "code",
   "execution_count": 30,
   "metadata": {},
   "outputs": [],
   "source": [
    "from forex_python.converter import CurrencyRates\n",
    "c = CurrencyRates()"
   ]
  },
  {
   "cell_type": "code",
   "execution_count": 31,
   "metadata": {},
   "outputs": [
    {
     "name": "stdout",
     "output_type": "stream",
     "text": [
      "971\n",
      "980\n",
      "1158\n",
      "2033\n",
      "2242\n",
      "3078\n",
      "4419\n",
      "5273\n",
      "5961\n",
      "6408\n",
      "9648\n",
      "15351\n",
      "15356\n",
      "15358\n",
      "17646\n"
     ]
    }
   ],
   "source": [
    "#If an amount is not in GBP convert to GBP, if not, keep it as is\n",
    "\n",
    "inv_geo['raised_amount_gbp'] = [make_conversion(x,rid) for rid,x in inv_geo.iterrows()]"
   ]
  },
  {
   "cell_type": "code",
   "execution_count": 32,
   "metadata": {},
   "outputs": [],
   "source": [
    "inv_geo['announced_year'] = [x.year for x in inv_geo['announced_on']]"
   ]
  },
  {
   "cell_type": "code",
   "execution_count": 33,
   "metadata": {},
   "outputs": [],
   "source": [
    "#Use the indicators_w_threshold function to calculate levels of investment by NUTS and LEPS area\n",
    "inv_nuts_2,inv_leps = [aggregate_investments(inv_geo,var) for var in ['nuts218cd','lep17cd']]"
   ]
  },
  {
   "cell_type": "code",
   "execution_count": 34,
   "metadata": {},
   "outputs": [],
   "source": [
    "inv_nuts_2_recent = inv_nuts_2.loc[inv_nuts_2.index.get_level_values('announced_year')>2010]"
   ]
  },
  {
   "cell_type": "code",
   "execution_count": 35,
   "metadata": {},
   "outputs": [],
   "source": [
    "#inv_nuts_2.sum().sort_values(ascending=False).head()"
   ]
  },
  {
   "cell_type": "code",
   "execution_count": 39,
   "metadata": {},
   "outputs": [
    {
     "data": {
      "text/html": [
       "<div>\n",
       "<style scoped>\n",
       "    .dataframe tbody tr th:only-of-type {\n",
       "        vertical-align: middle;\n",
       "    }\n",
       "\n",
       "    .dataframe tbody tr th {\n",
       "        vertical-align: top;\n",
       "    }\n",
       "\n",
       "    .dataframe thead th {\n",
       "        text-align: right;\n",
       "    }\n",
       "</style>\n",
       "<table border=\"1\" class=\"dataframe\">\n",
       "  <thead>\n",
       "    <tr style=\"text-align: right;\">\n",
       "      <th></th>\n",
       "      <th></th>\n",
       "      <th>venture_capital_investment</th>\n",
       "    </tr>\n",
       "    <tr>\n",
       "      <th>nuts218cd</th>\n",
       "      <th>announced_year</th>\n",
       "      <th></th>\n",
       "    </tr>\n",
       "  </thead>\n",
       "  <tbody>\n",
       "    <tr>\n",
       "      <th rowspan=\"5\" valign=\"top\">UKC1</th>\n",
       "      <th>2011</th>\n",
       "      <td>2836118.0</td>\n",
       "    </tr>\n",
       "    <tr>\n",
       "      <th>2012</th>\n",
       "      <td>10000000.0</td>\n",
       "    </tr>\n",
       "    <tr>\n",
       "      <th>2013</th>\n",
       "      <td>19031230.0</td>\n",
       "    </tr>\n",
       "    <tr>\n",
       "      <th>2014</th>\n",
       "      <td>35292594.0</td>\n",
       "    </tr>\n",
       "    <tr>\n",
       "      <th>2015</th>\n",
       "      <td>92000000.0</td>\n",
       "    </tr>\n",
       "    <tr>\n",
       "      <th>...</th>\n",
       "      <th>...</th>\n",
       "      <td>...</td>\n",
       "    </tr>\n",
       "    <tr>\n",
       "      <th rowspan=\"5\" valign=\"top\">UKN0</th>\n",
       "      <th>2015</th>\n",
       "      <td>1732240.0</td>\n",
       "    </tr>\n",
       "    <tr>\n",
       "      <th>2016</th>\n",
       "      <td>16600000.0</td>\n",
       "    </tr>\n",
       "    <tr>\n",
       "      <th>2017</th>\n",
       "      <td>10300000.0</td>\n",
       "    </tr>\n",
       "    <tr>\n",
       "      <th>2018</th>\n",
       "      <td>14382985.0</td>\n",
       "    </tr>\n",
       "    <tr>\n",
       "      <th>2019</th>\n",
       "      <td>10100000.0</td>\n",
       "    </tr>\n",
       "  </tbody>\n",
       "</table>\n",
       "<p>359 rows × 1 columns</p>\n",
       "</div>"
      ],
      "text/plain": [
       "                          venture_capital_investment\n",
       "nuts218cd announced_year                            \n",
       "UKC1      2011                             2836118.0\n",
       "          2012                            10000000.0\n",
       "          2013                            19031230.0\n",
       "          2014                            35292594.0\n",
       "          2015                            92000000.0\n",
       "...                                              ...\n",
       "UKN0      2015                             1732240.0\n",
       "          2016                            16600000.0\n",
       "          2017                            10300000.0\n",
       "          2018                            14382985.0\n",
       "          2019                            10100000.0\n",
       "\n",
       "[359 rows x 1 columns]"
      ]
     },
     "execution_count": 39,
     "metadata": {},
     "output_type": "execute_result"
    }
   ],
   "source": [
    "inv_venture = inv_nuts_2_recent[[x for x in inv_nuts_2.columns if 'series_' in x]].sum(axis=1)\n",
    "\n",
    "inv_venture.name = 'venture_capital_investment'\n",
    "\n",
    "inv_venture = pd.DataFrame(inv_venture)\n",
    "\n",
    "inv_venture"
   ]
  },
  {
   "cell_type": "markdown",
   "metadata": {},
   "source": [
    "## 3. Save data"
   ]
  },
  {
   "cell_type": "markdown",
   "metadata": {},
   "source": [
    "#### Org_data"
   ]
  },
  {
   "cell_type": "code",
   "execution_count": 40,
   "metadata": {},
   "outputs": [],
   "source": [
    "save_path = '../../data/processed/crunchbase'"
   ]
  },
  {
   "cell_type": "code",
   "execution_count": 41,
   "metadata": {},
   "outputs": [],
   "source": [
    "# for file,name in zip([nuts_orgs,inv_nuts_2,leps_orgs,inv_leps],['nuts_2_orgs','nuts_2_investment','leps_orgs','leps_investment']):\n",
    "#     save_data(file,name,save_path)"
   ]
  },
  {
   "cell_type": "code",
   "execution_count": 42,
   "metadata": {},
   "outputs": [
    {
     "name": "stdout",
     "output_type": "stream",
     "text": [
      "   year nuts_id  nuts_year_spec  gbp_venture_capital_received\n",
      "0  2011    UKC1            2016                       2836118\n",
      "1  2012    UKC1            2016                      10000000\n",
      "2  2013    UKC1            2016                      19031230\n",
      "3  2014    UKC1            2016                      35292594\n",
      "4  2015    UKC1            2016                      92000000\n"
     ]
    }
   ],
   "source": [
    "make_indicator(inv_venture,'crunchbase',{'venture_capital_investment':'gbp_venture_capital_received'},\n",
    "              year_var='announced_year',nuts_spec=2016,nuts_var='nuts218cd',decimals=0)"
   ]
  },
  {
   "cell_type": "code",
   "execution_count": null,
   "metadata": {},
   "outputs": [],
   "source": []
  }
 ],
 "metadata": {
  "kernelspec": {
   "display_name": "Python 3",
   "language": "python",
   "name": "python3"
  },
  "language_info": {
   "codemirror_mode": {
    "name": "ipython",
    "version": 3
   },
   "file_extension": ".py",
   "mimetype": "text/x-python",
   "name": "python",
   "nbconvert_exporter": "python",
   "pygments_lexer": "ipython3",
   "version": "3.7.3"
  }
 },
 "nbformat": 4,
 "nbformat_minor": 4
}
