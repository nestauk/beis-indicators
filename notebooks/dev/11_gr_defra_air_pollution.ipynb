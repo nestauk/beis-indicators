{
 "cells": [
  {
   "cell_type": "code",
   "execution_count": null,
   "metadata": {},
   "outputs": [],
   "source": [
    "%run ../notebook_preamble.ipy"
   ]
  },
  {
   "cell_type": "code",
   "execution_count": null,
   "metadata": {},
   "outputs": [],
   "source": [
    "import pyproj\n",
    "import geopandas as gpd\n",
    "import shapely\n",
    "import os\n",
    "\n",
    "shapely.speedups.enable()"
   ]
  },
  {
   "cell_type": "markdown",
   "metadata": {},
   "source": [
    "## DEFRA Data Collection"
   ]
  },
  {
   "cell_type": "markdown",
   "metadata": {},
   "source": [
    "Modelled data for air pollution across the UK is compiled by DEFRA. The values are obtained by using the data from monitoring stations and using atmospheric modelling to interpolate the data to a 1km by 1km grid across the whole country."
   ]
  },
  {
   "cell_type": "markdown",
   "metadata": {},
   "source": [
    "## PM10"
   ]
  },
  {
   "cell_type": "code",
   "execution_count": null,
   "metadata": {},
   "outputs": [],
   "source": [
    "years = range(2007, 2019)\n",
    "base_url = 'https://uk-air.defra.gov.uk/datastore/pcm/mappm10{}g.csv'"
   ]
  },
  {
   "cell_type": "code",
   "execution_count": null,
   "metadata": {},
   "outputs": [],
   "source": [
    "df_year = pd.read_csv(base_url.format(year), header=5, na_values='MISSING')"
   ]
  },
  {
   "cell_type": "code",
   "execution_count": null,
   "metadata": {},
   "outputs": [],
   "source": [
    "for i, year in enumerate(years):\n",
    "    df_year = pd.read_csv(base_url.format(year), header=5, na_values='MISSING')\n",
    "    df_year.rename(columns={f'pm10{year}g': year}, inplace=True)\n",
    "    if i == 0:\n",
    "        df = df_year\n",
    "    else:\n",
    "        df[year] = df_year[year]\n",
    "    \n",
    "df = df.dropna()"
   ]
  },
  {
   "cell_type": "code",
   "execution_count": null,
   "metadata": {},
   "outputs": [],
   "source": [
    "df.head()"
   ]
  },
  {
   "cell_type": "markdown",
   "metadata": {},
   "source": [
    "To match up with shapefiles from Eurostat, we need to convert the UK grid Coordinates (BNG) to decimal lat long coordinates."
   ]
  },
  {
   "cell_type": "code",
   "execution_count": null,
   "metadata": {},
   "outputs": [],
   "source": [
    "bng = pyproj.Proj('epsg:27700')\n",
    "wgs84 = pyproj.Proj('epsg:4326')\n",
    "\n",
    "df['lat'], df['lon'] = pyproj.transform(bng, wgs84, df['x'].values, df['y'].values)"
   ]
  },
  {
   "cell_type": "code",
   "execution_count": null,
   "metadata": {},
   "outputs": [],
   "source": [
    "gdf = gdf = gpd.GeoDataFrame(\n",
    "    df, geometry=gpd.points_from_xy(df['lon'], df['lat']))"
   ]
  },
  {
   "cell_type": "code",
   "execution_count": null,
   "metadata": {},
   "outputs": [],
   "source": [
    "gdf.head()"
   ]
  },
  {
   "cell_type": "markdown",
   "metadata": {},
   "source": [
    "We are going to assign each point in the grid to a NUTS 2 2016 region."
   ]
  },
  {
   "cell_type": "code",
   "execution_count": null,
   "metadata": {},
   "outputs": [],
   "source": [
    "year = 2016\n",
    "f'{data_path}/raw/gis/eurostat/NUTS_RG_01M_{year}_4326_LEVL_2.shp/NUTS_RG_01M_{year}_4326_LEVL_2.shp'\n",
    "eu_regions = region = gpd.read_file(file)\n",
    "uk_regions = eu_regions[eu_regions['CNTR_CODE'] == 'UK']"
   ]
  },
  {
   "cell_type": "code",
   "execution_count": null,
   "metadata": {},
   "outputs": [],
   "source": [
    "points_in_poly = gpd.sjoin(gdf, uk_regions, op='within')"
   ]
  },
  {
   "cell_type": "markdown",
   "metadata": {},
   "source": [
    "And finally we aggregate by NUTS region."
   ]
  },
  {
   "cell_type": "code",
   "execution_count": null,
   "metadata": {},
   "outputs": [],
   "source": [
    "mean_pm10 = points_in_poly.groupby('NUTS_ID')[list(years)].max().reset_index()\n",
    "max_pm10 = points_in_poly.groupby('NUTS_ID')[list(years)].max().reset_index()\n",
    "min_pm10 = points_in_poly.groupby('NUTS_ID')[list(years)].min().reset_index()"
   ]
  },
  {
   "cell_type": "code",
   "execution_count": null,
   "metadata": {},
   "outputs": [],
   "source": [
    "os.mkdir(f'{data_path}/processed/defra')"
   ]
  },
  {
   "cell_type": "code",
   "execution_count": null,
   "metadata": {},
   "outputs": [],
   "source": [
    "mean_pm10.to_csv(f'{data_path}/processed/defra/mean_pm10.csv', index=False)\n",
    "max_pm10.to_csv(f'{data_path}/processed/defra/max_pm10.csv', index=False)\n",
    "min_pm10.to_csv(f'{data_path}/processed/defra/min_pm10.csv', index=False)"
   ]
  }
 ],
 "metadata": {
  "language_info": {
   "name": "python",
   "pygments_lexer": "ipython3"
  }
 },
 "nbformat": 4,
 "nbformat_minor": 4
}
