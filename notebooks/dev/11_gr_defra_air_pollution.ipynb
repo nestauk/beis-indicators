{
 "cells": [
  {
   "cell_type": "code",
   "execution_count": null,
   "metadata": {},
   "outputs": [],
   "source": [
    "%run ../notebook_preamble.ipy"
   ]
  },
  {
   "cell_type": "code",
   "execution_count": null,
   "metadata": {},
   "outputs": [],
   "source": [
    "import pyproj\n",
    "import geopandas as gpd\n",
    "import shapely\n",
    "import os\n",
    "\n",
    "shapely.speedups.enable()"
   ]
  },
  {
   "cell_type": "markdown",
   "metadata": {},
   "source": [
    "## DEFRA Data Collection"
   ]
  },
  {
   "cell_type": "markdown",
   "metadata": {},
   "source": [
    "Modelled data for air pollution across the UK is compiled by DEFRA. The values are obtained by using the data from monitoring stations and using atmospheric modelling to interpolate the data to a 1km by 1km grid across the whole country."
   ]
  },
  {
   "cell_type": "markdown",
   "metadata": {},
   "source": [
    "## PM10"
   ]
  },
  {
   "cell_type": "code",
   "execution_count": null,
   "metadata": {},
   "outputs": [],
   "source": [
    "years = range(2007, 2019)\n",
    "base_url = 'https://uk-air.defra.gov.uk/datastore/pcm/mappm10{}g.csv'"
   ]
  },
  {
   "cell_type": "code",
   "execution_count": null,
   "metadata": {},
   "outputs": [],
   "source": [
    "for i, year in enumerate(years):\n",
    "    df_year = pd.read_csv(base_url.format(year), header=5, na_values='MISSING')\n",
    "    df_year.rename(columns={f'pm10{year}g': year}, inplace=True)\n",
    "    if i == 0:\n",
    "        df = df_year\n",
    "    else:\n",
    "        df[year] = df_year[year]\n",
    "    \n",
    "df = df.dropna()"
   ]
  },
  {
   "cell_type": "code",
   "execution_count": null,
   "metadata": {},
   "outputs": [],
   "source": [
    "df.head()"
   ]
  },
  {
   "cell_type": "markdown",
   "metadata": {},
   "source": [
    "To match up with shapefiles from Eurostat, we need to convert the UK grid Coordinates (BNG) to decimal lat long coordinates."
   ]
  },
  {
   "cell_type": "code",
   "execution_count": null,
   "metadata": {},
   "outputs": [],
   "source": [
    "bng = pyproj.Proj('epsg:27700')\n",
    "wgs84 = pyproj.Proj('epsg:4326')\n",
    "\n",
    "df['lat'], df['lon'] = pyproj.transform(bng, wgs84, df['x'].values, df['y'].values)"
   ]
  },
  {
   "cell_type": "code",
   "execution_count": null,
   "metadata": {},
   "outputs": [],
   "source": [
    "gdf = gpd.GeoDataFrame(df, geometry=gpd.points_from_xy(df['lon'], df['lat']))"
   ]
  },
  {
   "cell_type": "code",
   "execution_count": null,
   "metadata": {},
   "outputs": [],
   "source": [
    "gdf.head()"
   ]
  },
  {
   "cell_type": "markdown",
   "metadata": {},
   "source": [
    "We are going to assign each point in the grid to a NUTS 2 2016 region."
   ]
  },
  {
   "cell_type": "code",
   "execution_count": null,
   "metadata": {},
   "outputs": [],
   "source": [
    "nuts_year = 2016\n",
    "file = f'{data_path}/raw/gis/eurostat/NUTS_RG_01M_{nuts_year}_4326_LEVL_2.shp/NUTS_RG_01M_{nuts_year}_4326_LEVL_2.shp'\n",
    "eu_regions = region = gpd.read_file(file)\n",
    "uk_regions = eu_regions[eu_regions['CNTR_CODE'] == 'UK']"
   ]
  },
  {
   "cell_type": "code",
   "execution_count": null,
   "metadata": {},
   "outputs": [],
   "source": [
    "points_in_poly = gpd.sjoin(gdf, uk_regions, op='within')"
   ]
  },
  {
   "cell_type": "markdown",
   "metadata": {},
   "source": [
    "And finally we aggregate by NUTS region."
   ]
  },
  {
   "cell_type": "code",
   "execution_count": null,
   "metadata": {},
   "outputs": [],
   "source": [
    "mean_pm10 = points_in_poly.groupby('NUTS_ID')[list(years)].max().reset_index()\n",
    "mean_pm10 = (mean_pm10\n",
    "             .set_index('NUTS_ID')\n",
    "             .unstack(level=0)\n",
    "             .reset_index()\n",
    "             .rename(columns={'level_0': 'year', 'NUTS_ID': 'nuts_id', 0: 'air_pollution_mean_pm10'}))"
   ]
  },
  {
   "cell_type": "code",
   "execution_count": null,
   "metadata": {},
   "outputs": [],
   "source": [
    "mean_pm10['nuts_year_spec'] = 2016"
   ]
  },
  {
   "cell_type": "code",
   "execution_count": null,
   "metadata": {},
   "outputs": [],
   "source": [
    "mean_pm10 = mean_pm10[['nuts_id', 'nuts_year_spec', 'air_pollution_mean_pm10', 'year']]"
   ]
  },
  {
   "cell_type": "code",
   "execution_count": null,
   "metadata": {},
   "outputs": [],
   "source": [
    "defra_dir = f'{data_path}/processed/defra'\n",
    "\n",
    "if not os.path.isdir(defra_dir):\n",
    "    os.mkdir(f'{data_path}/processed/defra')"
   ]
  },
  {
   "cell_type": "code",
   "execution_count": null,
   "metadata": {},
   "outputs": [],
   "source": [
    "mean_pm10.to_csv(f'{data_path}/processed/defra/air_pollution_mean_pm10.csv', index=False)"
   ]
  },
  {
   "cell_type": "markdown",
   "metadata": {},
   "source": [
    "## Open Geography Portal Boundaries"
   ]
  },
  {
   "cell_type": "code",
   "execution_count": null,
   "metadata": {},
   "outputs": [],
   "source": [
    "uk_nuts2 = gpd.read_file('https://opendata.arcgis.com/datasets/48b6b85bb7ea43699ee85f4ecd12fd36_4.geojson')\n",
    "pm10_df = pd.read_csv(base_url.format(year), header=5, na_values='MISSING').dropna()\n",
    "pm10_df['lat'], pm10_df['lon'] = pyproj.transform(bng, wgs84, pm10_df['x'].values, pm10_df['y'].values)\n",
    "pm10_gdf = gpd.GeoDataFrame(pm10_df, geometry=gpd.points_from_xy(pm10_df['lon'], pm10_df['lat']))"
   ]
  },
  {
   "cell_type": "code",
   "execution_count": null,
   "metadata": {},
   "outputs": [],
   "source": [
    "data = gpd.sjoin(pm10_gdf, uk_nuts2, op='within')"
   ]
  },
  {
   "cell_type": "code",
   "execution_count": null,
   "metadata": {},
   "outputs": [],
   "source": [
    "data = data[['nuts218nm', 'pm102018g']]"
   ]
  },
  {
   "cell_type": "code",
   "execution_count": null,
   "metadata": {},
   "outputs": [],
   "source": [
    "agg = data.groupby('nuts218nm').agg(np.mean).reset_index()"
   ]
  },
  {
   "cell_type": "code",
   "execution_count": null,
   "metadata": {},
   "outputs": [],
   "source": []
  }
 ],
 "metadata": {
  "language_info": {
   "name": "python",
   "pygments_lexer": "ipython3"
  }
 },
 "nbformat": 4,
 "nbformat_minor": 4
}
