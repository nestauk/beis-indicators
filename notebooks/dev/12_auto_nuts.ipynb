{
 "cells": [
  {
   "cell_type": "markdown",
   "metadata": {},
   "source": [
    "# Auto NUTS"
   ]
  },
  {
   "cell_type": "markdown",
   "metadata": {},
   "source": [
    "There have been several versions of the NUTS geocode standard - 2003, 2006, 2010, 2013 and 2016.\n",
    "\n",
    "Each of these versions has an [associated enforcement date](https://ec.europa.eu/eurostat/web/nuts/history), which can lag by around 2 years from the date of introduction.\n",
    "\n",
    "Organisations releasing data aggregated at the NUTS geographies are not required to use the latest version until the enforcement date, leaving a two year period during which it is unclear whether an organisation is using a particular version.\n",
    "\n",
    "Here we will create a function that can automatically take a dataset with specified NUTS regions and infer the version year."
   ]
  },
  {
   "cell_type": "code",
   "execution_count": null,
   "metadata": {},
   "outputs": [],
   "source": [
    "%run ../notebook_preamble.ipy"
   ]
  },
  {
   "cell_type": "code",
   "execution_count": null,
   "metadata": {},
   "outputs": [],
   "source": [
    "from collections import defaultdict\n",
    "import geopandas as gpd\n",
    "import os\n",
    "from itertools import chain\n",
    "\n",
    "nuts_years = np.array([2003, 2006, 2010, 2013, 2016])"
   ]
  },
  {
   "cell_type": "markdown",
   "metadata": {},
   "source": [
    "Modelled data for air pollution across the UK is compiled by DEFRA. The values are obtained by using the data from monitoring stations and using atmospheric modelling to interpolate the data to a 1km by 1km grid across the whole country."
   ]
  },
  {
   "cell_type": "code",
   "execution_count": null,
   "metadata": {},
   "outputs": [],
   "source": [
    "nuts_ids = {}\n",
    "\n",
    "for nuts_year in  nuts_years:\n",
    "    file = f'{data_path}/raw/gis/eurostat/NUTS_RG_01M_{nuts_year}_4326_LEVL_2.shp/NUTS_RG_01M_{nuts_year}_4326_LEVL_2.shp'\n",
    "    eu_regions = region = gpd.read_file(file)\n",
    "    nuts_ids[nuts_year] = set(eu_regions[eu_regions['CNTR_CODE'] == 'UK']['NUTS_ID'].values)"
   ]
  },
  {
   "cell_type": "markdown",
   "metadata": {},
   "source": [
    "We can see that each NUTS version has a unique set of regions."
   ]
  },
  {
   "cell_type": "code",
   "execution_count": null,
   "metadata": {},
   "outputs": [],
   "source": [
    "for y in nuts_years:\n",
    "    s = nuts_ids[y]\n",
    "    following = [v for k, v in nuts_ids.items() if k > y]\n",
    "    deprecating = s.difference(*following)\n",
    "    preceeding = [v for k, v in nuts_ids.items() if k < y]\n",
    "    introduced = s.difference(*preceeding)\n",
    "    print(y, len(s))\n",
    "    if y < 2016:\n",
    "        print('Deprecating:', deprecating)\n",
    "    if y > 2003:\n",
    "        print('Introduced:', introduced)"
   ]
  },
  {
   "cell_type": "markdown",
   "metadata": {},
   "source": [
    "**NUTS Level 2 Properties:**\n",
    "\n",
    "- 2003\n",
    "  - n_regions: 37\n",
    "  - deprecating: 'UKM4', 'UKM1'\n",
    "- 2006\n",
    "  - n_regions: 37\n",
    "  - new: 'UKM6', 'UKM5'\n",
    "  - deprecating: 'UKD2', 'UKD5'\n",
    "  - enforced: 2008\n",
    "- 2010\n",
    "  - n_regions: 37\n",
    "  - new: 'UKD7', 'UKD6'\n",
    "  - deprecating: 'UKI1', 'UKI2'\n",
    "  - enforced: 2012\n",
    "- 2013\n",
    "  - n_regions: 40\n",
    "  - new: 'UKI3', 'UKI6', 'UKI7', 'UKI4', 'UKI5', \n",
    "  - deprecating: 'UKM3', 'UKM2'\n",
    "  - enforced: 2015\n",
    "- 2016\n",
    "  - len: 41\n",
    "  - new: 'UKM9', 'UKM7', 'UKM8'\n",
    "  - enforced: 2018"
   ]
  },
  {
   "cell_type": "code",
   "execution_count": null,
   "metadata": {},
   "outputs": [],
   "source": [
    "nuts_2_deprecating = {\n",
    "    2003: ['UKM1', 'UKM4'],\n",
    "    2006: ['UKD2', 'UKD5'],\n",
    "    2010: ['UKI2', 'UKI1'],\n",
    "    2013: ['UKM3', 'UKM2'],\n",
    "    2016: []\n",
    "}\n",
    "\n",
    "nuts_2_introduced = {\n",
    "    2003: [],\n",
    "    2006: ['UKM6', 'UKM5'],\n",
    "    2010: ['UKD7', 'UKD6'],\n",
    "    2013: ['UKI3', 'UKI6', 'UKI7', 'UKI4', 'UKI5'],\n",
    "    2016: ['UKM9', 'UKM7', 'UKM8']\n",
    "}\n",
    "\n",
    "nuts_enforced = {\n",
    "    2003: 2003,\n",
    "    2006: 2008,\n",
    "    2010: 2012,\n",
    "    2013: 2015,\n",
    "    2016: 2018\n",
    "}\n",
    "\n",
    "def nuts_earliest(year):\n",
    "    '''nuts_earliest\n",
    "    Returns the earliest possible NUTS version for a year\n",
    "    based on the enforcement date.\n",
    "    '''\n",
    "    for k, v in nuts_enforced.items():\n",
    "        if year >= v:\n",
    "            earliest = k\n",
    "    return earliest\n",
    "        \n",
    "def set_containment(a, b):\n",
    "    i = len(set(a).intersection(set(b)))\n",
    "    c = i / len(a)\n",
    "    return c"
   ]
  },
  {
   "cell_type": "code",
   "execution_count": null,
   "metadata": {},
   "outputs": [],
   "source": [
    "def year_containments(ids, years):\n",
    "    containments = []\n",
    "    for year in years:\n",
    "        year_ids = nuts_ids[year]\n",
    "        containments.append(set_containment(ids, year_ids))\n",
    "    containments = np.array(containments)\n",
    "    return containments\n",
    "    \n",
    "def auto_nuts(ids, year):\n",
    "    '''\n",
    "    defaults: latest, earliest, closest\n",
    "    '''\n",
    "    earliest = nuts_earliest(year)\n",
    "    years = nuts_years[nuts_years >= nuts_earliest(year)]\n",
    "    # if only one year is possible, return it\n",
    "    if len(years) == 1:\n",
    "        return years[0]\n",
    "    \n",
    "    # if not calculate containments between region IDs from possible years\n",
    "    containments = year_containments(ids, years)\n",
    "    # check if there is a single perfect match\n",
    "    perfect = containments == 1\n",
    "    if np.sum(perfect) == 1:\n",
    "        year_inferred = years[np.argmax(perfect)]\n",
    "        return year_inferred\n",
    "    \n",
    "    # if there is not a perfect match\n",
    "    elif np.sum(perfect) != 1:\n",
    "        best = np.argwhere(containments == np.max(containments)).ravel()\n",
    "        year_inferred = years[best[0]]\n",
    "        return year_inferred\n",
    "        "
   ]
  },
  {
   "cell_type": "code",
   "execution_count": null,
   "metadata": {},
   "outputs": [],
   "source": [
    "nuts_regions = []\n",
    "years = []\n",
    "\n",
    "for k, v in nuts_ids.items():\n",
    "    nuts_regions.extend(v)\n",
    "    years.extend([k] * len(v))\n",
    "    \n",
    "values = np.random.random(len(years))\n",
    "\n",
    "df = pd.DataFrame({'nuts_region': nuts_regions,\n",
    "                   'year': years,\n",
    "                   'value': values})"
   ]
  },
  {
   "cell_type": "code",
   "execution_count": null,
   "metadata": {},
   "outputs": [],
   "source": [
    "def auto_nuts(df, year='year', nuts_id='nuts_id'):\n",
    "    '''auto_nuts\n",
    "    Auto generates values for nuts_year_spec if they are not provided.\n",
    "    \n",
    "    Args:\n",
    "        df (:obj:`pd.DataFrame`): Dataframe with indicator values.\n",
    "        year (:obj:`str`): Column name for the indicator value year.\n",
    "        nuts_id (:obj:`str`): Column name for the NUTS region IDs.\n",
    "        \n",
    "    Returns:\n",
    "        df (:obj:`pd.DataFrame`): Modified dataframe with new column\n",
    "            for NUTS region years, `nuts_year_spec`.\n",
    "    '''\n",
    "    dfs = []\n",
    "    for year, group in df.groupby(year_col):\n",
    "        auto_nuts_year = auto_nuts(group[nuts_region_col], year)\n",
    "        group = group.assign(nuts_year_spec=auto_nuts_year)\n",
    "        dfs.append(group)\n",
    "\n",
    "    df = pd.concat(dfs, axis=0)\n",
    "    return df"
   ]
  },
  {
   "cell_type": "code",
   "execution_count": null,
   "metadata": {},
   "outputs": [],
   "source": [
    "df.groupby(df['year'].values).mean()"
   ]
  },
  {
   "cell_type": "code",
   "execution_count": null,
   "metadata": {},
   "outputs": [],
   "source": [
    "from beis_indicators.utils.nuts_utils import auto_nuts"
   ]
  },
  {
   "cell_type": "code",
   "execution_count": null,
   "metadata": {},
   "outputs": [],
   "source": [
    "!pip install -e ../../."
   ]
  },
  {
   "cell_type": "code",
   "execution_count": null,
   "metadata": {},
   "outputs": [],
   "source": [
    "auto_nuts(df, year='year', nuts_id='nuts_region')"
   ]
  },
  {
   "cell_type": "code",
   "execution_count": null,
   "metadata": {},
   "outputs": [],
   "source": [
    "np.array(list(nuts_ids.keys()))"
   ]
  },
  {
   "cell_type": "code",
   "execution_count": null,
   "metadata": {},
   "outputs": [],
   "source": []
  }
 ],
 "metadata": {
  "language_info": {
   "name": "python",
   "pygments_lexer": "ipython3"
  }
 },
 "nbformat": 4,
 "nbformat_minor": 4
}
