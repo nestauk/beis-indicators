{
 "cells": [
  {
   "cell_type": "markdown",
   "metadata": {},
   "source": [
    "# Auto NUTS"
   ]
  },
  {
   "cell_type": "markdown",
   "metadata": {},
   "source": [
    "There have been several versions of the NUTS geocode standard - 2003, 2006, 2010, 2013 and 2016.\n",
    "\n",
    "Each of these versions has an [associated enforcement date](https://ec.europa.eu/eurostat/web/nuts/history), which can lag by around 2 years from the date of introduction.\n",
    "\n",
    "Organisations releasing data aggregated at the NUTS geographies are not required to use the latest version until the enforcement date, leaving a two year period during which it is unclear whether an organisation is using a particular version.\n",
    "\n",
    "Here we will create a function that can automatically take a dataset with specified NUTS regions and infer the version year."
   ]
  },
  {
   "cell_type": "code",
   "execution_count": null,
   "metadata": {},
   "outputs": [],
   "source": [
    "%run ../notebook_preamble.ipy"
   ]
  },
  {
   "cell_type": "code",
   "execution_count": null,
   "metadata": {},
   "outputs": [],
   "source": [
    "from collections import defaultdict\n",
    "import geopandas as gpd\n",
    "import os\n",
    "from itertools import chain\n",
    "\n",
    "nuts_years = [2003, 2006, 2010, 2013, 2016]"
   ]
  },
  {
   "cell_type": "markdown",
   "metadata": {},
   "source": [
    "Modelled data for air pollution across the UK is compiled by DEFRA. The values are obtained by using the data from monitoring stations and using atmospheric modelling to interpolate the data to a 1km by 1km grid across the whole country."
   ]
  },
  {
   "cell_type": "code",
   "execution_count": null,
   "metadata": {},
   "outputs": [],
   "source": [
    "nuts_ids = {}\n",
    "\n",
    "for nuts_year in  nuts_years:\n",
    "    file = f'{data_path}/raw/gis/eurostat/NUTS_RG_01M_{nuts_year}_4326_LEVL_2.shp/NUTS_RG_01M_{nuts_year}_4326_LEVL_2.shp'\n",
    "    eu_regions = region = gpd.read_file(file)\n",
    "    nuts_ids[nuts_year] = set(eu_regions[eu_regions['CNTR_CODE'] == 'UK']['NUTS_ID'].values)"
   ]
  },
  {
   "cell_type": "code",
   "execution_count": null,
   "metadata": {},
   "outputs": [],
   "source": [
    "def jaccard(a, b):\n",
    "    u = a.union(b)\n",
    "    i = a.intersection(b)\n",
    "    return len(i) / len(u)\n",
    "\n",
    "d = defaultdict(list)\n",
    "\n",
    "for i, u in nuts_ids.items():\n",
    "    for j, v in nuts_ids.items():\n",
    "        d['s'].append(i)\n",
    "        d['t'].append(j)\n",
    "        d['v'].append(jaccard(u, v))"
   ]
  },
  {
   "cell_type": "code",
   "execution_count": null,
   "metadata": {},
   "outputs": [],
   "source": [
    "pd.DataFrame(d).pivot(columns='s', index='t', values='v')"
   ]
  },
  {
   "cell_type": "markdown",
   "metadata": {},
   "source": [
    "We can see that each NUTS version has a unique set of regions."
   ]
  },
  {
   "cell_type": "code",
   "execution_count": null,
   "metadata": {},
   "outputs": [],
   "source": [
    "d = defaultdict(list)\n",
    "\n",
    "for i, u in nuts_ids.items():\n",
    "    for j, v in nuts_ids.items():\n",
    "        d['s'].append(i)\n",
    "        d['t'].append(j)\n",
    "        d['v'].append(u.difference(v))\n",
    "        \n",
    "pd.DataFrame(d).pivot(columns='s', index='t', values='v')"
   ]
  },
  {
   "cell_type": "code",
   "execution_count": null,
   "metadata": {},
   "outputs": [],
   "source": [
    "for y in nuts_years:\n",
    "    s = nuts_ids[y]\n",
    "    t = [v for k, v in nuts_ids.items() if k > y]\n",
    "    diff_post = s.difference(*t)\n",
    "    t = [v for k, v in nuts_ids.items() if k < y]\n",
    "    diff_prev = s.difference(*t)\n",
    "    print(y, len(s))\n",
    "    if y > 2003:\n",
    "        print('Difference to previous:', diff_prev)\n",
    "    if y < 2016:\n",
    "        print('Difference to following:', diff_post)"
   ]
  },
  {
   "cell_type": "code",
   "execution_count": null,
   "metadata": {},
   "outputs": [],
   "source": [
    "s = nuts_ids[2003]"
   ]
  },
  {
   "cell_type": "code",
   "execution_count": null,
   "metadata": {},
   "outputs": [],
   "source": [
    "nuts_2_deprecating = {\n",
    "    2003: ['UKM1', 'UKM4'],\n",
    "    2006: ['UKM6', 'UKM5'],\n",
    "    2010: ['UKD7', 'UKD6'],\n",
    "    2013: ['UKM3', 'UKM2'],\n",
    "    2016: []\n",
    "}\n",
    "\n",
    "nuts_2_introduced = {\n",
    "    2003: [],\n",
    "    2006: ['UKM6', 'UKM5'],\n",
    "    2010: ['UKD7', 'UKD6'],\n",
    "    2013: ['UKI3', 'UKI6', 'UKI7', 'UKI4', 'UKI5'],\n",
    "    2016: ['UKM9', 'UKM7', 'UKM8']\n",
    "}\n",
    "\n",
    "nuts_enforced = {\n",
    "    2006: 2008,\n",
    "    2010: 2012,\n",
    "    2013: 2015,\n",
    "    2016: 2018\n",
    "}\n",
    "\n",
    "# def check_deprecating(nuts_ids, year):\n",
    "#     deprecating = nuts_2_deprecating[year]\n",
    "#     deprecating_in_ids = [True if d in nuts_ids else False for d in deprecating]\n",
    "#     contains_deprecating = any(deprecating_in_ids)\n",
    "#     print(deprecating_in_ids)\n",
    "#     return contains_deprecating\n",
    "\n",
    "def check_subsequent(ids, year):\n",
    "    subsequent = [v for k, v in nuts_2_introduced.items() if k > year]\n",
    "    subsequent = list(chain(*subsequent))\n",
    "    subsequent_not_in_ids = [False if s in ids else True for s in subsequent]\n",
    "    print(subsequent)\n",
    "    omits_subsequent = all(subsequent_not_in_ids)\n",
    "    return omits_subsequent\n",
    "\n",
    "def check_deprecated(ids, year):\n",
    "    deprecated = [v for k, v in nuts_2_deprecating.items() if k < year]\n",
    "    deprecated = set(chain(*deprecated))\n",
    "    deprecated_in_ids = deprecated.union(set(ids))\n",
    "#     deprecated_not_in_ids = [False if s in ids else True for d in deprecated]\n",
    "#     print(deprecated)\n",
    "#     omits_deprecated = all(deprecated_not_in_ids)\n",
    "#     return omits_deprecated\n",
    "    return len(deprecated)\n",
    "\n",
    "def is_nuts_year(ids, year):\n",
    "    print(ids)\n",
    "#     contains_deprecating = check_deprecating(nuts_ids, year)\n",
    "    omits_deprecated = check_deprecated(ids, year)\n",
    "    omits_subsequent = check_subsequent(ids, year)\n",
    "    return omits_deprecated, omits_subsequent"
   ]
  },
  {
   "cell_type": "code",
   "execution_count": null,
   "metadata": {},
   "outputs": [],
   "source": [
    "for i in ['UKI3', 'UKI6', 'UKI7', 'UKI4', 'UKI5']:\n",
    "    print(i in nuts_ids[2016])"
   ]
  },
  {
   "cell_type": "code",
   "execution_count": null,
   "metadata": {},
   "outputs": [],
   "source": [
    "for i in ['UKM1', 'UKM2']:\n",
    "    print(i in nuts_ids[2013])"
   ]
  },
  {
   "cell_type": "code",
   "execution_count": null,
   "metadata": {},
   "outputs": [],
   "source": [
    "is_nuts_year(nuts_ids[2003], 2013)"
   ]
  },
  {
   "cell_type": "markdown",
   "metadata": {},
   "source": [
    "**NUTS Level 2 Properties:**\n",
    "\n",
    "- 2003\n",
    "  - n_regions: 37\n",
    "  - deprecating: 'UKM4', 'UKM1'\n",
    "- 2006\n",
    "  - n_regions: 37\n",
    "  - new: 'UKM6', 'UKM5'\n",
    "  - deprecating: 'UKD2', 'UKD5'\n",
    "  - enforced: 2008\n",
    "- 2010\n",
    "  - n_regions: 37\n",
    "  - new: 'UKD7', 'UKD6'\n",
    "  - deprecating: 'UKI1', 'UKI2'\n",
    "  - enforced: 2012\n",
    "- 2013\n",
    "  - n_regions: 40\n",
    "  - new: 'UKI3', 'UKI6', 'UKI7', 'UKI4', 'UKI5', \n",
    "  - deprecating: 'UKM3', 'UKM2'\n",
    "  - enforced: 2015\n",
    "- 2016\n",
    "  - len: 41\n",
    "  - new: 'UKM9', 'UKM7', 'UKM8'\n",
    "  - enforced: 2018"
   ]
  },
  {
   "cell_type": "code",
   "execution_count": null,
   "metadata": {},
   "outputs": [],
   "source": [
    "len(nuts_ids[2016])"
   ]
  },
  {
   "cell_type": "code",
   "execution_count": null,
   "metadata": {},
   "outputs": [],
   "source": [
    "u.difference??"
   ]
  },
  {
   "cell_type": "code",
   "execution_count": null,
   "metadata": {},
   "outputs": [],
   "source": []
  }
 ],
 "metadata": {
  "language_info": {
   "name": "python",
   "pygments_lexer": "ipython3"
  }
 },
 "nbformat": 4,
 "nbformat_minor": 4
}
