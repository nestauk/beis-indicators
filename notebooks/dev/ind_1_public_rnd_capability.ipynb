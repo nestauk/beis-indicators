{
 "cells": [
  {
   "cell_type": "markdown",
   "metadata": {},
   "source": [
    "# Indicator Section 1: Public R&D Capability\n",
    "\n",
    "This notebook uses `processed` data to create our first set of indicators.\n",
    "\n",
    "The output will be a collection of tables with an indicator field for every `nuts_id` and code. \n",
    "\n",
    "**Todo** Decide what we do about years."
   ]
  },
  {
   "cell_type": "markdown",
   "metadata": {},
   "source": [
    "## Preamble"
   ]
  },
  {
   "cell_type": "code",
   "execution_count": null,
   "metadata": {},
   "outputs": [],
   "source": [
    "%run ../notebook_preamble.ipy"
   ]
  },
  {
   "cell_type": "code",
   "execution_count": null,
   "metadata": {},
   "outputs": [],
   "source": [
    "if 'indicators' not in os.listdir(os.chdir('../data')):\n",
    "    os.mkdir('../data/indicators')"
   ]
  },
  {
   "cell_type": "markdown",
   "metadata": {},
   "source": [
    "## 1. Load data"
   ]
  },
  {
   "cell_type": "markdown",
   "metadata": {},
   "source": [
    "### REF data"
   ]
  },
  {
   "cell_type": "code",
   "execution_count": null,
   "metadata": {},
   "outputs": [],
   "source": [
    "ref = pd.read_csv('../../data/processed/ref/9_11_2019_ref_nuts.csv')"
   ]
  },
  {
   "cell_type": "code",
   "execution_count": null,
   "metadata": {},
   "outputs": [],
   "source": [
    "ref.head()"
   ]
  },
  {
   "cell_type": "markdown",
   "metadata": {},
   "source": [
    "### UKRI project funding"
   ]
  },
  {
   "cell_type": "code",
   "execution_count": null,
   "metadata": {},
   "outputs": [],
   "source": [
    "ukri = pd.read_csv('../../data/processed/gtr/2019_11_14_nuts_discipline_activity.csv')\n",
    "\n",
    "ukri.head()"
   ]
  },
  {
   "cell_type": "markdown",
   "metadata": {},
   "source": [
    "### HESA"
   ]
  },
  {
   "cell_type": "markdown",
   "metadata": {},
   "source": [
    "#### Hesa university income"
   ]
  },
  {
   "cell_type": "code",
   "execution_count": null,
   "metadata": {},
   "outputs": [],
   "source": [
    "hesa_data_17_18 = pd.read_csv('../../data/processed/hesa/2019_11_19_hesa_data_2017_18_nuts_2.csv')\n",
    "\n",
    "hesa_data_17_18.head()"
   ]
  },
  {
   "cell_type": "markdown",
   "metadata": {},
   "source": [
    "The HESA data combines multiple variables in a single table. Not very tidy or nicely documented"
   ]
  },
  {
   "cell_type": "markdown",
   "metadata": {},
   "source": [
    "### Eurostat"
   ]
  },
  {
   "cell_type": "code",
   "execution_count": null,
   "metadata": {},
   "outputs": [],
   "source": [
    "berd = pd.read_csv('../../data/processed/eurostat/eurostat_berd_data.csv')\n",
    "\n",
    "berd.head()"
   ]
  },
  {
   "cell_type": "code",
   "execution_count": null,
   "metadata": {},
   "outputs": [],
   "source": [
    "herd = pd.read_csv('../../data/processed/eurostat/eurostat_higher_ed_rd_workforce_data.csv')\n",
    "\n",
    "herd.head()"
   ]
  },
  {
   "cell_type": "markdown",
   "metadata": {},
   "source": [
    "## 2. Create indicators"
   ]
  },
  {
   "cell_type": "markdown",
   "metadata": {},
   "source": [
    "### Subsection 1: Comparative advantage in performing excellent public research\t\t\t\t\t\t\t\t\t\t\t\t\t"
   ]
  },
  {
   "cell_type": "markdown",
   "metadata": {},
   "source": [
    "#### 1. REF Scores \n",
    "\n",
    "We assume that this means overall FTE score, that is: FTE score weighted by FTE for all disciplines"
   ]
  },
  {
   "cell_type": "code",
   "execution_count": null,
   "metadata": {},
   "outputs": [],
   "source": [
    "#In order to calculate this we need to melt the data"
   ]
  },
  {
   "cell_type": "code",
   "execution_count": null,
   "metadata": {},
   "outputs": [],
   "source": [
    "ref_melted = pd.melt(ref,id_vars=['nuts_name','nuts_code','unit_of_assessment_name','total_fte'])\n",
    "\n",
    "ref_melted.head()"
   ]
  },
  {
   "cell_type": "code",
   "execution_count": null,
   "metadata": {},
   "outputs": [],
   "source": [
    "ref_melted['score'] = [int(x.split('*')[0]) if 'unclassified' not in x else 0 for x in ref_melted['variable']]"
   ]
  },
  {
   "cell_type": "code",
   "execution_count": null,
   "metadata": {},
   "outputs": [],
   "source": [
    "ref_weighted_scores = ref_melted.groupby(['nuts_code','nuts_name']).apply(lambda x: np.sum((x['value']/x['value'].sum())*x['score'])\n",
    "                                                                         ).sort_values(ascending=False)\n",
    "\n",
    "ref_weighted_scores.head(n=10)"
   ]
  },
  {
   "cell_type": "markdown",
   "metadata": {},
   "source": [
    "#### 2. REF scores in STEM disciplines\n",
    "\n",
    "We need to define what STEM disciplines are! We will load a json stored in `aux` and change if needed."
   ]
  },
  {
   "cell_type": "code",
   "execution_count": null,
   "metadata": {},
   "outputs": [],
   "source": [
    "with open('../../data/aux/ref_stem.txt','r') as infile:\n",
    "    stem = infile.read().split('\\n')"
   ]
  },
  {
   "cell_type": "code",
   "execution_count": null,
   "metadata": {},
   "outputs": [],
   "source": [
    "ref_stem = ref_melted.loc[[x in stem for x in ref_melted['unit_of_assessment_name']]]"
   ]
  },
  {
   "cell_type": "code",
   "execution_count": null,
   "metadata": {},
   "outputs": [],
   "source": [
    "ref_stem_weighted_scores = ref_stem.groupby(\n",
    "    ['nuts_code','nuts_name']).apply(lambda x: np.sum((x['value']/x['value'].sum())*x['score'])).sort_values(ascending=False)"
   ]
  },
  {
   "cell_type": "code",
   "execution_count": null,
   "metadata": {},
   "outputs": [],
   "source": [
    "ref_stem_weighted_scores.head(n=10)"
   ]
  },
  {
   "cell_type": "markdown",
   "metadata": {},
   "source": [
    "#### 3. Excellent researchers submitted to REF\n",
    "\n",
    "This is the 4* FTEs"
   ]
  },
  {
   "cell_type": "code",
   "execution_count": null,
   "metadata": {},
   "outputs": [],
   "source": [
    "ref_excellent = ref.groupby(['nuts_code','nuts_name'])['4*_fte'].sum().sort_values(ascending=False)"
   ]
  },
  {
   "cell_type": "code",
   "execution_count": null,
   "metadata": {},
   "outputs": [],
   "source": [
    "ref_excellent.head(n=10)"
   ]
  },
  {
   "cell_type": "markdown",
   "metadata": {},
   "source": [
    "#### 4. Research income\n",
    "\n",
    "We use research income data from HESA"
   ]
  },
  {
   "cell_type": "code",
   "execution_count": null,
   "metadata": {},
   "outputs": [],
   "source": [
    "research_income = hesa_data_17_18.set_index(['nuts_name','nuts_code'])['research_income_(£)'].sort_values(ascending=False)"
   ]
  },
  {
   "cell_type": "code",
   "execution_count": null,
   "metadata": {},
   "outputs": [],
   "source": [
    "research_income.head(n=10)"
   ]
  },
  {
   "cell_type": "markdown",
   "metadata": {},
   "source": [
    "#### 5. UKRI-funded activity in STEM disciplines\n",
    "\n",
    "This one is quite experimental. We have classified projects into disciplines and aggregated number of led projects and total income by NUTS2. Here we focus on project counts to avoid the problem that UKRI only makes funding data available at the project (rather than organisation) level."
   ]
  },
  {
   "cell_type": "code",
   "execution_count": null,
   "metadata": {},
   "outputs": [],
   "source": [
    "with open('../../data/aux/ukri_stem.txt','r') as infile:\n",
    "    ukri_stem = infile.read().split('\\n')\n",
    "\n",
    "ukri_stem"
   ]
  },
  {
   "cell_type": "code",
   "execution_count": null,
   "metadata": {},
   "outputs": [],
   "source": [
    "#Melt the data\n",
    "ukri_long = pd.melt(ukri,id_vars=['lead_nut_code','lead_nut_name'])"
   ]
  },
  {
   "cell_type": "code",
   "execution_count": null,
   "metadata": {},
   "outputs": [],
   "source": [
    "#Focus on projects\n",
    "ukri_projects = ukri_long.loc[['project' in x for x in ukri_long['variable']]]"
   ]
  },
  {
   "cell_type": "code",
   "execution_count": null,
   "metadata": {},
   "outputs": [],
   "source": [
    "#Focus on projects in stem disciplines as described above\n",
    "ukri_projects_stem = ukri_projects.loc[[any(x in v for x in ukri_stem) for v in ukri_projects['variable']]]"
   ]
  },
  {
   "cell_type": "code",
   "execution_count": null,
   "metadata": {},
   "outputs": [],
   "source": [
    "#Aggregate\n",
    "ukri_stem_led_projects = ukri_projects_stem.groupby(['lead_nut_code','lead_nut_name'])['value'].sum().sort_values(ascending=False)"
   ]
  },
  {
   "cell_type": "code",
   "execution_count": null,
   "metadata": {},
   "outputs": [],
   "source": [
    "ukri_stem_led_projects.head(n=10)"
   ]
  },
  {
   "cell_type": "markdown",
   "metadata": {},
   "source": [
    "#### **[TODO]** Field weighted citation impact"
   ]
  },
  {
   "cell_type": "markdown",
   "metadata": {},
   "source": [
    "### Subsection 2: Business absorptive capacity and private R&D investment"
   ]
  },
  {
   "cell_type": "markdown",
   "metadata": {},
   "source": [
    "#### University buildings\n",
    "\n",
    "We continue using the HESA data"
   ]
  },
  {
   "cell_type": "code",
   "execution_count": null,
   "metadata": {},
   "outputs": [],
   "source": [
    "university_buildings = hesa_income.set_index(['nuts_name','nuts_code'])['total_number_of_buildings'].sort_values(ascending=False)"
   ]
  },
  {
   "cell_type": "code",
   "execution_count": null,
   "metadata": {},
   "outputs": [],
   "source": [
    "university_buildings.head(n=10)"
   ]
  },
  {
   "cell_type": "markdown",
   "metadata": {},
   "source": [
    "#### Area of university estates"
   ]
  },
  {
   "cell_type": "code",
   "execution_count": null,
   "metadata": {},
   "outputs": [],
   "source": [
    "university_site_area = hesa_income.set_index(['nuts_name','nuts_code'])['total_site_area_(hectares)'].sort_values(ascending=False)"
   ]
  },
  {
   "cell_type": "code",
   "execution_count": null,
   "metadata": {},
   "outputs": [],
   "source": [
    "university_site_area.head(n=10)"
   ]
  },
  {
   "cell_type": "markdown",
   "metadata": {},
   "source": [
    "#### HE Performed R&D Expenditure (HERD)"
   ]
  },
  {
   "cell_type": "markdown",
   "metadata": {},
   "source": [
    "#### Government Performed R&D Expenditure (GovERD)"
   ]
  },
  {
   "cell_type": "code",
   "execution_count": null,
   "metadata": {},
   "outputs": [],
   "source": []
  }
 ],
 "metadata": {
  "language_info": {
   "name": "python",
   "pygments_lexer": "ipython3"
  }
 },
 "nbformat": 4,
 "nbformat_minor": 4
}
